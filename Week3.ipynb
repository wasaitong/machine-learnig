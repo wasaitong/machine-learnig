{
  "cells": [
    {
      "cell_type": "markdown",
      "metadata": {
        "id": "c04GLpVzke80"
      },
      "source": [
        "# Chapter 4 - Classification 分类（聚类）\n",
        "This chapter will discuss qualitative (categorical) variables (classification problems). Classification problems can be thought of as regression problems since most of the models return a probability of being in a certain class. Since probabilities take on real values the problem can also be called regression - as in logistic regression - a machine learning technique that is used for classification but returns probabilities as real values.\n",
        "\n",
        "本章将讨论定性（分类）变量（分类问题）。分类问题可以被认为是回归问题，因为大多数模型都会返回属于某个类别的概率。由于概率具有实值，因此该问题也可以称为回归（如逻辑回归），这是一种用于分类但将概率返回为实值的机器学习技术。"
      ]
    },
    {
      "cell_type": "code",
      "execution_count": null,
      "metadata": {
        "id": "EWZS5Zqmke81"
      },
      "outputs": [],
      "source": [
        "import pandas as pd\n",
        "import numpy as np\n",
        "import seaborn as sns\n",
        "import matplotlib.pyplot as plt\n",
        "%matplotlib inline"
      ]
    },
    {
      "cell_type": "code",
      "execution_count": null,
      "metadata": {
        "id": "d_YsnEbuke82"
      },
      "outputs": [],
      "source": [
        "default = pd.read_csv(\"/content/default.csv\")"
      ]
    },
    {
      "cell_type": "code",
      "execution_count": null,
      "metadata": {
        "id": "Vf_ig-KBke82",
        "colab": {
          "base_uri": "https://localhost:8080/",
          "height": 206
        },
        "outputId": "e619fcd6-4f46-490e-90cc-7794d1c25e7a"
      },
      "outputs": [
        {
          "output_type": "execute_result",
          "data": {
            "text/plain": [
              "  default student      balance        income\n",
              "0      No      No   729.526495  44361.625074\n",
              "1      No     Yes   817.180407  12106.134700\n",
              "2      No      No  1073.549164  31767.138947\n",
              "3      No      No   529.250605  35704.493935\n",
              "4      No      No   785.655883  38463.495879"
            ],
            "text/html": [
              "\n",
              "  <div id=\"df-a2ba797a-267f-4e6e-8949-6f8567ed74ee\" class=\"colab-df-container\">\n",
              "    <div>\n",
              "<style scoped>\n",
              "    .dataframe tbody tr th:only-of-type {\n",
              "        vertical-align: middle;\n",
              "    }\n",
              "\n",
              "    .dataframe tbody tr th {\n",
              "        vertical-align: top;\n",
              "    }\n",
              "\n",
              "    .dataframe thead th {\n",
              "        text-align: right;\n",
              "    }\n",
              "</style>\n",
              "<table border=\"1\" class=\"dataframe\">\n",
              "  <thead>\n",
              "    <tr style=\"text-align: right;\">\n",
              "      <th></th>\n",
              "      <th>default</th>\n",
              "      <th>student</th>\n",
              "      <th>balance</th>\n",
              "      <th>income</th>\n",
              "    </tr>\n",
              "  </thead>\n",
              "  <tbody>\n",
              "    <tr>\n",
              "      <th>0</th>\n",
              "      <td>No</td>\n",
              "      <td>No</td>\n",
              "      <td>729.526495</td>\n",
              "      <td>44361.625074</td>\n",
              "    </tr>\n",
              "    <tr>\n",
              "      <th>1</th>\n",
              "      <td>No</td>\n",
              "      <td>Yes</td>\n",
              "      <td>817.180407</td>\n",
              "      <td>12106.134700</td>\n",
              "    </tr>\n",
              "    <tr>\n",
              "      <th>2</th>\n",
              "      <td>No</td>\n",
              "      <td>No</td>\n",
              "      <td>1073.549164</td>\n",
              "      <td>31767.138947</td>\n",
              "    </tr>\n",
              "    <tr>\n",
              "      <th>3</th>\n",
              "      <td>No</td>\n",
              "      <td>No</td>\n",
              "      <td>529.250605</td>\n",
              "      <td>35704.493935</td>\n",
              "    </tr>\n",
              "    <tr>\n",
              "      <th>4</th>\n",
              "      <td>No</td>\n",
              "      <td>No</td>\n",
              "      <td>785.655883</td>\n",
              "      <td>38463.495879</td>\n",
              "    </tr>\n",
              "  </tbody>\n",
              "</table>\n",
              "</div>\n",
              "    <div class=\"colab-df-buttons\">\n",
              "\n",
              "  <div class=\"colab-df-container\">\n",
              "    <button class=\"colab-df-convert\" onclick=\"convertToInteractive('df-a2ba797a-267f-4e6e-8949-6f8567ed74ee')\"\n",
              "            title=\"Convert this dataframe to an interactive table.\"\n",
              "            style=\"display:none;\">\n",
              "\n",
              "  <svg xmlns=\"http://www.w3.org/2000/svg\" height=\"24px\" viewBox=\"0 -960 960 960\">\n",
              "    <path d=\"M120-120v-720h720v720H120Zm60-500h600v-160H180v160Zm220 220h160v-160H400v160Zm0 220h160v-160H400v160ZM180-400h160v-160H180v160Zm440 0h160v-160H620v160ZM180-180h160v-160H180v160Zm440 0h160v-160H620v160Z\"/>\n",
              "  </svg>\n",
              "    </button>\n",
              "\n",
              "  <style>\n",
              "    .colab-df-container {\n",
              "      display:flex;\n",
              "      gap: 12px;\n",
              "    }\n",
              "\n",
              "    .colab-df-convert {\n",
              "      background-color: #E8F0FE;\n",
              "      border: none;\n",
              "      border-radius: 50%;\n",
              "      cursor: pointer;\n",
              "      display: none;\n",
              "      fill: #1967D2;\n",
              "      height: 32px;\n",
              "      padding: 0 0 0 0;\n",
              "      width: 32px;\n",
              "    }\n",
              "\n",
              "    .colab-df-convert:hover {\n",
              "      background-color: #E2EBFA;\n",
              "      box-shadow: 0px 1px 2px rgba(60, 64, 67, 0.3), 0px 1px 3px 1px rgba(60, 64, 67, 0.15);\n",
              "      fill: #174EA6;\n",
              "    }\n",
              "\n",
              "    .colab-df-buttons div {\n",
              "      margin-bottom: 4px;\n",
              "    }\n",
              "\n",
              "    [theme=dark] .colab-df-convert {\n",
              "      background-color: #3B4455;\n",
              "      fill: #D2E3FC;\n",
              "    }\n",
              "\n",
              "    [theme=dark] .colab-df-convert:hover {\n",
              "      background-color: #434B5C;\n",
              "      box-shadow: 0px 1px 3px 1px rgba(0, 0, 0, 0.15);\n",
              "      filter: drop-shadow(0px 1px 2px rgba(0, 0, 0, 0.3));\n",
              "      fill: #FFFFFF;\n",
              "    }\n",
              "  </style>\n",
              "\n",
              "    <script>\n",
              "      const buttonEl =\n",
              "        document.querySelector('#df-a2ba797a-267f-4e6e-8949-6f8567ed74ee button.colab-df-convert');\n",
              "      buttonEl.style.display =\n",
              "        google.colab.kernel.accessAllowed ? 'block' : 'none';\n",
              "\n",
              "      async function convertToInteractive(key) {\n",
              "        const element = document.querySelector('#df-a2ba797a-267f-4e6e-8949-6f8567ed74ee');\n",
              "        const dataTable =\n",
              "          await google.colab.kernel.invokeFunction('convertToInteractive',\n",
              "                                                    [key], {});\n",
              "        if (!dataTable) return;\n",
              "\n",
              "        const docLinkHtml = 'Like what you see? Visit the ' +\n",
              "          '<a target=\"_blank\" href=https://colab.research.google.com/notebooks/data_table.ipynb>data table notebook</a>'\n",
              "          + ' to learn more about interactive tables.';\n",
              "        element.innerHTML = '';\n",
              "        dataTable['output_type'] = 'display_data';\n",
              "        await google.colab.output.renderOutput(dataTable, element);\n",
              "        const docLink = document.createElement('div');\n",
              "        docLink.innerHTML = docLinkHtml;\n",
              "        element.appendChild(docLink);\n",
              "      }\n",
              "    </script>\n",
              "  </div>\n",
              "\n",
              "\n",
              "<div id=\"df-6029b81a-bae9-4545-a7de-2e6611b597df\">\n",
              "  <button class=\"colab-df-quickchart\" onclick=\"quickchart('df-6029b81a-bae9-4545-a7de-2e6611b597df')\"\n",
              "            title=\"Suggest charts\"\n",
              "            style=\"display:none;\">\n",
              "\n",
              "<svg xmlns=\"http://www.w3.org/2000/svg\" height=\"24px\"viewBox=\"0 0 24 24\"\n",
              "     width=\"24px\">\n",
              "    <g>\n",
              "        <path d=\"M19 3H5c-1.1 0-2 .9-2 2v14c0 1.1.9 2 2 2h14c1.1 0 2-.9 2-2V5c0-1.1-.9-2-2-2zM9 17H7v-7h2v7zm4 0h-2V7h2v10zm4 0h-2v-4h2v4z\"/>\n",
              "    </g>\n",
              "</svg>\n",
              "  </button>\n",
              "\n",
              "<style>\n",
              "  .colab-df-quickchart {\n",
              "      --bg-color: #E8F0FE;\n",
              "      --fill-color: #1967D2;\n",
              "      --hover-bg-color: #E2EBFA;\n",
              "      --hover-fill-color: #174EA6;\n",
              "      --disabled-fill-color: #AAA;\n",
              "      --disabled-bg-color: #DDD;\n",
              "  }\n",
              "\n",
              "  [theme=dark] .colab-df-quickchart {\n",
              "      --bg-color: #3B4455;\n",
              "      --fill-color: #D2E3FC;\n",
              "      --hover-bg-color: #434B5C;\n",
              "      --hover-fill-color: #FFFFFF;\n",
              "      --disabled-bg-color: #3B4455;\n",
              "      --disabled-fill-color: #666;\n",
              "  }\n",
              "\n",
              "  .colab-df-quickchart {\n",
              "    background-color: var(--bg-color);\n",
              "    border: none;\n",
              "    border-radius: 50%;\n",
              "    cursor: pointer;\n",
              "    display: none;\n",
              "    fill: var(--fill-color);\n",
              "    height: 32px;\n",
              "    padding: 0;\n",
              "    width: 32px;\n",
              "  }\n",
              "\n",
              "  .colab-df-quickchart:hover {\n",
              "    background-color: var(--hover-bg-color);\n",
              "    box-shadow: 0 1px 2px rgba(60, 64, 67, 0.3), 0 1px 3px 1px rgba(60, 64, 67, 0.15);\n",
              "    fill: var(--button-hover-fill-color);\n",
              "  }\n",
              "\n",
              "  .colab-df-quickchart-complete:disabled,\n",
              "  .colab-df-quickchart-complete:disabled:hover {\n",
              "    background-color: var(--disabled-bg-color);\n",
              "    fill: var(--disabled-fill-color);\n",
              "    box-shadow: none;\n",
              "  }\n",
              "\n",
              "  .colab-df-spinner {\n",
              "    border: 2px solid var(--fill-color);\n",
              "    border-color: transparent;\n",
              "    border-bottom-color: var(--fill-color);\n",
              "    animation:\n",
              "      spin 1s steps(1) infinite;\n",
              "  }\n",
              "\n",
              "  @keyframes spin {\n",
              "    0% {\n",
              "      border-color: transparent;\n",
              "      border-bottom-color: var(--fill-color);\n",
              "      border-left-color: var(--fill-color);\n",
              "    }\n",
              "    20% {\n",
              "      border-color: transparent;\n",
              "      border-left-color: var(--fill-color);\n",
              "      border-top-color: var(--fill-color);\n",
              "    }\n",
              "    30% {\n",
              "      border-color: transparent;\n",
              "      border-left-color: var(--fill-color);\n",
              "      border-top-color: var(--fill-color);\n",
              "      border-right-color: var(--fill-color);\n",
              "    }\n",
              "    40% {\n",
              "      border-color: transparent;\n",
              "      border-right-color: var(--fill-color);\n",
              "      border-top-color: var(--fill-color);\n",
              "    }\n",
              "    60% {\n",
              "      border-color: transparent;\n",
              "      border-right-color: var(--fill-color);\n",
              "    }\n",
              "    80% {\n",
              "      border-color: transparent;\n",
              "      border-right-color: var(--fill-color);\n",
              "      border-bottom-color: var(--fill-color);\n",
              "    }\n",
              "    90% {\n",
              "      border-color: transparent;\n",
              "      border-bottom-color: var(--fill-color);\n",
              "    }\n",
              "  }\n",
              "</style>\n",
              "\n",
              "  <script>\n",
              "    async function quickchart(key) {\n",
              "      const quickchartButtonEl =\n",
              "        document.querySelector('#' + key + ' button');\n",
              "      quickchartButtonEl.disabled = true;  // To prevent multiple clicks.\n",
              "      quickchartButtonEl.classList.add('colab-df-spinner');\n",
              "      try {\n",
              "        const charts = await google.colab.kernel.invokeFunction(\n",
              "            'suggestCharts', [key], {});\n",
              "      } catch (error) {\n",
              "        console.error('Error during call to suggestCharts:', error);\n",
              "      }\n",
              "      quickchartButtonEl.classList.remove('colab-df-spinner');\n",
              "      quickchartButtonEl.classList.add('colab-df-quickchart-complete');\n",
              "    }\n",
              "    (() => {\n",
              "      let quickchartButtonEl =\n",
              "        document.querySelector('#df-6029b81a-bae9-4545-a7de-2e6611b597df button');\n",
              "      quickchartButtonEl.style.display =\n",
              "        google.colab.kernel.accessAllowed ? 'block' : 'none';\n",
              "    })();\n",
              "  </script>\n",
              "</div>\n",
              "\n",
              "    </div>\n",
              "  </div>\n"
            ],
            "application/vnd.google.colaboratory.intrinsic+json": {
              "type": "dataframe",
              "variable_name": "default",
              "summary": "{\n  \"name\": \"default\",\n  \"rows\": 10000,\n  \"fields\": [\n    {\n      \"column\": \"default\",\n      \"properties\": {\n        \"dtype\": \"category\",\n        \"num_unique_values\": 2,\n        \"samples\": [\n          \"Yes\",\n          \"No\"\n        ],\n        \"semantic_type\": \"\",\n        \"description\": \"\"\n      }\n    },\n    {\n      \"column\": \"student\",\n      \"properties\": {\n        \"dtype\": \"category\",\n        \"num_unique_values\": 2,\n        \"samples\": [\n          \"Yes\",\n          \"No\"\n        ],\n        \"semantic_type\": \"\",\n        \"description\": \"\"\n      }\n    },\n    {\n      \"column\": \"balance\",\n      \"properties\": {\n        \"dtype\": \"number\",\n        \"std\": 483.71498520561704,\n        \"min\": 0.0,\n        \"max\": 2654.32257628018,\n        \"num_unique_values\": 9502,\n        \"samples\": [\n          245.346492518079,\n          186.523520052956\n        ],\n        \"semantic_type\": \"\",\n        \"description\": \"\"\n      }\n    },\n    {\n      \"column\": \"income\",\n      \"properties\": {\n        \"dtype\": \"number\",\n        \"std\": 13336.639562689938,\n        \"min\": 771.967729386357,\n        \"max\": 73554.2334951972,\n        \"num_unique_values\": 10000,\n        \"samples\": [\n          31507.0892769087,\n          42139.0702685072\n        ],\n        \"semantic_type\": \"\",\n        \"description\": \"\"\n      }\n    }\n  ]\n}"
            }
          },
          "metadata": {},
          "execution_count": 3
        }
      ],
      "source": [
        "default.head()"
      ]
    },
    {
      "cell_type": "code",
      "execution_count": null,
      "metadata": {
        "id": "uCpSidWeke82",
        "colab": {
          "base_uri": "https://localhost:8080/",
          "height": 525
        },
        "outputId": "4020fa7e-49b9-42d5-d0ac-70a7f1ef0048"
      },
      "outputs": [
        {
          "output_type": "execute_result",
          "data": {
            "text/plain": [
              "(-100.0, 2500.0)"
            ]
          },
          "metadata": {},
          "execution_count": 4
        },
        {
          "output_type": "display_data",
          "data": {
            "text/plain": [
              "<Figure size 572.125x500 with 1 Axes>"
            ],
            "image/png": "[encoded data removed]"
          },
          "metadata": {}
        }
      ],
      "source": [
        "sns.lmplot(x='balance', y='income', data=default.sample(1000), hue='default', fit_reg=False)\n",
        "plt.ylim([0,70000])\n",
        "plt.xlim([-100,2500])"
      ]
    },
    {
      "cell_type": "code",
      "execution_count": null,
      "metadata": {
        "id": "gWJJnImOke82",
        "colab": {
          "base_uri": "https://localhost:8080/",
          "height": 449
        },
        "outputId": "e097fb5c-c5c4-4f47-9c2f-464960672ebd"
      },
      "outputs": [
        {
          "output_type": "display_data",
          "data": {
            "text/plain": [
              "<Figure size 640x480 with 1 Axes>"
            ],
            "image/png": "[encoded data removed]"
          },
          "metadata": {}
        }
      ],
      "source": [
        "# evidence tha\n",
        "sns.boxplot(x='student', y='balance', data=default, hue='default');"
      ]
    },
    {
      "cell_type": "markdown",
      "metadata": {
        "id": "2BGgx6qDke83"
      },
      "source": [
        "# Why not linear regression\n",
        "Though it is always possible to use numeric values for the categories of the response, there generally is no natural way to order and separate the values in a way that makes sense. Only in a two-category problem will the ordering make sense but even then linear regression will produce probability estimates outside of [0, 1].\n",
        "\n",
        "为什么不是线性回归\n",
        "\n",
        "尽管始终可以使用数字值来表示响应的类别，但通常没有自然的方法来以有意义的方式对值进行排序和分离。只有在二类问题中排序才有意义，但即使如此，线性回归也会产生 [0, 1] 之外的概率估计。"
      ]
    },
    {
      "cell_type": "code",
      "execution_count": null,
      "metadata": {
        "id": "4_z261DWke83"
      },
      "outputs": [],
      "source": [
        "import statsmodels.formula.api as smf\n",
        "from scipy import stats\n",
        "stats.chisqprob = lambda chisq, df: stats.chi2.sf(chisq, df)"
      ]
    },
    {
      "cell_type": "code",
      "execution_count": null,
      "metadata": {
        "id": "2Qr_Pnf2ke83"
      },
      "outputs": [],
      "source": [
        "# make column for Yes defaults 将列设为“是”默认值\n",
        "default['Yes'] = (default['default'] == 'Yes').astype(int)"
      ]
    },
    {
      "cell_type": "code",
      "execution_count": null,
      "metadata": {
        "id": "1h_jZ6YCke84",
        "colab": {
          "base_uri": "https://localhost:8080/",
          "height": 466
        },
        "outputId": "92858776-5bfd-494d-f3b8-a563325ff3fc"
      },
      "outputs": [
        {
          "output_type": "execute_result",
          "data": {
            "text/plain": [
              "<Axes: xlabel='balance', ylabel='Yes'>"
            ]
          },
          "metadata": {},
          "execution_count": 8
        },
        {
          "output_type": "display_data",
          "data": {
            "text/plain": [
              "<Figure size 640x480 with 1 Axes>"
            ],
            "image/png": "[encoded data removed]"
          },
          "metadata": {}
        }
      ],
      "source": [
        "# linear regression model for default\n",
        "# not ideal and could be made better by simply making all probabilites < 0 equal to 0\n",
        "# and all probabilites > 1 equal to 1\n",
        "# 默认的线性回归模型\n",
        "# 并不理想，可以通过简单地使所有概率 < 0 等于 0 来改善\n",
        "# 并使所有概率 > 1 等于 1\n",
        "sns.regplot(x='balance', y='Yes', data=default)"
      ]
    },
    {
      "cell_type": "markdown",
      "metadata": {
        "id": "v14morcGke84"
      },
      "source": [
        "# Logistic regression逻辑回归\n",
        "Find function that always outputs number between 0 and 1. Many functions satisfy this condition. For logistic regression the ... logistic function! is used.\n",
        "\n",
        "查找始终输出 0 和 1 之间的数字的函数。许多函数都满足此条件。对于逻辑回归，使用...逻辑函数！。\n",
        "\n",
        "$$y = \\frac{e^{\\beta_0 + \\beta_1X}}{1 + e^{\\beta_0 + \\beta_1X}}$$\n",
        "\n",
        "Many times you will see this as the sigmoid function in a simpler format\n",
        "\n",
        "很多时候你会看到这是更简单的 S 型函数\n",
        "\n",
        "$$y = \\frac{1}{1 + e^{-t}}$$\n",
        "\n",
        "Where $t$ is just the normal linear model $t = \\beta_0 + \\beta_1X$. Some algebra can be used to show the two equations above are equivalent.\n",
        "\n",
        "其中 $t$ 就是普通的线性模型 $t = \\beta_0 + \\beta_1X$。可以使用一些代数来证明上述两个方程是等价的。\n",
        "\n",
        "y can now be thought as the probability given some value X since it will always be between 0 and 1. Some more algebra can show that $$log{\\frac{p(X)}{1 - p(X)}} = \\beta_0 + \\beta_1X$$\n",
        "\n",
        "y 现在可以被认为是给定某个值 X 的概率，因为它总是在 0 和 1 之间。更多的代数运算可以证明 $$log{\\frac{p(X)}{1 - p(X)}} = \\beta_0 + \\beta_1X$$\n",
        "\n",
        "Where $y$ has been replaced by $p(X)$, the probability of $X$. The expression $\\frac{p(X)}{1 - p(X)}$ is known as the 'odds'. So for instance if you are gambling and think that Clinton will win the presidency 80% of the time. The odds would be .8/.2 = 4 or said \"4 to 1\". For every 4 times she wins, Trump will win once.\n",
        "\n",
        "其中 $y$ 被 $p(X)$ 取代，即 $X$ 的概率。表达式 $\\frac{p(X)}{1 - p(X)}$ 被称为“赔率”。例如，如果你在赌博，认为克林顿有 80% 的概率会赢得总统大选。赔率将是 .8/.2 = 4 或“4 比 1”。每 4 次她获胜，特朗普就会赢一次。\n",
        "\n",
        "What logistic regression is saying, that the log odds are modeled by a linear model which can be solved by linear regression. This has the literal meaning of - given a one unit increase in one of the variables (say $X_1$), a $\\beta_1$ increase will occur to the log-odds. Or equivalently, the odds will be multiplied by $e^{\\beta_1}$.\n",
        "\n",
        "逻辑回归的意思是，对数几率由线性模型建模，该模型可以通过线性回归求解。这具有字面意义 - 如果变量之一（例如 $X_1$）增加一个单位，对数几率将发生 $\\beta_1$ 增加。或者等价地，几率将乘以 $e^{\\beta_1}$。\n",
        "\n",
        "In our election example, $X_1$ could be the percentage of voters under 30 and $\\beta_1$ could be .5. That would mean if $X_1$ were to increase by 1 percentage point, Clinton's log odds would increase by .5. In our example from above, Clinton's log odds would go from 4 to 4.5 and her probability of winning would go from 80% to 4.5 / 5.5 or 82%\n",
        "\n",
        "在我们的选举示例中，$X_1$ 可能是 30 岁以下选民的百分比，而 $\\beta_1$ 可能是 0.5。这意味着如果 $X_1$ 增加 1 个百分点，克林顿的对数赔率将增加 0.5。在我们上面的示例中，克林顿的对数赔率将从 4 变为 4.5，她获胜的概率将从 80% 变为 4.5 / 5.5 或 82%\n",
        "\n",
        "There is no straight-line relationship between the probability of being in a certain class and X in logistic regression because of the need to have probabilities between 0 and 1\n",
        "\n",
        "在逻辑回归中，属于某一类的概率与 X 之间没有直线关系，因为需要有 0 到 1 之间的概率"
      ]
    },
    {
      "cell_type": "markdown",
      "metadata": {
        "id": "xTaxjeKake84"
      },
      "source": [
        "# Estimating coefficients through Maximum Likelihood通过最大似然估计系数\n",
        "In linear regression, the model coefficients were found by minimizing the squared residuals. In logistic regression, we maximize the probabilities of all points by a method called maximum likelihood. Maximum likelihood multiplies the model probability for each observation together and chooses parameters that maximize this number. The log likelihood is actually used as numerical underflow will be a problem for must problems with a non-trivial amount of data.\n",
        "\n",
        "在线性回归中，通过最小化残差平方来找到模型系数。在逻辑回归中，我们通过称为最大似然的方法最大化所有点的概率。最大似然将每个观测值的模型概率相乘，并选择使该数字最大化的参数。对数似然实际上用作数值下溢，对于大量数据的必须问题来说是一个问题"
      ]
    },
    {
      "cell_type": "code",
      "execution_count": null,
      "metadata": {
        "id": "gzdzfhPOke84"
      },
      "outputs": [],
      "source": [
        "# Think about doing a maximum likelihood example with 4 coin tosses and 3 heads.\n",
        "# Start with .5 then choose .6 and see the differences\n",
        "# 考虑做一个最大似然示例，抛掷 4 次硬币，出现 3 次正面。\n",
        "# 从 .5 开始，然后选择 .6 并查看差异"
      ]
    },
    {
      "cell_type": "code",
      "execution_count": null,
      "metadata": {
        "id": "OnIZDdSake85",
        "colab": {
          "base_uri": "https://localhost:8080/"
        },
        "outputId": "7f1456a5-876f-4f4d-be63-aad1f6109682"
      },
      "outputs": [
        {
          "output_type": "stream",
          "name": "stdout",
          "text": [
            "Optimization terminated successfully.\n",
            "         Current function value: 0.079823\n",
            "         Iterations 10\n"
          ]
        }
      ],
      "source": [
        "results = smf.logit('Yes ~ balance', data=default).fit()"
      ]
    },
    {
      "cell_type": "code",
      "execution_count": null,
      "metadata": {
        "id": "UnspijMAke85",
        "colab": {
          "base_uri": "https://localhost:8080/",
          "height": 335
        },
        "outputId": "b4c07809-f2a2-49ca-c873-a653dff06a55"
      },
      "outputs": [
        {
          "output_type": "execute_result",
          "data": {
            "text/plain": [
              "<class 'statsmodels.iolib.summary.Summary'>\n",
              "\"\"\"\n",
              "                           Logit Regression Results                           \n",
              "==============================================================================\n",
              "Dep. Variable:                    Yes   No. Observations:                10000\n",
              "Model:                          Logit   Df Residuals:                     9998\n",
              "Method:                           MLE   Df Model:                            1\n",
              "Date:                Mon, 06 May 2024   Pseudo R-squ.:                  0.4534\n",
              "Time:                        05:27:39   Log-Likelihood:                -798.23\n",
              "converged:                       True   LL-Null:                       -1460.3\n",
              "Covariance Type:            nonrobust   LLR p-value:                6.233e-290\n",
              "==============================================================================\n",
              "                 coef    std err          z      P>|z|      [0.025      0.975]\n",
              "------------------------------------------------------------------------------\n",
              "Intercept    -10.6513      0.361    -29.491      0.000     -11.359      -9.943\n",
              "balance        0.0055      0.000     24.952      0.000       0.005       0.006\n",
              "==============================================================================\n",
              "\n",
              "Possibly complete quasi-separation: A fraction 0.13 of observations can be\n",
              "perfectly predicted. This might indicate that there is complete\n",
              "quasi-separation. In this case some parameters will not be identified.\n",
              "\"\"\""
            ],
            "text/html": [
              "<table class=\"simpletable\">\n",
              "<caption>Logit Regression Results</caption>\n",
              "<tr>\n",
              "  <th>Dep. Variable:</th>          <td>Yes</td>       <th>  No. Observations:  </th>   <td> 10000</td>  \n",
              "</tr>\n",
              "<tr>\n",
              "  <th>Model:</th>                 <td>Logit</td>      <th>  Df Residuals:      </th>   <td>  9998</td>  \n",
              "</tr>\n",
              "<tr>\n",
              "  <th>Method:</th>                 <td>MLE</td>       <th>  Df Model:          </th>   <td>     1</td>  \n",
              "</tr>\n",
              "<tr>\n",
              "  <th>Date:</th>            <td>Mon, 06 May 2024</td> <th>  Pseudo R-squ.:     </th>   <td>0.4534</td>  \n",
              "</tr>\n",
              "<tr>\n",
              "  <th>Time:</th>                <td>05:27:39</td>     <th>  Log-Likelihood:    </th>  <td> -798.23</td> \n",
              "</tr>\n",
              "<tr>\n",
              "  <th>converged:</th>             <td>True</td>       <th>  LL-Null:           </th>  <td> -1460.3</td> \n",
              "</tr>\n",
              "<tr>\n",
              "  <th>Covariance Type:</th>     <td>nonrobust</td>    <th>  LLR p-value:       </th> <td>6.233e-290</td>\n",
              "</tr>\n",
              "</table>\n",
              "<table class=\"simpletable\">\n",
              "<tr>\n",
              "      <td></td>         <th>coef</th>     <th>std err</th>      <th>z</th>      <th>P>|z|</th>  <th>[0.025</th>    <th>0.975]</th>  \n",
              "</tr>\n",
              "<tr>\n",
              "  <th>Intercept</th> <td>  -10.6513</td> <td>    0.361</td> <td>  -29.491</td> <td> 0.000</td> <td>  -11.359</td> <td>   -9.943</td>\n",
              "</tr>\n",
              "<tr>\n",
              "  <th>balance</th>   <td>    0.0055</td> <td>    0.000</td> <td>   24.952</td> <td> 0.000</td> <td>    0.005</td> <td>    0.006</td>\n",
              "</tr>\n",
              "</table><br/><br/>Possibly complete quasi-separation: A fraction 0.13 of observations can be<br/>perfectly predicted. This might indicate that there is complete<br/>quasi-separation. In this case some parameters will not be identified."
            ],
            "text/latex": "\\begin{center}\n\\begin{tabular}{lclc}\n\\toprule\n\\textbf{Dep. Variable:}   &       Yes        & \\textbf{  No. Observations:  } &    10000    \\\\\n\\textbf{Model:}           &      Logit       & \\textbf{  Df Residuals:      } &     9998    \\\\\n\\textbf{Method:}          &       MLE        & \\textbf{  Df Model:          } &        1    \\\\\n\\textbf{Date:}            & Mon, 06 May 2024 & \\textbf{  Pseudo R-squ.:     } &   0.4534    \\\\\n\\textbf{Time:}            &     05:27:39     & \\textbf{  Log-Likelihood:    } &   -798.23   \\\\\n\\textbf{converged:}       &       True       & \\textbf{  LL-Null:           } &   -1460.3   \\\\\n\\textbf{Covariance Type:} &    nonrobust     & \\textbf{  LLR p-value:       } & 6.233e-290  \\\\\n\\bottomrule\n\\end{tabular}\n\\begin{tabular}{lcccccc}\n                   & \\textbf{coef} & \\textbf{std err} & \\textbf{z} & \\textbf{P$> |$z$|$} & \\textbf{[0.025} & \\textbf{0.975]}  \\\\\n\\midrule\n\\textbf{Intercept} &     -10.6513  &        0.361     &   -29.491  &         0.000        &      -11.359    &       -9.943     \\\\\n\\textbf{balance}   &       0.0055  &        0.000     &    24.952  &         0.000        &        0.005    &        0.006     \\\\\n\\bottomrule\n\\end{tabular}\n%\\caption{Logit Regression Results}\n\\end{center}\n\nPossibly complete quasi-separation: A fraction 0.13 of observations can be \\newline\n perfectly predicted. This might indicate that there is complete \\newline\n quasi-separation. In this case some parameters will not be identified."
          },
          "metadata": {},
          "execution_count": 10
        }
      ],
      "source": [
        "results.summary()"
      ]
    },
    {
      "cell_type": "code",
      "execution_count": null,
      "metadata": {
        "id": "lRC0KiA_ke85",
        "colab": {
          "base_uri": "https://localhost:8080/",
          "height": 523
        },
        "outputId": "74997d7f-7247-4980-be88-de32cbad1cd2"
      },
      "outputs": [
        {
          "output_type": "execute_result",
          "data": {
            "text/plain": [
              "<seaborn.axisgrid.FacetGrid at 0x7b8c4fc2cac0>"
            ]
          },
          "metadata": {},
          "execution_count": 11
        },
        {
          "output_type": "display_data",
          "data": {
            "text/plain": [
              "<Figure size 500x500 with 1 Axes>"
            ],
            "image/png": "[encoded data removed]"
          },
          "metadata": {}
        }
      ],
      "source": [
        "# Looks quite a bit different than the linear regression model 看起来与线性回归模型有很大不同\n",
        "sns.lmplot(x='balance', y='Yes', data=default, logistic=True)"
      ]
    },
    {
      "cell_type": "markdown",
      "metadata": {
        "id": "us4NQwj2ke85"
      },
      "source": [
        "## Interpretation 解释\n",
        "For every one dollar increase in balance the log odds increases by .0555. The log odds when there is no balance is -10.6\n",
        "\n",
        "余额每增加一美元，对数赔率就会增加 0.0555。无余额时的对数赔率是-10.6"
      ]
    },
    {
      "cell_type": "code",
      "execution_count": null,
      "metadata": {
        "id": "3_IzskC8ke85",
        "colab": {
          "base_uri": "https://localhost:8080/"
        },
        "outputId": "1346d60f-9d3c-4f02-ca2a-36d735825841"
      },
      "outputs": [
        {
          "output_type": "execute_result",
          "data": {
            "text/plain": [
              "2.3700841597751968e-05"
            ]
          },
          "metadata": {},
          "execution_count": 12
        }
      ],
      "source": [
        "# p / (1 - p) =\n",
        "odds = np.exp(-10.65)\n",
        "odds"
      ]
    },
    {
      "cell_type": "code",
      "execution_count": null,
      "metadata": {
        "id": "cOGeoUNTke85"
      },
      "outputs": [],
      "source": [
        "# (1 - p) / p = 1 / odds\n",
        "one_over_odds = 1 / odds"
      ]
    },
    {
      "cell_type": "code",
      "execution_count": null,
      "metadata": {
        "id": "dxQ0z4pUke85"
      },
      "outputs": [],
      "source": [
        "# 1/p = one_over_odds + 1\n",
        "one_over_p = one_over_odds + 1"
      ]
    },
    {
      "cell_type": "code",
      "execution_count": null,
      "metadata": {
        "id": "m-C0czwwke85"
      },
      "outputs": [],
      "source": [
        "# p = 1 / one_over_p"
      ]
    },
    {
      "cell_type": "code",
      "execution_count": null,
      "metadata": {
        "id": "ms232Sizke85",
        "colab": {
          "base_uri": "https://localhost:8080/"
        },
        "outputId": "445d42ec-5055-4290-b6e0-a3e9728af7ff"
      },
      "outputs": [
        {
          "output_type": "execute_result",
          "data": {
            "text/plain": [
              "2.370027988117268e-05"
            ]
          },
          "metadata": {},
          "execution_count": 15
        }
      ],
      "source": [
        "# since p is so close to 0, p / (1 - p) is nearly equivalent to p\n",
        "p = 1 / one_over_p\n",
        "p"
      ]
    },
    {
      "cell_type": "markdown",
      "metadata": {
        "id": "a5eXHmBfke85"
      },
      "source": [
        "# Scikit-learn for easier prediction 使用 Scikit-learn 进行更轻松的预测\n",
        "http://scikit-learn.org/stable/"
      ]
    },
    {
      "cell_type": "code",
      "execution_count": null,
      "metadata": {
        "id": "yKUS8Vxdke86"
      },
      "outputs": [],
      "source": [
        "from sklearn.linear_model import LogisticRegression"
      ]
    },
    {
      "cell_type": "code",
      "execution_count": null,
      "metadata": {
        "id": "9cK6HmUJke86"
      },
      "outputs": [],
      "source": [
        "# this actually uses regularization by default which will be covered in later chapters\n",
        "# 这实际上默认使用了正则化，这将在后面的章节中介绍\n",
        "lr = LogisticRegression()"
      ]
    },
    {
      "cell_type": "code",
      "execution_count": null,
      "metadata": {
        "id": "rowiaUJLke86"
      },
      "outputs": [],
      "source": [
        "X = np.column_stack((np.ones(len(default)), default['balance']))"
      ]
    },
    {
      "cell_type": "code",
      "execution_count": null,
      "metadata": {
        "id": "QIBhxKPqke86",
        "colab": {
          "base_uri": "https://localhost:8080/",
          "height": 74
        },
        "outputId": "6b7eb565-aeb1-44f9-fda8-ea05fa9f6611"
      },
      "outputs": [
        {
          "output_type": "execute_result",
          "data": {
            "text/plain": [
              "LogisticRegression()"
            ],
            "text/html": [
              "<style>#sk-container-id-1 {color: black;background-color: white;}#sk-container-id-1 pre{padding: 0;}#sk-container-id-1 div.sk-toggleable {background-color: white;}#sk-container-id-1 label.sk-toggleable__label {cursor: pointer;display: block;width: 100%;margin-bottom: 0;padding: 0.3em;box-sizing: border-box;text-align: center;}#sk-container-id-1 label.sk-toggleable__label-arrow:before {content: \"▸\";float: left;margin-right: 0.25em;color: #696969;}#sk-container-id-1 label.sk-toggleable__label-arrow:hover:before {color: black;}#sk-container-id-1 div.sk-estimator:hover label.sk-toggleable__label-arrow:before {color: black;}#sk-container-id-1 div.sk-toggleable__content {max-height: 0;max-width: 0;overflow: hidden;text-align: left;background-color: #f0f8ff;}#sk-container-id-1 div.sk-toggleable__content pre {margin: 0.2em;color: black;border-radius: 0.25em;background-color: #f0f8ff;}#sk-container-id-1 input.sk-toggleable__control:checked~div.sk-toggleable__content {max-height: 200px;max-width: 100%;overflow: auto;}#sk-container-id-1 input.sk-toggleable__control:checked~label.sk-toggleable__label-arrow:before {content: \"▾\";}#sk-container-id-1 div.sk-estimator input.sk-toggleable__control:checked~label.sk-toggleable__label {background-color: #d4ebff;}#sk-container-id-1 div.sk-label input.sk-toggleable__control:checked~label.sk-toggleable__label {background-color: #d4ebff;}#sk-container-id-1 input.sk-hidden--visually {border: 0;clip: rect(1px 1px 1px 1px);clip: rect(1px, 1px, 1px, 1px);height: 1px;margin: -1px;overflow: hidden;padding: 0;position: absolute;width: 1px;}#sk-container-id-1 div.sk-estimator {font-family: monospace;background-color: #f0f8ff;border: 1px dotted black;border-radius: 0.25em;box-sizing: border-box;margin-bottom: 0.5em;}#sk-container-id-1 div.sk-estimator:hover {background-color: #d4ebff;}#sk-container-id-1 div.sk-parallel-item::after {content: \"\";width: 100%;border-bottom: 1px solid gray;flex-grow: 1;}#sk-container-id-1 div.sk-label:hover label.sk-toggleable__label {background-color: #d4ebff;}#sk-container-id-1 div.sk-serial::before {content: \"\";position: absolute;border-left: 1px solid gray;box-sizing: border-box;top: 0;bottom: 0;left: 50%;z-index: 0;}#sk-container-id-1 div.sk-serial {display: flex;flex-direction: column;align-items: center;background-color: white;padding-right: 0.2em;padding-left: 0.2em;position: relative;}#sk-container-id-1 div.sk-item {position: relative;z-index: 1;}#sk-container-id-1 div.sk-parallel {display: flex;align-items: stretch;justify-content: center;background-color: white;position: relative;}#sk-container-id-1 div.sk-item::before, #sk-container-id-1 div.sk-parallel-item::before {content: \"\";position: absolute;border-left: 1px solid gray;box-sizing: border-box;top: 0;bottom: 0;left: 50%;z-index: -1;}#sk-container-id-1 div.sk-parallel-item {display: flex;flex-direction: column;z-index: 1;position: relative;background-color: white;}#sk-container-id-1 div.sk-parallel-item:first-child::after {align-self: flex-end;width: 50%;}#sk-container-id-1 div.sk-parallel-item:last-child::after {align-self: flex-start;width: 50%;}#sk-container-id-1 div.sk-parallel-item:only-child::after {width: 0;}#sk-container-id-1 div.sk-dashed-wrapped {border: 1px dashed gray;margin: 0 0.4em 0.5em 0.4em;box-sizing: border-box;padding-bottom: 0.4em;background-color: white;}#sk-container-id-1 div.sk-label label {font-family: monospace;font-weight: bold;display: inline-block;line-height: 1.2em;}#sk-container-id-1 div.sk-label-container {text-align: center;}#sk-container-id-1 div.sk-container {/* jupyter's `normalize.less` sets `[hidden] { display: none; }` but bootstrap.min.css set `[hidden] { display: none !important; }` so we also need the `!important` here to be able to override the default hidden behavior on the sphinx rendered scikit-learn.org. See: https://github.com/scikit-learn/scikit-learn/issues/21755 */display: inline-block !important;position: relative;}#sk-container-id-1 div.sk-text-repr-fallback {display: none;}</style><div id=\"sk-container-id-1\" class=\"sk-top-container\"><div class=\"sk-text-repr-fallback\"><pre>LogisticRegression()</pre><b>In a Jupyter environment, please rerun this cell to show the HTML representation or trust the notebook. <br />On GitHub, the HTML representation is unable to render, please try loading this page with nbviewer.org.</b></div><div class=\"sk-container\" hidden><div class=\"sk-item\"><div class=\"sk-estimator sk-toggleable\"><input class=\"sk-toggleable__control sk-hidden--visually\" id=\"sk-estimator-id-1\" type=\"checkbox\" checked><label for=\"sk-estimator-id-1\" class=\"sk-toggleable__label sk-toggleable__label-arrow\">LogisticRegression</label><div class=\"sk-toggleable__content\"><pre>LogisticRegression()</pre></div></div></div></div></div>"
            ]
          },
          "metadata": {},
          "execution_count": 19
        }
      ],
      "source": [
        "lr.fit(X, default['Yes'])"
      ]
    },
    {
      "cell_type": "code",
      "execution_count": null,
      "metadata": {
        "id": "lwN2--Xuke86",
        "colab": {
          "base_uri": "https://localhost:8080/"
        },
        "outputId": "52b24842-2cf4-47de-eb70-0ad1baf15296"
      },
      "outputs": [
        {
          "output_type": "execute_result",
          "data": {
            "text/plain": [
              "array([[-5.16481986,  0.00530575]])"
            ]
          },
          "metadata": {},
          "execution_count": 20
        }
      ],
      "source": [
        "# Model coefficients are different by B1 is very similar 模型系数相差B1非常相似\n",
        "lr.coef_"
      ]
    },
    {
      "cell_type": "code",
      "execution_count": null,
      "metadata": {
        "id": "LCOQZOTlke86",
        "colab": {
          "base_uri": "https://localhost:8080/"
        },
        "outputId": "5d6b60db-a562-4f68-c3be-732b86247679"
      },
      "outputs": [
        {
          "output_type": "execute_result",
          "data": {
            "text/plain": [
              "array([[0.99346413, 0.00653587]])"
            ]
          },
          "metadata": {},
          "execution_count": 21
        }
      ],
      "source": [
        "# predict 1000 dollar balance default 预测 1000 美元余额违约\n",
        "lr.predict_proba([[1, 1000]]) # 99 percent chance no default 99% 的可能性不会违约"
      ]
    },
    {
      "cell_type": "code",
      "execution_count": null,
      "metadata": {
        "id": "EVfptdq8ke86",
        "colab": {
          "base_uri": "https://localhost:8080/"
        },
        "outputId": "100be1a3-79c0-48e6-b2d0-a6dc9750b71e"
      },
      "outputs": [
        {
          "output_type": "execute_result",
          "data": {
            "text/plain": [
              "array([[0.42999758, 0.57000242]])"
            ]
          },
          "metadata": {},
          "execution_count": 22
        }
      ],
      "source": [
        "# predict 2000 dollar balance default 预测 2000 美元余额违约\n",
        "lr.predict_proba([[1, 2000]]) ## 55 percent chance default"
      ]
    },
    {
      "cell_type": "code",
      "execution_count": null,
      "metadata": {
        "id": "vh1RkRn2ke86",
        "colab": {
          "base_uri": "https://localhost:8080/"
        },
        "outputId": "0cda0da6-e317-41a1-e2fa-a3a7bc1a299f"
      },
      "outputs": [
        {
          "output_type": "execute_result",
          "data": {
            "text/plain": [
              "array([[0.00372998, 0.99627002]])"
            ]
          },
          "metadata": {},
          "execution_count": 23
        }
      ],
      "source": [
        "# predict 3000 dollar balance default\n",
        "lr.predict_proba([[1, 3000]]) ## >99 percent chance default"
      ]
    },
    {
      "cell_type": "markdown",
      "metadata": {
        "id": "iLOjqS4Gke86"
      },
      "source": [
        "# Multiple Linear Regression 多元线性回归\n",
        "more than 1 predictor"
      ]
    },
    {
      "cell_type": "code",
      "execution_count": null,
      "metadata": {
        "id": "G2P83N85ke86",
        "colab": {
          "base_uri": "https://localhost:8080/"
        },
        "outputId": "b5c57339-c103-4589-a4e8-333414f33d9f"
      },
      "outputs": [
        {
          "output_type": "stream",
          "name": "stdout",
          "text": [
            "Optimization terminated successfully.\n",
            "         Current function value: 0.078584\n",
            "         Iterations 10\n"
          ]
        }
      ],
      "source": [
        "results = smf.logit('Yes ~ balance + student', data=default).fit()"
      ]
    },
    {
      "cell_type": "code",
      "execution_count": null,
      "metadata": {
        "id": "Sr0k3_KZke87",
        "colab": {
          "base_uri": "https://localhost:8080/",
          "height": 356
        },
        "outputId": "cf4d119e-90fe-41d6-fdbf-bc9a1fd3c43c"
      },
      "outputs": [
        {
          "output_type": "execute_result",
          "data": {
            "text/plain": [
              "<class 'statsmodels.iolib.summary.Summary'>\n",
              "\"\"\"\n",
              "                           Logit Regression Results                           \n",
              "==============================================================================\n",
              "Dep. Variable:                    Yes   No. Observations:                10000\n",
              "Model:                          Logit   Df Residuals:                     9997\n",
              "Method:                           MLE   Df Model:                            2\n",
              "Date:                Mon, 06 May 2024   Pseudo R-squ.:                  0.4619\n",
              "Time:                        05:30:17   Log-Likelihood:                -785.84\n",
              "converged:                       True   LL-Null:                       -1460.3\n",
              "Covariance Type:            nonrobust   LLR p-value:                1.189e-293\n",
              "==================================================================================\n",
              "                     coef    std err          z      P>|z|      [0.025      0.975]\n",
              "----------------------------------------------------------------------------------\n",
              "Intercept        -10.7495      0.369    -29.115      0.000     -11.473     -10.026\n",
              "student[T.Yes]    -0.7149      0.148     -4.846      0.000      -1.004      -0.426\n",
              "balance            0.0057      0.000     24.748      0.000       0.005       0.006\n",
              "==================================================================================\n",
              "\n",
              "Possibly complete quasi-separation: A fraction 0.15 of observations can be\n",
              "perfectly predicted. This might indicate that there is complete\n",
              "quasi-separation. In this case some parameters will not be identified.\n",
              "\"\"\""
            ],
            "text/html": [
              "<table class=\"simpletable\">\n",
              "<caption>Logit Regression Results</caption>\n",
              "<tr>\n",
              "  <th>Dep. Variable:</th>          <td>Yes</td>       <th>  No. Observations:  </th>   <td> 10000</td>  \n",
              "</tr>\n",
              "<tr>\n",
              "  <th>Model:</th>                 <td>Logit</td>      <th>  Df Residuals:      </th>   <td>  9997</td>  \n",
              "</tr>\n",
              "<tr>\n",
              "  <th>Method:</th>                 <td>MLE</td>       <th>  Df Model:          </th>   <td>     2</td>  \n",
              "</tr>\n",
              "<tr>\n",
              "  <th>Date:</th>            <td>Mon, 06 May 2024</td> <th>  Pseudo R-squ.:     </th>   <td>0.4619</td>  \n",
              "</tr>\n",
              "<tr>\n",
              "  <th>Time:</th>                <td>05:30:17</td>     <th>  Log-Likelihood:    </th>  <td> -785.84</td> \n",
              "</tr>\n",
              "<tr>\n",
              "  <th>converged:</th>             <td>True</td>       <th>  LL-Null:           </th>  <td> -1460.3</td> \n",
              "</tr>\n",
              "<tr>\n",
              "  <th>Covariance Type:</th>     <td>nonrobust</td>    <th>  LLR p-value:       </th> <td>1.189e-293</td>\n",
              "</tr>\n",
              "</table>\n",
              "<table class=\"simpletable\">\n",
              "<tr>\n",
              "         <td></td>           <th>coef</th>     <th>std err</th>      <th>z</th>      <th>P>|z|</th>  <th>[0.025</th>    <th>0.975]</th>  \n",
              "</tr>\n",
              "<tr>\n",
              "  <th>Intercept</th>      <td>  -10.7495</td> <td>    0.369</td> <td>  -29.115</td> <td> 0.000</td> <td>  -11.473</td> <td>  -10.026</td>\n",
              "</tr>\n",
              "<tr>\n",
              "  <th>student[T.Yes]</th> <td>   -0.7149</td> <td>    0.148</td> <td>   -4.846</td> <td> 0.000</td> <td>   -1.004</td> <td>   -0.426</td>\n",
              "</tr>\n",
              "<tr>\n",
              "  <th>balance</th>        <td>    0.0057</td> <td>    0.000</td> <td>   24.748</td> <td> 0.000</td> <td>    0.005</td> <td>    0.006</td>\n",
              "</tr>\n",
              "</table><br/><br/>Possibly complete quasi-separation: A fraction 0.15 of observations can be<br/>perfectly predicted. This might indicate that there is complete<br/>quasi-separation. In this case some parameters will not be identified."
            ],
            "text/latex": "\\begin{center}\n\\begin{tabular}{lclc}\n\\toprule\n\\textbf{Dep. Variable:}   &       Yes        & \\textbf{  No. Observations:  } &    10000    \\\\\n\\textbf{Model:}           &      Logit       & \\textbf{  Df Residuals:      } &     9997    \\\\\n\\textbf{Method:}          &       MLE        & \\textbf{  Df Model:          } &        2    \\\\\n\\textbf{Date:}            & Mon, 06 May 2024 & \\textbf{  Pseudo R-squ.:     } &   0.4619    \\\\\n\\textbf{Time:}            &     05:30:17     & \\textbf{  Log-Likelihood:    } &   -785.84   \\\\\n\\textbf{converged:}       &       True       & \\textbf{  LL-Null:           } &   -1460.3   \\\\\n\\textbf{Covariance Type:} &    nonrobust     & \\textbf{  LLR p-value:       } & 1.189e-293  \\\\\n\\bottomrule\n\\end{tabular}\n\\begin{tabular}{lcccccc}\n                        & \\textbf{coef} & \\textbf{std err} & \\textbf{z} & \\textbf{P$> |$z$|$} & \\textbf{[0.025} & \\textbf{0.975]}  \\\\\n\\midrule\n\\textbf{Intercept}      &     -10.7495  &        0.369     &   -29.115  &         0.000        &      -11.473    &      -10.026     \\\\\n\\textbf{student[T.Yes]} &      -0.7149  &        0.148     &    -4.846  &         0.000        &       -1.004    &       -0.426     \\\\\n\\textbf{balance}        &       0.0057  &        0.000     &    24.748  &         0.000        &        0.005    &        0.006     \\\\\n\\bottomrule\n\\end{tabular}\n%\\caption{Logit Regression Results}\n\\end{center}\n\nPossibly complete quasi-separation: A fraction 0.15 of observations can be \\newline\n perfectly predicted. This might indicate that there is complete \\newline\n quasi-separation. In this case some parameters will not be identified."
          },
          "metadata": {},
          "execution_count": 25
        }
      ],
      "source": [
        "results.summary()"
      ]
    },
    {
      "cell_type": "code",
      "execution_count": null,
      "metadata": {
        "id": "CXNY-VLEke87"
      },
      "outputs": [],
      "source": [
        "default['student_yes'] = (default['student'] == 'Yes').astype(int)"
      ]
    },
    {
      "cell_type": "code",
      "execution_count": null,
      "metadata": {
        "id": "6VPa2RLtke87"
      },
      "outputs": [],
      "source": [
        "X = np.column_stack((np.ones(len(default)), default['balance'], default['student_yes']))"
      ]
    },
    {
      "cell_type": "code",
      "execution_count": null,
      "metadata": {
        "id": "a8fwnIXxke87",
        "colab": {
          "base_uri": "https://localhost:8080/"
        },
        "outputId": "66204acb-4664-4a07-9ec1-3f8976492c4f"
      },
      "outputs": [
        {
          "output_type": "execute_result",
          "data": {
            "text/plain": [
              "array([[1.00000000e+00, 7.29526495e+02, 0.00000000e+00],\n",
              "       [1.00000000e+00, 8.17180407e+02, 1.00000000e+00],\n",
              "       [1.00000000e+00, 1.07354916e+03, 0.00000000e+00],\n",
              "       ...,\n",
              "       [1.00000000e+00, 8.45411989e+02, 0.00000000e+00],\n",
              "       [1.00000000e+00, 1.56900905e+03, 0.00000000e+00],\n",
              "       [1.00000000e+00, 2.00922183e+02, 1.00000000e+00]])"
            ]
          },
          "metadata": {},
          "execution_count": 28
        }
      ],
      "source": [
        "X"
      ]
    },
    {
      "cell_type": "code",
      "execution_count": null,
      "metadata": {
        "id": "ZWX2YsnSke87",
        "colab": {
          "base_uri": "https://localhost:8080/",
          "height": 74
        },
        "outputId": "5db07b22-8507-49ad-eff3-9c83e1fb3df1"
      },
      "outputs": [
        {
          "output_type": "execute_result",
          "data": {
            "text/plain": [
              "LogisticRegression()"
            ],
            "text/html": [
              "<style>#sk-container-id-2 {color: black;background-color: white;}#sk-container-id-2 pre{padding: 0;}#sk-container-id-2 div.sk-toggleable {background-color: white;}#sk-container-id-2 label.sk-toggleable__label {cursor: pointer;display: block;width: 100%;margin-bottom: 0;padding: 0.3em;box-sizing: border-box;text-align: center;}#sk-container-id-2 label.sk-toggleable__label-arrow:before {content: \"▸\";float: left;margin-right: 0.25em;color: #696969;}#sk-container-id-2 label.sk-toggleable__label-arrow:hover:before {color: black;}#sk-container-id-2 div.sk-estimator:hover label.sk-toggleable__label-arrow:before {color: black;}#sk-container-id-2 div.sk-toggleable__content {max-height: 0;max-width: 0;overflow: hidden;text-align: left;background-color: #f0f8ff;}#sk-container-id-2 div.sk-toggleable__content pre {margin: 0.2em;color: black;border-radius: 0.25em;background-color: #f0f8ff;}#sk-container-id-2 input.sk-toggleable__control:checked~div.sk-toggleable__content {max-height: 200px;max-width: 100%;overflow: auto;}#sk-container-id-2 input.sk-toggleable__control:checked~label.sk-toggleable__label-arrow:before {content: \"▾\";}#sk-container-id-2 div.sk-estimator input.sk-toggleable__control:checked~label.sk-toggleable__label {background-color: #d4ebff;}#sk-container-id-2 div.sk-label input.sk-toggleable__control:checked~label.sk-toggleable__label {background-color: #d4ebff;}#sk-container-id-2 input.sk-hidden--visually {border: 0;clip: rect(1px 1px 1px 1px);clip: rect(1px, 1px, 1px, 1px);height: 1px;margin: -1px;overflow: hidden;padding: 0;position: absolute;width: 1px;}#sk-container-id-2 div.sk-estimator {font-family: monospace;background-color: #f0f8ff;border: 1px dotted black;border-radius: 0.25em;box-sizing: border-box;margin-bottom: 0.5em;}#sk-container-id-2 div.sk-estimator:hover {background-color: #d4ebff;}#sk-container-id-2 div.sk-parallel-item::after {content: \"\";width: 100%;border-bottom: 1px solid gray;flex-grow: 1;}#sk-container-id-2 div.sk-label:hover label.sk-toggleable__label {background-color: #d4ebff;}#sk-container-id-2 div.sk-serial::before {content: \"\";position: absolute;border-left: 1px solid gray;box-sizing: border-box;top: 0;bottom: 0;left: 50%;z-index: 0;}#sk-container-id-2 div.sk-serial {display: flex;flex-direction: column;align-items: center;background-color: white;padding-right: 0.2em;padding-left: 0.2em;position: relative;}#sk-container-id-2 div.sk-item {position: relative;z-index: 1;}#sk-container-id-2 div.sk-parallel {display: flex;align-items: stretch;justify-content: center;background-color: white;position: relative;}#sk-container-id-2 div.sk-item::before, #sk-container-id-2 div.sk-parallel-item::before {content: \"\";position: absolute;border-left: 1px solid gray;box-sizing: border-box;top: 0;bottom: 0;left: 50%;z-index: -1;}#sk-container-id-2 div.sk-parallel-item {display: flex;flex-direction: column;z-index: 1;position: relative;background-color: white;}#sk-container-id-2 div.sk-parallel-item:first-child::after {align-self: flex-end;width: 50%;}#sk-container-id-2 div.sk-parallel-item:last-child::after {align-self: flex-start;width: 50%;}#sk-container-id-2 div.sk-parallel-item:only-child::after {width: 0;}#sk-container-id-2 div.sk-dashed-wrapped {border: 1px dashed gray;margin: 0 0.4em 0.5em 0.4em;box-sizing: border-box;padding-bottom: 0.4em;background-color: white;}#sk-container-id-2 div.sk-label label {font-family: monospace;font-weight: bold;display: inline-block;line-height: 1.2em;}#sk-container-id-2 div.sk-label-container {text-align: center;}#sk-container-id-2 div.sk-container {/* jupyter's `normalize.less` sets `[hidden] { display: none; }` but bootstrap.min.css set `[hidden] { display: none !important; }` so we also need the `!important` here to be able to override the default hidden behavior on the sphinx rendered scikit-learn.org. See: https://github.com/scikit-learn/scikit-learn/issues/21755 */display: inline-block !important;position: relative;}#sk-container-id-2 div.sk-text-repr-fallback {display: none;}</style><div id=\"sk-container-id-2\" class=\"sk-top-container\"><div class=\"sk-text-repr-fallback\"><pre>LogisticRegression()</pre><b>In a Jupyter environment, please rerun this cell to show the HTML representation or trust the notebook. <br />On GitHub, the HTML representation is unable to render, please try loading this page with nbviewer.org.</b></div><div class=\"sk-container\" hidden><div class=\"sk-item\"><div class=\"sk-estimator sk-toggleable\"><input class=\"sk-toggleable__control sk-hidden--visually\" id=\"sk-estimator-id-2\" type=\"checkbox\" checked><label for=\"sk-estimator-id-2\" class=\"sk-toggleable__label sk-toggleable__label-arrow\">LogisticRegression</label><div class=\"sk-toggleable__content\"><pre>LogisticRegression()</pre></div></div></div></div></div>"
            ]
          },
          "metadata": {},
          "execution_count": 29
        }
      ],
      "source": [
        "lr.fit(X, default['Yes'])"
      ]
    },
    {
      "cell_type": "code",
      "execution_count": null,
      "metadata": {
        "id": "mAh_I_lPke87",
        "colab": {
          "base_uri": "https://localhost:8080/"
        },
        "outputId": "c9f2e439-c15f-448e-ebd0-42e9adeac030"
      },
      "outputs": [
        {
          "output_type": "execute_result",
          "data": {
            "text/plain": [
              "array([[-5.19067722,  0.00554579, -0.84302061]])"
            ]
          },
          "metadata": {},
          "execution_count": 30
        }
      ],
      "source": [
        "lr.coef_"
      ]
    },
    {
      "cell_type": "code",
      "execution_count": null,
      "metadata": {
        "id": "jdPERqyNke88",
        "colab": {
          "base_uri": "https://localhost:8080/"
        },
        "outputId": "c35288fd-2bfb-466c-c941-a6afe786c687"
      },
      "outputs": [
        {
          "output_type": "execute_result",
          "data": {
            "text/plain": [
              "array([[0.5331531, 0.4668469]])"
            ]
          },
          "metadata": {},
          "execution_count": 31
        }
      ],
      "source": [
        "# predict 1000 dollar balance default\n",
        "lr.predict_proba([[1, 2000, 1]]) # 99 percent chance no default"
      ]
    },
    {
      "cell_type": "markdown",
      "metadata": {
        "id": "t9fKA1_kke88"
      },
      "source": [
        "# Simpsons paradox 辛普森悖论\n",
        "\n",
        "A phenomenon in probability and statistics, in which a trend appears in several different groups of data but disappears or reverses when these groups are combined.\n",
        "\n",
        "概率和统计中的一种现象，其中趋势出现在几个不同的数据组中，但当这些组组合在一起时消失或逆转。"
      ]
    },
    {
      "cell_type": "code",
      "execution_count": null,
      "metadata": {
        "id": "F_wNNPPuke88",
        "colab": {
          "base_uri": "https://localhost:8080/",
          "height": 300
        },
        "outputId": "b9d545cd-e2c0-459e-c101-8d8a08b4be33"
      },
      "outputs": [
        {
          "output_type": "stream",
          "name": "stdout",
          "text": [
            "Optimization terminated successfully.\n",
            "         Current function value: 0.145434\n",
            "         Iterations 7\n"
          ]
        },
        {
          "output_type": "execute_result",
          "data": {
            "text/plain": [
              "<class 'statsmodels.iolib.summary.Summary'>\n",
              "\"\"\"\n",
              "                           Logit Regression Results                           \n",
              "==============================================================================\n",
              "Dep. Variable:                    Yes   No. Observations:                10000\n",
              "Model:                          Logit   Df Residuals:                     9998\n",
              "Method:                           MLE   Df Model:                            1\n",
              "Date:                Mon, 06 May 2024   Pseudo R-squ.:                0.004097\n",
              "Time:                        05:31:10   Log-Likelihood:                -1454.3\n",
              "converged:                       True   LL-Null:                       -1460.3\n",
              "Covariance Type:            nonrobust   LLR p-value:                 0.0005416\n",
              "==================================================================================\n",
              "                     coef    std err          z      P>|z|      [0.025      0.975]\n",
              "----------------------------------------------------------------------------------\n",
              "Intercept         -3.5041      0.071    -49.554      0.000      -3.643      -3.366\n",
              "student[T.Yes]     0.4049      0.115      3.520      0.000       0.179       0.630\n",
              "==================================================================================\n",
              "\"\"\""
            ],
            "text/html": [
              "<table class=\"simpletable\">\n",
              "<caption>Logit Regression Results</caption>\n",
              "<tr>\n",
              "  <th>Dep. Variable:</th>          <td>Yes</td>       <th>  No. Observations:  </th>  <td> 10000</td>  \n",
              "</tr>\n",
              "<tr>\n",
              "  <th>Model:</th>                 <td>Logit</td>      <th>  Df Residuals:      </th>  <td>  9998</td>  \n",
              "</tr>\n",
              "<tr>\n",
              "  <th>Method:</th>                 <td>MLE</td>       <th>  Df Model:          </th>  <td>     1</td>  \n",
              "</tr>\n",
              "<tr>\n",
              "  <th>Date:</th>            <td>Mon, 06 May 2024</td> <th>  Pseudo R-squ.:     </th> <td>0.004097</td> \n",
              "</tr>\n",
              "<tr>\n",
              "  <th>Time:</th>                <td>05:31:10</td>     <th>  Log-Likelihood:    </th> <td> -1454.3</td> \n",
              "</tr>\n",
              "<tr>\n",
              "  <th>converged:</th>             <td>True</td>       <th>  LL-Null:           </th> <td> -1460.3</td> \n",
              "</tr>\n",
              "<tr>\n",
              "  <th>Covariance Type:</th>     <td>nonrobust</td>    <th>  LLR p-value:       </th> <td>0.0005416</td>\n",
              "</tr>\n",
              "</table>\n",
              "<table class=\"simpletable\">\n",
              "<tr>\n",
              "         <td></td>           <th>coef</th>     <th>std err</th>      <th>z</th>      <th>P>|z|</th>  <th>[0.025</th>    <th>0.975]</th>  \n",
              "</tr>\n",
              "<tr>\n",
              "  <th>Intercept</th>      <td>   -3.5041</td> <td>    0.071</td> <td>  -49.554</td> <td> 0.000</td> <td>   -3.643</td> <td>   -3.366</td>\n",
              "</tr>\n",
              "<tr>\n",
              "  <th>student[T.Yes]</th> <td>    0.4049</td> <td>    0.115</td> <td>    3.520</td> <td> 0.000</td> <td>    0.179</td> <td>    0.630</td>\n",
              "</tr>\n",
              "</table>"
            ],
            "text/latex": "\\begin{center}\n\\begin{tabular}{lclc}\n\\toprule\n\\textbf{Dep. Variable:}   &       Yes        & \\textbf{  No. Observations:  } &    10000    \\\\\n\\textbf{Model:}           &      Logit       & \\textbf{  Df Residuals:      } &     9998    \\\\\n\\textbf{Method:}          &       MLE        & \\textbf{  Df Model:          } &        1    \\\\\n\\textbf{Date:}            & Mon, 06 May 2024 & \\textbf{  Pseudo R-squ.:     } &  0.004097   \\\\\n\\textbf{Time:}            &     05:31:10     & \\textbf{  Log-Likelihood:    } &   -1454.3   \\\\\n\\textbf{converged:}       &       True       & \\textbf{  LL-Null:           } &   -1460.3   \\\\\n\\textbf{Covariance Type:} &    nonrobust     & \\textbf{  LLR p-value:       } & 0.0005416   \\\\\n\\bottomrule\n\\end{tabular}\n\\begin{tabular}{lcccccc}\n                        & \\textbf{coef} & \\textbf{std err} & \\textbf{z} & \\textbf{P$> |$z$|$} & \\textbf{[0.025} & \\textbf{0.975]}  \\\\\n\\midrule\n\\textbf{Intercept}      &      -3.5041  &        0.071     &   -49.554  &         0.000        &       -3.643    &       -3.366     \\\\\n\\textbf{student[T.Yes]} &       0.4049  &        0.115     &     3.520  &         0.000        &        0.179    &        0.630     \\\\\n\\bottomrule\n\\end{tabular}\n%\\caption{Logit Regression Results}\n\\end{center}"
          },
          "metadata": {},
          "execution_count": 32
        }
      ],
      "source": [
        "results = smf.logit('Yes ~ student', data=default).fit()\n",
        "results.summary()"
      ]
    },
    {
      "cell_type": "markdown",
      "metadata": {
        "id": "3r_W2ti0ke88"
      },
      "source": [
        "The first model above with both balance and student show a negative relationship between student and default - meaning that being a student decreases the likelihood of defaulting. The second model shows the opposite, that being a student increases the chance at defaulting. This can be explained by the fact that students have more debt on average but compared to those with the same amount of debt they are less likely to default.\n",
        "\n",
        "上面第一个包含余额和学生的模型显示了学生和违约之间的负相关关系 - 这意味着作为学生会降低违约的可能性。第二个模型显示相反的情况，作为学生会增加违约的机会。这可以解释为，学生平均负债较多，但与负债相同的学生相比，他们违约的可能性较小。"
      ]
    },
    {
      "cell_type": "markdown",
      "metadata": {
        "id": "PXBfTcT1ke88"
      },
      "source": [
        "# Linear Discriminant Analysis 线性判别分析 LDA\n",
        "Not to be confused with latent dirichlet allocation. Used for multiclass classification problems.   LDA assumes all predictor variables come from a gaussian distribution and estimates the mean and variance for each predictor variable where the variance is the same across for each predictor variable. It also estimates a prior probability simply by using the proporton of classes in the training set.\n",
        "\n",
        "不要与潜在狄利克雷分配相混淆。用于多类分类问题。LDA 假设所有预测变量都来自高斯分布，并估计每个预测变量的均值和方差，其中每个预测变量的方差相同。它还仅通过使用训练集中的类别比例来估计先验概率。\n",
        "\n",
        "Bayes rule is used to compute a probability for each class. When there is more than one predictor, a multivariate gaussian is used. Correlations between each predictor must be estimated (the covariance matrix) as they are a parameter to the multivariate gaussian.\n",
        "\n",
        "贝叶斯规则用于计算每个类别的概率。当有多个预测因子时，使用多元高斯。必须估计每个预测因子之间的相关性（协方差矩阵），因为它们是多元高斯的参数。"
      ]
    },
    {
      "cell_type": "markdown",
      "metadata": {
        "id": "N92aWIZCke88"
      },
      "source": [
        "+ Suppose there are $K \\geq 2$ classes.\n",
        "\n",
        "+ Let $\\pi_k$ be the overall/prior probability that a randomly chosen observation comes from the $k$th class.\n",
        "\n",
        "+ Let  $\\, f_k(x) \\equiv P(X=x \\,|\\,  Y=k)$  denote the density function of $X$ for an obs that comes from the $k$th class.\n",
        "\n",
        "Then **Bayes theorem** states that\n",
        "$$P(Y=k \\, | \\, X=x ) = \\dfrac{\\pi_k f_k(x)}{\\sum_{l=1}^K{\\pi_l f_l(x)}}$$\n",
        "\n",
        "+ 假设有 $K \\geq 2$ 个类。\n",
        "\n",
        "+ 令 $\\pi_k$ 为随机选择的观测值来自第 $k$ 个类的总体/先验概率。\n",
        "\n",
        "+ 令 $\\, f_k(x) \\equiv P(X=x \\,|\\, Y=k)$ 表示来自第 $k$ 个类的观测值的 $X$ 密度函数。\n",
        "\n",
        "然后 **贝叶斯定理** 指出\n",
        "$$P(Y=k \\, | \\, X=x ) = \\dfrac{\\pi_k f_k(x)}{\\sum_{l=1}^K{\\pi_l f_l(x)}}$$"
      ]
    },
    {
      "cell_type": "markdown",
      "metadata": {
        "id": "T7Nr1MKGke88"
      },
      "source": [
        "Here we will use $p_k(x) = P(Y=k \\, | \\, X=x)$ which is the posterior probability that an observation\n",
        "$X = x$ belongs to the $k$th class.\n",
        "\n",
        "+ Estimating $\\pi_k$ is easy if we have a random sample of $Y$ from the population.\n",
        "\n",
        "+ Estimating $f_k(x)$ is challenging, hence we assume some simple forms for these densities.\n",
        "\n",
        "这里我们将使用 $p_k(x) = P(Y=k \\, | \\, X=x)$，它是观测值\n",
        "$X = x$ 属于第 $k$ 类的后验概率。\n",
        "\n",
        "+ 如果我们有来自总体的随机 $Y$ 样本，则估计 $\\pi_k$ 很容易。\n",
        "\n",
        "+ 估计 $f_k(x)$ 具有挑战性，因此我们假设这些密度有一些简单的形式。"
      ]
    },
    {
      "cell_type": "markdown",
      "metadata": {
        "id": "EeTiym7gke88"
      },
      "source": [
        "### LDA for one predictor, $p=1$  （一个预测因子的 LDA，$p=1$）\n",
        "\n",
        "+ Assume that $f_k(x)$ is normal/Gaussian,\n",
        "$$f_k(x) = \\frac{1}{\\sqrt{2 \\pi}\\sigma_k} \\exp \\left( -\\frac{1}{2 \\sigma_k^2} (x - \\mu_k)^2\\right)$$\n",
        " where $\\mu_k$ and $\\sigma^2_k$ are the mean and variance for the $k$th class.\n",
        "\n",
        "+ Assume for now, $\\sigma^2_1 = \\ldots = \\sigma^2_K = \\sigma^2$.\n",
        "\n",
        "+ Hence,\n",
        "$$p_k(x) = \\dfrac{\\pi_k \\frac{1}{\\sqrt{2 \\pi}\\sigma} \\exp \\left( -\\frac{1}{2 \\sigma^2} (x - \\mu_k)^2\\right)}{\\sum_{l=1}^K{\\pi_l \\frac{1}{\\sqrt{2 \\pi}\\sigma} \\exp \\left( -\\frac{1}{2 \\sigma^2} (x - \\mu_l)^2\\right)}}$$\n",
        "\n",
        "+ Taking the log and rearranging the terms, this is equivalent to assigning the observation to the class for which\n",
        "$$\\delta_k(x) = x \\cdot \\frac{\\mu_k}{\\sigma^2} - \\frac{\\mu_k^2}{2\\sigma^2} + \\log(\\pi_k)$$\n",
        "is largest.\n",
        "\n",
        "+ If $K=2$ and $\\pi_1 = \\pi_2$, then the Bayes classifier assigns an observation to class 1 if $$2x(\\mu_1 - \\mu_2) > \\mu_1^2 - \\mu_2^2$$ and to class 2 if otherwise. The Bayes decision boundary is the points where $$x = \\frac{\\mu_1^2 - \\mu_2^2}{2(\\mu_1 - \\mu_2)} = \\frac{\\mu_1 + \\mu_2}{2}$$\n",
        "\n",
        "+ 假设 $f_k(x)$ 是正态/高斯分布，\n",
        "$$f_k(x) = \\frac{1}{\\sqrt{2 \\pi}\\sigma_k} \\exp \\left( -\\frac{1}{2 \\sigma_k^2} (x - \\mu_k)^2\\right)$$\n",
        "其中 $\\mu_k$ 和 $\\sigma^2_k$ 分别是第 $k$ 类的均值和方差。\n",
        "\n",
        "+ 假设现在，$\\sigma^2_1 = \\ldots = \\sigma^2_K = \\sigma^2$。\n",
        "\n",
        "+ 因此，\n",
        "$$p_k(x) = \\dfrac{\\pi_k \\frac{1}{\\sqrt{2 \\pi}\\sigma} \\exp \\left( -\\frac{1}{2 \\sigma^2} (x - \\mu_k)^2\\right)}{\\sum_{l=1}^K{\\pi_l \\frac{1}{\\sqrt{2 \\pi}\\sigma} \\exp \\left( -\\frac{1}{2 \\sigma^2} (x - \\mu_l)^2\\right)}}$$\n",
        "\n",
        "+ 取对数并重新排列项，这相当于将观察结果分配给以下类：\n",
        "$$\\delta_k(x) = x \\cdot \\frac{\\mu_k}{\\sigma^2} - \\frac{\\mu_k^2}{2\\sigma^2} + \\log(\\pi_k)$$\n",
        "最大。\n",
        "\n",
        "+ 如果 $K=2$ 且 $\\pi_1 = \\pi_2$，则贝叶斯分类器在 $$2x(\\mu_1 - \\mu_2) > \\mu_1^2 - \\mu_2^2$$ 时将观测值分配给第 1 类，否则将观测值分配给第 2 类。贝叶斯决策边界是 $$x = \\frac{\\mu_1^2 - \\mu_2^2}{2(\\mu_1 - \\mu_2)} = \\frac{\\mu_1 + \\mu_2}{2}$$ 处的点\n",
        "\n"
      ]
    },
    {
      "cell_type": "markdown",
      "metadata": {
        "id": "ETLh5Ftike89"
      },
      "source": [
        "#### Example\n",
        "+ 2 classes\n",
        "+ $\\mu_1 = -1.25$, $\\mu_2 = 1.25$ and $\\sigma_1^2 = \\sigma_2^2 = 1$.\n",
        "+ Assume $\\pi_1 = \\pi_2 = 0.5$\n",
        "+ Class 1: $x<0$\n",
        "+ Class 2: $x>0$"
      ]
    },
    {
      "cell_type": "code",
      "execution_count": null,
      "metadata": {
        "id": "-0VBVNLWke89"
      },
      "outputs": [],
      "source": [
        "from IPython.display import Image\n",
        "Image('images/p1.png', width =400)"
      ]
    },
    {
      "cell_type": "markdown",
      "metadata": {
        "id": "oir5Vok-ke89"
      },
      "source": [
        "+ Through LDA, the following estimates are used:\n",
        "$$\\begin{aligned}\n",
        "    \\hat{\\mu}_k &= \\frac{1}{n_k}\\sum_{i:y_i = k}{x_i} \\\\\n",
        "    \\hat{\\sigma}^2 &= \\frac{1}{n-K}\\sum_{k=1}^K{\\sum_{i:y_i = k}{(x_i - \\hat{\\mu}_k)^2}}\n",
        "\\end{aligned}$$\n",
        "+ $n$ - total number of training observations\n",
        "+ $n_k$ - number of training observations in the $k$th class\n",
        "+ Without prior knowledge, LDA estimates of $\\pi_k$ are\n",
        "    $$\\hat{\\pi}_k = \\frac{n_k}{n}$$\n",
        "+ Hence, an observation is assign to the class for which the **discriminant function**\n",
        "$$\\hat{\\delta}_k(x) = x \\cdot \\frac{\\hat{\\mu}_k}{\\hat{\\sigma}^2} - \\frac{\\hat{\\mu}_k^2}{2\\hat{\\sigma}^2} + \\log(\\hat{\\pi}_k)$$\n",
        "is largest.\n",
        "\n",
        "+ 通过 LDA，使用以下估计值：\n",
        "$$\\begin{aligned}\n",
        "\\hat{\\mu}_k &= \\frac{1}{n_k}\\sum_{i:y_i = k}{x_i} \\\\\n",
        "\\hat{\\sigma}^2 &= \\frac{1}{n-K}\\sum_{k=1}^K{\\sum_{i:y_i = k}{(x_i - \\hat{\\mu}_k)^2}}\n",
        "\\end{aligned}$$\n",
        "+ $n$ - 训练观测总数\n",
        "+ $n_k$ - 第 $k$ 个类中的训练观测数\n",
        "+ 在没有先验知识的情况下，LDA 对 $\\pi_k$ 的估计为\n",
        "$$\\hat{\\pi}_k = \\frac{n_k}{n}$$\n",
        "+ 因此，将观测值分配给**判别函数**对应的类\n",
        "$$\\hat{\\delta}_k(x) = x \\cdot \\frac{\\hat{\\mu}_k}{\\hat{\\sigma}^2} - \\frac{\\hat{\\mu}_k^2}{2\\hat{\\sigma}^2} + \\log(\\hat{\\pi}_k)$$\n",
        "最大。"
      ]
    },
    {
      "cell_type": "markdown",
      "metadata": {
        "id": "KpDdt7SJke89"
      },
      "source": [
        "#### Example (cont.)\n",
        "+ 20 observations were drawn from each of the two classes, and are shown as histograms.\n",
        "+ Dashed vertical line - Bayes decision boundary\n",
        "+ Solid vertical line - LDA decision boundary\n",
        "\n",
        "+ 从两个类别中各抽取了 20 个观察值，并以直方图形式显示。\n",
        "+ 虚线垂直线 - 贝叶斯决策边界\n",
        "+ 实线垂直线 - LDA 决策边界"
      ]
    },
    {
      "cell_type": "code",
      "execution_count": null,
      "metadata": {
        "scrolled": false,
        "id": "9ikH8eNjke89"
      },
      "outputs": [],
      "source": [
        "Image('images/p2.png', width =400)"
      ]
    },
    {
      "cell_type": "markdown",
      "metadata": {
        "id": "H3AMsdG9ke89"
      },
      "source": [
        "### LDA for $p>1$\n",
        "+ Assume $X = (X_1, X_2, \\ldots, X_p)$ is drawn from a multivariate Gaussian distribution.\n",
        "+ The density function is defined as\n",
        "$$f(x) = \\frac{1}{(2\\pi)^{p/2}|\\mathbf{\\Sigma}|^{1/2}} \\exp \\left( -\\frac{1}{2}(x-\\mu)^T \\mathbf{\\Sigma}^{-1} (x-\\mu) \\right)$$\n",
        " where $\\mu_k$ is a class-specific mean vector and $\\mathbf{\\Sigma}$ is a covariance matrix that is common to all K classes.\n",
        "+ The Bayes classifier assigns an observation $X = x$ to the class for which\n",
        "$$\\delta_k(x) = x^T \\mathbf{\\Sigma}^{-1} \\mu_k - \\frac{1}{2} \\mu_k^T \\mathbf{\\Sigma}^{-1}\\mu_k + \\log{\\pi_k}$$\n",
        "is largest.\n",
        "\n",
        "+ 假设 $X = (X_1, X_2, \\ldots, X_p)$ 取自多元高斯分布。\n",
        "+ 密度函数定义为\n",
        "$$f(x) = \\frac{1}{(2\\pi)^{p/2}|\\mathbf{\\Sigma}|^{1/2}} \\exp \\left( -\\frac{1}{2}(x-\\mu)^T \\mathbf{\\Sigma}^{-1} (x-\\mu) \\right)$$\n",
        "其中 $\\mu_k$ 是类特定的均值向量，$\\mathbf{\\Sigma}$ 是所有 K 个类共有的协方差矩阵。\n",
        "+ 贝叶斯分类器将观测值 $X = x$ 分配给\n",
        "$$\\delta_k(x) = x^T \\mathbf{\\Sigma}^{-1} \\mu_k - \\frac{1}{2} \\mu_k^T \\mathbf{\\Sigma}^{-1}\\mu_k + \\log{\\pi_k}$$\n",
        "最大的类。"
      ]
    },
    {
      "cell_type": "markdown",
      "metadata": {
        "id": "YzFpIrUVke89"
      },
      "source": [
        "#### Example\n",
        "+ 3 equally sized Gaussian classes, with class-specific mean vectors and a common covariance matrix.\n",
        "+ Two predictors, $p=2$.\n",
        "+ 20 observations from each class.\n",
        "+ 3 个大小相同的高斯类，具有类特定的均值向量和一个公共协方差矩阵。\n",
        "+ 两个预测因子，$p=2$。\n",
        "+ 每个类有 20 个观测值。"
      ]
    },
    {
      "cell_type": "code",
      "execution_count": null,
      "metadata": {
        "scrolled": true,
        "id": "y2OeRhaqke89"
      },
      "outputs": [],
      "source": [
        "Image('images/p3.png', width =800)"
      ]
    },
    {
      "cell_type": "code",
      "execution_count": null,
      "metadata": {
        "scrolled": true,
        "id": "4dmoCI6eke89",
        "colab": {
          "base_uri": "https://localhost:8080/",
          "height": 74
        },
        "outputId": "815af5fc-e8d0-4b7b-86fc-1d0c3b6e39f3"
      },
      "outputs": [
        {
          "output_type": "execute_result",
          "data": {
            "text/plain": [
              "LinearDiscriminantAnalysis()"
            ],
            "text/html": [
              "<style>#sk-container-id-1 {color: black;background-color: white;}#sk-container-id-1 pre{padding: 0;}#sk-container-id-1 div.sk-toggleable {background-color: white;}#sk-container-id-1 label.sk-toggleable__label {cursor: pointer;display: block;width: 100%;margin-bottom: 0;padding: 0.3em;box-sizing: border-box;text-align: center;}#sk-container-id-1 label.sk-toggleable__label-arrow:before {content: \"▸\";float: left;margin-right: 0.25em;color: #696969;}#sk-container-id-1 label.sk-toggleable__label-arrow:hover:before {color: black;}#sk-container-id-1 div.sk-estimator:hover label.sk-toggleable__label-arrow:before {color: black;}#sk-container-id-1 div.sk-toggleable__content {max-height: 0;max-width: 0;overflow: hidden;text-align: left;background-color: #f0f8ff;}#sk-container-id-1 div.sk-toggleable__content pre {margin: 0.2em;color: black;border-radius: 0.25em;background-color: #f0f8ff;}#sk-container-id-1 input.sk-toggleable__control:checked~div.sk-toggleable__content {max-height: 200px;max-width: 100%;overflow: auto;}#sk-container-id-1 input.sk-toggleable__control:checked~label.sk-toggleable__label-arrow:before {content: \"▾\";}#sk-container-id-1 div.sk-estimator input.sk-toggleable__control:checked~label.sk-toggleable__label {background-color: #d4ebff;}#sk-container-id-1 div.sk-label input.sk-toggleable__control:checked~label.sk-toggleable__label {background-color: #d4ebff;}#sk-container-id-1 input.sk-hidden--visually {border: 0;clip: rect(1px 1px 1px 1px);clip: rect(1px, 1px, 1px, 1px);height: 1px;margin: -1px;overflow: hidden;padding: 0;position: absolute;width: 1px;}#sk-container-id-1 div.sk-estimator {font-family: monospace;background-color: #f0f8ff;border: 1px dotted black;border-radius: 0.25em;box-sizing: border-box;margin-bottom: 0.5em;}#sk-container-id-1 div.sk-estimator:hover {background-color: #d4ebff;}#sk-container-id-1 div.sk-parallel-item::after {content: \"\";width: 100%;border-bottom: 1px solid gray;flex-grow: 1;}#sk-container-id-1 div.sk-label:hover label.sk-toggleable__label {background-color: #d4ebff;}#sk-container-id-1 div.sk-serial::before {content: \"\";position: absolute;border-left: 1px solid gray;box-sizing: border-box;top: 0;bottom: 0;left: 50%;z-index: 0;}#sk-container-id-1 div.sk-serial {display: flex;flex-direction: column;align-items: center;background-color: white;padding-right: 0.2em;padding-left: 0.2em;position: relative;}#sk-container-id-1 div.sk-item {position: relative;z-index: 1;}#sk-container-id-1 div.sk-parallel {display: flex;align-items: stretch;justify-content: center;background-color: white;position: relative;}#sk-container-id-1 div.sk-item::before, #sk-container-id-1 div.sk-parallel-item::before {content: \"\";position: absolute;border-left: 1px solid gray;box-sizing: border-box;top: 0;bottom: 0;left: 50%;z-index: -1;}#sk-container-id-1 div.sk-parallel-item {display: flex;flex-direction: column;z-index: 1;position: relative;background-color: white;}#sk-container-id-1 div.sk-parallel-item:first-child::after {align-self: flex-end;width: 50%;}#sk-container-id-1 div.sk-parallel-item:last-child::after {align-self: flex-start;width: 50%;}#sk-container-id-1 div.sk-parallel-item:only-child::after {width: 0;}#sk-container-id-1 div.sk-dashed-wrapped {border: 1px dashed gray;margin: 0 0.4em 0.5em 0.4em;box-sizing: border-box;padding-bottom: 0.4em;background-color: white;}#sk-container-id-1 div.sk-label label {font-family: monospace;font-weight: bold;display: inline-block;line-height: 1.2em;}#sk-container-id-1 div.sk-label-container {text-align: center;}#sk-container-id-1 div.sk-container {/* jupyter's `normalize.less` sets `[hidden] { display: none; }` but bootstrap.min.css set `[hidden] { display: none !important; }` so we also need the `!important` here to be able to override the default hidden behavior on the sphinx rendered scikit-learn.org. See: https://github.com/scikit-learn/scikit-learn/issues/21755 */display: inline-block !important;position: relative;}#sk-container-id-1 div.sk-text-repr-fallback {display: none;}</style><div id=\"sk-container-id-1\" class=\"sk-top-container\"><div class=\"sk-text-repr-fallback\"><pre>LinearDiscriminantAnalysis()</pre><b>In a Jupyter environment, please rerun this cell to show the HTML representation or trust the notebook. <br />On GitHub, the HTML representation is unable to render, please try loading this page with nbviewer.org.</b></div><div class=\"sk-container\" hidden><div class=\"sk-item\"><div class=\"sk-estimator sk-toggleable\"><input class=\"sk-toggleable__control sk-hidden--visually\" id=\"sk-estimator-id-1\" type=\"checkbox\" checked><label for=\"sk-estimator-id-1\" class=\"sk-toggleable__label sk-toggleable__label-arrow\">LinearDiscriminantAnalysis</label><div class=\"sk-toggleable__content\"><pre>LinearDiscriminantAnalysis()</pre></div></div></div></div></div>"
            ]
          },
          "metadata": {},
          "execution_count": 3
        }
      ],
      "source": [
        "from sklearn.discriminant_analysis import LinearDiscriminantAnalysis\n",
        "X = np.array([[-1, -1], [-2, -1], [-3, -2], [1, 1], [2, 1], [3, 2]])\n",
        "y = np.array([1, 1, 1, 2, 2, 2])\n",
        "lda = LinearDiscriminantAnalysis()\n",
        "lda.fit(X, y)"
      ]
    },
    {
      "cell_type": "code",
      "execution_count": null,
      "metadata": {
        "id": "wQIy63Ywke8-"
      },
      "outputs": [],
      "source": [
        "from sklearn.metrics import confusion_matrix"
      ]
    },
    {
      "cell_type": "code",
      "execution_count": null,
      "metadata": {
        "id": "cyYpZemKke8-",
        "colab": {
          "base_uri": "https://localhost:8080/"
        },
        "outputId": "d8b99cd0-413d-48f2-c072-178bd16b4218"
      },
      "outputs": [
        {
          "output_type": "execute_result",
          "data": {
            "text/plain": [
              "array([[3, 0],\n",
              "       [0, 3]])"
            ]
          },
          "metadata": {},
          "execution_count": 5
        }
      ],
      "source": [
        "confusion_matrix(y, lda.predict(X))"
      ]
    },
    {
      "cell_type": "code",
      "execution_count": null,
      "metadata": {
        "scrolled": true,
        "id": "l9owrcKake8-",
        "colab": {
          "base_uri": "https://localhost:8080/"
        },
        "outputId": "2b140ab8-77a6-4e7a-e160-8d6a08ee0f48"
      },
      "outputs": [
        {
          "output_type": "stream",
          "name": "stdout",
          "text": [
            "[1]\n"
          ]
        }
      ],
      "source": [
        "print(lda.predict([[-0.8, -1]]))"
      ]
    },
    {
      "cell_type": "markdown",
      "metadata": {
        "id": "9cx2kp_bke8-"
      },
      "source": [
        "#### Example: Default Data"
      ]
    },
    {
      "cell_type": "code",
      "execution_count": null,
      "metadata": {
        "id": "gtTm9X12ke8-"
      },
      "outputs": [],
      "source": [
        "default = pd.read_csv(\"/content/default.csv\")\n"
      ]
    },
    {
      "cell_type": "code",
      "execution_count": null,
      "metadata": {
        "id": "tjJ1V1MTke8-"
      },
      "outputs": [],
      "source": [
        "default['Yes'] = (default['default'] == 'Yes').astype(int)\n",
        "default['St'] = (default['student'] == 'Yes').astype(int)"
      ]
    },
    {
      "cell_type": "code",
      "execution_count": null,
      "metadata": {
        "id": "EW-jM8vEke8-"
      },
      "outputs": [],
      "source": [
        "X=default[['St', 'balance']].values\n",
        "y=default['Yes'].values"
      ]
    },
    {
      "cell_type": "code",
      "execution_count": null,
      "metadata": {
        "id": "mgLqjkArke8-",
        "colab": {
          "base_uri": "https://localhost:8080/"
        },
        "outputId": "23998b2a-1d54-44fa-c4f9-e26f44908689"
      },
      "outputs": [
        {
          "output_type": "execute_result",
          "data": {
            "text/plain": [
              "array([[0.00000000e+00, 7.29526495e+02],\n",
              "       [1.00000000e+00, 8.17180407e+02],\n",
              "       [0.00000000e+00, 1.07354916e+03],\n",
              "       ...,\n",
              "       [0.00000000e+00, 8.45411989e+02],\n",
              "       [0.00000000e+00, 1.56900905e+03],\n",
              "       [1.00000000e+00, 2.00922183e+02]])"
            ]
          },
          "metadata": {},
          "execution_count": 10
        }
      ],
      "source": [
        "X"
      ]
    },
    {
      "cell_type": "code",
      "execution_count": null,
      "metadata": {
        "id": "QkO2oA2Oke8-",
        "colab": {
          "base_uri": "https://localhost:8080/",
          "height": 74
        },
        "outputId": "a6b30476-3f5b-4758-aae0-f2e4a491ee59"
      },
      "outputs": [
        {
          "output_type": "execute_result",
          "data": {
            "text/plain": [
              "LinearDiscriminantAnalysis()"
            ],
            "text/html": [
              "<style>#sk-container-id-2 {color: black;background-color: white;}#sk-container-id-2 pre{padding: 0;}#sk-container-id-2 div.sk-toggleable {background-color: white;}#sk-container-id-2 label.sk-toggleable__label {cursor: pointer;display: block;width: 100%;margin-bottom: 0;padding: 0.3em;box-sizing: border-box;text-align: center;}#sk-container-id-2 label.sk-toggleable__label-arrow:before {content: \"▸\";float: left;margin-right: 0.25em;color: #696969;}#sk-container-id-2 label.sk-toggleable__label-arrow:hover:before {color: black;}#sk-container-id-2 div.sk-estimator:hover label.sk-toggleable__label-arrow:before {color: black;}#sk-container-id-2 div.sk-toggleable__content {max-height: 0;max-width: 0;overflow: hidden;text-align: left;background-color: #f0f8ff;}#sk-container-id-2 div.sk-toggleable__content pre {margin: 0.2em;color: black;border-radius: 0.25em;background-color: #f0f8ff;}#sk-container-id-2 input.sk-toggleable__control:checked~div.sk-toggleable__content {max-height: 200px;max-width: 100%;overflow: auto;}#sk-container-id-2 input.sk-toggleable__control:checked~label.sk-toggleable__label-arrow:before {content: \"▾\";}#sk-container-id-2 div.sk-estimator input.sk-toggleable__control:checked~label.sk-toggleable__label {background-color: #d4ebff;}#sk-container-id-2 div.sk-label input.sk-toggleable__control:checked~label.sk-toggleable__label {background-color: #d4ebff;}#sk-container-id-2 input.sk-hidden--visually {border: 0;clip: rect(1px 1px 1px 1px);clip: rect(1px, 1px, 1px, 1px);height: 1px;margin: -1px;overflow: hidden;padding: 0;position: absolute;width: 1px;}#sk-container-id-2 div.sk-estimator {font-family: monospace;background-color: #f0f8ff;border: 1px dotted black;border-radius: 0.25em;box-sizing: border-box;margin-bottom: 0.5em;}#sk-container-id-2 div.sk-estimator:hover {background-color: #d4ebff;}#sk-container-id-2 div.sk-parallel-item::after {content: \"\";width: 100%;border-bottom: 1px solid gray;flex-grow: 1;}#sk-container-id-2 div.sk-label:hover label.sk-toggleable__label {background-color: #d4ebff;}#sk-container-id-2 div.sk-serial::before {content: \"\";position: absolute;border-left: 1px solid gray;box-sizing: border-box;top: 0;bottom: 0;left: 50%;z-index: 0;}#sk-container-id-2 div.sk-serial {display: flex;flex-direction: column;align-items: center;background-color: white;padding-right: 0.2em;padding-left: 0.2em;position: relative;}#sk-container-id-2 div.sk-item {position: relative;z-index: 1;}#sk-container-id-2 div.sk-parallel {display: flex;align-items: stretch;justify-content: center;background-color: white;position: relative;}#sk-container-id-2 div.sk-item::before, #sk-container-id-2 div.sk-parallel-item::before {content: \"\";position: absolute;border-left: 1px solid gray;box-sizing: border-box;top: 0;bottom: 0;left: 50%;z-index: -1;}#sk-container-id-2 div.sk-parallel-item {display: flex;flex-direction: column;z-index: 1;position: relative;background-color: white;}#sk-container-id-2 div.sk-parallel-item:first-child::after {align-self: flex-end;width: 50%;}#sk-container-id-2 div.sk-parallel-item:last-child::after {align-self: flex-start;width: 50%;}#sk-container-id-2 div.sk-parallel-item:only-child::after {width: 0;}#sk-container-id-2 div.sk-dashed-wrapped {border: 1px dashed gray;margin: 0 0.4em 0.5em 0.4em;box-sizing: border-box;padding-bottom: 0.4em;background-color: white;}#sk-container-id-2 div.sk-label label {font-family: monospace;font-weight: bold;display: inline-block;line-height: 1.2em;}#sk-container-id-2 div.sk-label-container {text-align: center;}#sk-container-id-2 div.sk-container {/* jupyter's `normalize.less` sets `[hidden] { display: none; }` but bootstrap.min.css set `[hidden] { display: none !important; }` so we also need the `!important` here to be able to override the default hidden behavior on the sphinx rendered scikit-learn.org. See: https://github.com/scikit-learn/scikit-learn/issues/21755 */display: inline-block !important;position: relative;}#sk-container-id-2 div.sk-text-repr-fallback {display: none;}</style><div id=\"sk-container-id-2\" class=\"sk-top-container\"><div class=\"sk-text-repr-fallback\"><pre>LinearDiscriminantAnalysis()</pre><b>In a Jupyter environment, please rerun this cell to show the HTML representation or trust the notebook. <br />On GitHub, the HTML representation is unable to render, please try loading this page with nbviewer.org.</b></div><div class=\"sk-container\" hidden><div class=\"sk-item\"><div class=\"sk-estimator sk-toggleable\"><input class=\"sk-toggleable__control sk-hidden--visually\" id=\"sk-estimator-id-2\" type=\"checkbox\" checked><label for=\"sk-estimator-id-2\" class=\"sk-toggleable__label sk-toggleable__label-arrow\">LinearDiscriminantAnalysis</label><div class=\"sk-toggleable__content\"><pre>LinearDiscriminantAnalysis()</pre></div></div></div></div></div>"
            ]
          },
          "metadata": {},
          "execution_count": 11
        }
      ],
      "source": [
        "lda.fit(X,y)"
      ]
    },
    {
      "cell_type": "code",
      "execution_count": null,
      "metadata": {
        "scrolled": false,
        "id": "pwOB5mG8ke8_",
        "colab": {
          "base_uri": "https://localhost:8080/"
        },
        "outputId": "174cb1a7-4475-4872-cee9-47aa429ce993"
      },
      "outputs": [
        {
          "output_type": "execute_result",
          "data": {
            "text/plain": [
              "array([[9644,   23],\n",
              "       [ 252,   81]])"
            ]
          },
          "metadata": {},
          "execution_count": 12
        }
      ],
      "source": [
        "confusion_matrix(y,lda.predict(X))"
      ]
    },
    {
      "cell_type": "code",
      "execution_count": null,
      "metadata": {
        "scrolled": true,
        "id": "XezL1O_uke8_"
      },
      "outputs": [],
      "source": [
        "Image('images/p4.png', width =400)"
      ]
    },
    {
      "cell_type": "markdown",
      "metadata": {
        "id": "8NN2ZzjCke8_"
      },
      "source": [
        "##### Confusion matrix 混淆矩阵\n",
        "+ LDA predicted that a total of 104 people would default.\n",
        "+ 81 actually defaulted and 23 did not.\n",
        "+ Only 23 out of 9667 of the individuals who did not default were incorrectly labeled\n",
        "+ However, of the 333 individuals who defaulted, 252 (or 75.7%) were missed by LDA.\n",
        "+ Even though the overall error rate is low, the error rate among individuals who defaulted is very high.\n",
        "\n",
        "+ **Sensitivity** is the percentage of true defaulters that are identified (81/333 = 24.3%).\n",
        "+ **Specificity** is the percentage of non-defaulters that are correctly identified (9644/9667 = 99.8%).\n",
        "+ LDA have a low sensitivity and high specificity. This is because LDA try to yield the smallest total error.\n",
        "+ This is because, Bayes classifier assign an observation to the class for which the posterior probability, $p_k(X)$ is greatest.\n",
        "+ LDA 预测总共有 104 人会违约。\n",
        "+ 81 人实际上违约，23 人没有违约。\n",
        "+ 在 9667 名未违约的个人中，只有 23 人被错误标记\n",
        "+ 但是，在 333 名违约的个人中，LDA 漏掉了 252 名（或 75.7%）。\n",
        "+ 尽管总体错误率很低，但违约个人的错误率非常高。\n",
        "\n",
        "+ **灵敏度** 是被识别的真正违约者的百分比（81/333 = 24.3%）。\n",
        "+ **特异性** 是被正确识别的非违约者的百分比（9644/9667 = 99.8%）。\n",
        "+ LDA 具有低灵敏度和高特异性。这是因为 LDA 试图产生最小的总误差。\n",
        "+ 这是因为，贝叶斯分类器将观察值分配给后验概率 $p_k(X)$ 最大的类。\n"
      ]
    },
    {
      "cell_type": "markdown",
      "metadata": {
        "id": "e24HQMQike8_"
      },
      "source": [
        "+ For two class case, an observation is assign to the *default* class if\n",
        "$$P(\\textrm{default = Yes} \\, | \\, X=x) >0.5 $$\n",
        "+ The threshold value (0.5) can be lowered or increased (Set by domain expert). For example, if we set\n",
        "$$P(\\textrm{default = Yes} \\, | \\, X=x) >0.2 $$"
      ]
    },
    {
      "cell_type": "code",
      "execution_count": null,
      "metadata": {
        "id": "Fksbn5Like8_",
        "colab": {
          "base_uri": "https://localhost:8080/"
        },
        "outputId": "889fb728-9982-496a-c78c-8860eacaeb15"
      },
      "outputs": [
        {
          "output_type": "execute_result",
          "data": {
            "text/plain": [
              "array([[9496,  171],\n",
              "       [ 156,  177]])"
            ]
          },
          "metadata": {},
          "execution_count": 13
        }
      ],
      "source": [
        "lda2 = LinearDiscriminantAnalysis(priors=[0.9,0.1])\n",
        "lda2.fit(X,y)\n",
        "confusion_matrix(y,lda2.predict(X))"
      ]
    },
    {
      "cell_type": "code",
      "execution_count": null,
      "metadata": {
        "id": "VZEzE2mhke8_",
        "colab": {
          "base_uri": "https://localhost:8080/"
        },
        "outputId": "cd1db227-4cce-452c-85e3-fefdc527a4bb"
      },
      "outputs": [
        {
          "output_type": "execute_result",
          "data": {
            "text/plain": [
              "array([0.9667, 0.0333])"
            ]
          },
          "metadata": {},
          "execution_count": 14
        }
      ],
      "source": [
        "lda.priors_"
      ]
    },
    {
      "cell_type": "code",
      "execution_count": null,
      "metadata": {
        "scrolled": true,
        "id": "DCGMDAsKke8_"
      },
      "outputs": [],
      "source": [
        "Image('images/p5.png', width =400)"
      ]
    },
    {
      "cell_type": "code",
      "execution_count": null,
      "metadata": {
        "scrolled": true,
        "id": "xIjC5Sa9ke8_"
      },
      "outputs": [],
      "source": [
        "Image('images/p6.png', width =600)"
      ]
    },
    {
      "cell_type": "markdown",
      "metadata": {
        "id": "EURuG248ke8_"
      },
      "source": [
        "+ black solid line - overall error rate\n",
        "+ blue dashed line - the fraction of defaulting customers that are incorrectly classified\n",
        "+ orange dotted line - the fraction of errors among the non-defaulting customers.\n",
        "+ 黑色实线 - 总体错误率\n",
        "+ 蓝色虚线 - 错误分类的违约客户比例\n",
        "+ 橙色虚线 - 非违约客户中的错误比例。"
      ]
    },
    {
      "cell_type": "code",
      "execution_count": null,
      "metadata": {
        "id": "z0ZesCxUke8_",
        "colab": {
          "base_uri": "https://localhost:8080/",
          "height": 74
        },
        "outputId": "157e4338-42d8-49ae-ce77-80f70eb1e7e7"
      },
      "outputs": [
        {
          "output_type": "execute_result",
          "data": {
            "text/plain": [
              "LogisticRegression()"
            ],
            "text/html": [
              "<style>#sk-container-id-3 {color: black;background-color: white;}#sk-container-id-3 pre{padding: 0;}#sk-container-id-3 div.sk-toggleable {background-color: white;}#sk-container-id-3 label.sk-toggleable__label {cursor: pointer;display: block;width: 100%;margin-bottom: 0;padding: 0.3em;box-sizing: border-box;text-align: center;}#sk-container-id-3 label.sk-toggleable__label-arrow:before {content: \"▸\";float: left;margin-right: 0.25em;color: #696969;}#sk-container-id-3 label.sk-toggleable__label-arrow:hover:before {color: black;}#sk-container-id-3 div.sk-estimator:hover label.sk-toggleable__label-arrow:before {color: black;}#sk-container-id-3 div.sk-toggleable__content {max-height: 0;max-width: 0;overflow: hidden;text-align: left;background-color: #f0f8ff;}#sk-container-id-3 div.sk-toggleable__content pre {margin: 0.2em;color: black;border-radius: 0.25em;background-color: #f0f8ff;}#sk-container-id-3 input.sk-toggleable__control:checked~div.sk-toggleable__content {max-height: 200px;max-width: 100%;overflow: auto;}#sk-container-id-3 input.sk-toggleable__control:checked~label.sk-toggleable__label-arrow:before {content: \"▾\";}#sk-container-id-3 div.sk-estimator input.sk-toggleable__control:checked~label.sk-toggleable__label {background-color: #d4ebff;}#sk-container-id-3 div.sk-label input.sk-toggleable__control:checked~label.sk-toggleable__label {background-color: #d4ebff;}#sk-container-id-3 input.sk-hidden--visually {border: 0;clip: rect(1px 1px 1px 1px);clip: rect(1px, 1px, 1px, 1px);height: 1px;margin: -1px;overflow: hidden;padding: 0;position: absolute;width: 1px;}#sk-container-id-3 div.sk-estimator {font-family: monospace;background-color: #f0f8ff;border: 1px dotted black;border-radius: 0.25em;box-sizing: border-box;margin-bottom: 0.5em;}#sk-container-id-3 div.sk-estimator:hover {background-color: #d4ebff;}#sk-container-id-3 div.sk-parallel-item::after {content: \"\";width: 100%;border-bottom: 1px solid gray;flex-grow: 1;}#sk-container-id-3 div.sk-label:hover label.sk-toggleable__label {background-color: #d4ebff;}#sk-container-id-3 div.sk-serial::before {content: \"\";position: absolute;border-left: 1px solid gray;box-sizing: border-box;top: 0;bottom: 0;left: 50%;z-index: 0;}#sk-container-id-3 div.sk-serial {display: flex;flex-direction: column;align-items: center;background-color: white;padding-right: 0.2em;padding-left: 0.2em;position: relative;}#sk-container-id-3 div.sk-item {position: relative;z-index: 1;}#sk-container-id-3 div.sk-parallel {display: flex;align-items: stretch;justify-content: center;background-color: white;position: relative;}#sk-container-id-3 div.sk-item::before, #sk-container-id-3 div.sk-parallel-item::before {content: \"\";position: absolute;border-left: 1px solid gray;box-sizing: border-box;top: 0;bottom: 0;left: 50%;z-index: -1;}#sk-container-id-3 div.sk-parallel-item {display: flex;flex-direction: column;z-index: 1;position: relative;background-color: white;}#sk-container-id-3 div.sk-parallel-item:first-child::after {align-self: flex-end;width: 50%;}#sk-container-id-3 div.sk-parallel-item:last-child::after {align-self: flex-start;width: 50%;}#sk-container-id-3 div.sk-parallel-item:only-child::after {width: 0;}#sk-container-id-3 div.sk-dashed-wrapped {border: 1px dashed gray;margin: 0 0.4em 0.5em 0.4em;box-sizing: border-box;padding-bottom: 0.4em;background-color: white;}#sk-container-id-3 div.sk-label label {font-family: monospace;font-weight: bold;display: inline-block;line-height: 1.2em;}#sk-container-id-3 div.sk-label-container {text-align: center;}#sk-container-id-3 div.sk-container {/* jupyter's `normalize.less` sets `[hidden] { display: none; }` but bootstrap.min.css set `[hidden] { display: none !important; }` so we also need the `!important` here to be able to override the default hidden behavior on the sphinx rendered scikit-learn.org. See: https://github.com/scikit-learn/scikit-learn/issues/21755 */display: inline-block !important;position: relative;}#sk-container-id-3 div.sk-text-repr-fallback {display: none;}</style><div id=\"sk-container-id-3\" class=\"sk-top-container\"><div class=\"sk-text-repr-fallback\"><pre>LogisticRegression()</pre><b>In a Jupyter environment, please rerun this cell to show the HTML representation or trust the notebook. <br />On GitHub, the HTML representation is unable to render, please try loading this page with nbviewer.org.</b></div><div class=\"sk-container\" hidden><div class=\"sk-item\"><div class=\"sk-estimator sk-toggleable\"><input class=\"sk-toggleable__control sk-hidden--visually\" id=\"sk-estimator-id-3\" type=\"checkbox\" checked><label for=\"sk-estimator-id-3\" class=\"sk-toggleable__label sk-toggleable__label-arrow\">LogisticRegression</label><div class=\"sk-toggleable__content\"><pre>LogisticRegression()</pre></div></div></div></div></div>"
            ]
          },
          "metadata": {},
          "execution_count": 22
        }
      ],
      "source": [
        "lr.fit(X,y)"
      ]
    },
    {
      "cell_type": "code",
      "execution_count": null,
      "metadata": {
        "scrolled": false,
        "id": "xaADaiIJke8_",
        "colab": {
          "base_uri": "https://localhost:8080/"
        },
        "outputId": "907c7b2d-d19e-4e51-8ff7-3d6ec59d3135"
      },
      "outputs": [
        {
          "output_type": "execute_result",
          "data": {
            "text/plain": [
              "array([[9628,   39],\n",
              "       [ 228,  105]])"
            ]
          },
          "metadata": {},
          "execution_count": 23
        }
      ],
      "source": [
        "confusion_matrix(y,lr.predict(X))"
      ]
    },
    {
      "cell_type": "markdown",
      "metadata": {
        "id": "aiBXhWeAke9A"
      },
      "source": [
        "#### ROC curve  （ROC 曲线）\n",
        "+ simultaneously display the two types of errors for all possible thresholds.\n",
        "+ The overall performance of a classifier, summarized over all possible thresholds, is given by the area under the (ROC) curve (AUC).\n",
        "+ The larger the AUC the better the classifier.\n",
        "+ True positive rate = sensitivity\n",
        "+ False positive rate = (1 - specifictity)\n",
        "+ 同时显示所有可能阈值的两种错误类型。\n",
        "+ 分类器在所有可能阈值上的总体性能由 (ROC) 曲线下面积 (AUC) 给出。\n",
        "+ AUC 越大，分类器越好。\n",
        "+ 真阳性率 = 敏感度\n",
        "+ 假阳性率 = (1 - 特异性)"
      ]
    },
    {
      "cell_type": "code",
      "execution_count": null,
      "metadata": {
        "id": "3aJ0LH2Kke9A"
      },
      "outputs": [],
      "source": [
        "Image('images/p8.png', width =600)"
      ]
    },
    {
      "cell_type": "code",
      "execution_count": null,
      "metadata": {
        "id": "W31cu8tSke9A"
      },
      "outputs": [],
      "source": [
        "Image('images/p9.png', width =600)"
      ]
    },
    {
      "cell_type": "code",
      "execution_count": null,
      "metadata": {
        "scrolled": false,
        "id": "AwTntuBuke9A"
      },
      "outputs": [],
      "source": [
        "Image('images/p7.png', width =400)"
      ]
    },
    {
      "cell_type": "markdown",
      "metadata": {
        "id": "99Ov0W6jke9A"
      },
      "source": [
        "### QDA\n",
        "+ Same as LDA, QDA assumes the observations from each class are drawn from a Gaussian distribution.\n",
        "+ However, QDA assumes that each class has its own covariance matrix.\n",
        "$$\\begin{aligned}\n",
        "\\delta_k(x) &= -\\frac{1}{2} (x-\\mu_k)^T \\mathbf{\\Sigma}_k^{-1} (x-\\mu_k) - \\frac{1}{2} \\log| \\mathbf{\\Sigma}_k| + \\log{\\pi_k} \\\\\n",
        "&= -\\frac{1}{2} x^T \\mathbf{\\Sigma}_k^{-1} x +  x^T \\mathbf{\\Sigma}_k^{-1} \\mu_k - \\frac{1}{2} \\mu_k^T \\mathbf{\\Sigma}_k^{-1} \\mu_k - \\frac{1}{2} \\log| \\mathbf{\\Sigma}_k| + \\log{\\pi_k}\n",
        "\\end{aligned}$$\n",
        "+ LDA is a much less flexible (lower variance) classifier than QDA\n",
        "\n",
        "+ 与 LDA 相同，QDA 假设每个类的观测值都服从高斯分布。\n",
        "+ 但是，QDA 假设每个类都有自己的协方差矩阵。\n",
        "$$\\begin{aligned}\n",
        "\\delta_k(x) &= -\\frac{1}{2} (x-\\mu_k)^T \\mathbf{\\Sigma}_k^{-1} (x-\\mu_k) - \\frac{1}{2} \\log| \\mathbf{\\Sigma}_k| + \\log{\\pi_k} \\\\\n",
        "&= -\\frac{1}{2} x^T \\mathbf{\\Sigma}_k^{-1} x + x^T \\mathbf{\\Sigma}_k^{-1} \\mu_k - \\frac{1}{2} \\mu_k^T \\mathbf{\\Sigma}_k^{-1} \\mu_k - \\frac{1}{2} \\log| \\mathbf{\\Sigma}_k| + \\log{\\pi_k}\n",
        "\\end{aligned}$$\n",
        "+ LDA 分类器灵活性远低于 QDA（方差较低）\n"
      ]
    },
    {
      "cell_type": "markdown",
      "metadata": {
        "id": "TVr2JuiFke9A"
      },
      "source": [
        "#### Example\n",
        "+ The Bayes (purple dashed), LDA (black dotted), and QDA (green solid)\n",
        "+ Left: Equal covariances\n",
        "+ Right: Not equal covariances"
      ]
    },
    {
      "cell_type": "code",
      "execution_count": null,
      "metadata": {
        "id": "sjCUVsTKke9A"
      },
      "outputs": [],
      "source": [
        "Image('images/p10.png', width =700)"
      ]
    },
    {
      "cell_type": "markdown",
      "metadata": {
        "id": "Pw4KhwQ1ke9A"
      },
      "source": [
        "# Stock market prediciton lab 股市预测实验室\n",
        "This data set consists of:\n",
        "+ percentage returns for the S&P 500 stock index over 1,250 days, from the beginning of 2001 until the end of 2005.\n",
        "+ For each date, we have recorded the percentage returns for each of the five previous trading days, Lag1 through Lag5.\n",
        "+ We have also recorded :\n",
        "    + Volume (the number of shares traded on the previous day, in billions),\n",
        "    + Today (the percentage return on the date in question)\n",
        "    + Direction (whether the market was Up or Down on this date).\n",
        "\n",
        "该数据集包括：\n",
        "+ 标准普尔 500 股票指数从 2001 年初到 2005 年底的 1,250 天内的百分比回报率。\n",
        "+ 对于每个日期，我们都记录了前五个交易日（滞后 1 到滞后 5）的百分比回报率。\n",
        "+ 我们还记录了：\n",
        "    + 交易量（前一天交易的股票数量，以十亿为单位），\n",
        "    + 今天（该日期的百分比回报率）\n",
        "    + 方向（该日期的市场是上涨还是下跌）。"
      ]
    },
    {
      "cell_type": "code",
      "execution_count": null,
      "metadata": {
        "id": "moT8N3dZke9A",
        "colab": {
          "base_uri": "https://localhost:8080/",
          "height": 206
        },
        "outputId": "092ed564-b4d2-4377-e730-bf966a739b52"
      },
      "outputs": [
        {
          "output_type": "execute_result",
          "data": {
            "text/plain": [
              "   Year   Lag1   Lag2   Lag3   Lag4   Lag5  Volume  Today Direction\n",
              "0  2001  0.381 -0.192 -2.624 -1.055  5.010  1.1913  0.959        Up\n",
              "1  2001  0.959  0.381 -0.192 -2.624 -1.055  1.2965  1.032        Up\n",
              "2  2001  1.032  0.959  0.381 -0.192 -2.624  1.4112 -0.623      Down\n",
              "3  2001 -0.623  1.032  0.959  0.381 -0.192  1.2760  0.614        Up\n",
              "4  2001  0.614 -0.623  1.032  0.959  0.381  1.2057  0.213        Up"
            ],
            "text/html": [
              "\n",
              "  <div id=\"df-a8a4357b-f624-44ff-a509-4d67e1be889a\" class=\"colab-df-container\">\n",
              "    <div>\n",
              "<style scoped>\n",
              "    .dataframe tbody tr th:only-of-type {\n",
              "        vertical-align: middle;\n",
              "    }\n",
              "\n",
              "    .dataframe tbody tr th {\n",
              "        vertical-align: top;\n",
              "    }\n",
              "\n",
              "    .dataframe thead th {\n",
              "        text-align: right;\n",
              "    }\n",
              "</style>\n",
              "<table border=\"1\" class=\"dataframe\">\n",
              "  <thead>\n",
              "    <tr style=\"text-align: right;\">\n",
              "      <th></th>\n",
              "      <th>Year</th>\n",
              "      <th>Lag1</th>\n",
              "      <th>Lag2</th>\n",
              "      <th>Lag3</th>\n",
              "      <th>Lag4</th>\n",
              "      <th>Lag5</th>\n",
              "      <th>Volume</th>\n",
              "      <th>Today</th>\n",
              "      <th>Direction</th>\n",
              "    </tr>\n",
              "  </thead>\n",
              "  <tbody>\n",
              "    <tr>\n",
              "      <th>0</th>\n",
              "      <td>2001</td>\n",
              "      <td>0.381</td>\n",
              "      <td>-0.192</td>\n",
              "      <td>-2.624</td>\n",
              "      <td>-1.055</td>\n",
              "      <td>5.010</td>\n",
              "      <td>1.1913</td>\n",
              "      <td>0.959</td>\n",
              "      <td>Up</td>\n",
              "    </tr>\n",
              "    <tr>\n",
              "      <th>1</th>\n",
              "      <td>2001</td>\n",
              "      <td>0.959</td>\n",
              "      <td>0.381</td>\n",
              "      <td>-0.192</td>\n",
              "      <td>-2.624</td>\n",
              "      <td>-1.055</td>\n",
              "      <td>1.2965</td>\n",
              "      <td>1.032</td>\n",
              "      <td>Up</td>\n",
              "    </tr>\n",
              "    <tr>\n",
              "      <th>2</th>\n",
              "      <td>2001</td>\n",
              "      <td>1.032</td>\n",
              "      <td>0.959</td>\n",
              "      <td>0.381</td>\n",
              "      <td>-0.192</td>\n",
              "      <td>-2.624</td>\n",
              "      <td>1.4112</td>\n",
              "      <td>-0.623</td>\n",
              "      <td>Down</td>\n",
              "    </tr>\n",
              "    <tr>\n",
              "      <th>3</th>\n",
              "      <td>2001</td>\n",
              "      <td>-0.623</td>\n",
              "      <td>1.032</td>\n",
              "      <td>0.959</td>\n",
              "      <td>0.381</td>\n",
              "      <td>-0.192</td>\n",
              "      <td>1.2760</td>\n",
              "      <td>0.614</td>\n",
              "      <td>Up</td>\n",
              "    </tr>\n",
              "    <tr>\n",
              "      <th>4</th>\n",
              "      <td>2001</td>\n",
              "      <td>0.614</td>\n",
              "      <td>-0.623</td>\n",
              "      <td>1.032</td>\n",
              "      <td>0.959</td>\n",
              "      <td>0.381</td>\n",
              "      <td>1.2057</td>\n",
              "      <td>0.213</td>\n",
              "      <td>Up</td>\n",
              "    </tr>\n",
              "  </tbody>\n",
              "</table>\n",
              "</div>\n",
              "    <div class=\"colab-df-buttons\">\n",
              "\n",
              "  <div class=\"colab-df-container\">\n",
              "    <button class=\"colab-df-convert\" onclick=\"convertToInteractive('df-a8a4357b-f624-44ff-a509-4d67e1be889a')\"\n",
              "            title=\"Convert this dataframe to an interactive table.\"\n",
              "            style=\"display:none;\">\n",
              "\n",
              "  <svg xmlns=\"http://www.w3.org/2000/svg\" height=\"24px\" viewBox=\"0 -960 960 960\">\n",
              "    <path d=\"M120-120v-720h720v720H120Zm60-500h600v-160H180v160Zm220 220h160v-160H400v160Zm0 220h160v-160H400v160ZM180-400h160v-160H180v160Zm440 0h160v-160H620v160ZM180-180h160v-160H180v160Zm440 0h160v-160H620v160Z\"/>\n",
              "  </svg>\n",
              "    </button>\n",
              "\n",
              "  <style>\n",
              "    .colab-df-container {\n",
              "      display:flex;\n",
              "      gap: 12px;\n",
              "    }\n",
              "\n",
              "    .colab-df-convert {\n",
              "      background-color: #E8F0FE;\n",
              "      border: none;\n",
              "      border-radius: 50%;\n",
              "      cursor: pointer;\n",
              "      display: none;\n",
              "      fill: #1967D2;\n",
              "      height: 32px;\n",
              "      padding: 0 0 0 0;\n",
              "      width: 32px;\n",
              "    }\n",
              "\n",
              "    .colab-df-convert:hover {\n",
              "      background-color: #E2EBFA;\n",
              "      box-shadow: 0px 1px 2px rgba(60, 64, 67, 0.3), 0px 1px 3px 1px rgba(60, 64, 67, 0.15);\n",
              "      fill: #174EA6;\n",
              "    }\n",
              "\n",
              "    .colab-df-buttons div {\n",
              "      margin-bottom: 4px;\n",
              "    }\n",
              "\n",
              "    [theme=dark] .colab-df-convert {\n",
              "      background-color: #3B4455;\n",
              "      fill: #D2E3FC;\n",
              "    }\n",
              "\n",
              "    [theme=dark] .colab-df-convert:hover {\n",
              "      background-color: #434B5C;\n",
              "      box-shadow: 0px 1px 3px 1px rgba(0, 0, 0, 0.15);\n",
              "      filter: drop-shadow(0px 1px 2px rgba(0, 0, 0, 0.3));\n",
              "      fill: #FFFFFF;\n",
              "    }\n",
              "  </style>\n",
              "\n",
              "    <script>\n",
              "      const buttonEl =\n",
              "        document.querySelector('#df-a8a4357b-f624-44ff-a509-4d67e1be889a button.colab-df-convert');\n",
              "      buttonEl.style.display =\n",
              "        google.colab.kernel.accessAllowed ? 'block' : 'none';\n",
              "\n",
              "      async function convertToInteractive(key) {\n",
              "        const element = document.querySelector('#df-a8a4357b-f624-44ff-a509-4d67e1be889a');\n",
              "        const dataTable =\n",
              "          await google.colab.kernel.invokeFunction('convertToInteractive',\n",
              "                                                    [key], {});\n",
              "        if (!dataTable) return;\n",
              "\n",
              "        const docLinkHtml = 'Like what you see? Visit the ' +\n",
              "          '<a target=\"_blank\" href=https://colab.research.google.com/notebooks/data_table.ipynb>data table notebook</a>'\n",
              "          + ' to learn more about interactive tables.';\n",
              "        element.innerHTML = '';\n",
              "        dataTable['output_type'] = 'display_data';\n",
              "        await google.colab.output.renderOutput(dataTable, element);\n",
              "        const docLink = document.createElement('div');\n",
              "        docLink.innerHTML = docLinkHtml;\n",
              "        element.appendChild(docLink);\n",
              "      }\n",
              "    </script>\n",
              "  </div>\n",
              "\n",
              "\n",
              "<div id=\"df-94eccd0b-ed40-4012-8490-fcde2a96888a\">\n",
              "  <button class=\"colab-df-quickchart\" onclick=\"quickchart('df-94eccd0b-ed40-4012-8490-fcde2a96888a')\"\n",
              "            title=\"Suggest charts\"\n",
              "            style=\"display:none;\">\n",
              "\n",
              "<svg xmlns=\"http://www.w3.org/2000/svg\" height=\"24px\"viewBox=\"0 0 24 24\"\n",
              "     width=\"24px\">\n",
              "    <g>\n",
              "        <path d=\"M19 3H5c-1.1 0-2 .9-2 2v14c0 1.1.9 2 2 2h14c1.1 0 2-.9 2-2V5c0-1.1-.9-2-2-2zM9 17H7v-7h2v7zm4 0h-2V7h2v10zm4 0h-2v-4h2v4z\"/>\n",
              "    </g>\n",
              "</svg>\n",
              "  </button>\n",
              "\n",
              "<style>\n",
              "  .colab-df-quickchart {\n",
              "      --bg-color: #E8F0FE;\n",
              "      --fill-color: #1967D2;\n",
              "      --hover-bg-color: #E2EBFA;\n",
              "      --hover-fill-color: #174EA6;\n",
              "      --disabled-fill-color: #AAA;\n",
              "      --disabled-bg-color: #DDD;\n",
              "  }\n",
              "\n",
              "  [theme=dark] .colab-df-quickchart {\n",
              "      --bg-color: #3B4455;\n",
              "      --fill-color: #D2E3FC;\n",
              "      --hover-bg-color: #434B5C;\n",
              "      --hover-fill-color: #FFFFFF;\n",
              "      --disabled-bg-color: #3B4455;\n",
              "      --disabled-fill-color: #666;\n",
              "  }\n",
              "\n",
              "  .colab-df-quickchart {\n",
              "    background-color: var(--bg-color);\n",
              "    border: none;\n",
              "    border-radius: 50%;\n",
              "    cursor: pointer;\n",
              "    display: none;\n",
              "    fill: var(--fill-color);\n",
              "    height: 32px;\n",
              "    padding: 0;\n",
              "    width: 32px;\n",
              "  }\n",
              "\n",
              "  .colab-df-quickchart:hover {\n",
              "    background-color: var(--hover-bg-color);\n",
              "    box-shadow: 0 1px 2px rgba(60, 64, 67, 0.3), 0 1px 3px 1px rgba(60, 64, 67, 0.15);\n",
              "    fill: var(--button-hover-fill-color);\n",
              "  }\n",
              "\n",
              "  .colab-df-quickchart-complete:disabled,\n",
              "  .colab-df-quickchart-complete:disabled:hover {\n",
              "    background-color: var(--disabled-bg-color);\n",
              "    fill: var(--disabled-fill-color);\n",
              "    box-shadow: none;\n",
              "  }\n",
              "\n",
              "  .colab-df-spinner {\n",
              "    border: 2px solid var(--fill-color);\n",
              "    border-color: transparent;\n",
              "    border-bottom-color: var(--fill-color);\n",
              "    animation:\n",
              "      spin 1s steps(1) infinite;\n",
              "  }\n",
              "\n",
              "  @keyframes spin {\n",
              "    0% {\n",
              "      border-color: transparent;\n",
              "      border-bottom-color: var(--fill-color);\n",
              "      border-left-color: var(--fill-color);\n",
              "    }\n",
              "    20% {\n",
              "      border-color: transparent;\n",
              "      border-left-color: var(--fill-color);\n",
              "      border-top-color: var(--fill-color);\n",
              "    }\n",
              "    30% {\n",
              "      border-color: transparent;\n",
              "      border-left-color: var(--fill-color);\n",
              "      border-top-color: var(--fill-color);\n",
              "      border-right-color: var(--fill-color);\n",
              "    }\n",
              "    40% {\n",
              "      border-color: transparent;\n",
              "      border-right-color: var(--fill-color);\n",
              "      border-top-color: var(--fill-color);\n",
              "    }\n",
              "    60% {\n",
              "      border-color: transparent;\n",
              "      border-right-color: var(--fill-color);\n",
              "    }\n",
              "    80% {\n",
              "      border-color: transparent;\n",
              "      border-right-color: var(--fill-color);\n",
              "      border-bottom-color: var(--fill-color);\n",
              "    }\n",
              "    90% {\n",
              "      border-color: transparent;\n",
              "      border-bottom-color: var(--fill-color);\n",
              "    }\n",
              "  }\n",
              "</style>\n",
              "\n",
              "  <script>\n",
              "    async function quickchart(key) {\n",
              "      const quickchartButtonEl =\n",
              "        document.querySelector('#' + key + ' button');\n",
              "      quickchartButtonEl.disabled = true;  // To prevent multiple clicks.\n",
              "      quickchartButtonEl.classList.add('colab-df-spinner');\n",
              "      try {\n",
              "        const charts = await google.colab.kernel.invokeFunction(\n",
              "            'suggestCharts', [key], {});\n",
              "      } catch (error) {\n",
              "        console.error('Error during call to suggestCharts:', error);\n",
              "      }\n",
              "      quickchartButtonEl.classList.remove('colab-df-spinner');\n",
              "      quickchartButtonEl.classList.add('colab-df-quickchart-complete');\n",
              "    }\n",
              "    (() => {\n",
              "      let quickchartButtonEl =\n",
              "        document.querySelector('#df-94eccd0b-ed40-4012-8490-fcde2a96888a button');\n",
              "      quickchartButtonEl.style.display =\n",
              "        google.colab.kernel.accessAllowed ? 'block' : 'none';\n",
              "    })();\n",
              "  </script>\n",
              "</div>\n",
              "\n",
              "    </div>\n",
              "  </div>\n"
            ],
            "application/vnd.google.colaboratory.intrinsic+json": {
              "type": "dataframe",
              "variable_name": "smarket",
              "summary": "{\n  \"name\": \"smarket\",\n  \"rows\": 1250,\n  \"fields\": [\n    {\n      \"column\": \"Year\",\n      \"properties\": {\n        \"dtype\": \"number\",\n        \"std\": 1,\n        \"min\": 2001,\n        \"max\": 2005,\n        \"num_unique_values\": 5,\n        \"samples\": [\n          2002,\n          2005,\n          2003\n        ],\n        \"semantic_type\": \"\",\n        \"description\": \"\"\n      }\n    },\n    {\n      \"column\": \"Lag1\",\n      \"properties\": {\n        \"dtype\": \"number\",\n        \"std\": 1.1362988437142851,\n        \"min\": -4.922,\n        \"max\": 5.733,\n        \"num_unique_values\": 1044,\n        \"samples\": [\n          -0.764,\n          -0.2289999999999999,\n          -1.224\n        ],\n        \"semantic_type\": \"\",\n        \"description\": \"\"\n      }\n    },\n    {\n      \"column\": \"Lag2\",\n      \"properties\": {\n        \"dtype\": \"number\",\n        \"std\": 1.136280255450433,\n        \"min\": -4.922,\n        \"max\": 5.733,\n        \"num_unique_values\": 1045,\n        \"samples\": [\n          0.251,\n          0.3389999999999999,\n          1.327\n        ],\n        \"semantic_type\": \"\",\n        \"description\": \"\"\n      }\n    },\n    {\n      \"column\": \"Lag3\",\n      \"properties\": {\n        \"dtype\": \"number\",\n        \"std\": 1.1387029570891554,\n        \"min\": -4.922,\n        \"max\": 5.733,\n        \"num_unique_values\": 1045,\n        \"samples\": [\n          -0.095,\n          0.585,\n          -0.325\n        ],\n        \"semantic_type\": \"\",\n        \"description\": \"\"\n      }\n    },\n    {\n      \"column\": \"Lag4\",\n      \"properties\": {\n        \"dtype\": \"number\",\n        \"std\": 1.1387737359112569,\n        \"min\": -4.922,\n        \"max\": 5.733,\n        \"num_unique_values\": 1044,\n        \"samples\": [\n          0.074,\n          0.585,\n          0.6459999999999999\n        ],\n        \"semantic_type\": \"\",\n        \"description\": \"\"\n      }\n    },\n    {\n      \"column\": \"Lag5\",\n      \"properties\": {\n        \"dtype\": \"number\",\n        \"std\": 1.147550209783877,\n        \"min\": -4.922,\n        \"max\": 5.733,\n        \"num_unique_values\": 1044,\n        \"samples\": [\n          0.71,\n          -0.45,\n          -1.4\n        ],\n        \"semantic_type\": \"\",\n        \"description\": \"\"\n      }\n    },\n    {\n      \"column\": \"Volume\",\n      \"properties\": {\n        \"dtype\": \"number\",\n        \"std\": 0.3603570890126089,\n        \"min\": 0.35607,\n        \"max\": 3.15247,\n        \"num_unique_values\": 1181,\n        \"samples\": [\n          1.5457,\n          1.68198,\n          1.77604\n        ],\n        \"semantic_type\": \"\",\n        \"description\": \"\"\n      }\n    },\n    {\n      \"column\": \"Today\",\n      \"properties\": {\n        \"dtype\": \"number\",\n        \"std\": 1.1363340826373778,\n        \"min\": -4.922,\n        \"max\": 5.733,\n        \"num_unique_values\": 1044,\n        \"samples\": [\n          -0.268,\n          -0.986,\n          1.554\n        ],\n        \"semantic_type\": \"\",\n        \"description\": \"\"\n      }\n    },\n    {\n      \"column\": \"Direction\",\n      \"properties\": {\n        \"dtype\": \"category\",\n        \"num_unique_values\": 2,\n        \"samples\": [\n          \"Down\",\n          \"Up\"\n        ],\n        \"semantic_type\": \"\",\n        \"description\": \"\"\n      }\n    }\n  ]\n}"
            }
          },
          "metadata": {},
          "execution_count": 24
        }
      ],
      "source": [
        "smarket = pd.read_csv('/content/smarket.csv')\n",
        "smarket.head()"
      ]
    },
    {
      "cell_type": "code",
      "execution_count": null,
      "metadata": {
        "id": "XV0mJW__ke9A"
      },
      "outputs": [],
      "source": [
        "smarket['Up'] = np.where(smarket['Direction'] == 'Up', 1, 0)"
      ]
    },
    {
      "cell_type": "code",
      "execution_count": null,
      "metadata": {
        "id": "KXyhZ3Jtke9B",
        "colab": {
          "base_uri": "https://localhost:8080/",
          "height": 423
        },
        "outputId": "93f44a72-0df3-4871-b0a9-c2bd93b1fa52"
      },
      "outputs": [
        {
          "output_type": "execute_result",
          "data": {
            "text/plain": [
              "      Year   Lag1   Lag2   Lag3   Lag4   Lag5   Volume  Today Direction  Up\n",
              "0     2001  0.381 -0.192 -2.624 -1.055  5.010  1.19130  0.959        Up   1\n",
              "1     2001  0.959  0.381 -0.192 -2.624 -1.055  1.29650  1.032        Up   1\n",
              "2     2001  1.032  0.959  0.381 -0.192 -2.624  1.41120 -0.623      Down   0\n",
              "3     2001 -0.623  1.032  0.959  0.381 -0.192  1.27600  0.614        Up   1\n",
              "4     2001  0.614 -0.623  1.032  0.959  0.381  1.20570  0.213        Up   1\n",
              "...    ...    ...    ...    ...    ...    ...      ...    ...       ...  ..\n",
              "1245  2005  0.422  0.252 -0.024 -0.584 -0.285  1.88850  0.043        Up   1\n",
              "1246  2005  0.043  0.422  0.252 -0.024 -0.584  1.28581 -0.955      Down   0\n",
              "1247  2005 -0.955  0.043  0.422  0.252 -0.024  1.54047  0.130        Up   1\n",
              "1248  2005  0.130 -0.955  0.043  0.422  0.252  1.42236 -0.298      Down   0\n",
              "1249  2005 -0.298  0.130 -0.955  0.043  0.422  1.38254 -0.489      Down   0\n",
              "\n",
              "[1250 rows x 10 columns]"
            ],
            "text/html": [
              "\n",
              "  <div id=\"df-6c964e71-0e7f-4fe3-b0e6-231300081de4\" class=\"colab-df-container\">\n",
              "    <div>\n",
              "<style scoped>\n",
              "    .dataframe tbody tr th:only-of-type {\n",
              "        vertical-align: middle;\n",
              "    }\n",
              "\n",
              "    .dataframe tbody tr th {\n",
              "        vertical-align: top;\n",
              "    }\n",
              "\n",
              "    .dataframe thead th {\n",
              "        text-align: right;\n",
              "    }\n",
              "</style>\n",
              "<table border=\"1\" class=\"dataframe\">\n",
              "  <thead>\n",
              "    <tr style=\"text-align: right;\">\n",
              "      <th></th>\n",
              "      <th>Year</th>\n",
              "      <th>Lag1</th>\n",
              "      <th>Lag2</th>\n",
              "      <th>Lag3</th>\n",
              "      <th>Lag4</th>\n",
              "      <th>Lag5</th>\n",
              "      <th>Volume</th>\n",
              "      <th>Today</th>\n",
              "      <th>Direction</th>\n",
              "      <th>Up</th>\n",
              "    </tr>\n",
              "  </thead>\n",
              "  <tbody>\n",
              "    <tr>\n",
              "      <th>0</th>\n",
              "      <td>2001</td>\n",
              "      <td>0.381</td>\n",
              "      <td>-0.192</td>\n",
              "      <td>-2.624</td>\n",
              "      <td>-1.055</td>\n",
              "      <td>5.010</td>\n",
              "      <td>1.19130</td>\n",
              "      <td>0.959</td>\n",
              "      <td>Up</td>\n",
              "      <td>1</td>\n",
              "    </tr>\n",
              "    <tr>\n",
              "      <th>1</th>\n",
              "      <td>2001</td>\n",
              "      <td>0.959</td>\n",
              "      <td>0.381</td>\n",
              "      <td>-0.192</td>\n",
              "      <td>-2.624</td>\n",
              "      <td>-1.055</td>\n",
              "      <td>1.29650</td>\n",
              "      <td>1.032</td>\n",
              "      <td>Up</td>\n",
              "      <td>1</td>\n",
              "    </tr>\n",
              "    <tr>\n",
              "      <th>2</th>\n",
              "      <td>2001</td>\n",
              "      <td>1.032</td>\n",
              "      <td>0.959</td>\n",
              "      <td>0.381</td>\n",
              "      <td>-0.192</td>\n",
              "      <td>-2.624</td>\n",
              "      <td>1.41120</td>\n",
              "      <td>-0.623</td>\n",
              "      <td>Down</td>\n",
              "      <td>0</td>\n",
              "    </tr>\n",
              "    <tr>\n",
              "      <th>3</th>\n",
              "      <td>2001</td>\n",
              "      <td>-0.623</td>\n",
              "      <td>1.032</td>\n",
              "      <td>0.959</td>\n",
              "      <td>0.381</td>\n",
              "      <td>-0.192</td>\n",
              "      <td>1.27600</td>\n",
              "      <td>0.614</td>\n",
              "      <td>Up</td>\n",
              "      <td>1</td>\n",
              "    </tr>\n",
              "    <tr>\n",
              "      <th>4</th>\n",
              "      <td>2001</td>\n",
              "      <td>0.614</td>\n",
              "      <td>-0.623</td>\n",
              "      <td>1.032</td>\n",
              "      <td>0.959</td>\n",
              "      <td>0.381</td>\n",
              "      <td>1.20570</td>\n",
              "      <td>0.213</td>\n",
              "      <td>Up</td>\n",
              "      <td>1</td>\n",
              "    </tr>\n",
              "    <tr>\n",
              "      <th>...</th>\n",
              "      <td>...</td>\n",
              "      <td>...</td>\n",
              "      <td>...</td>\n",
              "      <td>...</td>\n",
              "      <td>...</td>\n",
              "      <td>...</td>\n",
              "      <td>...</td>\n",
              "      <td>...</td>\n",
              "      <td>...</td>\n",
              "      <td>...</td>\n",
              "    </tr>\n",
              "    <tr>\n",
              "      <th>1245</th>\n",
              "      <td>2005</td>\n",
              "      <td>0.422</td>\n",
              "      <td>0.252</td>\n",
              "      <td>-0.024</td>\n",
              "      <td>-0.584</td>\n",
              "      <td>-0.285</td>\n",
              "      <td>1.88850</td>\n",
              "      <td>0.043</td>\n",
              "      <td>Up</td>\n",
              "      <td>1</td>\n",
              "    </tr>\n",
              "    <tr>\n",
              "      <th>1246</th>\n",
              "      <td>2005</td>\n",
              "      <td>0.043</td>\n",
              "      <td>0.422</td>\n",
              "      <td>0.252</td>\n",
              "      <td>-0.024</td>\n",
              "      <td>-0.584</td>\n",
              "      <td>1.28581</td>\n",
              "      <td>-0.955</td>\n",
              "      <td>Down</td>\n",
              "      <td>0</td>\n",
              "    </tr>\n",
              "    <tr>\n",
              "      <th>1247</th>\n",
              "      <td>2005</td>\n",
              "      <td>-0.955</td>\n",
              "      <td>0.043</td>\n",
              "      <td>0.422</td>\n",
              "      <td>0.252</td>\n",
              "      <td>-0.024</td>\n",
              "      <td>1.54047</td>\n",
              "      <td>0.130</td>\n",
              "      <td>Up</td>\n",
              "      <td>1</td>\n",
              "    </tr>\n",
              "    <tr>\n",
              "      <th>1248</th>\n",
              "      <td>2005</td>\n",
              "      <td>0.130</td>\n",
              "      <td>-0.955</td>\n",
              "      <td>0.043</td>\n",
              "      <td>0.422</td>\n",
              "      <td>0.252</td>\n",
              "      <td>1.42236</td>\n",
              "      <td>-0.298</td>\n",
              "      <td>Down</td>\n",
              "      <td>0</td>\n",
              "    </tr>\n",
              "    <tr>\n",
              "      <th>1249</th>\n",
              "      <td>2005</td>\n",
              "      <td>-0.298</td>\n",
              "      <td>0.130</td>\n",
              "      <td>-0.955</td>\n",
              "      <td>0.043</td>\n",
              "      <td>0.422</td>\n",
              "      <td>1.38254</td>\n",
              "      <td>-0.489</td>\n",
              "      <td>Down</td>\n",
              "      <td>0</td>\n",
              "    </tr>\n",
              "  </tbody>\n",
              "</table>\n",
              "<p>1250 rows × 10 columns</p>\n",
              "</div>\n",
              "    <div class=\"colab-df-buttons\">\n",
              "\n",
              "  <div class=\"colab-df-container\">\n",
              "    <button class=\"colab-df-convert\" onclick=\"convertToInteractive('df-6c964e71-0e7f-4fe3-b0e6-231300081de4')\"\n",
              "            title=\"Convert this dataframe to an interactive table.\"\n",
              "            style=\"display:none;\">\n",
              "\n",
              "  <svg xmlns=\"http://www.w3.org/2000/svg\" height=\"24px\" viewBox=\"0 -960 960 960\">\n",
              "    <path d=\"M120-120v-720h720v720H120Zm60-500h600v-160H180v160Zm220 220h160v-160H400v160Zm0 220h160v-160H400v160ZM180-400h160v-160H180v160Zm440 0h160v-160H620v160ZM180-180h160v-160H180v160Zm440 0h160v-160H620v160Z\"/>\n",
              "  </svg>\n",
              "    </button>\n",
              "\n",
              "  <style>\n",
              "    .colab-df-container {\n",
              "      display:flex;\n",
              "      gap: 12px;\n",
              "    }\n",
              "\n",
              "    .colab-df-convert {\n",
              "      background-color: #E8F0FE;\n",
              "      border: none;\n",
              "      border-radius: 50%;\n",
              "      cursor: pointer;\n",
              "      display: none;\n",
              "      fill: #1967D2;\n",
              "      height: 32px;\n",
              "      padding: 0 0 0 0;\n",
              "      width: 32px;\n",
              "    }\n",
              "\n",
              "    .colab-df-convert:hover {\n",
              "      background-color: #E2EBFA;\n",
              "      box-shadow: 0px 1px 2px rgba(60, 64, 67, 0.3), 0px 1px 3px 1px rgba(60, 64, 67, 0.15);\n",
              "      fill: #174EA6;\n",
              "    }\n",
              "\n",
              "    .colab-df-buttons div {\n",
              "      margin-bottom: 4px;\n",
              "    }\n",
              "\n",
              "    [theme=dark] .colab-df-convert {\n",
              "      background-color: #3B4455;\n",
              "      fill: #D2E3FC;\n",
              "    }\n",
              "\n",
              "    [theme=dark] .colab-df-convert:hover {\n",
              "      background-color: #434B5C;\n",
              "      box-shadow: 0px 1px 3px 1px rgba(0, 0, 0, 0.15);\n",
              "      filter: drop-shadow(0px 1px 2px rgba(0, 0, 0, 0.3));\n",
              "      fill: #FFFFFF;\n",
              "    }\n",
              "  </style>\n",
              "\n",
              "    <script>\n",
              "      const buttonEl =\n",
              "        document.querySelector('#df-6c964e71-0e7f-4fe3-b0e6-231300081de4 button.colab-df-convert');\n",
              "      buttonEl.style.display =\n",
              "        google.colab.kernel.accessAllowed ? 'block' : 'none';\n",
              "\n",
              "      async function convertToInteractive(key) {\n",
              "        const element = document.querySelector('#df-6c964e71-0e7f-4fe3-b0e6-231300081de4');\n",
              "        const dataTable =\n",
              "          await google.colab.kernel.invokeFunction('convertToInteractive',\n",
              "                                                    [key], {});\n",
              "        if (!dataTable) return;\n",
              "\n",
              "        const docLinkHtml = 'Like what you see? Visit the ' +\n",
              "          '<a target=\"_blank\" href=https://colab.research.google.com/notebooks/data_table.ipynb>data table notebook</a>'\n",
              "          + ' to learn more about interactive tables.';\n",
              "        element.innerHTML = '';\n",
              "        dataTable['output_type'] = 'display_data';\n",
              "        await google.colab.output.renderOutput(dataTable, element);\n",
              "        const docLink = document.createElement('div');\n",
              "        docLink.innerHTML = docLinkHtml;\n",
              "        element.appendChild(docLink);\n",
              "      }\n",
              "    </script>\n",
              "  </div>\n",
              "\n",
              "\n",
              "<div id=\"df-58a9c2b7-0163-4ee9-a841-6039a16f176e\">\n",
              "  <button class=\"colab-df-quickchart\" onclick=\"quickchart('df-58a9c2b7-0163-4ee9-a841-6039a16f176e')\"\n",
              "            title=\"Suggest charts\"\n",
              "            style=\"display:none;\">\n",
              "\n",
              "<svg xmlns=\"http://www.w3.org/2000/svg\" height=\"24px\"viewBox=\"0 0 24 24\"\n",
              "     width=\"24px\">\n",
              "    <g>\n",
              "        <path d=\"M19 3H5c-1.1 0-2 .9-2 2v14c0 1.1.9 2 2 2h14c1.1 0 2-.9 2-2V5c0-1.1-.9-2-2-2zM9 17H7v-7h2v7zm4 0h-2V7h2v10zm4 0h-2v-4h2v4z\"/>\n",
              "    </g>\n",
              "</svg>\n",
              "  </button>\n",
              "\n",
              "<style>\n",
              "  .colab-df-quickchart {\n",
              "      --bg-color: #E8F0FE;\n",
              "      --fill-color: #1967D2;\n",
              "      --hover-bg-color: #E2EBFA;\n",
              "      --hover-fill-color: #174EA6;\n",
              "      --disabled-fill-color: #AAA;\n",
              "      --disabled-bg-color: #DDD;\n",
              "  }\n",
              "\n",
              "  [theme=dark] .colab-df-quickchart {\n",
              "      --bg-color: #3B4455;\n",
              "      --fill-color: #D2E3FC;\n",
              "      --hover-bg-color: #434B5C;\n",
              "      --hover-fill-color: #FFFFFF;\n",
              "      --disabled-bg-color: #3B4455;\n",
              "      --disabled-fill-color: #666;\n",
              "  }\n",
              "\n",
              "  .colab-df-quickchart {\n",
              "    background-color: var(--bg-color);\n",
              "    border: none;\n",
              "    border-radius: 50%;\n",
              "    cursor: pointer;\n",
              "    display: none;\n",
              "    fill: var(--fill-color);\n",
              "    height: 32px;\n",
              "    padding: 0;\n",
              "    width: 32px;\n",
              "  }\n",
              "\n",
              "  .colab-df-quickchart:hover {\n",
              "    background-color: var(--hover-bg-color);\n",
              "    box-shadow: 0 1px 2px rgba(60, 64, 67, 0.3), 0 1px 3px 1px rgba(60, 64, 67, 0.15);\n",
              "    fill: var(--button-hover-fill-color);\n",
              "  }\n",
              "\n",
              "  .colab-df-quickchart-complete:disabled,\n",
              "  .colab-df-quickchart-complete:disabled:hover {\n",
              "    background-color: var(--disabled-bg-color);\n",
              "    fill: var(--disabled-fill-color);\n",
              "    box-shadow: none;\n",
              "  }\n",
              "\n",
              "  .colab-df-spinner {\n",
              "    border: 2px solid var(--fill-color);\n",
              "    border-color: transparent;\n",
              "    border-bottom-color: var(--fill-color);\n",
              "    animation:\n",
              "      spin 1s steps(1) infinite;\n",
              "  }\n",
              "\n",
              "  @keyframes spin {\n",
              "    0% {\n",
              "      border-color: transparent;\n",
              "      border-bottom-color: var(--fill-color);\n",
              "      border-left-color: var(--fill-color);\n",
              "    }\n",
              "    20% {\n",
              "      border-color: transparent;\n",
              "      border-left-color: var(--fill-color);\n",
              "      border-top-color: var(--fill-color);\n",
              "    }\n",
              "    30% {\n",
              "      border-color: transparent;\n",
              "      border-left-color: var(--fill-color);\n",
              "      border-top-color: var(--fill-color);\n",
              "      border-right-color: var(--fill-color);\n",
              "    }\n",
              "    40% {\n",
              "      border-color: transparent;\n",
              "      border-right-color: var(--fill-color);\n",
              "      border-top-color: var(--fill-color);\n",
              "    }\n",
              "    60% {\n",
              "      border-color: transparent;\n",
              "      border-right-color: var(--fill-color);\n",
              "    }\n",
              "    80% {\n",
              "      border-color: transparent;\n",
              "      border-right-color: var(--fill-color);\n",
              "      border-bottom-color: var(--fill-color);\n",
              "    }\n",
              "    90% {\n",
              "      border-color: transparent;\n",
              "      border-bottom-color: var(--fill-color);\n",
              "    }\n",
              "  }\n",
              "</style>\n",
              "\n",
              "  <script>\n",
              "    async function quickchart(key) {\n",
              "      const quickchartButtonEl =\n",
              "        document.querySelector('#' + key + ' button');\n",
              "      quickchartButtonEl.disabled = true;  // To prevent multiple clicks.\n",
              "      quickchartButtonEl.classList.add('colab-df-spinner');\n",
              "      try {\n",
              "        const charts = await google.colab.kernel.invokeFunction(\n",
              "            'suggestCharts', [key], {});\n",
              "      } catch (error) {\n",
              "        console.error('Error during call to suggestCharts:', error);\n",
              "      }\n",
              "      quickchartButtonEl.classList.remove('colab-df-spinner');\n",
              "      quickchartButtonEl.classList.add('colab-df-quickchart-complete');\n",
              "    }\n",
              "    (() => {\n",
              "      let quickchartButtonEl =\n",
              "        document.querySelector('#df-58a9c2b7-0163-4ee9-a841-6039a16f176e button');\n",
              "      quickchartButtonEl.style.display =\n",
              "        google.colab.kernel.accessAllowed ? 'block' : 'none';\n",
              "    })();\n",
              "  </script>\n",
              "</div>\n",
              "\n",
              "  <div id=\"id_0fb71e54-c5ff-41f7-b098-2a9c9e0eaea4\">\n",
              "    <style>\n",
              "      .colab-df-generate {\n",
              "        background-color: #E8F0FE;\n",
              "        border: none;\n",
              "        border-radius: 50%;\n",
              "        cursor: pointer;\n",
              "        display: none;\n",
              "        fill: #1967D2;\n",
              "        height: 32px;\n",
              "        padding: 0 0 0 0;\n",
              "        width: 32px;\n",
              "      }\n",
              "\n",
              "      .colab-df-generate:hover {\n",
              "        background-color: #E2EBFA;\n",
              "        box-shadow: 0px 1px 2px rgba(60, 64, 67, 0.3), 0px 1px 3px 1px rgba(60, 64, 67, 0.15);\n",
              "        fill: #174EA6;\n",
              "      }\n",
              "\n",
              "      [theme=dark] .colab-df-generate {\n",
              "        background-color: #3B4455;\n",
              "        fill: #D2E3FC;\n",
              "      }\n",
              "\n",
              "      [theme=dark] .colab-df-generate:hover {\n",
              "        background-color: #434B5C;\n",
              "        box-shadow: 0px 1px 3px 1px rgba(0, 0, 0, 0.15);\n",
              "        filter: drop-shadow(0px 1px 2px rgba(0, 0, 0, 0.3));\n",
              "        fill: #FFFFFF;\n",
              "      }\n",
              "    </style>\n",
              "    <button class=\"colab-df-generate\" onclick=\"generateWithVariable('smarket')\"\n",
              "            title=\"Generate code using this dataframe.\"\n",
              "            style=\"display:none;\">\n",
              "\n",
              "  <svg xmlns=\"http://www.w3.org/2000/svg\" height=\"24px\"viewBox=\"0 0 24 24\"\n",
              "       width=\"24px\">\n",
              "    <path d=\"M7,19H8.4L18.45,9,17,7.55,7,17.6ZM5,21V16.75L18.45,3.32a2,2,0,0,1,2.83,0l1.4,1.43a1.91,1.91,0,0,1,.58,1.4,1.91,1.91,0,0,1-.58,1.4L9.25,21ZM18.45,9,17,7.55Zm-12,3A5.31,5.31,0,0,0,4.9,8.1,5.31,5.31,0,0,0,1,6.5,5.31,5.31,0,0,0,4.9,4.9,5.31,5.31,0,0,0,6.5,1,5.31,5.31,0,0,0,8.1,4.9,5.31,5.31,0,0,0,12,6.5,5.46,5.46,0,0,0,6.5,12Z\"/>\n",
              "  </svg>\n",
              "    </button>\n",
              "    <script>\n",
              "      (() => {\n",
              "      const buttonEl =\n",
              "        document.querySelector('#id_0fb71e54-c5ff-41f7-b098-2a9c9e0eaea4 button.colab-df-generate');\n",
              "      buttonEl.style.display =\n",
              "        google.colab.kernel.accessAllowed ? 'block' : 'none';\n",
              "\n",
              "      buttonEl.onclick = () => {\n",
              "        google.colab.notebook.generateWithVariable('smarket');\n",
              "      }\n",
              "      })();\n",
              "    </script>\n",
              "  </div>\n",
              "\n",
              "    </div>\n",
              "  </div>\n"
            ],
            "application/vnd.google.colaboratory.intrinsic+json": {
              "type": "dataframe",
              "variable_name": "smarket",
              "summary": "{\n  \"name\": \"smarket\",\n  \"rows\": 1250,\n  \"fields\": [\n    {\n      \"column\": \"Year\",\n      \"properties\": {\n        \"dtype\": \"number\",\n        \"std\": 1,\n        \"min\": 2001,\n        \"max\": 2005,\n        \"num_unique_values\": 5,\n        \"samples\": [\n          2002,\n          2005,\n          2003\n        ],\n        \"semantic_type\": \"\",\n        \"description\": \"\"\n      }\n    },\n    {\n      \"column\": \"Lag1\",\n      \"properties\": {\n        \"dtype\": \"number\",\n        \"std\": 1.1362988437142851,\n        \"min\": -4.922,\n        \"max\": 5.733,\n        \"num_unique_values\": 1044,\n        \"samples\": [\n          -0.764,\n          -0.2289999999999999,\n          -1.224\n        ],\n        \"semantic_type\": \"\",\n        \"description\": \"\"\n      }\n    },\n    {\n      \"column\": \"Lag2\",\n      \"properties\": {\n        \"dtype\": \"number\",\n        \"std\": 1.136280255450433,\n        \"min\": -4.922,\n        \"max\": 5.733,\n        \"num_unique_values\": 1045,\n        \"samples\": [\n          0.251,\n          0.3389999999999999,\n          1.327\n        ],\n        \"semantic_type\": \"\",\n        \"description\": \"\"\n      }\n    },\n    {\n      \"column\": \"Lag3\",\n      \"properties\": {\n        \"dtype\": \"number\",\n        \"std\": 1.1387029570891554,\n        \"min\": -4.922,\n        \"max\": 5.733,\n        \"num_unique_values\": 1045,\n        \"samples\": [\n          -0.095,\n          0.585,\n          -0.325\n        ],\n        \"semantic_type\": \"\",\n        \"description\": \"\"\n      }\n    },\n    {\n      \"column\": \"Lag4\",\n      \"properties\": {\n        \"dtype\": \"number\",\n        \"std\": 1.1387737359112569,\n        \"min\": -4.922,\n        \"max\": 5.733,\n        \"num_unique_values\": 1044,\n        \"samples\": [\n          0.074,\n          0.585,\n          0.6459999999999999\n        ],\n        \"semantic_type\": \"\",\n        \"description\": \"\"\n      }\n    },\n    {\n      \"column\": \"Lag5\",\n      \"properties\": {\n        \"dtype\": \"number\",\n        \"std\": 1.147550209783877,\n        \"min\": -4.922,\n        \"max\": 5.733,\n        \"num_unique_values\": 1044,\n        \"samples\": [\n          0.71,\n          -0.45,\n          -1.4\n        ],\n        \"semantic_type\": \"\",\n        \"description\": \"\"\n      }\n    },\n    {\n      \"column\": \"Volume\",\n      \"properties\": {\n        \"dtype\": \"number\",\n        \"std\": 0.3603570890126089,\n        \"min\": 0.35607,\n        \"max\": 3.15247,\n        \"num_unique_values\": 1181,\n        \"samples\": [\n          1.5457,\n          1.68198,\n          1.77604\n        ],\n        \"semantic_type\": \"\",\n        \"description\": \"\"\n      }\n    },\n    {\n      \"column\": \"Today\",\n      \"properties\": {\n        \"dtype\": \"number\",\n        \"std\": 1.1363340826373778,\n        \"min\": -4.922,\n        \"max\": 5.733,\n        \"num_unique_values\": 1044,\n        \"samples\": [\n          -0.268,\n          -0.986,\n          1.554\n        ],\n        \"semantic_type\": \"\",\n        \"description\": \"\"\n      }\n    },\n    {\n      \"column\": \"Direction\",\n      \"properties\": {\n        \"dtype\": \"category\",\n        \"num_unique_values\": 2,\n        \"samples\": [\n          \"Down\",\n          \"Up\"\n        ],\n        \"semantic_type\": \"\",\n        \"description\": \"\"\n      }\n    },\n    {\n      \"column\": \"Up\",\n      \"properties\": {\n        \"dtype\": \"number\",\n        \"std\": 0,\n        \"min\": 0,\n        \"max\": 1,\n        \"num_unique_values\": 2,\n        \"samples\": [\n          0,\n          1\n        ],\n        \"semantic_type\": \"\",\n        \"description\": \"\"\n      }\n    }\n  ]\n}"
            }
          },
          "metadata": {},
          "execution_count": 29
        }
      ],
      "source": [
        "smarket"
      ]
    },
    {
      "cell_type": "code",
      "source": [
        "# 删除 'Direction' 列\n",
        "smarket = smarket.drop(columns=['Direction'])\n",
        "# 计算相关性\n",
        "smarket.corr()"
      ],
      "metadata": {
        "colab": {
          "base_uri": "https://localhost:8080/",
          "height": 331
        },
        "id": "b_u7ZpH_NZsU",
        "outputId": "00062982-a048-4494-90d5-27030842e039"
      },
      "execution_count": null,
      "outputs": [
        {
          "output_type": "execute_result",
          "data": {
            "text/plain": [
              "            Year      Lag1      Lag2      Lag3      Lag4      Lag5    Volume  \\\n",
              "Year    1.000000  0.029700  0.030596  0.033195  0.035689  0.029788  0.539006   \n",
              "Lag1    0.029700  1.000000 -0.026294 -0.010803 -0.002986 -0.005675  0.040910   \n",
              "Lag2    0.030596 -0.026294  1.000000 -0.025897 -0.010854 -0.003558 -0.043383   \n",
              "Lag3    0.033195 -0.010803 -0.025897  1.000000 -0.024051 -0.018808 -0.041824   \n",
              "Lag4    0.035689 -0.002986 -0.010854 -0.024051  1.000000 -0.027084 -0.048414   \n",
              "Lag5    0.029788 -0.005675 -0.003558 -0.018808 -0.027084  1.000000 -0.022002   \n",
              "Volume  0.539006  0.040910 -0.043383 -0.041824 -0.048414 -0.022002  1.000000   \n",
              "Today   0.030095 -0.026155 -0.010250 -0.002448 -0.006900 -0.034860  0.014592   \n",
              "Up      0.074608 -0.039757 -0.024081  0.006132  0.004215  0.005423  0.022951   \n",
              "\n",
              "           Today        Up  \n",
              "Year    0.030095  0.074608  \n",
              "Lag1   -0.026155 -0.039757  \n",
              "Lag2   -0.010250 -0.024081  \n",
              "Lag3   -0.002448  0.006132  \n",
              "Lag4   -0.006900  0.004215  \n",
              "Lag5   -0.034860  0.005423  \n",
              "Volume  0.014592  0.022951  \n",
              "Today   1.000000  0.730563  \n",
              "Up      0.730563  1.000000  "
            ],
            "text/html": [
              "\n",
              "  <div id=\"df-ee7d1fd5-a864-417f-9a6d-edac49a565ad\" class=\"colab-df-container\">\n",
              "    <div>\n",
              "<style scoped>\n",
              "    .dataframe tbody tr th:only-of-type {\n",
              "        vertical-align: middle;\n",
              "    }\n",
              "\n",
              "    .dataframe tbody tr th {\n",
              "        vertical-align: top;\n",
              "    }\n",
              "\n",
              "    .dataframe thead th {\n",
              "        text-align: right;\n",
              "    }\n",
              "</style>\n",
              "<table border=\"1\" class=\"dataframe\">\n",
              "  <thead>\n",
              "    <tr style=\"text-align: right;\">\n",
              "      <th></th>\n",
              "      <th>Year</th>\n",
              "      <th>Lag1</th>\n",
              "      <th>Lag2</th>\n",
              "      <th>Lag3</th>\n",
              "      <th>Lag4</th>\n",
              "      <th>Lag5</th>\n",
              "      <th>Volume</th>\n",
              "      <th>Today</th>\n",
              "      <th>Up</th>\n",
              "    </tr>\n",
              "  </thead>\n",
              "  <tbody>\n",
              "    <tr>\n",
              "      <th>Year</th>\n",
              "      <td>1.000000</td>\n",
              "      <td>0.029700</td>\n",
              "      <td>0.030596</td>\n",
              "      <td>0.033195</td>\n",
              "      <td>0.035689</td>\n",
              "      <td>0.029788</td>\n",
              "      <td>0.539006</td>\n",
              "      <td>0.030095</td>\n",
              "      <td>0.074608</td>\n",
              "    </tr>\n",
              "    <tr>\n",
              "      <th>Lag1</th>\n",
              "      <td>0.029700</td>\n",
              "      <td>1.000000</td>\n",
              "      <td>-0.026294</td>\n",
              "      <td>-0.010803</td>\n",
              "      <td>-0.002986</td>\n",
              "      <td>-0.005675</td>\n",
              "      <td>0.040910</td>\n",
              "      <td>-0.026155</td>\n",
              "      <td>-0.039757</td>\n",
              "    </tr>\n",
              "    <tr>\n",
              "      <th>Lag2</th>\n",
              "      <td>0.030596</td>\n",
              "      <td>-0.026294</td>\n",
              "      <td>1.000000</td>\n",
              "      <td>-0.025897</td>\n",
              "      <td>-0.010854</td>\n",
              "      <td>-0.003558</td>\n",
              "      <td>-0.043383</td>\n",
              "      <td>-0.010250</td>\n",
              "      <td>-0.024081</td>\n",
              "    </tr>\n",
              "    <tr>\n",
              "      <th>Lag3</th>\n",
              "      <td>0.033195</td>\n",
              "      <td>-0.010803</td>\n",
              "      <td>-0.025897</td>\n",
              "      <td>1.000000</td>\n",
              "      <td>-0.024051</td>\n",
              "      <td>-0.018808</td>\n",
              "      <td>-0.041824</td>\n",
              "      <td>-0.002448</td>\n",
              "      <td>0.006132</td>\n",
              "    </tr>\n",
              "    <tr>\n",
              "      <th>Lag4</th>\n",
              "      <td>0.035689</td>\n",
              "      <td>-0.002986</td>\n",
              "      <td>-0.010854</td>\n",
              "      <td>-0.024051</td>\n",
              "      <td>1.000000</td>\n",
              "      <td>-0.027084</td>\n",
              "      <td>-0.048414</td>\n",
              "      <td>-0.006900</td>\n",
              "      <td>0.004215</td>\n",
              "    </tr>\n",
              "    <tr>\n",
              "      <th>Lag5</th>\n",
              "      <td>0.029788</td>\n",
              "      <td>-0.005675</td>\n",
              "      <td>-0.003558</td>\n",
              "      <td>-0.018808</td>\n",
              "      <td>-0.027084</td>\n",
              "      <td>1.000000</td>\n",
              "      <td>-0.022002</td>\n",
              "      <td>-0.034860</td>\n",
              "      <td>0.005423</td>\n",
              "    </tr>\n",
              "    <tr>\n",
              "      <th>Volume</th>\n",
              "      <td>0.539006</td>\n",
              "      <td>0.040910</td>\n",
              "      <td>-0.043383</td>\n",
              "      <td>-0.041824</td>\n",
              "      <td>-0.048414</td>\n",
              "      <td>-0.022002</td>\n",
              "      <td>1.000000</td>\n",
              "      <td>0.014592</td>\n",
              "      <td>0.022951</td>\n",
              "    </tr>\n",
              "    <tr>\n",
              "      <th>Today</th>\n",
              "      <td>0.030095</td>\n",
              "      <td>-0.026155</td>\n",
              "      <td>-0.010250</td>\n",
              "      <td>-0.002448</td>\n",
              "      <td>-0.006900</td>\n",
              "      <td>-0.034860</td>\n",
              "      <td>0.014592</td>\n",
              "      <td>1.000000</td>\n",
              "      <td>0.730563</td>\n",
              "    </tr>\n",
              "    <tr>\n",
              "      <th>Up</th>\n",
              "      <td>0.074608</td>\n",
              "      <td>-0.039757</td>\n",
              "      <td>-0.024081</td>\n",
              "      <td>0.006132</td>\n",
              "      <td>0.004215</td>\n",
              "      <td>0.005423</td>\n",
              "      <td>0.022951</td>\n",
              "      <td>0.730563</td>\n",
              "      <td>1.000000</td>\n",
              "    </tr>\n",
              "  </tbody>\n",
              "</table>\n",
              "</div>\n",
              "    <div class=\"colab-df-buttons\">\n",
              "\n",
              "  <div class=\"colab-df-container\">\n",
              "    <button class=\"colab-df-convert\" onclick=\"convertToInteractive('df-ee7d1fd5-a864-417f-9a6d-edac49a565ad')\"\n",
              "            title=\"Convert this dataframe to an interactive table.\"\n",
              "            style=\"display:none;\">\n",
              "\n",
              "  <svg xmlns=\"http://www.w3.org/2000/svg\" height=\"24px\" viewBox=\"0 -960 960 960\">\n",
              "    <path d=\"M120-120v-720h720v720H120Zm60-500h600v-160H180v160Zm220 220h160v-160H400v160Zm0 220h160v-160H400v160ZM180-400h160v-160H180v160Zm440 0h160v-160H620v160ZM180-180h160v-160H180v160Zm440 0h160v-160H620v160Z\"/>\n",
              "  </svg>\n",
              "    </button>\n",
              "\n",
              "  <style>\n",
              "    .colab-df-container {\n",
              "      display:flex;\n",
              "      gap: 12px;\n",
              "    }\n",
              "\n",
              "    .colab-df-convert {\n",
              "      background-color: #E8F0FE;\n",
              "      border: none;\n",
              "      border-radius: 50%;\n",
              "      cursor: pointer;\n",
              "      display: none;\n",
              "      fill: #1967D2;\n",
              "      height: 32px;\n",
              "      padding: 0 0 0 0;\n",
              "      width: 32px;\n",
              "    }\n",
              "\n",
              "    .colab-df-convert:hover {\n",
              "      background-color: #E2EBFA;\n",
              "      box-shadow: 0px 1px 2px rgba(60, 64, 67, 0.3), 0px 1px 3px 1px rgba(60, 64, 67, 0.15);\n",
              "      fill: #174EA6;\n",
              "    }\n",
              "\n",
              "    .colab-df-buttons div {\n",
              "      margin-bottom: 4px;\n",
              "    }\n",
              "\n",
              "    [theme=dark] .colab-df-convert {\n",
              "      background-color: #3B4455;\n",
              "      fill: #D2E3FC;\n",
              "    }\n",
              "\n",
              "    [theme=dark] .colab-df-convert:hover {\n",
              "      background-color: #434B5C;\n",
              "      box-shadow: 0px 1px 3px 1px rgba(0, 0, 0, 0.15);\n",
              "      filter: drop-shadow(0px 1px 2px rgba(0, 0, 0, 0.3));\n",
              "      fill: #FFFFFF;\n",
              "    }\n",
              "  </style>\n",
              "\n",
              "    <script>\n",
              "      const buttonEl =\n",
              "        document.querySelector('#df-ee7d1fd5-a864-417f-9a6d-edac49a565ad button.colab-df-convert');\n",
              "      buttonEl.style.display =\n",
              "        google.colab.kernel.accessAllowed ? 'block' : 'none';\n",
              "\n",
              "      async function convertToInteractive(key) {\n",
              "        const element = document.querySelector('#df-ee7d1fd5-a864-417f-9a6d-edac49a565ad');\n",
              "        const dataTable =\n",
              "          await google.colab.kernel.invokeFunction('convertToInteractive',\n",
              "                                                    [key], {});\n",
              "        if (!dataTable) return;\n",
              "\n",
              "        const docLinkHtml = 'Like what you see? Visit the ' +\n",
              "          '<a target=\"_blank\" href=https://colab.research.google.com/notebooks/data_table.ipynb>data table notebook</a>'\n",
              "          + ' to learn more about interactive tables.';\n",
              "        element.innerHTML = '';\n",
              "        dataTable['output_type'] = 'display_data';\n",
              "        await google.colab.output.renderOutput(dataTable, element);\n",
              "        const docLink = document.createElement('div');\n",
              "        docLink.innerHTML = docLinkHtml;\n",
              "        element.appendChild(docLink);\n",
              "      }\n",
              "    </script>\n",
              "  </div>\n",
              "\n",
              "\n",
              "<div id=\"df-f1ee1ce4-d132-4d5b-a77c-bb38cacd08a2\">\n",
              "  <button class=\"colab-df-quickchart\" onclick=\"quickchart('df-f1ee1ce4-d132-4d5b-a77c-bb38cacd08a2')\"\n",
              "            title=\"Suggest charts\"\n",
              "            style=\"display:none;\">\n",
              "\n",
              "<svg xmlns=\"http://www.w3.org/2000/svg\" height=\"24px\"viewBox=\"0 0 24 24\"\n",
              "     width=\"24px\">\n",
              "    <g>\n",
              "        <path d=\"M19 3H5c-1.1 0-2 .9-2 2v14c0 1.1.9 2 2 2h14c1.1 0 2-.9 2-2V5c0-1.1-.9-2-2-2zM9 17H7v-7h2v7zm4 0h-2V7h2v10zm4 0h-2v-4h2v4z\"/>\n",
              "    </g>\n",
              "</svg>\n",
              "  </button>\n",
              "\n",
              "<style>\n",
              "  .colab-df-quickchart {\n",
              "      --bg-color: #E8F0FE;\n",
              "      --fill-color: #1967D2;\n",
              "      --hover-bg-color: #E2EBFA;\n",
              "      --hover-fill-color: #174EA6;\n",
              "      --disabled-fill-color: #AAA;\n",
              "      --disabled-bg-color: #DDD;\n",
              "  }\n",
              "\n",
              "  [theme=dark] .colab-df-quickchart {\n",
              "      --bg-color: #3B4455;\n",
              "      --fill-color: #D2E3FC;\n",
              "      --hover-bg-color: #434B5C;\n",
              "      --hover-fill-color: #FFFFFF;\n",
              "      --disabled-bg-color: #3B4455;\n",
              "      --disabled-fill-color: #666;\n",
              "  }\n",
              "\n",
              "  .colab-df-quickchart {\n",
              "    background-color: var(--bg-color);\n",
              "    border: none;\n",
              "    border-radius: 50%;\n",
              "    cursor: pointer;\n",
              "    display: none;\n",
              "    fill: var(--fill-color);\n",
              "    height: 32px;\n",
              "    padding: 0;\n",
              "    width: 32px;\n",
              "  }\n",
              "\n",
              "  .colab-df-quickchart:hover {\n",
              "    background-color: var(--hover-bg-color);\n",
              "    box-shadow: 0 1px 2px rgba(60, 64, 67, 0.3), 0 1px 3px 1px rgba(60, 64, 67, 0.15);\n",
              "    fill: var(--button-hover-fill-color);\n",
              "  }\n",
              "\n",
              "  .colab-df-quickchart-complete:disabled,\n",
              "  .colab-df-quickchart-complete:disabled:hover {\n",
              "    background-color: var(--disabled-bg-color);\n",
              "    fill: var(--disabled-fill-color);\n",
              "    box-shadow: none;\n",
              "  }\n",
              "\n",
              "  .colab-df-spinner {\n",
              "    border: 2px solid var(--fill-color);\n",
              "    border-color: transparent;\n",
              "    border-bottom-color: var(--fill-color);\n",
              "    animation:\n",
              "      spin 1s steps(1) infinite;\n",
              "  }\n",
              "\n",
              "  @keyframes spin {\n",
              "    0% {\n",
              "      border-color: transparent;\n",
              "      border-bottom-color: var(--fill-color);\n",
              "      border-left-color: var(--fill-color);\n",
              "    }\n",
              "    20% {\n",
              "      border-color: transparent;\n",
              "      border-left-color: var(--fill-color);\n",
              "      border-top-color: var(--fill-color);\n",
              "    }\n",
              "    30% {\n",
              "      border-color: transparent;\n",
              "      border-left-color: var(--fill-color);\n",
              "      border-top-color: var(--fill-color);\n",
              "      border-right-color: var(--fill-color);\n",
              "    }\n",
              "    40% {\n",
              "      border-color: transparent;\n",
              "      border-right-color: var(--fill-color);\n",
              "      border-top-color: var(--fill-color);\n",
              "    }\n",
              "    60% {\n",
              "      border-color: transparent;\n",
              "      border-right-color: var(--fill-color);\n",
              "    }\n",
              "    80% {\n",
              "      border-color: transparent;\n",
              "      border-right-color: var(--fill-color);\n",
              "      border-bottom-color: var(--fill-color);\n",
              "    }\n",
              "    90% {\n",
              "      border-color: transparent;\n",
              "      border-bottom-color: var(--fill-color);\n",
              "    }\n",
              "  }\n",
              "</style>\n",
              "\n",
              "  <script>\n",
              "    async function quickchart(key) {\n",
              "      const quickchartButtonEl =\n",
              "        document.querySelector('#' + key + ' button');\n",
              "      quickchartButtonEl.disabled = true;  // To prevent multiple clicks.\n",
              "      quickchartButtonEl.classList.add('colab-df-spinner');\n",
              "      try {\n",
              "        const charts = await google.colab.kernel.invokeFunction(\n",
              "            'suggestCharts', [key], {});\n",
              "      } catch (error) {\n",
              "        console.error('Error during call to suggestCharts:', error);\n",
              "      }\n",
              "      quickchartButtonEl.classList.remove('colab-df-spinner');\n",
              "      quickchartButtonEl.classList.add('colab-df-quickchart-complete');\n",
              "    }\n",
              "    (() => {\n",
              "      let quickchartButtonEl =\n",
              "        document.querySelector('#df-f1ee1ce4-d132-4d5b-a77c-bb38cacd08a2 button');\n",
              "      quickchartButtonEl.style.display =\n",
              "        google.colab.kernel.accessAllowed ? 'block' : 'none';\n",
              "    })();\n",
              "  </script>\n",
              "</div>\n",
              "\n",
              "    </div>\n",
              "  </div>\n"
            ],
            "application/vnd.google.colaboratory.intrinsic+json": {
              "type": "dataframe",
              "summary": "{\n  \"name\": \"smarket\",\n  \"rows\": 9,\n  \"fields\": [\n    {\n      \"column\": \"Year\",\n      \"properties\": {\n        \"dtype\": \"number\",\n        \"std\": 0.34296673564740926,\n        \"min\": 0.02969964893366154,\n        \"max\": 1.0,\n        \"num_unique_values\": 9,\n        \"samples\": [\n          0.03009522892855877,\n          0.02969964893366154,\n          0.029787994691551026\n        ],\n        \"semantic_type\": \"\",\n        \"description\": \"\"\n      }\n    },\n    {\n      \"column\": \"Lag1\",\n      \"properties\": {\n        \"dtype\": \"number\",\n        \"std\": 0.3360609819146723,\n        \"min\": -0.039757294535947514,\n        \"max\": 1.0,\n        \"num_unique_values\": 9,\n        \"samples\": [\n          -0.02615504543244527,\n          1.0,\n          -0.005674606238866534\n        ],\n        \"semantic_type\": \"\",\n        \"description\": \"\"\n      }\n    },\n    {\n      \"column\": \"Lag2\",\n      \"properties\": {\n        \"dtype\": \"number\",\n        \"std\": 0.3386958351844241,\n        \"min\": -0.043383214641792386,\n        \"max\": 1.0,\n        \"num_unique_values\": 9,\n        \"samples\": [\n          -0.010250033403228408,\n          -0.026294328149736822,\n          -0.0035579494775570502\n        ],\n        \"semantic_type\": \"\",\n        \"description\": \"\"\n      }\n    },\n    {\n      \"column\": \"Lag3\",\n      \"properties\": {\n        \"dtype\": \"number\",\n        \"std\": 0.33754416432158785,\n        \"min\": -0.04182368627531741,\n        \"max\": 1.0,\n        \"num_unique_values\": 9,\n        \"samples\": [\n          -0.002447647116524297,\n          -0.010803401704898335,\n          -0.01880833758214213\n        ],\n        \"semantic_type\": \"\",\n        \"description\": \"\"\n      }\n    },\n    {\n      \"column\": \"Lag4\",\n      \"properties\": {\n        \"dtype\": \"number\",\n        \"std\": 0.33748254137400463,\n        \"min\": -0.048414246239615454,\n        \"max\": 1.0,\n        \"num_unique_values\": 9,\n        \"samples\": [\n          -0.006899526938247343,\n          -0.0029859106997225256,\n          -0.027083640769007516\n        ],\n        \"semantic_type\": \"\",\n        \"description\": \"\"\n      }\n    },\n    {\n      \"column\": \"Lag5\",\n      \"properties\": {\n        \"dtype\": \"number\",\n        \"std\": 0.3370911488034081,\n        \"min\": -0.03486008278727016,\n        \"max\": 1.0,\n        \"num_unique_values\": 9,\n        \"samples\": [\n          -0.03486008278727016,\n          -0.005674606238866534,\n          1.0\n        ],\n        \"semantic_type\": \"\",\n        \"description\": \"\"\n      }\n    },\n    {\n      \"column\": \"Volume\",\n      \"properties\": {\n        \"dtype\": \"number\",\n        \"std\": 0.36434191092201434,\n        \"min\": -0.048414246239615454,\n        \"max\": 1.0,\n        \"num_unique_values\": 9,\n        \"samples\": [\n          0.0145918232591566,\n          0.04090990806740808,\n          -0.022002314871805748\n        ],\n        \"semantic_type\": \"\",\n        \"description\": \"\"\n      }\n    },\n    {\n      \"column\": \"Today\",\n      \"properties\": {\n        \"dtype\": \"number\",\n        \"std\": 0.390161865324767,\n        \"min\": -0.03486008278727016,\n        \"max\": 1.0,\n        \"num_unique_values\": 9,\n        \"samples\": [\n          1.0,\n          -0.02615504543244527,\n          -0.03486008278727016\n        ],\n        \"semantic_type\": \"\",\n        \"description\": \"\"\n      }\n    },\n    {\n      \"column\": \"Up\",\n      \"properties\": {\n        \"dtype\": \"number\",\n        \"std\": 0.38568046121809885,\n        \"min\": -0.039757294535947514,\n        \"max\": 1.0,\n        \"num_unique_values\": 9,\n        \"samples\": [\n          0.7305629015364459,\n          -0.039757294535947514,\n          0.005422568413943732\n        ],\n        \"semantic_type\": \"\",\n        \"description\": \"\"\n      }\n    }\n  ]\n}"
            }
          },
          "metadata": {},
          "execution_count": 31
        }
      ]
    },
    {
      "cell_type": "code",
      "execution_count": null,
      "metadata": {
        "id": "KZ4Y0ctUke9B"
      },
      "outputs": [],
      "source": [
        "X = smarket[['Lag1', 'Lag2', 'Lag3', 'Lag4', 'Lag5']].values\n",
        "y = smarket['Up'].values"
      ]
    },
    {
      "cell_type": "code",
      "execution_count": null,
      "metadata": {
        "id": "SecZ6pJpke9B"
      },
      "outputs": [],
      "source": [
        "train_bool = smarket['Year'].values < 2005\n",
        "X_train = X[train_bool]\n",
        "X_test = X[~train_bool]\n",
        "y_train = y[train_bool]\n",
        "y_test = y[~train_bool]"
      ]
    },
    {
      "cell_type": "code",
      "execution_count": null,
      "metadata": {
        "id": "Wp7Wco_Qke9B",
        "colab": {
          "base_uri": "https://localhost:8080/",
          "height": 384
        },
        "outputId": "9409415a-1887-491d-a4d7-eff7822bf29a"
      },
      "outputs": [
        {
          "output_type": "stream",
          "name": "stdout",
          "text": [
            "Optimization terminated successfully.\n",
            "         Current function value: 0.691327\n",
            "         Iterations 4\n"
          ]
        },
        {
          "output_type": "execute_result",
          "data": {
            "text/plain": [
              "<class 'statsmodels.iolib.summary.Summary'>\n",
              "\"\"\"\n",
              "                           Logit Regression Results                           \n",
              "==============================================================================\n",
              "Dep. Variable:                     Up   No. Observations:                 1250\n",
              "Model:                          Logit   Df Residuals:                     1244\n",
              "Method:                           MLE   Df Model:                            5\n",
              "Date:                Mon, 06 May 2024   Pseudo R-squ.:                0.001651\n",
              "Time:                        09:23:21   Log-Likelihood:                -864.16\n",
              "converged:                       True   LL-Null:                       -865.59\n",
              "Covariance Type:            nonrobust   LLR p-value:                    0.7219\n",
              "==============================================================================\n",
              "                 coef    std err          z      P>|z|      [0.025      0.975]\n",
              "------------------------------------------------------------------------------\n",
              "Intercept      0.0742      0.057      1.309      0.191      -0.037       0.185\n",
              "Lag1          -0.0713      0.050     -1.424      0.155      -0.170       0.027\n",
              "Lag2          -0.0441      0.050     -0.882      0.378      -0.142       0.054\n",
              "Lag3           0.0092      0.050      0.185      0.853      -0.089       0.107\n",
              "Lag4           0.0072      0.050      0.145      0.885      -0.091       0.105\n",
              "Lag5           0.0093      0.049      0.188      0.851      -0.088       0.106\n",
              "==============================================================================\n",
              "\"\"\""
            ],
            "text/html": [
              "<table class=\"simpletable\">\n",
              "<caption>Logit Regression Results</caption>\n",
              "<tr>\n",
              "  <th>Dep. Variable:</th>          <td>Up</td>        <th>  No. Observations:  </th>  <td>  1250</td> \n",
              "</tr>\n",
              "<tr>\n",
              "  <th>Model:</th>                 <td>Logit</td>      <th>  Df Residuals:      </th>  <td>  1244</td> \n",
              "</tr>\n",
              "<tr>\n",
              "  <th>Method:</th>                 <td>MLE</td>       <th>  Df Model:          </th>  <td>     5</td> \n",
              "</tr>\n",
              "<tr>\n",
              "  <th>Date:</th>            <td>Mon, 06 May 2024</td> <th>  Pseudo R-squ.:     </th> <td>0.001651</td>\n",
              "</tr>\n",
              "<tr>\n",
              "  <th>Time:</th>                <td>09:23:21</td>     <th>  Log-Likelihood:    </th> <td> -864.16</td>\n",
              "</tr>\n",
              "<tr>\n",
              "  <th>converged:</th>             <td>True</td>       <th>  LL-Null:           </th> <td> -865.59</td>\n",
              "</tr>\n",
              "<tr>\n",
              "  <th>Covariance Type:</th>     <td>nonrobust</td>    <th>  LLR p-value:       </th>  <td>0.7219</td> \n",
              "</tr>\n",
              "</table>\n",
              "<table class=\"simpletable\">\n",
              "<tr>\n",
              "      <td></td>         <th>coef</th>     <th>std err</th>      <th>z</th>      <th>P>|z|</th>  <th>[0.025</th>    <th>0.975]</th>  \n",
              "</tr>\n",
              "<tr>\n",
              "  <th>Intercept</th> <td>    0.0742</td> <td>    0.057</td> <td>    1.309</td> <td> 0.191</td> <td>   -0.037</td> <td>    0.185</td>\n",
              "</tr>\n",
              "<tr>\n",
              "  <th>Lag1</th>      <td>   -0.0713</td> <td>    0.050</td> <td>   -1.424</td> <td> 0.155</td> <td>   -0.170</td> <td>    0.027</td>\n",
              "</tr>\n",
              "<tr>\n",
              "  <th>Lag2</th>      <td>   -0.0441</td> <td>    0.050</td> <td>   -0.882</td> <td> 0.378</td> <td>   -0.142</td> <td>    0.054</td>\n",
              "</tr>\n",
              "<tr>\n",
              "  <th>Lag3</th>      <td>    0.0092</td> <td>    0.050</td> <td>    0.185</td> <td> 0.853</td> <td>   -0.089</td> <td>    0.107</td>\n",
              "</tr>\n",
              "<tr>\n",
              "  <th>Lag4</th>      <td>    0.0072</td> <td>    0.050</td> <td>    0.145</td> <td> 0.885</td> <td>   -0.091</td> <td>    0.105</td>\n",
              "</tr>\n",
              "<tr>\n",
              "  <th>Lag5</th>      <td>    0.0093</td> <td>    0.049</td> <td>    0.188</td> <td> 0.851</td> <td>   -0.088</td> <td>    0.106</td>\n",
              "</tr>\n",
              "</table>"
            ],
            "text/latex": "\\begin{center}\n\\begin{tabular}{lclc}\n\\toprule\n\\textbf{Dep. Variable:}   &        Up        & \\textbf{  No. Observations:  } &     1250    \\\\\n\\textbf{Model:}           &      Logit       & \\textbf{  Df Residuals:      } &     1244    \\\\\n\\textbf{Method:}          &       MLE        & \\textbf{  Df Model:          } &        5    \\\\\n\\textbf{Date:}            & Mon, 06 May 2024 & \\textbf{  Pseudo R-squ.:     } &  0.001651   \\\\\n\\textbf{Time:}            &     09:23:21     & \\textbf{  Log-Likelihood:    } &   -864.16   \\\\\n\\textbf{converged:}       &       True       & \\textbf{  LL-Null:           } &   -865.59   \\\\\n\\textbf{Covariance Type:} &    nonrobust     & \\textbf{  LLR p-value:       } &   0.7219    \\\\\n\\bottomrule\n\\end{tabular}\n\\begin{tabular}{lcccccc}\n                   & \\textbf{coef} & \\textbf{std err} & \\textbf{z} & \\textbf{P$> |$z$|$} & \\textbf{[0.025} & \\textbf{0.975]}  \\\\\n\\midrule\n\\textbf{Intercept} &       0.0742  &        0.057     &     1.309  &         0.191        &       -0.037    &        0.185     \\\\\n\\textbf{Lag1}      &      -0.0713  &        0.050     &    -1.424  &         0.155        &       -0.170    &        0.027     \\\\\n\\textbf{Lag2}      &      -0.0441  &        0.050     &    -0.882  &         0.378        &       -0.142    &        0.054     \\\\\n\\textbf{Lag3}      &       0.0092  &        0.050     &     0.185  &         0.853        &       -0.089    &        0.107     \\\\\n\\textbf{Lag4}      &       0.0072  &        0.050     &     0.145  &         0.885        &       -0.091    &        0.105     \\\\\n\\textbf{Lag5}      &       0.0093  &        0.049     &     0.188  &         0.851        &       -0.088    &        0.106     \\\\\n\\bottomrule\n\\end{tabular}\n%\\caption{Logit Regression Results}\n\\end{center}"
          },
          "metadata": {},
          "execution_count": 34
        }
      ],
      "source": [
        "results = smf.logit('Up ~ Lag1 + Lag2 + Lag3 + Lag4 + Lag5', data=smarket).fit()\n",
        "results.summary()"
      ]
    },
    {
      "cell_type": "code",
      "execution_count": null,
      "metadata": {
        "id": "hCnbv4Wmke9B"
      },
      "outputs": [],
      "source": [
        "from sklearn.metrics import confusion_matrix"
      ]
    },
    {
      "cell_type": "code",
      "execution_count": null,
      "metadata": {
        "id": "j2FdqRlpke9B",
        "colab": {
          "base_uri": "https://localhost:8080/",
          "height": 74
        },
        "outputId": "3de2e20b-3368-45c2-8b64-8e6d122098ba"
      },
      "outputs": [
        {
          "output_type": "execute_result",
          "data": {
            "text/plain": [
              "LogisticRegression()"
            ],
            "text/html": [
              "<style>#sk-container-id-4 {color: black;background-color: white;}#sk-container-id-4 pre{padding: 0;}#sk-container-id-4 div.sk-toggleable {background-color: white;}#sk-container-id-4 label.sk-toggleable__label {cursor: pointer;display: block;width: 100%;margin-bottom: 0;padding: 0.3em;box-sizing: border-box;text-align: center;}#sk-container-id-4 label.sk-toggleable__label-arrow:before {content: \"▸\";float: left;margin-right: 0.25em;color: #696969;}#sk-container-id-4 label.sk-toggleable__label-arrow:hover:before {color: black;}#sk-container-id-4 div.sk-estimator:hover label.sk-toggleable__label-arrow:before {color: black;}#sk-container-id-4 div.sk-toggleable__content {max-height: 0;max-width: 0;overflow: hidden;text-align: left;background-color: #f0f8ff;}#sk-container-id-4 div.sk-toggleable__content pre {margin: 0.2em;color: black;border-radius: 0.25em;background-color: #f0f8ff;}#sk-container-id-4 input.sk-toggleable__control:checked~div.sk-toggleable__content {max-height: 200px;max-width: 100%;overflow: auto;}#sk-container-id-4 input.sk-toggleable__control:checked~label.sk-toggleable__label-arrow:before {content: \"▾\";}#sk-container-id-4 div.sk-estimator input.sk-toggleable__control:checked~label.sk-toggleable__label {background-color: #d4ebff;}#sk-container-id-4 div.sk-label input.sk-toggleable__control:checked~label.sk-toggleable__label {background-color: #d4ebff;}#sk-container-id-4 input.sk-hidden--visually {border: 0;clip: rect(1px 1px 1px 1px);clip: rect(1px, 1px, 1px, 1px);height: 1px;margin: -1px;overflow: hidden;padding: 0;position: absolute;width: 1px;}#sk-container-id-4 div.sk-estimator {font-family: monospace;background-color: #f0f8ff;border: 1px dotted black;border-radius: 0.25em;box-sizing: border-box;margin-bottom: 0.5em;}#sk-container-id-4 div.sk-estimator:hover {background-color: #d4ebff;}#sk-container-id-4 div.sk-parallel-item::after {content: \"\";width: 100%;border-bottom: 1px solid gray;flex-grow: 1;}#sk-container-id-4 div.sk-label:hover label.sk-toggleable__label {background-color: #d4ebff;}#sk-container-id-4 div.sk-serial::before {content: \"\";position: absolute;border-left: 1px solid gray;box-sizing: border-box;top: 0;bottom: 0;left: 50%;z-index: 0;}#sk-container-id-4 div.sk-serial {display: flex;flex-direction: column;align-items: center;background-color: white;padding-right: 0.2em;padding-left: 0.2em;position: relative;}#sk-container-id-4 div.sk-item {position: relative;z-index: 1;}#sk-container-id-4 div.sk-parallel {display: flex;align-items: stretch;justify-content: center;background-color: white;position: relative;}#sk-container-id-4 div.sk-item::before, #sk-container-id-4 div.sk-parallel-item::before {content: \"\";position: absolute;border-left: 1px solid gray;box-sizing: border-box;top: 0;bottom: 0;left: 50%;z-index: -1;}#sk-container-id-4 div.sk-parallel-item {display: flex;flex-direction: column;z-index: 1;position: relative;background-color: white;}#sk-container-id-4 div.sk-parallel-item:first-child::after {align-self: flex-end;width: 50%;}#sk-container-id-4 div.sk-parallel-item:last-child::after {align-self: flex-start;width: 50%;}#sk-container-id-4 div.sk-parallel-item:only-child::after {width: 0;}#sk-container-id-4 div.sk-dashed-wrapped {border: 1px dashed gray;margin: 0 0.4em 0.5em 0.4em;box-sizing: border-box;padding-bottom: 0.4em;background-color: white;}#sk-container-id-4 div.sk-label label {font-family: monospace;font-weight: bold;display: inline-block;line-height: 1.2em;}#sk-container-id-4 div.sk-label-container {text-align: center;}#sk-container-id-4 div.sk-container {/* jupyter's `normalize.less` sets `[hidden] { display: none; }` but bootstrap.min.css set `[hidden] { display: none !important; }` so we also need the `!important` here to be able to override the default hidden behavior on the sphinx rendered scikit-learn.org. See: https://github.com/scikit-learn/scikit-learn/issues/21755 */display: inline-block !important;position: relative;}#sk-container-id-4 div.sk-text-repr-fallback {display: none;}</style><div id=\"sk-container-id-4\" class=\"sk-top-container\"><div class=\"sk-text-repr-fallback\"><pre>LogisticRegression()</pre><b>In a Jupyter environment, please rerun this cell to show the HTML representation or trust the notebook. <br />On GitHub, the HTML representation is unable to render, please try loading this page with nbviewer.org.</b></div><div class=\"sk-container\" hidden><div class=\"sk-item\"><div class=\"sk-estimator sk-toggleable\"><input class=\"sk-toggleable__control sk-hidden--visually\" id=\"sk-estimator-id-4\" type=\"checkbox\" checked><label for=\"sk-estimator-id-4\" class=\"sk-toggleable__label sk-toggleable__label-arrow\">LogisticRegression</label><div class=\"sk-toggleable__content\"><pre>LogisticRegression()</pre></div></div></div></div></div>"
            ]
          },
          "metadata": {},
          "execution_count": 36
        }
      ],
      "source": [
        "lr = LogisticRegression()\n",
        "lr.fit(X_train, y_train)"
      ]
    },
    {
      "cell_type": "code",
      "execution_count": null,
      "metadata": {
        "id": "qmw1LJvOke9B",
        "colab": {
          "base_uri": "https://localhost:8080/"
        },
        "outputId": "40af8d31-cfd9-4b57-88ef-26d78ee96900"
      },
      "outputs": [
        {
          "output_type": "execute_result",
          "data": {
            "text/plain": [
              "array([[ 37,  74],\n",
              "       [ 30, 111]])"
            ]
          },
          "metadata": {},
          "execution_count": 37
        }
      ],
      "source": [
        "# true on the left axis, predicted above 左轴为真，上​​方预测\n",
        "confusion_matrix(y_test, lr.predict(X_test))"
      ]
    },
    {
      "cell_type": "code",
      "execution_count": null,
      "metadata": {
        "id": "28HOOzTJke9B",
        "colab": {
          "base_uri": "https://localhost:8080/"
        },
        "outputId": "80713963-c675-4b8f-834f-7a853ee427cd"
      },
      "outputs": [
        {
          "output_type": "execute_result",
          "data": {
            "text/plain": [
              "0.5833333333333334"
            ]
          },
          "metadata": {},
          "execution_count": 38
        }
      ],
      "source": [
        "147/ len(y_test)"
      ]
    },
    {
      "cell_type": "markdown",
      "metadata": {
        "id": "LIDAxn8_ke9B"
      },
      "source": [
        "Out of the 68 predicted down, 37 actually were down days. 54% accurracy  \n",
        "Out of the 184 predicted up, 110 actually were up. 60% accuracy.  \n",
        "58% total accuracy"
      ]
    },
    {
      "cell_type": "code",
      "execution_count": null,
      "metadata": {
        "id": "5aqEuoe9ke9B"
      },
      "outputs": [],
      "source": [
        "y_pred = lr.predict(X_test)"
      ]
    },
    {
      "cell_type": "code",
      "execution_count": null,
      "metadata": {
        "id": "2pviEo3vke9B",
        "colab": {
          "base_uri": "https://localhost:8080/"
        },
        "outputId": "9c6b4797-f7bf-4883-c608-13b547e0d2a4"
      },
      "outputs": [
        {
          "output_type": "execute_result",
          "data": {
            "text/plain": [
              "array([1, 1, 1, 1, 1, 1, 1, 0, 1, 1, 0, 1, 0, 1, 1, 0, 0, 1, 1, 1, 1, 0,\n",
              "       1, 1, 1, 0, 1, 1, 1, 1, 1, 1, 1, 1, 0, 0, 1, 1, 1, 1, 1, 0, 1, 1,\n",
              "       1, 1, 1, 1, 1, 0, 0, 0, 1, 1, 1, 1, 1, 1, 1, 1, 1, 1, 1, 1, 1, 1,\n",
              "       1, 1, 1, 1, 1, 0, 0, 1, 1, 1, 1, 1, 1, 1, 1, 1, 1, 1, 0, 1, 1, 1,\n",
              "       1, 1, 1, 1, 1, 1, 0, 1, 0, 1, 1, 1, 1, 1, 1, 1, 1, 1, 0, 1, 1, 0,\n",
              "       1, 1, 1, 1, 0, 1, 1, 0, 1, 1, 1, 0, 1, 1, 0, 0, 0, 0, 0, 1, 1, 0,\n",
              "       1, 1, 1, 1, 1, 1, 1, 0, 1])"
            ]
          },
          "metadata": {},
          "execution_count": 40
        }
      ],
      "source": [
        "y_pred[y_test == 1]"
      ]
    },
    {
      "cell_type": "code",
      "execution_count": null,
      "metadata": {
        "id": "iaVOsSzske9B"
      },
      "outputs": [],
      "source": [
        "from sklearn.discriminant_analysis import LinearDiscriminantAnalysis, QuadraticDiscriminantAnalysis"
      ]
    },
    {
      "cell_type": "code",
      "execution_count": null,
      "metadata": {
        "id": "shLQvmwRke9C"
      },
      "outputs": [],
      "source": [
        "lda = LinearDiscriminantAnalysis()"
      ]
    },
    {
      "cell_type": "code",
      "execution_count": null,
      "metadata": {
        "id": "VTlgIDDkke9C",
        "colab": {
          "base_uri": "https://localhost:8080/",
          "height": 74
        },
        "outputId": "ff9c5bfb-e7e6-4da2-c2a3-975390466128"
      },
      "outputs": [
        {
          "output_type": "execute_result",
          "data": {
            "text/plain": [
              "LinearDiscriminantAnalysis()"
            ],
            "text/html": [
              "<style>#sk-container-id-5 {color: black;background-color: white;}#sk-container-id-5 pre{padding: 0;}#sk-container-id-5 div.sk-toggleable {background-color: white;}#sk-container-id-5 label.sk-toggleable__label {cursor: pointer;display: block;width: 100%;margin-bottom: 0;padding: 0.3em;box-sizing: border-box;text-align: center;}#sk-container-id-5 label.sk-toggleable__label-arrow:before {content: \"▸\";float: left;margin-right: 0.25em;color: #696969;}#sk-container-id-5 label.sk-toggleable__label-arrow:hover:before {color: black;}#sk-container-id-5 div.sk-estimator:hover label.sk-toggleable__label-arrow:before {color: black;}#sk-container-id-5 div.sk-toggleable__content {max-height: 0;max-width: 0;overflow: hidden;text-align: left;background-color: #f0f8ff;}#sk-container-id-5 div.sk-toggleable__content pre {margin: 0.2em;color: black;border-radius: 0.25em;background-color: #f0f8ff;}#sk-container-id-5 input.sk-toggleable__control:checked~div.sk-toggleable__content {max-height: 200px;max-width: 100%;overflow: auto;}#sk-container-id-5 input.sk-toggleable__control:checked~label.sk-toggleable__label-arrow:before {content: \"▾\";}#sk-container-id-5 div.sk-estimator input.sk-toggleable__control:checked~label.sk-toggleable__label {background-color: #d4ebff;}#sk-container-id-5 div.sk-label input.sk-toggleable__control:checked~label.sk-toggleable__label {background-color: #d4ebff;}#sk-container-id-5 input.sk-hidden--visually {border: 0;clip: rect(1px 1px 1px 1px);clip: rect(1px, 1px, 1px, 1px);height: 1px;margin: -1px;overflow: hidden;padding: 0;position: absolute;width: 1px;}#sk-container-id-5 div.sk-estimator {font-family: monospace;background-color: #f0f8ff;border: 1px dotted black;border-radius: 0.25em;box-sizing: border-box;margin-bottom: 0.5em;}#sk-container-id-5 div.sk-estimator:hover {background-color: #d4ebff;}#sk-container-id-5 div.sk-parallel-item::after {content: \"\";width: 100%;border-bottom: 1px solid gray;flex-grow: 1;}#sk-container-id-5 div.sk-label:hover label.sk-toggleable__label {background-color: #d4ebff;}#sk-container-id-5 div.sk-serial::before {content: \"\";position: absolute;border-left: 1px solid gray;box-sizing: border-box;top: 0;bottom: 0;left: 50%;z-index: 0;}#sk-container-id-5 div.sk-serial {display: flex;flex-direction: column;align-items: center;background-color: white;padding-right: 0.2em;padding-left: 0.2em;position: relative;}#sk-container-id-5 div.sk-item {position: relative;z-index: 1;}#sk-container-id-5 div.sk-parallel {display: flex;align-items: stretch;justify-content: center;background-color: white;position: relative;}#sk-container-id-5 div.sk-item::before, #sk-container-id-5 div.sk-parallel-item::before {content: \"\";position: absolute;border-left: 1px solid gray;box-sizing: border-box;top: 0;bottom: 0;left: 50%;z-index: -1;}#sk-container-id-5 div.sk-parallel-item {display: flex;flex-direction: column;z-index: 1;position: relative;background-color: white;}#sk-container-id-5 div.sk-parallel-item:first-child::after {align-self: flex-end;width: 50%;}#sk-container-id-5 div.sk-parallel-item:last-child::after {align-self: flex-start;width: 50%;}#sk-container-id-5 div.sk-parallel-item:only-child::after {width: 0;}#sk-container-id-5 div.sk-dashed-wrapped {border: 1px dashed gray;margin: 0 0.4em 0.5em 0.4em;box-sizing: border-box;padding-bottom: 0.4em;background-color: white;}#sk-container-id-5 div.sk-label label {font-family: monospace;font-weight: bold;display: inline-block;line-height: 1.2em;}#sk-container-id-5 div.sk-label-container {text-align: center;}#sk-container-id-5 div.sk-container {/* jupyter's `normalize.less` sets `[hidden] { display: none; }` but bootstrap.min.css set `[hidden] { display: none !important; }` so we also need the `!important` here to be able to override the default hidden behavior on the sphinx rendered scikit-learn.org. See: https://github.com/scikit-learn/scikit-learn/issues/21755 */display: inline-block !important;position: relative;}#sk-container-id-5 div.sk-text-repr-fallback {display: none;}</style><div id=\"sk-container-id-5\" class=\"sk-top-container\"><div class=\"sk-text-repr-fallback\"><pre>LinearDiscriminantAnalysis()</pre><b>In a Jupyter environment, please rerun this cell to show the HTML representation or trust the notebook. <br />On GitHub, the HTML representation is unable to render, please try loading this page with nbviewer.org.</b></div><div class=\"sk-container\" hidden><div class=\"sk-item\"><div class=\"sk-estimator sk-toggleable\"><input class=\"sk-toggleable__control sk-hidden--visually\" id=\"sk-estimator-id-5\" type=\"checkbox\" checked><label for=\"sk-estimator-id-5\" class=\"sk-toggleable__label sk-toggleable__label-arrow\">LinearDiscriminantAnalysis</label><div class=\"sk-toggleable__content\"><pre>LinearDiscriminantAnalysis()</pre></div></div></div></div></div>"
            ]
          },
          "metadata": {},
          "execution_count": 43
        }
      ],
      "source": [
        "lda.fit(X_train, y_train)"
      ]
    },
    {
      "cell_type": "code",
      "execution_count": null,
      "metadata": {
        "id": "VZdU6OrEke9C",
        "colab": {
          "base_uri": "https://localhost:8080/"
        },
        "outputId": "023b0b05-d7fd-49c0-813e-25984b665652"
      },
      "outputs": [
        {
          "output_type": "execute_result",
          "data": {
            "text/plain": [
              "array([[ 37,  74],\n",
              "       [ 30, 111]])"
            ]
          },
          "metadata": {},
          "execution_count": 44
        }
      ],
      "source": [
        "#almost exact same as logistic regression 几乎与逻辑回归完全相同\n",
        "confusion_matrix(y_test, lda.predict(X_test))"
      ]
    },
    {
      "cell_type": "code",
      "execution_count": null,
      "metadata": {
        "id": "nkEf5mr1ke9C",
        "colab": {
          "base_uri": "https://localhost:8080/"
        },
        "outputId": "2b79e6fb-a7bc-4541-c954-4dcbccc99802"
      },
      "outputs": [
        {
          "output_type": "execute_result",
          "data": {
            "text/plain": [
              "array([0.49198397, 0.50801603])"
            ]
          },
          "metadata": {},
          "execution_count": 45
        }
      ],
      "source": [
        "lda.priors_"
      ]
    },
    {
      "cell_type": "code",
      "execution_count": null,
      "metadata": {
        "id": "wza3Onvnke9C",
        "colab": {
          "base_uri": "https://localhost:8080/",
          "height": 74
        },
        "outputId": "fe256196-bb3d-4a6d-837f-a3bb9241fdfd"
      },
      "outputs": [
        {
          "output_type": "execute_result",
          "data": {
            "text/plain": [
              "QuadraticDiscriminantAnalysis()"
            ],
            "text/html": [
              "<style>#sk-container-id-6 {color: black;background-color: white;}#sk-container-id-6 pre{padding: 0;}#sk-container-id-6 div.sk-toggleable {background-color: white;}#sk-container-id-6 label.sk-toggleable__label {cursor: pointer;display: block;width: 100%;margin-bottom: 0;padding: 0.3em;box-sizing: border-box;text-align: center;}#sk-container-id-6 label.sk-toggleable__label-arrow:before {content: \"▸\";float: left;margin-right: 0.25em;color: #696969;}#sk-container-id-6 label.sk-toggleable__label-arrow:hover:before {color: black;}#sk-container-id-6 div.sk-estimator:hover label.sk-toggleable__label-arrow:before {color: black;}#sk-container-id-6 div.sk-toggleable__content {max-height: 0;max-width: 0;overflow: hidden;text-align: left;background-color: #f0f8ff;}#sk-container-id-6 div.sk-toggleable__content pre {margin: 0.2em;color: black;border-radius: 0.25em;background-color: #f0f8ff;}#sk-container-id-6 input.sk-toggleable__control:checked~div.sk-toggleable__content {max-height: 200px;max-width: 100%;overflow: auto;}#sk-container-id-6 input.sk-toggleable__control:checked~label.sk-toggleable__label-arrow:before {content: \"▾\";}#sk-container-id-6 div.sk-estimator input.sk-toggleable__control:checked~label.sk-toggleable__label {background-color: #d4ebff;}#sk-container-id-6 div.sk-label input.sk-toggleable__control:checked~label.sk-toggleable__label {background-color: #d4ebff;}#sk-container-id-6 input.sk-hidden--visually {border: 0;clip: rect(1px 1px 1px 1px);clip: rect(1px, 1px, 1px, 1px);height: 1px;margin: -1px;overflow: hidden;padding: 0;position: absolute;width: 1px;}#sk-container-id-6 div.sk-estimator {font-family: monospace;background-color: #f0f8ff;border: 1px dotted black;border-radius: 0.25em;box-sizing: border-box;margin-bottom: 0.5em;}#sk-container-id-6 div.sk-estimator:hover {background-color: #d4ebff;}#sk-container-id-6 div.sk-parallel-item::after {content: \"\";width: 100%;border-bottom: 1px solid gray;flex-grow: 1;}#sk-container-id-6 div.sk-label:hover label.sk-toggleable__label {background-color: #d4ebff;}#sk-container-id-6 div.sk-serial::before {content: \"\";position: absolute;border-left: 1px solid gray;box-sizing: border-box;top: 0;bottom: 0;left: 50%;z-index: 0;}#sk-container-id-6 div.sk-serial {display: flex;flex-direction: column;align-items: center;background-color: white;padding-right: 0.2em;padding-left: 0.2em;position: relative;}#sk-container-id-6 div.sk-item {position: relative;z-index: 1;}#sk-container-id-6 div.sk-parallel {display: flex;align-items: stretch;justify-content: center;background-color: white;position: relative;}#sk-container-id-6 div.sk-item::before, #sk-container-id-6 div.sk-parallel-item::before {content: \"\";position: absolute;border-left: 1px solid gray;box-sizing: border-box;top: 0;bottom: 0;left: 50%;z-index: -1;}#sk-container-id-6 div.sk-parallel-item {display: flex;flex-direction: column;z-index: 1;position: relative;background-color: white;}#sk-container-id-6 div.sk-parallel-item:first-child::after {align-self: flex-end;width: 50%;}#sk-container-id-6 div.sk-parallel-item:last-child::after {align-self: flex-start;width: 50%;}#sk-container-id-6 div.sk-parallel-item:only-child::after {width: 0;}#sk-container-id-6 div.sk-dashed-wrapped {border: 1px dashed gray;margin: 0 0.4em 0.5em 0.4em;box-sizing: border-box;padding-bottom: 0.4em;background-color: white;}#sk-container-id-6 div.sk-label label {font-family: monospace;font-weight: bold;display: inline-block;line-height: 1.2em;}#sk-container-id-6 div.sk-label-container {text-align: center;}#sk-container-id-6 div.sk-container {/* jupyter's `normalize.less` sets `[hidden] { display: none; }` but bootstrap.min.css set `[hidden] { display: none !important; }` so we also need the `!important` here to be able to override the default hidden behavior on the sphinx rendered scikit-learn.org. See: https://github.com/scikit-learn/scikit-learn/issues/21755 */display: inline-block !important;position: relative;}#sk-container-id-6 div.sk-text-repr-fallback {display: none;}</style><div id=\"sk-container-id-6\" class=\"sk-top-container\"><div class=\"sk-text-repr-fallback\"><pre>QuadraticDiscriminantAnalysis()</pre><b>In a Jupyter environment, please rerun this cell to show the HTML representation or trust the notebook. <br />On GitHub, the HTML representation is unable to render, please try loading this page with nbviewer.org.</b></div><div class=\"sk-container\" hidden><div class=\"sk-item\"><div class=\"sk-estimator sk-toggleable\"><input class=\"sk-toggleable__control sk-hidden--visually\" id=\"sk-estimator-id-6\" type=\"checkbox\" checked><label for=\"sk-estimator-id-6\" class=\"sk-toggleable__label sk-toggleable__label-arrow\">QuadraticDiscriminantAnalysis</label><div class=\"sk-toggleable__content\"><pre>QuadraticDiscriminantAnalysis()</pre></div></div></div></div></div>"
            ]
          },
          "metadata": {},
          "execution_count": 46
        }
      ],
      "source": [
        "# use QDA with only 2 variables 使用仅含 2 个变量的 QDA\n",
        "qda = QuadraticDiscriminantAnalysis()\n",
        "qda.fit(X_train[:,:2], y_train)"
      ]
    },
    {
      "cell_type": "code",
      "execution_count": null,
      "metadata": {
        "id": "-bl-O0heke9C",
        "colab": {
          "base_uri": "https://localhost:8080/"
        },
        "outputId": "b0e934a0-a89d-44c4-92d9-48b6e11c068d"
      },
      "outputs": [
        {
          "output_type": "execute_result",
          "data": {
            "text/plain": [
              "array([[ 30,  81],\n",
              "       [ 20, 121]])"
            ]
          },
          "metadata": {},
          "execution_count": 47
        }
      ],
      "source": [
        "#almost exact same as logistic regression 几乎与逻辑回归完全相同\n",
        "confusion_matrix(y_test, qda.predict(X_test[:,:2]))"
      ]
    },
    {
      "cell_type": "code",
      "execution_count": null,
      "metadata": {
        "id": "FkP2hLZnke9C"
      },
      "outputs": [],
      "source": [
        "# knn\n",
        "from sklearn.neighbors import KNeighborsClassifier"
      ]
    },
    {
      "cell_type": "code",
      "execution_count": null,
      "metadata": {
        "id": "iac8uJ-7ke9C"
      },
      "outputs": [],
      "source": [
        "knn = KNeighborsClassifier(n_neighbors=3)"
      ]
    },
    {
      "cell_type": "code",
      "execution_count": null,
      "metadata": {
        "id": "uCStyFREke9C",
        "colab": {
          "base_uri": "https://localhost:8080/",
          "height": 74
        },
        "outputId": "2bc28515-ca59-4fe4-b81b-772099d1f325"
      },
      "outputs": [
        {
          "output_type": "execute_result",
          "data": {
            "text/plain": [
              "KNeighborsClassifier(n_neighbors=3)"
            ],
            "text/html": [
              "<style>#sk-container-id-7 {color: black;background-color: white;}#sk-container-id-7 pre{padding: 0;}#sk-container-id-7 div.sk-toggleable {background-color: white;}#sk-container-id-7 label.sk-toggleable__label {cursor: pointer;display: block;width: 100%;margin-bottom: 0;padding: 0.3em;box-sizing: border-box;text-align: center;}#sk-container-id-7 label.sk-toggleable__label-arrow:before {content: \"▸\";float: left;margin-right: 0.25em;color: #696969;}#sk-container-id-7 label.sk-toggleable__label-arrow:hover:before {color: black;}#sk-container-id-7 div.sk-estimator:hover label.sk-toggleable__label-arrow:before {color: black;}#sk-container-id-7 div.sk-toggleable__content {max-height: 0;max-width: 0;overflow: hidden;text-align: left;background-color: #f0f8ff;}#sk-container-id-7 div.sk-toggleable__content pre {margin: 0.2em;color: black;border-radius: 0.25em;background-color: #f0f8ff;}#sk-container-id-7 input.sk-toggleable__control:checked~div.sk-toggleable__content {max-height: 200px;max-width: 100%;overflow: auto;}#sk-container-id-7 input.sk-toggleable__control:checked~label.sk-toggleable__label-arrow:before {content: \"▾\";}#sk-container-id-7 div.sk-estimator input.sk-toggleable__control:checked~label.sk-toggleable__label {background-color: #d4ebff;}#sk-container-id-7 div.sk-label input.sk-toggleable__control:checked~label.sk-toggleable__label {background-color: #d4ebff;}#sk-container-id-7 input.sk-hidden--visually {border: 0;clip: rect(1px 1px 1px 1px);clip: rect(1px, 1px, 1px, 1px);height: 1px;margin: -1px;overflow: hidden;padding: 0;position: absolute;width: 1px;}#sk-container-id-7 div.sk-estimator {font-family: monospace;background-color: #f0f8ff;border: 1px dotted black;border-radius: 0.25em;box-sizing: border-box;margin-bottom: 0.5em;}#sk-container-id-7 div.sk-estimator:hover {background-color: #d4ebff;}#sk-container-id-7 div.sk-parallel-item::after {content: \"\";width: 100%;border-bottom: 1px solid gray;flex-grow: 1;}#sk-container-id-7 div.sk-label:hover label.sk-toggleable__label {background-color: #d4ebff;}#sk-container-id-7 div.sk-serial::before {content: \"\";position: absolute;border-left: 1px solid gray;box-sizing: border-box;top: 0;bottom: 0;left: 50%;z-index: 0;}#sk-container-id-7 div.sk-serial {display: flex;flex-direction: column;align-items: center;background-color: white;padding-right: 0.2em;padding-left: 0.2em;position: relative;}#sk-container-id-7 div.sk-item {position: relative;z-index: 1;}#sk-container-id-7 div.sk-parallel {display: flex;align-items: stretch;justify-content: center;background-color: white;position: relative;}#sk-container-id-7 div.sk-item::before, #sk-container-id-7 div.sk-parallel-item::before {content: \"\";position: absolute;border-left: 1px solid gray;box-sizing: border-box;top: 0;bottom: 0;left: 50%;z-index: -1;}#sk-container-id-7 div.sk-parallel-item {display: flex;flex-direction: column;z-index: 1;position: relative;background-color: white;}#sk-container-id-7 div.sk-parallel-item:first-child::after {align-self: flex-end;width: 50%;}#sk-container-id-7 div.sk-parallel-item:last-child::after {align-self: flex-start;width: 50%;}#sk-container-id-7 div.sk-parallel-item:only-child::after {width: 0;}#sk-container-id-7 div.sk-dashed-wrapped {border: 1px dashed gray;margin: 0 0.4em 0.5em 0.4em;box-sizing: border-box;padding-bottom: 0.4em;background-color: white;}#sk-container-id-7 div.sk-label label {font-family: monospace;font-weight: bold;display: inline-block;line-height: 1.2em;}#sk-container-id-7 div.sk-label-container {text-align: center;}#sk-container-id-7 div.sk-container {/* jupyter's `normalize.less` sets `[hidden] { display: none; }` but bootstrap.min.css set `[hidden] { display: none !important; }` so we also need the `!important` here to be able to override the default hidden behavior on the sphinx rendered scikit-learn.org. See: https://github.com/scikit-learn/scikit-learn/issues/21755 */display: inline-block !important;position: relative;}#sk-container-id-7 div.sk-text-repr-fallback {display: none;}</style><div id=\"sk-container-id-7\" class=\"sk-top-container\"><div class=\"sk-text-repr-fallback\"><pre>KNeighborsClassifier(n_neighbors=3)</pre><b>In a Jupyter environment, please rerun this cell to show the HTML representation or trust the notebook. <br />On GitHub, the HTML representation is unable to render, please try loading this page with nbviewer.org.</b></div><div class=\"sk-container\" hidden><div class=\"sk-item\"><div class=\"sk-estimator sk-toggleable\"><input class=\"sk-toggleable__control sk-hidden--visually\" id=\"sk-estimator-id-7\" type=\"checkbox\" checked><label for=\"sk-estimator-id-7\" class=\"sk-toggleable__label sk-toggleable__label-arrow\">KNeighborsClassifier</label><div class=\"sk-toggleable__content\"><pre>KNeighborsClassifier(n_neighbors=3)</pre></div></div></div></div></div>"
            ]
          },
          "metadata": {},
          "execution_count": 50
        }
      ],
      "source": [
        "knn.fit(X_train[:,:2], y_train)"
      ]
    },
    {
      "cell_type": "code",
      "execution_count": null,
      "metadata": {
        "id": "xEuPPjV5ke9E",
        "colab": {
          "base_uri": "https://localhost:8080/"
        },
        "outputId": "ff09802e-4756-439a-a7c7-03f6577a48ee"
      },
      "outputs": [
        {
          "output_type": "execute_result",
          "data": {
            "text/plain": [
              "array([[48, 63],\n",
              "       [55, 86]])"
            ]
          },
          "metadata": {},
          "execution_count": 51
        }
      ],
      "source": [
        "confusion_matrix(y_test, knn.predict(X_test[:,:2]))"
      ]
    },
    {
      "cell_type": "markdown",
      "metadata": {
        "collapsed": true,
        "id": "muhLvhUike9E"
      },
      "source": [
        "# Exercises"
      ]
    },
    {
      "cell_type": "markdown",
      "metadata": {
        "id": "b-ofVv1Rke9F"
      },
      "source": [
        "# 1\n",
        "Turn equation 4.2 to 4.3"
      ]
    },
    {
      "cell_type": "markdown",
      "metadata": {
        "id": "TJta0ExZke9F"
      },
      "source": [
        "4.2\n",
        "$$p(x) = \\frac{e^{\\beta_0 + \\beta_1X}}{1 + e^{\\beta_0 + \\beta_1X}}$$\n",
        "\n",
        "4.3\n",
        "$$\\frac{p(x)}{1 - p(x)} = e^{\\beta_0 + \\beta_1X}$$\n",
        "\n",
        "First, multiply 4.2 by negative 1 and add 1 to both sides\n",
        "$$1 - p(x) = 1 - \\frac{e^{\\beta_0 + \\beta_1X}}{1 + e^{\\beta_0 + \\beta_1X}}$$\n",
        "Simplify right hand side\n",
        "$$1 - p(x) = \\frac{1}{1 + e^{\\beta_0 + \\beta_1X}}$$\n",
        "Now just divide 4.2 by the last equation and you have the result\n",
        "\n",
        "4.2\n",
        "$$p(x) = \\frac{e^{\\beta_0 + \\beta_1X}}{1 + e^{\\beta_0 + \\beta_1X}}$$\n",
        "\n",
        "4.3\n",
        "$$\\frac{p(x)}{1 - p(x)} = e^{\\beta_0 + \\beta_1X}$$\n",
        "\n",
        "首先，将 4.2 乘以 -1，并在两边都加 1\n",
        "$$1 - p(x) = 1 - \\frac{e^{\\beta_0 + \\beta_1X}}{1 + e^{\\beta_0 + \\beta_1X}}$$\n",
        "简化右侧\n",
        "$$1 - p(x) = \\frac{1}{1 + e^{\\beta_0 + \\beta_1X}}$$\n",
        "现在只需将 4.2 除以最后一个等式即可得到结果"
      ]
    },
    {
      "cell_type": "markdown",
      "metadata": {
        "id": "nFL6eAEVke9F"
      },
      "source": [
        "# 2\n",
        "Prove that 4.13 maximizes 4.12.\n",
        "\n",
        "Since log is a monotone increasing function, maximizing the log of a function will also maximize the original function. After taking the log of 4.12 all constants can be dropped and you are left with the 4.13.\n",
        "\n",
        "证明 4.13 使 4.12 最大化。\n",
        "\n",
        "由于对数是单调递增函数，因此最大化函数的对数也会使原始函数最大化。取 4.12 的对数后，可以删除所有常数，只剩下 4.13。"
      ]
    },
    {
      "cell_type": "markdown",
      "metadata": {
        "id": "MKUMFy6Fke9F"
      },
      "source": [
        "# 3\n",
        "Prove that QDA is quadratic with one predictor\n",
        "\n",
        "This is show by taking the log of 4.12 and throwing away all terms that don't depend on k. An extra term will be left attached to $x^2$ thus making it quadratic. This term disappears in LDA because all the variances are the same.\n",
        "\n",
        "证明 QDA 是具有一个预测因子的二次函数\n",
        "\n",
        "这可以通过取 4.12 的对数并丢弃所有不依赖于 k 的项来证明。一个额外的项将附加到 $x^2$，从而使其成为二次函数。该项在 LDA 中消失，因为所有方差都相同。"
      ]
    },
    {
      "cell_type": "markdown",
      "metadata": {
        "id": "uy9ni0Phke9F"
      },
      "source": [
        "# 4\n",
        "It's easiest to think in terms of each X in a range of 0 - 100\n",
        "a) 10 / 100 = 10%  \n",
        "b) 10 x 10 / (100 x 100) = 1%  \n",
        "c) $10^{-100}$. The fraction of nearest neighbors is $10^{-p}$  \n",
        "d) even in 2 dimensions only 1% of neighbors will be within 5% on either side  \n",
        "e) 10% for p=1.\n",
        "Generalizing we get $.1^{1/p}$\n",
        "\n",
        "最简单的方法是将每个 X 视为 0 - 100 范围内的数\n",
        "+ a) 10 / 100 = 10%\n",
        "+ b) 10 x 10 / (100 x 100) = 1%\n",
        "+ c) $10^{-100}$。最近邻的比例为 $10^{-p}$\n",
        "+ d) 即使在二维中，也只有 1% 的邻居会在两边 5% 以内\n",
        "+ e) p=1 时为 10%。\n",
        "\n",
        "\n",
        "概括起来，我们得到 $.1^{1/p}$"
      ]
    },
    {
      "cell_type": "markdown",
      "metadata": {
        "id": "SfyeInUake9F"
      },
      "source": [
        "# 5\n",
        "a) QDA on training. LDA on test  \n",
        "b) QDA on both  \n",
        "c) Since QDA is a quadratic model, more data should improve the model faster than LDA  \n",
        "d) False, QDA will overfit by finding a different variance for each class when in reality the variance for each class are the same\n",
        "\n",
        "+ a) 训练时使用 QDA。测试时使用 LDA\n",
        "+ b) 两者均使用 QDA\n",
        "+ c) 由于 QDA 是二次模型，因此更多数据应该比 LDA 更快地改善模型\n",
        "+ d) 错误，QDA 会通过为每个类别找到不同的方差而过拟合，而实际上每个类别的方差是相同的"
      ]
    },
    {
      "cell_type": "markdown",
      "metadata": {
        "id": "aOHvgdyRke9F"
      },
      "source": [
        "# 6"
      ]
    },
    {
      "cell_type": "code",
      "execution_count": null,
      "metadata": {
        "id": "Bj1GoP6wke9F"
      },
      "outputs": [],
      "source": [
        "# a\n",
        "b0 = -6\n",
        "b1 = .05\n",
        "b2 = 1\n",
        "x1 = 40\n",
        "x2 = 3.5\n",
        "t = -6 + b1 * x1 + b2 * x2\n",
        "print(\"student has a {:.3f} probability of getting an A\".format(1 / (1 + np.exp(-t))))\n",
        "\n",
        "#b. solve for t = 0. Since an odds of 1 corresponds to 50/50 chance and log(1) = 0\n",
        "# 解出 t = 0。由于赔率 1 对应于 50/50 的机会，并且 log(1) = 0\n",
        "# 0 = -6 + b1 * x1 + b2 * x2\n",
        "hours = (6 - b2 * x2) / b1\n",
        "print(\"student needs to study {} hours to have a 50% chance at an A\".format(1 / (1 + np.exp(-t))))"
      ]
    },
    {
      "cell_type": "code",
      "execution_count": null,
      "metadata": {
        "id": "XVFwmjQIke9F"
      },
      "outputs": [],
      "source": [
        "# double check 50%\n",
        "b0 = -6\n",
        "b1 = .05\n",
        "b2 = 1\n",
        "x1 = 50\n",
        "x2 = 3.5\n",
        "t = -6 + b1 * x1 + b2 * x2\n",
        "1 / (1 + np.exp(-t))"
      ]
    },
    {
      "cell_type": "markdown",
      "metadata": {
        "id": "BpVPjUTVke9F"
      },
      "source": [
        "# 7"
      ]
    },
    {
      "cell_type": "code",
      "execution_count": null,
      "metadata": {
        "id": "xFDPzxnwke9F"
      },
      "outputs": [],
      "source": [
        "# 7\n",
        "prior = .8\n",
        "mu_d = 10\n",
        "mu_no_d = 0\n",
        "sigma = 6\n",
        "normal = lambda x, m, s: 1 / np.sqrt(2 * np.pi * s ** 2) * np.exp(-(x - m) ** 2 / (2 * s ** 2))"
      ]
    },
    {
      "cell_type": "code",
      "execution_count": null,
      "metadata": {
        "id": "9ocMauUfke9G"
      },
      "outputs": [],
      "source": [
        "f_d = normal(4, 10, 6)\n",
        "f_no_d = normal(4, 0, 6)\n",
        "f_d, f_no_d"
      ]
    },
    {
      "cell_type": "code",
      "execution_count": null,
      "metadata": {
        "id": "ERVrZEXZke9G"
      },
      "outputs": [],
      "source": [
        "# bayes\n",
        "prob_div = prior * f_d / (prior * f_d + (1 - prior) * f_no_d)\n",
        "print(\"Probability of dividend is {:.3f}\".format(prob_div))"
      ]
    },
    {
      "cell_type": "markdown",
      "metadata": {
        "id": "BDsNPG6_ke9G"
      },
      "source": [
        "# 8\n",
        "Since knn with k equal to 1 always picks itself, its training error is 0. Meaning in the given example the test error is .36 and worse than logistic regression.\n",
        "\n",
        "由于 k 等于 1 的 knn 总是选择自身，因此它的训练误差为 0。这意味着在给定的例子中，测试误差为 0.36，并且比逻辑回归更差。"
      ]
    },
    {
      "cell_type": "markdown",
      "metadata": {
        "id": "scuBR7pGke9G"
      },
      "source": [
        "# 9"
      ]
    },
    {
      "cell_type": "code",
      "execution_count": null,
      "metadata": {
        "id": "GKq8dfMPke9G"
      },
      "outputs": [],
      "source": [
        "# a\n",
        "# p / (1 - p) = .37\n",
        "# 1 / p - 1 = 1 / .37\n",
        "odds = .37\n",
        "one_over_p = 1 + 1 / odds\n",
        "p = 1 / one_over_p\n",
        "print(\"The probability of defaulting with odds of {} are {:.2f}\".format(odds, p))\n",
        "print(\"The odds of defaulting with probability .16 are {:.2f}\".format(.16 / .84))"
      ]
    },
    {
      "cell_type": "markdown",
      "metadata": {
        "id": "dsLgle5zke9G"
      },
      "source": [
        "# 10"
      ]
    },
    {
      "cell_type": "code",
      "execution_count": null,
      "metadata": {
        "id": "3jygQ6g-ke9G"
      },
      "outputs": [],
      "source": [
        "weekly = pd.read_csv(\"data/weekly.csv\")\n",
        "weekly.head()"
      ]
    },
    {
      "cell_type": "code",
      "execution_count": null,
      "metadata": {
        "id": "OfcWnsUQke9G"
      },
      "outputs": [],
      "source": [
        "# strongest correlations with today are lag1 and lag3 与今天最相关的是滞后 1 和滞后 3\n",
        "weekly.corr()"
      ]
    },
    {
      "cell_type": "code",
      "execution_count": null,
      "metadata": {
        "id": "LN8vieDRke9G"
      },
      "outputs": [],
      "source": [
        "today = weekly['Today']"
      ]
    },
    {
      "cell_type": "code",
      "execution_count": null,
      "metadata": {
        "id": "UVx3Ina1ke9G"
      },
      "outputs": [],
      "source": [
        "today_perc = (100 + today) / 100"
      ]
    },
    {
      "cell_type": "code",
      "execution_count": null,
      "metadata": {
        "id": "pn2p-BGeke9H"
      },
      "outputs": [],
      "source": [
        "today_perc.cumprod().plot()"
      ]
    },
    {
      "cell_type": "code",
      "execution_count": null,
      "metadata": {
        "id": "96RWHCbkke9H"
      },
      "outputs": [],
      "source": [
        "weekly['Volume'].plot()"
      ]
    },
    {
      "cell_type": "code",
      "execution_count": null,
      "metadata": {
        "id": "gwo3BRqeke9H"
      },
      "outputs": [],
      "source": [
        "plt.figure(figsize=(8, 6))\n",
        "sns.boxplot('Direction', 'Lag1', data=weekly)"
      ]
    },
    {
      "cell_type": "code",
      "execution_count": null,
      "metadata": {
        "id": "ZIIFk52Ike9H"
      },
      "outputs": [],
      "source": [
        "plt.figure(figsize=(8, 6))\n",
        "sns.boxplot('Direction', 'Lag3', data=weekly)"
      ]
    },
    {
      "cell_type": "code",
      "execution_count": null,
      "metadata": {
        "id": "P-f8-YaWke9H"
      },
      "outputs": [],
      "source": [
        "weekly['Direction'] = np.where(weekly['Direction'] == 'Up', 1, 0)"
      ]
    },
    {
      "cell_type": "code",
      "execution_count": null,
      "metadata": {
        "id": "R8AjWXOrke9H"
      },
      "outputs": [],
      "source": [
        "# wow lag2 is statistically significant 哇，lag2 具有统计意义\n",
        "results = smf.logit('Direction ~ Lag1 + Lag2 + Lag3 + Lag4 + Lag5 + Volume', data=weekly).fit()\n",
        "results.summary()"
      ]
    },
    {
      "cell_type": "code",
      "execution_count": null,
      "metadata": {
        "id": "C4OKtjmdke9H"
      },
      "outputs": [],
      "source": [
        "# wow lag2 is statistically significant\n",
        "results = smf.logit('Direction ~ Lag2', data=weekly).fit()\n",
        "results.summary()"
      ]
    },
    {
      "cell_type": "code",
      "execution_count": null,
      "metadata": {
        "id": "c6U5WYOhke9H"
      },
      "outputs": [],
      "source": [
        "predictions = np.where(results.predict(weekly) > .5, 1, 0)"
      ]
    },
    {
      "cell_type": "code",
      "execution_count": null,
      "metadata": {
        "id": "aauxAhenke9H"
      },
      "outputs": [],
      "source": [
        "confusion_matrix(weekly['Direction'], predictions)"
      ]
    },
    {
      "cell_type": "code",
      "execution_count": null,
      "metadata": {
        "id": "-_xNijTFke9H"
      },
      "outputs": [],
      "source": [
        "451 / 1030"
      ]
    },
    {
      "cell_type": "code",
      "execution_count": null,
      "metadata": {
        "id": "0fu4FUYFke9I"
      },
      "outputs": [],
      "source": [
        "weekly['Direction'].mean()"
      ]
    },
    {
      "cell_type": "markdown",
      "metadata": {
        "id": "Q-dTjFTjke9I"
      },
      "source": [
        "The default prediciton is Up - about 95% of the predictions are up and it actually gets 56.2% correct but that's only slightly higher than the 55.6% total up days.\n",
        "\n",
        "默认预测是上升的 - 大约 95％ 的预测是上升的，实际上正确率为 56.2％，但这仅略高于 55.6％ 的总上升天数。"
      ]
    },
    {
      "cell_type": "code",
      "execution_count": null,
      "metadata": {
        "id": "-0cj9IFKke9I"
      },
      "outputs": [],
      "source": [
        "# use sklearn for rest of problems 使用 sklearn 解决其余问题\n",
        "year_bool = weekly['Year'] < 2009\n",
        "weekly['ones'] = 1\n",
        "X_train = weekly[year_bool][['ones', 'Lag2']].values\n",
        "X_test = weekly[~year_bool][['ones', 'Lag2']].values\n",
        "y_train = weekly[year_bool]['Direction'].values\n",
        "y_test = weekly[~year_bool]['Direction'].values"
      ]
    },
    {
      "cell_type": "code",
      "execution_count": null,
      "metadata": {
        "id": "1wRzNsYyke9I"
      },
      "outputs": [],
      "source": [
        "lr =  LogisticRegression()\n",
        "lr.fit(X_train, y_train)"
      ]
    },
    {
      "cell_type": "code",
      "execution_count": null,
      "metadata": {
        "id": "YJrCAr3Pke9I"
      },
      "outputs": [],
      "source": [
        "# not bad\n",
        "confusion_matrix(y_test, lr.predict(X_test))"
      ]
    },
    {
      "cell_type": "code",
      "execution_count": null,
      "metadata": {
        "id": "X0GhId3xke9I"
      },
      "outputs": [],
      "source": [
        "# e\n",
        "# use LDA\n",
        "lda = LinearDiscriminantAnalysis()\n",
        "lda.fit(X_train, y_train)\n",
        "confusion_matrix(y_test, lda.predict(X_test))"
      ]
    },
    {
      "cell_type": "code",
      "execution_count": null,
      "metadata": {
        "id": "B96X_Tkpke9I"
      },
      "outputs": [],
      "source": [
        "# terrible\n",
        "qda = QuadraticDiscriminantAnalysis()\n",
        "qda.fit(X_train, y_train)\n",
        "confusion_matrix(y_test, qda.predict(X_test))"
      ]
    },
    {
      "cell_type": "code",
      "execution_count": null,
      "metadata": {
        "id": "Cz34sO_Mke9I"
      },
      "outputs": [],
      "source": [
        "# very poor\n",
        "knn = KNeighborsClassifier(n_neighbors=1)\n",
        "knn.fit(X_train, y_train)\n",
        "confusion_matrix(y_test, knn.predict(X_test))"
      ]
    },
    {
      "cell_type": "code",
      "execution_count": null,
      "metadata": {
        "id": "iilm5M2kke9I"
      },
      "outputs": [],
      "source": [
        "# h\n",
        "# logistic regression and LDA work the best 逻辑回归和 LDA 效果最好"
      ]
    },
    {
      "cell_type": "code",
      "execution_count": null,
      "metadata": {
        "id": "QHbGhnoMke9I"
      },
      "outputs": [],
      "source": [
        "# i\n",
        "# not bad when predicting up 预测向上时还不错\n",
        "knn = KNeighborsClassifier(n_neighbors=15)\n",
        "knn.fit(X_train, y_train)\n",
        "confusion_matrix(y_test, knn.predict(X_test))"
      ]
    },
    {
      "cell_type": "code",
      "execution_count": null,
      "metadata": {
        "id": "_yDLZKZWke9I"
      },
      "outputs": [],
      "source": [
        "# try many combinations 尝试多种组合\n",
        "results = smf.logit('Direction ~ np.power(Lag5, 2)', data=weekly).fit()\n",
        "results.summary()"
      ]
    },
    {
      "cell_type": "code",
      "execution_count": null,
      "metadata": {
        "id": "FWUlOBKske9J"
      },
      "outputs": [],
      "source": [
        "# try many combinations\n",
        "results = smf.logit('Direction ~ np.power(Volume, 2)', data=weekly).fit()\n",
        "results.summary()"
      ]
    },
    {
      "cell_type": "code",
      "execution_count": null,
      "metadata": {
        "id": "hLj12RsBke9J"
      },
      "outputs": [],
      "source": [
        "# try many combinations\n",
        "results = smf.logit('Direction ~ Volume * Lag3', data=weekly).fit()\n",
        "results.summary()"
      ]
    },
    {
      "cell_type": "markdown",
      "metadata": {
        "id": "JDXyuBh0ke9J"
      },
      "source": [
        "# 12"
      ]
    },
    {
      "cell_type": "code",
      "execution_count": null,
      "metadata": {
        "id": "nt9aKHU0ke9J"
      },
      "outputs": [],
      "source": [
        "# a\n",
        "auto = pd.read_csv('data/auto.csv')"
      ]
    },
    {
      "cell_type": "code",
      "execution_count": null,
      "metadata": {
        "id": "soGblmJ6ke9J"
      },
      "outputs": [],
      "source": [
        "auto['mpg01'] = np.where(auto['mpg'] > auto['mpg'].median(), 1, 0)"
      ]
    },
    {
      "cell_type": "code",
      "execution_count": null,
      "metadata": {
        "id": "2ERhiSDfke9J"
      },
      "outputs": [],
      "source": [
        "auto.corr()"
      ]
    },
    {
      "cell_type": "code",
      "execution_count": null,
      "metadata": {
        "id": "S5Io_N14ke9J"
      },
      "outputs": [],
      "source": [
        "X = auto[['cylinders', 'origin']].values\n",
        "y = auto['mpg01'].values\n",
        "X_train, X_test, y_train, y_test = train_test_split(X, y, random_state=1)"
      ]
    },
    {
      "cell_type": "code",
      "execution_count": null,
      "metadata": {
        "id": "M7yqHjHZke9J"
      },
      "outputs": [],
      "source": [
        "from sklearn.cross_validation import train_test_split\n",
        "from sklearn.metrics import accuracy_score"
      ]
    },
    {
      "cell_type": "code",
      "execution_count": null,
      "metadata": {
        "id": "4LsHS8ZIke9J"
      },
      "outputs": [],
      "source": [
        "lr = LogisticRegression()\n",
        "lr.fit(X_train, y_train)\n",
        "accuracy_score(y_test, lr.predict(X_test))"
      ]
    },
    {
      "cell_type": "code",
      "execution_count": null,
      "metadata": {
        "id": "6KNV7Sxtke9J"
      },
      "outputs": [],
      "source": [
        "X = auto[['cylinders', 'origin', 'year', 'acceleration']].values\n",
        "y = auto['mpg01'].values\n",
        "X_train, X_test, y_train, y_test = train_test_split(X, y, random_state=1)"
      ]
    },
    {
      "cell_type": "code",
      "execution_count": null,
      "metadata": {
        "id": "b8Yv1hAVke9J"
      },
      "outputs": [],
      "source": [
        "# slightly higher with more variables 变量较多，略高\n",
        "lr = LogisticRegression()\n",
        "lr.fit(X_train, y_train)\n",
        "accuracy_score(y_test, lr.predict(X_test))"
      ]
    },
    {
      "cell_type": "code",
      "execution_count": null,
      "metadata": {
        "id": "B7dXUeuKke9J"
      },
      "outputs": [],
      "source": [
        "X = auto[auto.columns[1:-1] - ['name']].values\n",
        "y = auto['mpg01'].values\n",
        "X_train, X_test, y_train, y_test = train_test_split(X, y, random_state=1)\n",
        "\n",
        "# Quite a bit better with all variables and high regularlization 对于所有变量和高正则化来说，效果要好得多\n",
        "lr = LogisticRegression(C=.01)\n",
        "lr.fit(X_train, y_train)\n",
        "accuracy_score(y_test, lr.predict(X_test))"
      ]
    },
    {
      "cell_type": "code",
      "execution_count": null,
      "metadata": {
        "id": "5Bxz_9C7ke9K"
      },
      "outputs": [],
      "source": [
        "X = auto[auto.columns[1:-1].difference(['name'])].values\n",
        "y = auto['mpg01'].values\n",
        "X_train, X_test, y_train, y_test = train_test_split(X, y, random_state=1)\n",
        "\n",
        "lda = LinearDiscriminantAnalysis()\n",
        "lda.fit(X_train, y_train)\n",
        "accuracy_score(y_test, lda.predict(X_test))"
      ]
    },
    {
      "cell_type": "code",
      "execution_count": null,
      "metadata": {
        "id": "Dh6yztJeke9K"
      },
      "outputs": [],
      "source": [
        "X = auto[auto.columns[1:-1].difference(['name'])].values\n",
        "y = auto['mpg01'].values\n",
        "X_train, X_test, y_train, y_test = train_test_split(X, y, random_state=1)\n",
        "\n",
        "qda = QuadraticDiscriminantAnalysis()\n",
        "qda.fit(X_train, y_train)\n",
        "accuracy_score(y_test, qda.predict(X_test))"
      ]
    },
    {
      "cell_type": "code",
      "execution_count": null,
      "metadata": {
        "id": "tDCwH85jke9K"
      },
      "outputs": [],
      "source": [
        "X = auto[auto.columns[1:-1].difference(['name'])].values\n",
        "y = auto['mpg01'].values\n",
        "X_train, X_test, y_train, y_test = train_test_split(X, y, random_state=1)"
      ]
    },
    {
      "cell_type": "code",
      "execution_count": null,
      "metadata": {
        "id": "PLIlb_yzke9K"
      },
      "outputs": [],
      "source": [
        "# looks like 18-32 for K yields the best results 看起来 K 为 18-32 会产生最佳结果\n",
        "for k in range(1, 51):\n",
        "    knn = KNeighborsClassifier(n_neighbors=k)\n",
        "    knn.fit(X_train, y_train)\n",
        "    accuracy = accuracy_score(y_test, knn.predict(X_test))\n",
        "    print('With K={} accuracy is {:.3f}'.format(k, accuracy))"
      ]
    },
    {
      "cell_type": "markdown",
      "metadata": {
        "id": "z1bMOFSoke9K"
      },
      "source": [
        "# 12"
      ]
    },
    {
      "cell_type": "code",
      "execution_count": null,
      "metadata": {
        "id": "NYv17Hpoke9K"
      },
      "outputs": [],
      "source": [
        "power = lambda x, a: x ** a"
      ]
    },
    {
      "cell_type": "code",
      "execution_count": null,
      "metadata": {
        "id": "SbN03QcIke9K"
      },
      "outputs": [],
      "source": [
        "power(3, 8)"
      ]
    },
    {
      "cell_type": "code",
      "execution_count": null,
      "metadata": {
        "id": "X0iu9U-Rke9K"
      },
      "outputs": [],
      "source": [
        "n = 100\n",
        "plt.plot(range(n), [power(x, 2) for x in range(n)])"
      ]
    },
    {
      "cell_type": "code",
      "execution_count": null,
      "metadata": {
        "id": "T-T9RCiGke9L"
      },
      "outputs": [],
      "source": [
        "def plot_power(rng, p):\n",
        "    plt.plot(rng, [power(x, p) for x in rng])"
      ]
    },
    {
      "cell_type": "code",
      "execution_count": null,
      "metadata": {
        "id": "lK_Xavaike9L"
      },
      "outputs": [],
      "source": [
        "plot_power(range(3,14), 3)"
      ]
    },
    {
      "cell_type": "markdown",
      "metadata": {
        "id": "uwEW7Rokke9L"
      },
      "source": [
        "# 13"
      ]
    },
    {
      "cell_type": "code",
      "execution_count": null,
      "metadata": {
        "id": "aCpfkbioke9L"
      },
      "outputs": [],
      "source": [
        "boston = pd.read_csv('data/boston.csv')\n",
        "boston['crim01'] = np.where(boston['crim'] > boston['crim'].median(), 1, 0)\n",
        "boston.head()"
      ]
    },
    {
      "cell_type": "code",
      "execution_count": null,
      "metadata": {
        "id": "RMw08IYvke9L"
      },
      "outputs": [],
      "source": [
        "X = boston.iloc[:,1:-1].values\n",
        "y = boston['crim01'].values\n",
        "X_train, X_test, y_train, y_test = train_test_split(X, y, random_state=1)\n",
        "\n",
        "qda = QuadraticDiscriminantAnalysis()\n",
        "qda.fit(X_train, y_train)\n",
        "accuracy_score(y_test, qda.predict(X_test))"
      ]
    },
    {
      "cell_type": "code",
      "execution_count": null,
      "metadata": {
        "id": "1vQhXJb1ke9L"
      },
      "outputs": [],
      "source": [
        "X = boston.iloc[:,1:-1].values\n",
        "y = boston['crim01'].values\n",
        "X_train, X_test, y_train, y_test = train_test_split(X, y, random_state=1)\n",
        "\n",
        "knn = KNeighborsClassifier(n_neighbors=10)\n",
        "knn.fit(X_train, y_train)\n",
        "accuracy_score(y_test, knn.predict(X_test))"
      ]
    },
    {
      "cell_type": "code",
      "execution_count": null,
      "metadata": {
        "id": "Huyep6xUke9L"
      },
      "outputs": [],
      "source": [
        "X = boston.iloc[:,1:-1].values\n",
        "y = boston['crim01'].values\n",
        "X_train, X_test, y_train, y_test = train_test_split(X, y, random_state=1)\n",
        "\n",
        "lr = LogisticRegression(C=1)\n",
        "lr.fit(X_train, y_train)\n",
        "accuracy_score(y_test, lr.predict(X_test))"
      ]
    },
    {
      "cell_type": "code",
      "execution_count": null,
      "metadata": {
        "id": "jgt_pmgSke9L"
      },
      "outputs": [],
      "source": []
    }
  ],
  "metadata": {
    "anaconda-cloud": {},
    "kernelspec": {
      "display_name": "Python 3 (ipykernel)",
      "language": "python",
      "name": "python3"
    },
    "language_info": {
      "codemirror_mode": {
        "name": "ipython",
        "version": 3
      },
      "file_extension": ".py",
      "mimetype": "text/x-python",
      "name": "python",
      "nbconvert_exporter": "python",
      "pygments_lexer": "ipython3",
      "version": "3.10.9"
    },
    "colab": {
      "provenance": []
    }
  },
  "nbformat": 4,
  "nbformat_minor": 0
}