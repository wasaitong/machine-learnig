{
  "cells": [
    {
      "cell_type": "code",
      "execution_count": null,
      "metadata": {
        "id": "DMx-Nc7e6oOF"
      },
      "outputs": [],
      "source": [
        "!ls data"
      ]
    },
    {
      "cell_type": "markdown",
      "metadata": {
        "id": "RR12IUhQ6oOF"
      },
      "source": [
        "# Chapter 6 Linear Model Selection and Regularization 线性模型选择和正则化\n",
        "Linear models still can do astonishingly well compared to non-linear models. This chapter will explore other types of fitting besides least squares because they can give better prediction accuracy and interpretability.\n",
        "\n",
        "与非线性模型相比，线性模型仍然可以做得非常好。本章将探讨除最小二乘法之外的其他类型的拟合，因为它们可以提供更好的预测准确性和可解释性\n",
        "\n",
        "## Classes of alternatives to least squares 最小二乘法的替代方案类别\n",
        "* Subset Selection - Choose a subset of the predictors\n",
        "* Shrinkage (regularization) - Fit all predictors but limit their size. Coefficients can go to 0.\n",
        "* Dimension Reduction - project the predictors into a smaller subspace\n",
        "* 子集选择 - 选择预测变量的子集\n",
        "* 收缩（正则化）- 拟合所有预测变量，但限制其大小。系数可以达到 0。\n",
        "* 降维 - 将预测变量投影到更小的子空间中\n",
        "\n",
        "## Best Subset Selection 最佳子集选择\n",
        "Fit all possible models $2^p$ and take the best model using cross-validated\n",
        "prediction error, Cp, AIC, BIC, or adjusted $R^2$. This can be impossible with large enough p\n",
        "\n",
        "拟合所有可能的模型 $2^p$，并使用交叉验证的预测误差、Cp、AIC、BIC 或调整后的 $R^2$ 选取最佳模型。如果 p 足够大，这是不可能的\n",
        "\n",
        "## Stepwise Selection - Forward, Backward and both 逐步选择 - 向前、向后和两者\n",
        "Because of computational limitation a simpler method of adding or subtracting the best predictor to the current model is employed.\n",
        "\n",
        "由于计算限制，采用了一种更简单的方法，即在当前模型中添加或减去最佳预测变量。\n",
        "\n",
        "### Forward Selection 向前选择\n",
        "Start with an empty model and choose on predictor to add to the model based on best adjusted $R^2$ or other similar metric. Continue adding variables until no improvement in adjusted $R^2$.\n",
        "\n",
        "A variation to this is to retain each model at each step and use $R^2$ (not adjusted) as the metric. This will build p models. Then use cross validation with $R^2$ to pick the best model of those p models built from forward selection.\n",
        "\n",
        "从一个空模型开始，并根据最佳调整后的 $R^2$ 或其他类似指标选择一个预测变量添加到模型中。继续添加变量，直到调整后的 $R^2$ 不再改善。\n",
        "\n",
        "对此的一种变体是在每个步骤中保留每个模型并使用 $R^2$（未调整）作为指标。这将构建 p 个模型。然后使用 $R^2$ 进行交叉验证，从前向选择构建的 p 个模型中挑选出最佳模型。\n",
        "\n",
        "### Backward Selection 向后选择\n",
        "Similar to forward selection but start with all predictors in model and remove one at a time until adjusted $R^2$ is maximized or alternatively, find p models with $R^2$ and then use cross validation to pick best of the p models.\n",
        "\n",
        "类似于前向选择，但从模型中的所有预测因子开始，然后每次移除一个，直到调整后的 $R^2$ 最大化，或者找到具有 $R^2$ 的 p 个模型，然后使用交叉验证从 p 个模型中挑选出最好的。\n",
        "\n",
        "## Both 两者结合\n",
        "At each step, consider both adding or subtracting a variable in the model.\n",
        "\n",
        "在每个步骤中，考虑向模型中添加或删除变量"
      ]
    },
    {
      "cell_type": "markdown",
      "metadata": {
        "id": "tpQnSsQ56oOG"
      },
      "source": [
        "#### Example: Best subset 最佳子集\n",
        "Here we apply the best subset selection approach to the Hitters data. We\n",
        "wish to predict a baseball player’s Salary on the basis of various statistics\n",
        "associated with performance in the previous year.\n",
        "\n",
        "在这里，我们将最佳子集选择方法应用于击球手数据。我们希望根据与前一年的表现相关的各种统计数据来预测棒球运动员的薪水。"
      ]
    },
    {
      "cell_type": "markdown",
      "metadata": {
        "id": "nv36oItD6oOG"
      },
      "source": [
        "$y = \\beta_0$ find the $R_{adj}=0.2$.\n"
      ]
    },
    {
      "cell_type": "markdown",
      "metadata": {
        "id": "V7V2UZ1A6oOH"
      },
      "source": [
        "$y = \\beta_0 + \\beta_1 x_1$ $R_{adj}=0.2$\n",
        "\n",
        "$y = \\beta_0 + \\beta_1 x_2$ $R_{adj}=0.4$"
      ]
    },
    {
      "cell_type": "markdown",
      "metadata": {
        "id": "zHhtTkrA6oOH"
      },
      "source": [
        "$y = \\beta_0 + \\beta_1 x_2 + \\beta_2 x_1$ $R_{adj}=0.4$\n",
        "\n",
        "$y = \\beta_0 + \\beta_1 x_2 + \\beta_2 x_3$ $R_{adj}=0.6$"
      ]
    },
    {
      "cell_type": "markdown",
      "metadata": {
        "id": "PAm28efA6oOH"
      },
      "source": [
        "$\\vdots$\n",
        "\n",
        "$y = \\beta_0 + \\beta_1 x_2 + \\beta_2 x_3 + \\beta_3 x_5$ $R_{adj}=0.8$"
      ]
    },
    {
      "cell_type": "markdown",
      "metadata": {
        "id": "lVCO7H7c6oOH"
      },
      "source": [
        "### backward\n",
        "$y = \\beta_0 + \\beta_1 x_1 + \\beta_2 x_2 + \\cdots + \\beta_5 x_5$ $R_{adj}=0.8$\n",
        "\n",
        "$y = \\beta_0 +  \\beta_2 x_2 + \\cdots + \\beta_5 x_5$ $R_{adj}=0.85$\n",
        "\n",
        "\n"
      ]
    },
    {
      "cell_type": "markdown",
      "metadata": {
        "id": "jm-Q7Aac6oOH"
      },
      "source": [
        "## F/B selection\n",
        "$y = \\beta_0 $ $R_{adj}=0.2$\n",
        "\n",
        "$\\vdots$\n",
        "\n",
        "$y = \\beta_0 + \\beta_1 x_2 + \\beta_2 x_3 + \\beta_3 x_5$ $R_{adj}=0.8$\n",
        "\n",
        "$\\vdots$\n",
        "\n",
        "$y = \\beta_0 + \\beta_1 x_2 + \\beta_3 x_5$ $R_{adj}=0.85$"
      ]
    },
    {
      "cell_type": "code",
      "execution_count": null,
      "metadata": {
        "colab": {
          "base_uri": "https://localhost:8080/"
        },
        "id": "D8t_VmRl6oOH",
        "outputId": "4b3374cb-9dfc-4e2d-c914-5a8d96ecf749"
      },
      "outputs": [
        {
          "output_type": "execute_result",
          "data": {
            "text/plain": [
              "1024"
            ]
          },
          "metadata": {},
          "execution_count": 1
        }
      ],
      "source": [
        "2**10"
      ]
    },
    {
      "cell_type": "code",
      "execution_count": null,
      "metadata": {
        "id": "S-iJBTak6oOH"
      },
      "outputs": [],
      "source": [
        "%matplotlib inline\n",
        "import pandas as pd\n",
        "import numpy as np\n",
        "import itertools\n",
        "import time\n",
        "import statsmodels.api as sm\n",
        "import matplotlib.pyplot as plt"
      ]
    },
    {
      "cell_type": "code",
      "execution_count": null,
      "metadata": {
        "scrolled": true,
        "colab": {
          "base_uri": "https://localhost:8080/",
          "height": 235
        },
        "id": "Ejy1rOgB6oOH",
        "outputId": "62490ec3-aa0e-4b60-f18a-96e95cb426ef"
      },
      "outputs": [
        {
          "output_type": "execute_result",
          "data": {
            "text/plain": [
              "  Unnamed: 0  AtBat  Hits  HmRun  Runs  RBI  Walks  Years  CAtBat  CHits  ...  \\\n",
              "0     #NAME?    293    66      1    30   29     14      1     293     66  ...   \n",
              "1     #NAME?    315    81      7    24   38     39     14    3449    835  ...   \n",
              "2     #NAME?    479   130     18    66   72     76      3    1624    457  ...   \n",
              "3     #NAME?    496   141     20    65   78     37     11    5628   1575  ...   \n",
              "4     #NAME?    321    87     10    39   42     30      2     396    101  ...   \n",
              "\n",
              "   CRuns  CRBI  CWalks  League Division PutOuts  Assists  Errors  Salary  \\\n",
              "0     30    29      14       A        E     446       33      20     NaN   \n",
              "1    321   414     375       N        W     632       43      10   475.0   \n",
              "2    224   266     263       A        W     880       82      14   480.0   \n",
              "3    828   838     354       N        E     200       11       3   500.0   \n",
              "4     48    46      33       N        E     805       40       4    91.5   \n",
              "\n",
              "   NewLeague  \n",
              "0          A  \n",
              "1          N  \n",
              "2          A  \n",
              "3          N  \n",
              "4          N  \n",
              "\n",
              "[5 rows x 21 columns]"
            ],
            "text/html": [
              "\n",
              "  <div id=\"df-366a794b-ef35-4e41-8722-dbf4a866b4b2\" class=\"colab-df-container\">\n",
              "    <div>\n",
              "<style scoped>\n",
              "    .dataframe tbody tr th:only-of-type {\n",
              "        vertical-align: middle;\n",
              "    }\n",
              "\n",
              "    .dataframe tbody tr th {\n",
              "        vertical-align: top;\n",
              "    }\n",
              "\n",
              "    .dataframe thead th {\n",
              "        text-align: right;\n",
              "    }\n",
              "</style>\n",
              "<table border=\"1\" class=\"dataframe\">\n",
              "  <thead>\n",
              "    <tr style=\"text-align: right;\">\n",
              "      <th></th>\n",
              "      <th>Unnamed: 0</th>\n",
              "      <th>AtBat</th>\n",
              "      <th>Hits</th>\n",
              "      <th>HmRun</th>\n",
              "      <th>Runs</th>\n",
              "      <th>RBI</th>\n",
              "      <th>Walks</th>\n",
              "      <th>Years</th>\n",
              "      <th>CAtBat</th>\n",
              "      <th>CHits</th>\n",
              "      <th>...</th>\n",
              "      <th>CRuns</th>\n",
              "      <th>CRBI</th>\n",
              "      <th>CWalks</th>\n",
              "      <th>League</th>\n",
              "      <th>Division</th>\n",
              "      <th>PutOuts</th>\n",
              "      <th>Assists</th>\n",
              "      <th>Errors</th>\n",
              "      <th>Salary</th>\n",
              "      <th>NewLeague</th>\n",
              "    </tr>\n",
              "  </thead>\n",
              "  <tbody>\n",
              "    <tr>\n",
              "      <th>0</th>\n",
              "      <td>#NAME?</td>\n",
              "      <td>293</td>\n",
              "      <td>66</td>\n",
              "      <td>1</td>\n",
              "      <td>30</td>\n",
              "      <td>29</td>\n",
              "      <td>14</td>\n",
              "      <td>1</td>\n",
              "      <td>293</td>\n",
              "      <td>66</td>\n",
              "      <td>...</td>\n",
              "      <td>30</td>\n",
              "      <td>29</td>\n",
              "      <td>14</td>\n",
              "      <td>A</td>\n",
              "      <td>E</td>\n",
              "      <td>446</td>\n",
              "      <td>33</td>\n",
              "      <td>20</td>\n",
              "      <td>NaN</td>\n",
              "      <td>A</td>\n",
              "    </tr>\n",
              "    <tr>\n",
              "      <th>1</th>\n",
              "      <td>#NAME?</td>\n",
              "      <td>315</td>\n",
              "      <td>81</td>\n",
              "      <td>7</td>\n",
              "      <td>24</td>\n",
              "      <td>38</td>\n",
              "      <td>39</td>\n",
              "      <td>14</td>\n",
              "      <td>3449</td>\n",
              "      <td>835</td>\n",
              "      <td>...</td>\n",
              "      <td>321</td>\n",
              "      <td>414</td>\n",
              "      <td>375</td>\n",
              "      <td>N</td>\n",
              "      <td>W</td>\n",
              "      <td>632</td>\n",
              "      <td>43</td>\n",
              "      <td>10</td>\n",
              "      <td>475.0</td>\n",
              "      <td>N</td>\n",
              "    </tr>\n",
              "    <tr>\n",
              "      <th>2</th>\n",
              "      <td>#NAME?</td>\n",
              "      <td>479</td>\n",
              "      <td>130</td>\n",
              "      <td>18</td>\n",
              "      <td>66</td>\n",
              "      <td>72</td>\n",
              "      <td>76</td>\n",
              "      <td>3</td>\n",
              "      <td>1624</td>\n",
              "      <td>457</td>\n",
              "      <td>...</td>\n",
              "      <td>224</td>\n",
              "      <td>266</td>\n",
              "      <td>263</td>\n",
              "      <td>A</td>\n",
              "      <td>W</td>\n",
              "      <td>880</td>\n",
              "      <td>82</td>\n",
              "      <td>14</td>\n",
              "      <td>480.0</td>\n",
              "      <td>A</td>\n",
              "    </tr>\n",
              "    <tr>\n",
              "      <th>3</th>\n",
              "      <td>#NAME?</td>\n",
              "      <td>496</td>\n",
              "      <td>141</td>\n",
              "      <td>20</td>\n",
              "      <td>65</td>\n",
              "      <td>78</td>\n",
              "      <td>37</td>\n",
              "      <td>11</td>\n",
              "      <td>5628</td>\n",
              "      <td>1575</td>\n",
              "      <td>...</td>\n",
              "      <td>828</td>\n",
              "      <td>838</td>\n",
              "      <td>354</td>\n",
              "      <td>N</td>\n",
              "      <td>E</td>\n",
              "      <td>200</td>\n",
              "      <td>11</td>\n",
              "      <td>3</td>\n",
              "      <td>500.0</td>\n",
              "      <td>N</td>\n",
              "    </tr>\n",
              "    <tr>\n",
              "      <th>4</th>\n",
              "      <td>#NAME?</td>\n",
              "      <td>321</td>\n",
              "      <td>87</td>\n",
              "      <td>10</td>\n",
              "      <td>39</td>\n",
              "      <td>42</td>\n",
              "      <td>30</td>\n",
              "      <td>2</td>\n",
              "      <td>396</td>\n",
              "      <td>101</td>\n",
              "      <td>...</td>\n",
              "      <td>48</td>\n",
              "      <td>46</td>\n",
              "      <td>33</td>\n",
              "      <td>N</td>\n",
              "      <td>E</td>\n",
              "      <td>805</td>\n",
              "      <td>40</td>\n",
              "      <td>4</td>\n",
              "      <td>91.5</td>\n",
              "      <td>N</td>\n",
              "    </tr>\n",
              "  </tbody>\n",
              "</table>\n",
              "<p>5 rows × 21 columns</p>\n",
              "</div>\n",
              "    <div class=\"colab-df-buttons\">\n",
              "\n",
              "  <div class=\"colab-df-container\">\n",
              "    <button class=\"colab-df-convert\" onclick=\"convertToInteractive('df-366a794b-ef35-4e41-8722-dbf4a866b4b2')\"\n",
              "            title=\"Convert this dataframe to an interactive table.\"\n",
              "            style=\"display:none;\">\n",
              "\n",
              "  <svg xmlns=\"http://www.w3.org/2000/svg\" height=\"24px\" viewBox=\"0 -960 960 960\">\n",
              "    <path d=\"M120-120v-720h720v720H120Zm60-500h600v-160H180v160Zm220 220h160v-160H400v160Zm0 220h160v-160H400v160ZM180-400h160v-160H180v160Zm440 0h160v-160H620v160ZM180-180h160v-160H180v160Zm440 0h160v-160H620v160Z\"/>\n",
              "  </svg>\n",
              "    </button>\n",
              "\n",
              "  <style>\n",
              "    .colab-df-container {\n",
              "      display:flex;\n",
              "      gap: 12px;\n",
              "    }\n",
              "\n",
              "    .colab-df-convert {\n",
              "      background-color: #E8F0FE;\n",
              "      border: none;\n",
              "      border-radius: 50%;\n",
              "      cursor: pointer;\n",
              "      display: none;\n",
              "      fill: #1967D2;\n",
              "      height: 32px;\n",
              "      padding: 0 0 0 0;\n",
              "      width: 32px;\n",
              "    }\n",
              "\n",
              "    .colab-df-convert:hover {\n",
              "      background-color: #E2EBFA;\n",
              "      box-shadow: 0px 1px 2px rgba(60, 64, 67, 0.3), 0px 1px 3px 1px rgba(60, 64, 67, 0.15);\n",
              "      fill: #174EA6;\n",
              "    }\n",
              "\n",
              "    .colab-df-buttons div {\n",
              "      margin-bottom: 4px;\n",
              "    }\n",
              "\n",
              "    [theme=dark] .colab-df-convert {\n",
              "      background-color: #3B4455;\n",
              "      fill: #D2E3FC;\n",
              "    }\n",
              "\n",
              "    [theme=dark] .colab-df-convert:hover {\n",
              "      background-color: #434B5C;\n",
              "      box-shadow: 0px 1px 3px 1px rgba(0, 0, 0, 0.15);\n",
              "      filter: drop-shadow(0px 1px 2px rgba(0, 0, 0, 0.3));\n",
              "      fill: #FFFFFF;\n",
              "    }\n",
              "  </style>\n",
              "\n",
              "    <script>\n",
              "      const buttonEl =\n",
              "        document.querySelector('#df-366a794b-ef35-4e41-8722-dbf4a866b4b2 button.colab-df-convert');\n",
              "      buttonEl.style.display =\n",
              "        google.colab.kernel.accessAllowed ? 'block' : 'none';\n",
              "\n",
              "      async function convertToInteractive(key) {\n",
              "        const element = document.querySelector('#df-366a794b-ef35-4e41-8722-dbf4a866b4b2');\n",
              "        const dataTable =\n",
              "          await google.colab.kernel.invokeFunction('convertToInteractive',\n",
              "                                                    [key], {});\n",
              "        if (!dataTable) return;\n",
              "\n",
              "        const docLinkHtml = 'Like what you see? Visit the ' +\n",
              "          '<a target=\"_blank\" href=https://colab.research.google.com/notebooks/data_table.ipynb>data table notebook</a>'\n",
              "          + ' to learn more about interactive tables.';\n",
              "        element.innerHTML = '';\n",
              "        dataTable['output_type'] = 'display_data';\n",
              "        await google.colab.output.renderOutput(dataTable, element);\n",
              "        const docLink = document.createElement('div');\n",
              "        docLink.innerHTML = docLinkHtml;\n",
              "        element.appendChild(docLink);\n",
              "      }\n",
              "    </script>\n",
              "  </div>\n",
              "\n",
              "\n",
              "<div id=\"df-f32440cc-11d8-4a82-ba07-1fd4fbccf7b4\">\n",
              "  <button class=\"colab-df-quickchart\" onclick=\"quickchart('df-f32440cc-11d8-4a82-ba07-1fd4fbccf7b4')\"\n",
              "            title=\"Suggest charts\"\n",
              "            style=\"display:none;\">\n",
              "\n",
              "<svg xmlns=\"http://www.w3.org/2000/svg\" height=\"24px\"viewBox=\"0 0 24 24\"\n",
              "     width=\"24px\">\n",
              "    <g>\n",
              "        <path d=\"M19 3H5c-1.1 0-2 .9-2 2v14c0 1.1.9 2 2 2h14c1.1 0 2-.9 2-2V5c0-1.1-.9-2-2-2zM9 17H7v-7h2v7zm4 0h-2V7h2v10zm4 0h-2v-4h2v4z\"/>\n",
              "    </g>\n",
              "</svg>\n",
              "  </button>\n",
              "\n",
              "<style>\n",
              "  .colab-df-quickchart {\n",
              "      --bg-color: #E8F0FE;\n",
              "      --fill-color: #1967D2;\n",
              "      --hover-bg-color: #E2EBFA;\n",
              "      --hover-fill-color: #174EA6;\n",
              "      --disabled-fill-color: #AAA;\n",
              "      --disabled-bg-color: #DDD;\n",
              "  }\n",
              "\n",
              "  [theme=dark] .colab-df-quickchart {\n",
              "      --bg-color: #3B4455;\n",
              "      --fill-color: #D2E3FC;\n",
              "      --hover-bg-color: #434B5C;\n",
              "      --hover-fill-color: #FFFFFF;\n",
              "      --disabled-bg-color: #3B4455;\n",
              "      --disabled-fill-color: #666;\n",
              "  }\n",
              "\n",
              "  .colab-df-quickchart {\n",
              "    background-color: var(--bg-color);\n",
              "    border: none;\n",
              "    border-radius: 50%;\n",
              "    cursor: pointer;\n",
              "    display: none;\n",
              "    fill: var(--fill-color);\n",
              "    height: 32px;\n",
              "    padding: 0;\n",
              "    width: 32px;\n",
              "  }\n",
              "\n",
              "  .colab-df-quickchart:hover {\n",
              "    background-color: var(--hover-bg-color);\n",
              "    box-shadow: 0 1px 2px rgba(60, 64, 67, 0.3), 0 1px 3px 1px rgba(60, 64, 67, 0.15);\n",
              "    fill: var(--button-hover-fill-color);\n",
              "  }\n",
              "\n",
              "  .colab-df-quickchart-complete:disabled,\n",
              "  .colab-df-quickchart-complete:disabled:hover {\n",
              "    background-color: var(--disabled-bg-color);\n",
              "    fill: var(--disabled-fill-color);\n",
              "    box-shadow: none;\n",
              "  }\n",
              "\n",
              "  .colab-df-spinner {\n",
              "    border: 2px solid var(--fill-color);\n",
              "    border-color: transparent;\n",
              "    border-bottom-color: var(--fill-color);\n",
              "    animation:\n",
              "      spin 1s steps(1) infinite;\n",
              "  }\n",
              "\n",
              "  @keyframes spin {\n",
              "    0% {\n",
              "      border-color: transparent;\n",
              "      border-bottom-color: var(--fill-color);\n",
              "      border-left-color: var(--fill-color);\n",
              "    }\n",
              "    20% {\n",
              "      border-color: transparent;\n",
              "      border-left-color: var(--fill-color);\n",
              "      border-top-color: var(--fill-color);\n",
              "    }\n",
              "    30% {\n",
              "      border-color: transparent;\n",
              "      border-left-color: var(--fill-color);\n",
              "      border-top-color: var(--fill-color);\n",
              "      border-right-color: var(--fill-color);\n",
              "    }\n",
              "    40% {\n",
              "      border-color: transparent;\n",
              "      border-right-color: var(--fill-color);\n",
              "      border-top-color: var(--fill-color);\n",
              "    }\n",
              "    60% {\n",
              "      border-color: transparent;\n",
              "      border-right-color: var(--fill-color);\n",
              "    }\n",
              "    80% {\n",
              "      border-color: transparent;\n",
              "      border-right-color: var(--fill-color);\n",
              "      border-bottom-color: var(--fill-color);\n",
              "    }\n",
              "    90% {\n",
              "      border-color: transparent;\n",
              "      border-bottom-color: var(--fill-color);\n",
              "    }\n",
              "  }\n",
              "</style>\n",
              "\n",
              "  <script>\n",
              "    async function quickchart(key) {\n",
              "      const quickchartButtonEl =\n",
              "        document.querySelector('#' + key + ' button');\n",
              "      quickchartButtonEl.disabled = true;  // To prevent multiple clicks.\n",
              "      quickchartButtonEl.classList.add('colab-df-spinner');\n",
              "      try {\n",
              "        const charts = await google.colab.kernel.invokeFunction(\n",
              "            'suggestCharts', [key], {});\n",
              "      } catch (error) {\n",
              "        console.error('Error during call to suggestCharts:', error);\n",
              "      }\n",
              "      quickchartButtonEl.classList.remove('colab-df-spinner');\n",
              "      quickchartButtonEl.classList.add('colab-df-quickchart-complete');\n",
              "    }\n",
              "    (() => {\n",
              "      let quickchartButtonEl =\n",
              "        document.querySelector('#df-f32440cc-11d8-4a82-ba07-1fd4fbccf7b4 button');\n",
              "      quickchartButtonEl.style.display =\n",
              "        google.colab.kernel.accessAllowed ? 'block' : 'none';\n",
              "    })();\n",
              "  </script>\n",
              "</div>\n",
              "\n",
              "    </div>\n",
              "  </div>\n"
            ],
            "application/vnd.google.colaboratory.intrinsic+json": {
              "type": "dataframe",
              "variable_name": "hitters_df"
            }
          },
          "metadata": {},
          "execution_count": 3
        }
      ],
      "source": [
        "hitters_df = pd.read_csv('data/hitters.csv')\n",
        "hitters_df.head()"
      ]
    },
    {
      "cell_type": "markdown",
      "metadata": {
        "id": "ERpPi7ph6oOI"
      },
      "source": [
        "First of all, we note that the `Salary` variable is missing for some of the\n",
        "players. The `isnull()` function can be used to identify the missing observations. It returns a vector of the same length as the input vector, with a `TRUE` value\n",
        "for any elements that are missing, and a `FALSE` value for non-missing elements.\n",
        "The `sum()` function can then be used to count all of the missing elements:\n",
        "\n",
        "首先，我们注意到某些玩家缺少 Salary 变量。 isnull() 函数可用于识别缺失的观测值。它返回一个与输入向量长度相同的向量，对于任何缺失的元素为 TRUE 值，对于非缺失元素为 FALSE 值。然后可以使用 sum() 函数来计算所有缺失元素的数量："
      ]
    },
    {
      "cell_type": "code",
      "execution_count": null,
      "metadata": {
        "colab": {
          "base_uri": "https://localhost:8080/"
        },
        "id": "EnOhzr306oOI",
        "outputId": "5cefb4ec-0ba1-4e50-85da-beb9328a05a6"
      },
      "outputs": [
        {
          "output_type": "stream",
          "name": "stdout",
          "text": [
            "Number of null values: 59\n"
          ]
        }
      ],
      "source": [
        "print(\"Number of null values:\", hitters_df[\"Salary\"].isnull().sum())"
      ]
    },
    {
      "cell_type": "code",
      "execution_count": null,
      "metadata": {
        "colab": {
          "base_uri": "https://localhost:8080/"
        },
        "id": "NGPkhumT6oOI",
        "outputId": "8de4a36d-4a40-42eb-9ca6-660e18d97066"
      },
      "outputs": [
        {
          "output_type": "stream",
          "name": "stdout",
          "text": [
            "Dimensions of original data: (322, 21)\n",
            "Dimensions of modified data: (263, 20)\n",
            "Number of null values: 0\n"
          ]
        }
      ],
      "source": [
        "# Print the dimensions of the original Hitters data (322 rows x 20 columns)\n",
        "# 打印原始 Hitters 数据的尺寸（322 行 x 20 列）\n",
        "print(\"Dimensions of original data:\", hitters_df.shape)\n",
        "\n",
        "# Drop any rows the contain missing values, along with the player names\n",
        "# 删除包含缺失值的任何行以及玩家姓名\n",
        "hitters_df_clean = hitters_df.dropna().drop('Unnamed: 0', axis=1)\n",
        "\n",
        "# Print the dimensions of the modified Hitters data (263 rows x 20 columns)\n",
        "# 打印修改后的 Hitters 数据的尺寸（263 行 x 20 列）\n",
        "print(\"Dimensions of modified data:\", hitters_df_clean.shape)\n",
        "\n",
        "# One last check: should return 0\n",
        "# 最后检查一下：应该返回 0\n",
        "print(\"Number of null values:\", hitters_df_clean[\"Salary\"].isnull().sum())"
      ]
    },
    {
      "cell_type": "code",
      "execution_count": null,
      "metadata": {
        "id": "wSquZjMc6oOI"
      },
      "outputs": [],
      "source": [
        "dummies = pd.get_dummies(hitters_df_clean[['League', 'Division', 'NewLeague']])\n",
        "\n",
        "y = hitters_df_clean.Salary\n",
        "\n",
        "# Drop the column with the independent variable (Salary), and columns for which we created dummy variables\n",
        "# 删除包含独立变量（工资）的列，以及我们为其创建虚拟变量的列\n",
        "X_ = hitters_df_clean.drop(['Salary', 'League', 'Division', 'NewLeague'], axis=1).astype('float64')\n",
        "\n",
        "# Define the feature set X. 定义特征集X。\n",
        "X = pd.concat([X_, dummies[['League_N', 'Division_W', 'NewLeague_N']]], axis=1)"
      ]
    },
    {
      "cell_type": "markdown",
      "metadata": {
        "id": "Rb5XD3Vu6oOI"
      },
      "source": [
        "We can perform best subset selection by identifying the best model that contains a given number of predictors, where **best** is quantified using RSS. We'll define a helper function to outputs the best set of variables for\n",
        "each model size:\n",
        "\n",
        "我们可以通过识别包含给定数量的预测变量的最佳模型来执行最佳子集选择，其中最佳模型使用 RSS 进行量化。我们将定义一个辅助函数来输出每个模型大小的最佳变量集"
      ]
    },
    {
      "cell_type": "code",
      "execution_count": null,
      "metadata": {
        "id": "89HMCgc76oOI"
      },
      "outputs": [],
      "source": [
        "def processSubset(feature_set):\n",
        "    # Fit model on feature_set and calculate RSS 在feature_set上拟合模型并计算RSS\n",
        "    model = sm.OLS(y,X[list(feature_set)].astype(float))\n",
        "    regr = model.fit()\n",
        "    RSS = ((regr.predict(X[list(feature_set)]) - y) ** 2).sum()\n",
        "    return {\"model\":regr, \"RSS\":RSS}"
      ]
    },
    {
      "cell_type": "code",
      "execution_count": null,
      "metadata": {
        "id": "xksN8k_B6oOI"
      },
      "outputs": [],
      "source": [
        "def getBest(k):\n",
        "\n",
        "    tic = time.time()\n",
        "\n",
        "    results = []\n",
        "\n",
        "    for combo in itertools.combinations(X.columns, k):\n",
        "        results.append(processSubset(combo))\n",
        "\n",
        "    # Wrap everything up in a nice dataframe 将所有内容包装在一个漂亮的数据框中\n",
        "    models = pd.DataFrame(results)\n",
        "\n",
        "    # Choose the model with the highest RSS 选择 RSS 最高的模型\n",
        "    best_model = models.loc[models['RSS'].argmin()]\n",
        "\n",
        "    toc = time.time()\n",
        "    print(\"Processed\", models.shape[0], \"models on\", k, \"predictors in\", (toc-tic), \"seconds.\")\n",
        "\n",
        "    # Return the best model, along with some other useful information about the model\n",
        "    # 返回最佳模型以及有关模型的一些其他有用信息\n",
        "    return best_model"
      ]
    },
    {
      "cell_type": "markdown",
      "metadata": {
        "id": "WJEoB8kX6oOI"
      },
      "source": [
        "**This** returns a `DataFrame` containing the best model that we generated, along with some extra information about the model. Now we want to call that function for each number of predictors $k$:\n",
        "\n",
        "**这**返回一个包含我们生成的最佳模型的 `DataFrame`，以及有关该模型的一些额外信息。现在我们要为每个预测变量 $k$ 调用该函数："
      ]
    },
    {
      "cell_type": "code",
      "execution_count": null,
      "metadata": {
        "colab": {
          "base_uri": "https://localhost:8080/"
        },
        "id": "emGcnSVD6oOI",
        "outputId": "85452e95-32d2-43ac-e789-4cbe65d22f87"
      },
      "outputs": [
        {
          "output_type": "stream",
          "name": "stdout",
          "text": [
            "Processed 19 models on 1 predictors in 0.05387520790100098 seconds.\n",
            "Processed 171 models on 2 predictors in 0.42514920234680176 seconds.\n",
            "Processed 969 models on 3 predictors in 2.8069186210632324 seconds.\n",
            "Processed 3876 models on 4 predictors in 12.580287456512451 seconds.\n",
            "Processed 11628 models on 5 predictors in 37.50878691673279 seconds.\n",
            "Processed 27132 models on 6 predictors in 89.87113761901855 seconds.\n",
            "Processed 50388 models on 7 predictors in 178.8342261314392 seconds.\n",
            "Total elapsed time: 323.0512845516205 seconds.\n"
          ]
        }
      ],
      "source": [
        "# Could take quite awhile to complete...\n",
        "# 可能需要相当长一段时间才能完成...\n",
        "\n",
        "models_best = pd.DataFrame(columns=[\"RSS\", \"model\"])\n",
        "\n",
        "tic = time.time()\n",
        "for i in range(1,8):\n",
        "    models_best.loc[i] = getBest(i)\n",
        "\n",
        "toc = time.time()\n",
        "print(\"Total elapsed time:\", (toc-tic), \"seconds.\")"
      ]
    },
    {
      "cell_type": "markdown",
      "metadata": {
        "id": "rnhTCm_76oOJ"
      },
      "source": [
        "Now we have one big DataFrame that contains the best models we've generated along with their RSS:\n",
        "\n",
        "现在我们有一个大的 DataFrame，其中包含我们生成的最佳模型及其 RSS："
      ]
    },
    {
      "cell_type": "code",
      "execution_count": null,
      "metadata": {
        "colab": {
          "base_uri": "https://localhost:8080/",
          "height": 268
        },
        "id": "ezQhw0DF6oOJ",
        "outputId": "2db14461-ca84-470d-944e-6b76b8ae2def"
      },
      "outputs": [
        {
          "output_type": "execute_result",
          "data": {
            "text/plain": [
              "               RSS                                              model\n",
              "1  43213925.909868  <statsmodels.regression.linear_model.Regressio...\n",
              "2  30733054.433644  <statsmodels.regression.linear_model.Regressio...\n",
              "3  29410713.176731  <statsmodels.regression.linear_model.Regressio...\n",
              "4  27976782.522603  <statsmodels.regression.linear_model.Regressio...\n",
              "5  27187795.009508  <statsmodels.regression.linear_model.Regressio...\n",
              "6  26397720.512772  <statsmodels.regression.linear_model.Regressio...\n",
              "7  26064130.610341  <statsmodels.regression.linear_model.Regressio..."
            ],
            "text/html": [
              "\n",
              "  <div id=\"df-5b9b2a12-894d-4043-9086-0fddbc708ef4\" class=\"colab-df-container\">\n",
              "    <div>\n",
              "<style scoped>\n",
              "    .dataframe tbody tr th:only-of-type {\n",
              "        vertical-align: middle;\n",
              "    }\n",
              "\n",
              "    .dataframe tbody tr th {\n",
              "        vertical-align: top;\n",
              "    }\n",
              "\n",
              "    .dataframe thead th {\n",
              "        text-align: right;\n",
              "    }\n",
              "</style>\n",
              "<table border=\"1\" class=\"dataframe\">\n",
              "  <thead>\n",
              "    <tr style=\"text-align: right;\">\n",
              "      <th></th>\n",
              "      <th>RSS</th>\n",
              "      <th>model</th>\n",
              "    </tr>\n",
              "  </thead>\n",
              "  <tbody>\n",
              "    <tr>\n",
              "      <th>1</th>\n",
              "      <td>43213925.909868</td>\n",
              "      <td>&lt;statsmodels.regression.linear_model.Regressio...</td>\n",
              "    </tr>\n",
              "    <tr>\n",
              "      <th>2</th>\n",
              "      <td>30733054.433644</td>\n",
              "      <td>&lt;statsmodels.regression.linear_model.Regressio...</td>\n",
              "    </tr>\n",
              "    <tr>\n",
              "      <th>3</th>\n",
              "      <td>29410713.176731</td>\n",
              "      <td>&lt;statsmodels.regression.linear_model.Regressio...</td>\n",
              "    </tr>\n",
              "    <tr>\n",
              "      <th>4</th>\n",
              "      <td>27976782.522603</td>\n",
              "      <td>&lt;statsmodels.regression.linear_model.Regressio...</td>\n",
              "    </tr>\n",
              "    <tr>\n",
              "      <th>5</th>\n",
              "      <td>27187795.009508</td>\n",
              "      <td>&lt;statsmodels.regression.linear_model.Regressio...</td>\n",
              "    </tr>\n",
              "    <tr>\n",
              "      <th>6</th>\n",
              "      <td>26397720.512772</td>\n",
              "      <td>&lt;statsmodels.regression.linear_model.Regressio...</td>\n",
              "    </tr>\n",
              "    <tr>\n",
              "      <th>7</th>\n",
              "      <td>26064130.610341</td>\n",
              "      <td>&lt;statsmodels.regression.linear_model.Regressio...</td>\n",
              "    </tr>\n",
              "  </tbody>\n",
              "</table>\n",
              "</div>\n",
              "    <div class=\"colab-df-buttons\">\n",
              "\n",
              "  <div class=\"colab-df-container\">\n",
              "    <button class=\"colab-df-convert\" onclick=\"convertToInteractive('df-5b9b2a12-894d-4043-9086-0fddbc708ef4')\"\n",
              "            title=\"Convert this dataframe to an interactive table.\"\n",
              "            style=\"display:none;\">\n",
              "\n",
              "  <svg xmlns=\"http://www.w3.org/2000/svg\" height=\"24px\" viewBox=\"0 -960 960 960\">\n",
              "    <path d=\"M120-120v-720h720v720H120Zm60-500h600v-160H180v160Zm220 220h160v-160H400v160Zm0 220h160v-160H400v160ZM180-400h160v-160H180v160Zm440 0h160v-160H620v160ZM180-180h160v-160H180v160Zm440 0h160v-160H620v160Z\"/>\n",
              "  </svg>\n",
              "    </button>\n",
              "\n",
              "  <style>\n",
              "    .colab-df-container {\n",
              "      display:flex;\n",
              "      gap: 12px;\n",
              "    }\n",
              "\n",
              "    .colab-df-convert {\n",
              "      background-color: #E8F0FE;\n",
              "      border: none;\n",
              "      border-radius: 50%;\n",
              "      cursor: pointer;\n",
              "      display: none;\n",
              "      fill: #1967D2;\n",
              "      height: 32px;\n",
              "      padding: 0 0 0 0;\n",
              "      width: 32px;\n",
              "    }\n",
              "\n",
              "    .colab-df-convert:hover {\n",
              "      background-color: #E2EBFA;\n",
              "      box-shadow: 0px 1px 2px rgba(60, 64, 67, 0.3), 0px 1px 3px 1px rgba(60, 64, 67, 0.15);\n",
              "      fill: #174EA6;\n",
              "    }\n",
              "\n",
              "    .colab-df-buttons div {\n",
              "      margin-bottom: 4px;\n",
              "    }\n",
              "\n",
              "    [theme=dark] .colab-df-convert {\n",
              "      background-color: #3B4455;\n",
              "      fill: #D2E3FC;\n",
              "    }\n",
              "\n",
              "    [theme=dark] .colab-df-convert:hover {\n",
              "      background-color: #434B5C;\n",
              "      box-shadow: 0px 1px 3px 1px rgba(0, 0, 0, 0.15);\n",
              "      filter: drop-shadow(0px 1px 2px rgba(0, 0, 0, 0.3));\n",
              "      fill: #FFFFFF;\n",
              "    }\n",
              "  </style>\n",
              "\n",
              "    <script>\n",
              "      const buttonEl =\n",
              "        document.querySelector('#df-5b9b2a12-894d-4043-9086-0fddbc708ef4 button.colab-df-convert');\n",
              "      buttonEl.style.display =\n",
              "        google.colab.kernel.accessAllowed ? 'block' : 'none';\n",
              "\n",
              "      async function convertToInteractive(key) {\n",
              "        const element = document.querySelector('#df-5b9b2a12-894d-4043-9086-0fddbc708ef4');\n",
              "        const dataTable =\n",
              "          await google.colab.kernel.invokeFunction('convertToInteractive',\n",
              "                                                    [key], {});\n",
              "        if (!dataTable) return;\n",
              "\n",
              "        const docLinkHtml = 'Like what you see? Visit the ' +\n",
              "          '<a target=\"_blank\" href=https://colab.research.google.com/notebooks/data_table.ipynb>data table notebook</a>'\n",
              "          + ' to learn more about interactive tables.';\n",
              "        element.innerHTML = '';\n",
              "        dataTable['output_type'] = 'display_data';\n",
              "        await google.colab.output.renderOutput(dataTable, element);\n",
              "        const docLink = document.createElement('div');\n",
              "        docLink.innerHTML = docLinkHtml;\n",
              "        element.appendChild(docLink);\n",
              "      }\n",
              "    </script>\n",
              "  </div>\n",
              "\n",
              "\n",
              "<div id=\"df-c6e6c85a-75b8-4f4b-8a96-57cb456a60c9\">\n",
              "  <button class=\"colab-df-quickchart\" onclick=\"quickchart('df-c6e6c85a-75b8-4f4b-8a96-57cb456a60c9')\"\n",
              "            title=\"Suggest charts\"\n",
              "            style=\"display:none;\">\n",
              "\n",
              "<svg xmlns=\"http://www.w3.org/2000/svg\" height=\"24px\"viewBox=\"0 0 24 24\"\n",
              "     width=\"24px\">\n",
              "    <g>\n",
              "        <path d=\"M19 3H5c-1.1 0-2 .9-2 2v14c0 1.1.9 2 2 2h14c1.1 0 2-.9 2-2V5c0-1.1-.9-2-2-2zM9 17H7v-7h2v7zm4 0h-2V7h2v10zm4 0h-2v-4h2v4z\"/>\n",
              "    </g>\n",
              "</svg>\n",
              "  </button>\n",
              "\n",
              "<style>\n",
              "  .colab-df-quickchart {\n",
              "      --bg-color: #E8F0FE;\n",
              "      --fill-color: #1967D2;\n",
              "      --hover-bg-color: #E2EBFA;\n",
              "      --hover-fill-color: #174EA6;\n",
              "      --disabled-fill-color: #AAA;\n",
              "      --disabled-bg-color: #DDD;\n",
              "  }\n",
              "\n",
              "  [theme=dark] .colab-df-quickchart {\n",
              "      --bg-color: #3B4455;\n",
              "      --fill-color: #D2E3FC;\n",
              "      --hover-bg-color: #434B5C;\n",
              "      --hover-fill-color: #FFFFFF;\n",
              "      --disabled-bg-color: #3B4455;\n",
              "      --disabled-fill-color: #666;\n",
              "  }\n",
              "\n",
              "  .colab-df-quickchart {\n",
              "    background-color: var(--bg-color);\n",
              "    border: none;\n",
              "    border-radius: 50%;\n",
              "    cursor: pointer;\n",
              "    display: none;\n",
              "    fill: var(--fill-color);\n",
              "    height: 32px;\n",
              "    padding: 0;\n",
              "    width: 32px;\n",
              "  }\n",
              "\n",
              "  .colab-df-quickchart:hover {\n",
              "    background-color: var(--hover-bg-color);\n",
              "    box-shadow: 0 1px 2px rgba(60, 64, 67, 0.3), 0 1px 3px 1px rgba(60, 64, 67, 0.15);\n",
              "    fill: var(--button-hover-fill-color);\n",
              "  }\n",
              "\n",
              "  .colab-df-quickchart-complete:disabled,\n",
              "  .colab-df-quickchart-complete:disabled:hover {\n",
              "    background-color: var(--disabled-bg-color);\n",
              "    fill: var(--disabled-fill-color);\n",
              "    box-shadow: none;\n",
              "  }\n",
              "\n",
              "  .colab-df-spinner {\n",
              "    border: 2px solid var(--fill-color);\n",
              "    border-color: transparent;\n",
              "    border-bottom-color: var(--fill-color);\n",
              "    animation:\n",
              "      spin 1s steps(1) infinite;\n",
              "  }\n",
              "\n",
              "  @keyframes spin {\n",
              "    0% {\n",
              "      border-color: transparent;\n",
              "      border-bottom-color: var(--fill-color);\n",
              "      border-left-color: var(--fill-color);\n",
              "    }\n",
              "    20% {\n",
              "      border-color: transparent;\n",
              "      border-left-color: var(--fill-color);\n",
              "      border-top-color: var(--fill-color);\n",
              "    }\n",
              "    30% {\n",
              "      border-color: transparent;\n",
              "      border-left-color: var(--fill-color);\n",
              "      border-top-color: var(--fill-color);\n",
              "      border-right-color: var(--fill-color);\n",
              "    }\n",
              "    40% {\n",
              "      border-color: transparent;\n",
              "      border-right-color: var(--fill-color);\n",
              "      border-top-color: var(--fill-color);\n",
              "    }\n",
              "    60% {\n",
              "      border-color: transparent;\n",
              "      border-right-color: var(--fill-color);\n",
              "    }\n",
              "    80% {\n",
              "      border-color: transparent;\n",
              "      border-right-color: var(--fill-color);\n",
              "      border-bottom-color: var(--fill-color);\n",
              "    }\n",
              "    90% {\n",
              "      border-color: transparent;\n",
              "      border-bottom-color: var(--fill-color);\n",
              "    }\n",
              "  }\n",
              "</style>\n",
              "\n",
              "  <script>\n",
              "    async function quickchart(key) {\n",
              "      const quickchartButtonEl =\n",
              "        document.querySelector('#' + key + ' button');\n",
              "      quickchartButtonEl.disabled = true;  // To prevent multiple clicks.\n",
              "      quickchartButtonEl.classList.add('colab-df-spinner');\n",
              "      try {\n",
              "        const charts = await google.colab.kernel.invokeFunction(\n",
              "            'suggestCharts', [key], {});\n",
              "      } catch (error) {\n",
              "        console.error('Error during call to suggestCharts:', error);\n",
              "      }\n",
              "      quickchartButtonEl.classList.remove('colab-df-spinner');\n",
              "      quickchartButtonEl.classList.add('colab-df-quickchart-complete');\n",
              "    }\n",
              "    (() => {\n",
              "      let quickchartButtonEl =\n",
              "        document.querySelector('#df-c6e6c85a-75b8-4f4b-8a96-57cb456a60c9 button');\n",
              "      quickchartButtonEl.style.display =\n",
              "        google.colab.kernel.accessAllowed ? 'block' : 'none';\n",
              "    })();\n",
              "  </script>\n",
              "</div>\n",
              "\n",
              "  <div id=\"id_36e47b79-1674-48a7-8899-006e8e4c3e73\">\n",
              "    <style>\n",
              "      .colab-df-generate {\n",
              "        background-color: #E8F0FE;\n",
              "        border: none;\n",
              "        border-radius: 50%;\n",
              "        cursor: pointer;\n",
              "        display: none;\n",
              "        fill: #1967D2;\n",
              "        height: 32px;\n",
              "        padding: 0 0 0 0;\n",
              "        width: 32px;\n",
              "      }\n",
              "\n",
              "      .colab-df-generate:hover {\n",
              "        background-color: #E2EBFA;\n",
              "        box-shadow: 0px 1px 2px rgba(60, 64, 67, 0.3), 0px 1px 3px 1px rgba(60, 64, 67, 0.15);\n",
              "        fill: #174EA6;\n",
              "      }\n",
              "\n",
              "      [theme=dark] .colab-df-generate {\n",
              "        background-color: #3B4455;\n",
              "        fill: #D2E3FC;\n",
              "      }\n",
              "\n",
              "      [theme=dark] .colab-df-generate:hover {\n",
              "        background-color: #434B5C;\n",
              "        box-shadow: 0px 1px 3px 1px rgba(0, 0, 0, 0.15);\n",
              "        filter: drop-shadow(0px 1px 2px rgba(0, 0, 0, 0.3));\n",
              "        fill: #FFFFFF;\n",
              "      }\n",
              "    </style>\n",
              "    <button class=\"colab-df-generate\" onclick=\"generateWithVariable('models_best')\"\n",
              "            title=\"Generate code using this dataframe.\"\n",
              "            style=\"display:none;\">\n",
              "\n",
              "  <svg xmlns=\"http://www.w3.org/2000/svg\" height=\"24px\"viewBox=\"0 0 24 24\"\n",
              "       width=\"24px\">\n",
              "    <path d=\"M7,19H8.4L18.45,9,17,7.55,7,17.6ZM5,21V16.75L18.45,3.32a2,2,0,0,1,2.83,0l1.4,1.43a1.91,1.91,0,0,1,.58,1.4,1.91,1.91,0,0,1-.58,1.4L9.25,21ZM18.45,9,17,7.55Zm-12,3A5.31,5.31,0,0,0,4.9,8.1,5.31,5.31,0,0,0,1,6.5,5.31,5.31,0,0,0,4.9,4.9,5.31,5.31,0,0,0,6.5,1,5.31,5.31,0,0,0,8.1,4.9,5.31,5.31,0,0,0,12,6.5,5.46,5.46,0,0,0,6.5,12Z\"/>\n",
              "  </svg>\n",
              "    </button>\n",
              "    <script>\n",
              "      (() => {\n",
              "      const buttonEl =\n",
              "        document.querySelector('#id_36e47b79-1674-48a7-8899-006e8e4c3e73 button.colab-df-generate');\n",
              "      buttonEl.style.display =\n",
              "        google.colab.kernel.accessAllowed ? 'block' : 'none';\n",
              "\n",
              "      buttonEl.onclick = () => {\n",
              "        google.colab.notebook.generateWithVariable('models_best');\n",
              "      }\n",
              "      })();\n",
              "    </script>\n",
              "  </div>\n",
              "\n",
              "    </div>\n",
              "  </div>\n"
            ],
            "application/vnd.google.colaboratory.intrinsic+json": {
              "type": "dataframe",
              "variable_name": "models_best",
              "repr_error": "0"
            }
          },
          "metadata": {},
          "execution_count": 13
        }
      ],
      "source": [
        "models_best"
      ]
    },
    {
      "cell_type": "markdown",
      "metadata": {
        "id": "DCj62km86oOJ"
      },
      "source": [
        "If we want to access the details of each model, no problem! We can get a full rundown of a single model using the `summary()` function:\n",
        "\n",
        "如果我们想访问每个模型的详细信息，没问题！我们可以使用“summary()”函数获取单个模型的完整概述："
      ]
    },
    {
      "cell_type": "code",
      "execution_count": null,
      "metadata": {
        "scrolled": false,
        "colab": {
          "base_uri": "https://localhost:8080/"
        },
        "id": "L-CIVK906oOJ",
        "outputId": "9d29d7c1-3cd4-48c7-dc9f-2c8be891a385"
      },
      "outputs": [
        {
          "output_type": "stream",
          "name": "stdout",
          "text": [
            "                                 OLS Regression Results                                \n",
            "=======================================================================================\n",
            "Dep. Variable:                 Salary   R-squared (uncentered):                   0.798\n",
            "Model:                            OLS   Adj. R-squared (uncentered):              0.792\n",
            "Method:                 Least Squares   F-statistic:                              144.2\n",
            "Date:                Tue, 23 Apr 2024   Prob (F-statistic):                    4.76e-85\n",
            "Time:                        03:37:09   Log-Likelihood:                         -1885.9\n",
            "No. Observations:                 263   AIC:                                      3786.\n",
            "Df Residuals:                     256   BIC:                                      3811.\n",
            "Df Model:                           7                                                  \n",
            "Covariance Type:            nonrobust                                                  \n",
            "==============================================================================\n",
            "                 coef    std err          t      P>|t|      [0.025      0.975]\n",
            "------------------------------------------------------------------------------\n",
            "Hits           1.6800      0.490      3.426      0.001       0.714       2.646\n",
            "Walks          3.4000      1.196      2.843      0.005       1.045       5.755\n",
            "CAtBat        -0.3288      0.090     -3.665      0.000      -0.506      -0.152\n",
            "CHits          1.3470      0.312      4.316      0.000       0.732       1.962\n",
            "CHmRun         1.3494      0.415      3.248      0.001       0.531       2.167\n",
            "PutOuts        0.2482      0.074      3.336      0.001       0.102       0.395\n",
            "Division_W  -111.9438     36.786     -3.043      0.003    -184.386     -39.502\n",
            "==============================================================================\n",
            "Omnibus:                      108.568   Durbin-Watson:                   2.008\n",
            "Prob(Omnibus):                  0.000   Jarque-Bera (JB):              808.968\n",
            "Skew:                           1.457   Prob(JB):                    2.16e-176\n",
            "Kurtosis:                      11.082   Cond. No.                     6.81e+03\n",
            "==============================================================================\n",
            "\n",
            "Notes:\n",
            "[1] R² is computed without centering (uncentered) since the model does not contain a constant.\n",
            "[2] Standard Errors assume that the covariance matrix of the errors is correctly specified.\n",
            "[3] The condition number is large, 6.81e+03. This might indicate that there are\n",
            "strong multicollinearity or other numerical problems.\n"
          ]
        }
      ],
      "source": [
        "print(models_best.loc[7, \"model\"].summary())"
      ]
    },
    {
      "cell_type": "markdown",
      "metadata": {
        "id": "J_WtUCaR6oOJ"
      },
      "source": [
        "This output indicates that the best two-variable model contains only Hits and CRBI. To save time, we only generated results up to the best 7-variable model. You can use the functions we defined above to explore as many variables as are desired.\n",
        "\n",
        "此输出表明最佳二变量模型仅包含 Hits 和 CRBI。为了节省时间，我们仅生成最佳 7 变量模型的结果。您可以使用我们上面定义的函数来探索所需数量的变量。"
      ]
    },
    {
      "cell_type": "code",
      "execution_count": null,
      "metadata": {
        "colab": {
          "base_uri": "https://localhost:8080/"
        },
        "id": "2asyIRZJ6oOJ",
        "outputId": "e08e42f1-b68c-4afc-a434-03201917a317"
      },
      "outputs": [
        {
          "output_type": "stream",
          "name": "stdout",
          "text": [
            "Processed 171 models on 17 predictors in 0.6465685367584229 seconds.\n",
            "                                 OLS Regression Results                                \n",
            "=======================================================================================\n",
            "Dep. Variable:                 Salary   R-squared (uncentered):                   0.810\n",
            "Model:                            OLS   Adj. R-squared (uncentered):              0.796\n",
            "Method:                 Least Squares   F-statistic:                              61.54\n",
            "Date:                Tue, 23 Apr 2024   Prob (F-statistic):                    2.25e-78\n",
            "Time:                        03:38:56   Log-Likelihood:                         -1878.0\n",
            "No. Observations:                 263   AIC:                                      3790.\n",
            "Df Residuals:                     246   BIC:                                      3851.\n",
            "Df Model:                          17                                                  \n",
            "Covariance Type:            nonrobust                                                  \n",
            "==============================================================================\n",
            "                 coef    std err          t      P>|t|      [0.025      0.975]\n",
            "------------------------------------------------------------------------------\n",
            "AtBat         -1.6165      0.594     -2.720      0.007      -2.787      -0.446\n",
            "Hits           7.0221      2.302      3.050      0.003       2.487      11.557\n",
            "HmRun          3.8634      5.542      0.697      0.486      -7.052      14.779\n",
            "Runs          -2.2599      2.816     -0.803      0.423      -7.806       3.286\n",
            "RBI           -1.0024      2.485     -0.403      0.687      -5.897       3.892\n",
            "Walks          6.1056      1.811      3.371      0.001       2.538       9.673\n",
            "Years          9.6389     10.071      0.957      0.339     -10.197      29.475\n",
            "CAtBat        -0.2033      0.131     -1.557      0.121      -0.461       0.054\n",
            "CHits          0.1715      0.488      0.352      0.725      -0.789       1.132\n",
            "CRuns          1.4691      0.564      2.606      0.010       0.359       2.579\n",
            "CRBI           0.7106      0.250      2.841      0.005       0.218       1.203\n",
            "CWalks        -0.7754      0.315     -2.463      0.014      -1.395      -0.155\n",
            "PutOuts        0.2860      0.077      3.696      0.000       0.134       0.438\n",
            "Assists        0.3172      0.218      1.454      0.147      -0.112       0.747\n",
            "Errors        -1.9863      4.316     -0.460      0.646     -10.487       6.514\n",
            "League_N      66.4330     39.289      1.691      0.092     -10.954     143.820\n",
            "Division_W   -97.3188     38.927     -2.500      0.013    -173.991     -20.646\n",
            "==============================================================================\n",
            "Omnibus:                       96.301   Durbin-Watson:                   2.019\n",
            "Prob(Omnibus):                  0.000   Jarque-Bera (JB):              617.571\n",
            "Skew:                           1.306   Prob(JB):                    7.88e-135\n",
            "Kurtosis:                      10.038   Cond. No.                     7.67e+03\n",
            "==============================================================================\n",
            "\n",
            "Notes:\n",
            "[1] R² is computed without centering (uncentered) since the model does not contain a constant.\n",
            "[2] Standard Errors assume that the covariance matrix of the errors is correctly specified.\n",
            "[3] The condition number is large, 7.67e+03. This might indicate that there are\n",
            "strong multicollinearity or other numerical problems.\n"
          ]
        }
      ],
      "source": [
        "# Show the best 19-variable model (there's actually only one)\n",
        "# 显示最佳的 19 变量模型（实际上只有一个）\n",
        "print(getBest(17)[\"model\"].summary())"
      ]
    },
    {
      "cell_type": "markdown",
      "metadata": {
        "id": "UJeUJW1U6oOJ"
      },
      "source": [
        "Rather than letting the results of our call to the `summary()` function print to the screen, we can access just the parts we need using the model's attributes. For example, if we want the $R^2$ value:\n",
        "\n",
        "我们可以使用模型的属性仅访问我们需要的部分，而不是将summary() 函数的调用结果打印到屏幕上。例如，如果我们想要 R2 值："
      ]
    },
    {
      "cell_type": "code",
      "execution_count": null,
      "metadata": {
        "colab": {
          "base_uri": "https://localhost:8080/"
        },
        "id": "cPsXP_LW6oOJ",
        "outputId": "565dda48-1386-4505-d6fb-fe65f713b70b"
      },
      "outputs": [
        {
          "output_type": "execute_result",
          "data": {
            "text/plain": [
              "0.7614950002332872"
            ]
          },
          "metadata": {},
          "execution_count": 16
        }
      ],
      "source": [
        "models_best.loc[2, \"model\"].rsquared"
      ]
    },
    {
      "cell_type": "markdown",
      "metadata": {
        "id": "UcTqnBrT6oOJ"
      },
      "source": [
        "In addition to the verbose output we get when we print the summary to the screen, fitting the `OLM` also produced many other useful statistics such as adjusted $R^2$, AIC, and BIC. We can examine these to try to select the best overall model. Let's start by looking at $R^2$ across all our models:\n",
        "\n",
        "除了将摘要打印到屏幕上时获得的详细输出之外，拟合 OLM 还生成许多其他有用的统计数据，例如调整后的 R2 、AIC 和 BIC。我们可以检查这些以尝试选择最佳的整体模型。让我们首先看看我们所有模型的 R2："
      ]
    },
    {
      "cell_type": "code",
      "execution_count": null,
      "metadata": {
        "colab": {
          "base_uri": "https://localhost:8080/"
        },
        "id": "S3opbb5Q6oOJ",
        "outputId": "6a038e81-4e38-4a8e-fafc-ba46f782689a"
      },
      "outputs": [
        {
          "output_type": "execute_result",
          "data": {
            "text/plain": [
              "1    0.664637\n",
              "2    0.761495\n",
              "3    0.771757\n",
              "4    0.782885\n",
              "5    0.789008\n",
              "6    0.795140\n",
              "7    0.797728\n",
              "dtype: float64"
            ]
          },
          "metadata": {},
          "execution_count": 17
        }
      ],
      "source": [
        "# Gets the second element from each row ('model') and pulls out its rsquared attribute\n",
        "models_best.apply(lambda row: row[1].rsquared, axis=1)"
      ]
    },
    {
      "cell_type": "markdown",
      "metadata": {
        "id": "HGN4kh8T6oOK"
      },
      "source": [
        "As expected, the $R^2$ statistic increases monotonically as more\n",
        "variables are included.\n",
        "\n",
        "Plotting RSS, adjusted $R^2$, AIC, and BIC for all of the models at once will\n",
        "help us decide which model to select. Note the `type=\"l\"` option tells `R` to\n",
        "connect the plotted points with lines:\n",
        "\n",
        "正如预期的那样，随着包含更多变量，R2 统计量单调增加。\n",
        "\n",
        "同时绘制所有模型的 RSS、调整后的 R2、AIC 和 BIC 将帮助我们决定选择哪个模型。注意 type=\"l\" 选项告诉 R 用线连接绘制的点："
      ]
    },
    {
      "cell_type": "code",
      "execution_count": null,
      "metadata": {
        "scrolled": false,
        "colab": {
          "base_uri": "https://localhost:8080/",
          "height": 710
        },
        "id": "xTw_mxhX6oOK",
        "outputId": "07b586bc-5bdf-4ff5-f949-d90728592079"
      },
      "outputs": [
        {
          "output_type": "execute_result",
          "data": {
            "text/plain": [
              "Text(0, 0.5, 'BIC')"
            ]
          },
          "metadata": {},
          "execution_count": 18
        },
        {
          "output_type": "display_data",
          "data": {
            "text/plain": [
              "<Figure size 2000x1000 with 4 Axes>"
            ],
            "image/png": "[encoded data removed]"
          },
          "metadata": {}
        }
      ],
      "source": [
        "plt.figure(figsize=(20,10))\n",
        "plt.rcParams.update({'font.size': 18, 'lines.markersize': 10})\n",
        "\n",
        "# Set up a 2x2 grid so we can look at 4 plots at once 设置一个 2x2 网格，以便我们可以同时查看 4 个图\n",
        "plt.subplot(2, 2, 1)\n",
        "\n",
        "# We will now plot a red dot to indicate the model with the largest adjusted R^2 statistic.\n",
        "# 我们现在将绘制一个红点来指示具有最大调整后 R^2 统计量的模型。\n",
        "# The argmax() function can be used to identify the location of the maximum point of a vector\n",
        "# argmax() 函数可用于识别向量最大点的位置\n",
        "plt.plot(models_best[\"RSS\"])\n",
        "plt.xlabel('# Predictors')\n",
        "plt.ylabel('RSS')\n",
        "\n",
        "# We will now plot a red dot to indicate the model with the largest adjusted R^2 statistic.\n",
        "# 我们现在将绘制一个红点来指示具有最大调整后 R^2 统计量的模型。\n",
        "# The argmax() function can be used to identify the location of the maximum point of a vector\n",
        "# argmax() 函数可用于识别向量最大点的位置\n",
        "\n",
        "rsquared_adj = models_best.apply(lambda row: row[1].rsquared_adj, axis=1)\n",
        "\n",
        "plt.subplot(2, 2, 2)\n",
        "plt.plot(rsquared_adj)\n",
        "plt.plot(rsquared_adj.argmax()+1, rsquared_adj.max(), \"or\")\n",
        "plt.xlabel('# Predictors')\n",
        "plt.ylabel('adjusted rsquared')\n",
        "\n",
        "# We'll do the same for AIC and BIC, this time looking for the models with the SMALLEST statistic\n",
        "# 我们将对 AIC 和 BIC 执行相同的操作，这次寻找具有最小统计量的模型\n",
        "aic = models_best.apply(lambda row: row[1].aic, axis=1)\n",
        "\n",
        "plt.subplot(2, 2, 3)\n",
        "plt.plot(aic)\n",
        "plt.plot(aic.argmin()+1, aic.min(), \"or\")\n",
        "plt.xlabel('# Predictors')\n",
        "plt.ylabel('AIC')\n",
        "\n",
        "bic = models_best.apply(lambda row: row[1].bic, axis=1)\n",
        "\n",
        "plt.subplot(2, 2, 4)\n",
        "plt.plot(bic)\n",
        "plt.plot(bic.argmin()+1, bic.min(), \"or\")\n",
        "plt.xlabel('# Predictors')\n",
        "plt.ylabel('BIC')"
      ]
    },
    {
      "cell_type": "code",
      "execution_count": null,
      "metadata": {
        "colab": {
          "base_uri": "https://localhost:8080/"
        },
        "id": "vfdQoA956oOK",
        "outputId": "4093f5bb-d664-4174-aeaa-d6e112b1ad55"
      },
      "outputs": [
        {
          "output_type": "execute_result",
          "data": {
            "text/plain": [
              "6"
            ]
          },
          "metadata": {},
          "execution_count": 19
        }
      ],
      "source": [
        "rsquared_adj.argmax()"
      ]
    },
    {
      "cell_type": "code",
      "execution_count": null,
      "metadata": {
        "colab": {
          "base_uri": "https://localhost:8080/"
        },
        "id": "Q65GcRIQ6oOK",
        "outputId": "a5bea12c-b90b-4c56-e7ca-c34218a1077c"
      },
      "outputs": [
        {
          "output_type": "execute_result",
          "data": {
            "text/plain": [
              "0.7921974900757028"
            ]
          },
          "metadata": {},
          "execution_count": 20
        }
      ],
      "source": [
        "rsquared_adj.max()"
      ]
    },
    {
      "cell_type": "markdown",
      "metadata": {
        "id": "oZfE0mjM6oOK"
      },
      "source": [
        "Recall that in the second step of our selection process, we narrowed the field down to just one model on any $k<=p$ predictors. We see that according to BIC, the best performer is the model with 6 variables. According to AIC and adjusted $R^2$ something a bit more complex might be better. Again, no one measure is going to give us an entirely accurate picture... but they all agree that a model with 5 or fewer predictors is insufficient.\n",
        "\n",
        "回想一下，在选择过程的第二步中，我们将范围缩小到任何 k<=p 预测变量上的一个模型。我们看到，根据 BIC，表现最好的是具有 6 个变量的模型。根据 AIC 和调整后的 R2 的说法，更复杂一些的东西可能会更好。再次强调，没有任何一种衡量标准能够为我们提供完全准确的图像……但他们都一致认为，具有 5 个或更少预测变量的模型是不够的。"
      ]
    },
    {
      "cell_type": "markdown",
      "metadata": {
        "id": "CjkolTWo6oOK"
      },
      "source": [
        "#### Example: Forward Selection"
      ]
    },
    {
      "cell_type": "code",
      "execution_count": null,
      "metadata": {
        "id": "qF0Lr9D56oOK"
      },
      "outputs": [],
      "source": [
        "def forward(predictors):\n",
        "\n",
        "    # Pull out predictors we still need to process 找出我们仍需处理的预测因子\n",
        "    remaining_predictors = [p for p in X.columns if p not in predictors]\n",
        "\n",
        "    tic = time.time()\n",
        "\n",
        "    results = []\n",
        "\n",
        "    for p in remaining_predictors:\n",
        "        results.append(processSubset(predictors+[p]))\n",
        "\n",
        "    # Wrap everything up in a nice dataframe 将所有内容包装在一个漂亮的数据框中\n",
        "    models = pd.DataFrame(results)\n",
        "\n",
        "    # Choose the model with the highest RSS 选择 RSS 最高的模型\n",
        "    best_model = models.loc[models['RSS'].argmin()]\n",
        "\n",
        "    toc = time.time()\n",
        "    print(\"Processed \", models.shape[0], \"models on\", len(predictors)+1, \"predictors in\", (toc-tic), \"seconds.\")\n",
        "\n",
        "    # Return the best model, along with some other useful information about the model\n",
        "    # 返回最佳模型以及有关模型的一些其他有用信息\n",
        "    return best_model"
      ]
    },
    {
      "cell_type": "code",
      "execution_count": null,
      "metadata": {
        "scrolled": true,
        "colab": {
          "base_uri": "https://localhost:8080/"
        },
        "id": "rb9sAF2o6oOL",
        "outputId": "1cfe7d88-7d8e-4402-d389-283351251756"
      },
      "outputs": [
        {
          "output_type": "stream",
          "name": "stdout",
          "text": [
            "Processed  19 models on 1 predictors in 0.07537484169006348 seconds.\n",
            "Processed  18 models on 2 predictors in 0.0680246353149414 seconds.\n",
            "Processed  17 models on 3 predictors in 0.06677651405334473 seconds.\n",
            "Processed  16 models on 4 predictors in 0.07611393928527832 seconds.\n",
            "Processed  15 models on 5 predictors in 0.0698709487915039 seconds.\n",
            "Processed  14 models on 6 predictors in 0.04367327690124512 seconds.\n",
            "Processed  13 models on 7 predictors in 0.04105520248413086 seconds.\n",
            "Processed  12 models on 8 predictors in 0.042231082916259766 seconds.\n",
            "Processed  11 models on 9 predictors in 0.0392756462097168 seconds.\n",
            "Processed  10 models on 10 predictors in 0.03606557846069336 seconds.\n",
            "Processed  9 models on 11 predictors in 0.03382420539855957 seconds.\n",
            "Processed  8 models on 12 predictors in 0.032858848571777344 seconds.\n",
            "Processed  7 models on 13 predictors in 0.0264284610748291 seconds.\n",
            "Processed  6 models on 14 predictors in 0.027669906616210938 seconds.\n",
            "Processed  5 models on 15 predictors in 0.020458459854125977 seconds.\n",
            "Processed  4 models on 16 predictors in 0.018383502960205078 seconds.\n",
            "Processed  3 models on 17 predictors in 0.01437687873840332 seconds.\n",
            "Processed  2 models on 18 predictors in 0.012384176254272461 seconds.\n",
            "Processed  1 models on 19 predictors in 0.0072782039642333984 seconds.\n",
            "Total elapsed time: 0.8293673992156982 seconds.\n"
          ]
        }
      ],
      "source": [
        "models_fwd = pd.DataFrame(columns=[\"RSS\", \"model\"])\n",
        "\n",
        "tic = time.time()\n",
        "predictors = []\n",
        "\n",
        "for i in range(1,len(X.columns)+1):\n",
        "    models_fwd.loc[i] = forward(predictors)\n",
        "    predictors = models_fwd.loc[i][\"model\"].model.exog_names\n",
        "\n",
        "toc = time.time()\n",
        "print(\"Total elapsed time:\", (toc-tic), \"seconds.\")"
      ]
    },
    {
      "cell_type": "code",
      "execution_count": null,
      "metadata": {
        "scrolled": false,
        "colab": {
          "base_uri": "https://localhost:8080/"
        },
        "id": "FLj_znYV6oOO",
        "outputId": "8c1a4fef-ad2b-4540-b2dd-a6ab2bffcfd6"
      },
      "outputs": [
        {
          "output_type": "stream",
          "name": "stdout",
          "text": [
            "                                 OLS Regression Results                                \n",
            "=======================================================================================\n",
            "Dep. Variable:                 Salary   R-squared (uncentered):                   0.665\n",
            "Model:                            OLS   Adj. R-squared (uncentered):              0.663\n",
            "Method:                 Least Squares   F-statistic:                              519.2\n",
            "Date:                Tue, 23 Apr 2024   Prob (F-statistic):                    4.20e-64\n",
            "Time:                        03:42:13   Log-Likelihood:                         -1952.4\n",
            "No. Observations:                 263   AIC:                                      3907.\n",
            "Df Residuals:                     262   BIC:                                      3910.\n",
            "Df Model:                           1                                                  \n",
            "Covariance Type:            nonrobust                                                  \n",
            "==============================================================================\n",
            "                 coef    std err          t      P>|t|      [0.025      0.975]\n",
            "------------------------------------------------------------------------------\n",
            "Hits           4.8833      0.214     22.787      0.000       4.461       5.305\n",
            "==============================================================================\n",
            "Omnibus:                       90.075   Durbin-Watson:                   1.949\n",
            "Prob(Omnibus):                  0.000   Jarque-Bera (JB):              293.080\n",
            "Skew:                           1.469   Prob(JB):                     2.28e-64\n",
            "Kurtosis:                       7.256   Cond. No.                         1.00\n",
            "==============================================================================\n",
            "\n",
            "Notes:\n",
            "[1] R² is computed without centering (uncentered) since the model does not contain a constant.\n",
            "[2] Standard Errors assume that the covariance matrix of the errors is correctly specified.\n",
            "                                 OLS Regression Results                                \n",
            "=======================================================================================\n",
            "Dep. Variable:                 Salary   R-squared (uncentered):                   0.761\n",
            "Model:                            OLS   Adj. R-squared (uncentered):              0.760\n",
            "Method:                 Least Squares   F-statistic:                              416.7\n",
            "Date:                Tue, 23 Apr 2024   Prob (F-statistic):                    5.80e-82\n",
            "Time:                        03:42:13   Log-Likelihood:                         -1907.6\n",
            "No. Observations:                 263   AIC:                                      3819.\n",
            "Df Residuals:                     261   BIC:                                      3826.\n",
            "Df Model:                           2                                                  \n",
            "Covariance Type:            nonrobust                                                  \n",
            "==============================================================================\n",
            "                 coef    std err          t      P>|t|      [0.025      0.975]\n",
            "------------------------------------------------------------------------------\n",
            "Hits           2.9538      0.261     11.335      0.000       2.441       3.467\n",
            "CRBI           0.6788      0.066     10.295      0.000       0.549       0.809\n",
            "==============================================================================\n",
            "Omnibus:                      117.551   Durbin-Watson:                   1.933\n",
            "Prob(Omnibus):                  0.000   Jarque-Bera (JB):              654.612\n",
            "Skew:                           1.729   Prob(JB):                    7.12e-143\n",
            "Kurtosis:                       9.912   Cond. No.                         5.88\n",
            "==============================================================================\n",
            "\n",
            "Notes:\n",
            "[1] R² is computed without centering (uncentered) since the model does not contain a constant.\n",
            "[2] Standard Errors assume that the covariance matrix of the errors is correctly specified.\n"
          ]
        }
      ],
      "source": [
        "print(models_fwd.loc[1, \"model\"].summary())\n",
        "print(models_fwd.loc[2, \"model\"].summary())"
      ]
    },
    {
      "cell_type": "markdown",
      "metadata": {
        "id": "vBFIOSt76oOO"
      },
      "source": [
        "We see that using forward stepwise selection, the best one-variable\n",
        "model contains only `Hits`, and the best two-variable model additionally\n",
        "includes `CRBI`. Let's see how the models stack up against best subset selection:\n",
        "\n",
        "我们看到，使用前向逐步选择，最佳单变量模型仅包含“命中”，而最佳双变量模型另外包括“CRBI”。让我们看看这些模型与最佳子集选择的比较结果："
      ]
    },
    {
      "cell_type": "code",
      "execution_count": null,
      "metadata": {
        "scrolled": false,
        "colab": {
          "base_uri": "https://localhost:8080/"
        },
        "id": "Vnq_pTvz6oOO",
        "outputId": "a88f2ae4-e479-4426-e826-633747db5a1b"
      },
      "outputs": [
        {
          "output_type": "stream",
          "name": "stdout",
          "text": [
            "                                 OLS Regression Results                                \n",
            "=======================================================================================\n",
            "Dep. Variable:                 Salary   R-squared (uncentered):                   0.795\n",
            "Model:                            OLS   Adj. R-squared (uncentered):              0.790\n",
            "Method:                 Least Squares   F-statistic:                              166.3\n",
            "Date:                Tue, 23 Apr 2024   Prob (F-statistic):                    1.79e-85\n",
            "Time:                        03:44:23   Log-Likelihood:                         -1887.6\n",
            "No. Observations:                 263   AIC:                                      3787.\n",
            "Df Residuals:                     257   BIC:                                      3809.\n",
            "Df Model:                           6                                                  \n",
            "Covariance Type:            nonrobust                                                  \n",
            "==============================================================================\n",
            "                 coef    std err          t      P>|t|      [0.025      0.975]\n",
            "------------------------------------------------------------------------------\n",
            "AtBat         -1.5488      0.477     -3.248      0.001      -2.488      -0.610\n",
            "Hits           7.0190      1.613      4.352      0.000       3.843      10.195\n",
            "Walks          3.7513      1.212      3.095      0.002       1.364       6.138\n",
            "CRBI           0.6544      0.064     10.218      0.000       0.528       0.781\n",
            "PutOuts        0.2703      0.075      3.614      0.000       0.123       0.418\n",
            "Division_W  -104.4513     37.661     -2.773      0.006    -178.615     -30.287\n",
            "==============================================================================\n",
            "Omnibus:                      106.414   Durbin-Watson:                   1.986\n",
            "Prob(Omnibus):                  0.000   Jarque-Bera (JB):              768.429\n",
            "Skew:                           1.433   Prob(JB):                    1.37e-167\n",
            "Kurtosis:                      10.869   Cond. No.                     1.29e+03\n",
            "==============================================================================\n",
            "\n",
            "Notes:\n",
            "[1] R² is computed without centering (uncentered) since the model does not contain a constant.\n",
            "[2] Standard Errors assume that the covariance matrix of the errors is correctly specified.\n",
            "[3] The condition number is large, 1.29e+03. This might indicate that there are\n",
            "strong multicollinearity or other numerical problems.\n",
            "                                 OLS Regression Results                                \n",
            "=======================================================================================\n",
            "Dep. Variable:                 Salary   R-squared (uncentered):                   0.795\n",
            "Model:                            OLS   Adj. R-squared (uncentered):              0.790\n",
            "Method:                 Least Squares   F-statistic:                              166.3\n",
            "Date:                Tue, 23 Apr 2024   Prob (F-statistic):                    1.79e-85\n",
            "Time:                        03:44:23   Log-Likelihood:                         -1887.6\n",
            "No. Observations:                 263   AIC:                                      3787.\n",
            "Df Residuals:                     257   BIC:                                      3809.\n",
            "Df Model:                           6                                                  \n",
            "Covariance Type:            nonrobust                                                  \n",
            "==============================================================================\n",
            "                 coef    std err          t      P>|t|      [0.025      0.975]\n",
            "------------------------------------------------------------------------------\n",
            "Hits           7.0190      1.613      4.352      0.000       3.843      10.195\n",
            "CRBI           0.6544      0.064     10.218      0.000       0.528       0.781\n",
            "Division_W  -104.4513     37.661     -2.773      0.006    -178.615     -30.287\n",
            "PutOuts        0.2703      0.075      3.614      0.000       0.123       0.418\n",
            "AtBat         -1.5488      0.477     -3.248      0.001      -2.488      -0.610\n",
            "Walks          3.7513      1.212      3.095      0.002       1.364       6.138\n",
            "==============================================================================\n",
            "Omnibus:                      106.414   Durbin-Watson:                   1.986\n",
            "Prob(Omnibus):                  0.000   Jarque-Bera (JB):              768.429\n",
            "Skew:                           1.433   Prob(JB):                    1.37e-167\n",
            "Kurtosis:                      10.869   Cond. No.                     1.29e+03\n",
            "==============================================================================\n",
            "\n",
            "Notes:\n",
            "[1] R² is computed without centering (uncentered) since the model does not contain a constant.\n",
            "[2] Standard Errors assume that the covariance matrix of the errors is correctly specified.\n",
            "[3] The condition number is large, 1.29e+03. This might indicate that there are\n",
            "strong multicollinearity or other numerical problems.\n"
          ]
        }
      ],
      "source": [
        "print(models_best.loc[6, \"model\"].summary())\n",
        "print(models_fwd.loc[6, \"model\"].summary())"
      ]
    },
    {
      "cell_type": "markdown",
      "metadata": {
        "id": "X27jrZV26oOO"
      },
      "source": [
        "#### Example: Backward Selection"
      ]
    },
    {
      "cell_type": "code",
      "execution_count": null,
      "metadata": {
        "id": "yNXcY7s56oOO"
      },
      "outputs": [],
      "source": [
        "def backward(predictors):\n",
        "\n",
        "    tic = time.time()\n",
        "\n",
        "    results = []\n",
        "\n",
        "    for combo in itertools.combinations(predictors, len(predictors)-1):\n",
        "        results.append(processSubset(combo))\n",
        "\n",
        "    # Wrap everything up in a nice dataframe 将所有内容包装在一个漂亮的数据框中\n",
        "    models = pd.DataFrame(results)\n",
        "\n",
        "    # Choose the model with the highest RSS 选择 RSS 最高的模型\n",
        "    best_model = models.loc[models['RSS'].argmin()]\n",
        "\n",
        "    toc = time.time()\n",
        "    print(\"Processed \", models.shape[0], \"models on\", len(predictors)-1, \"predictors in\", (toc-tic), \"seconds.\")\n",
        "\n",
        "    # Return the best model, along with some other useful information about the model\n",
        "    # 返回最佳模型以及有关模型的一些其他有用信息\n",
        "    return best_model"
      ]
    },
    {
      "cell_type": "code",
      "execution_count": null,
      "metadata": {
        "scrolled": true,
        "colab": {
          "base_uri": "https://localhost:8080/"
        },
        "id": "6kqrcWs46oOO",
        "outputId": "42b08e3f-6d82-4722-961c-7f08d83d7ec5"
      },
      "outputs": [
        {
          "output_type": "stream",
          "name": "stdout",
          "text": [
            "Processed  19 models on 18 predictors in 0.07421207427978516 seconds.\n",
            "Processed  18 models on 17 predictors in 0.0683603286743164 seconds.\n",
            "Processed  17 models on 16 predictors in 0.07436299324035645 seconds.\n",
            "Processed  16 models on 15 predictors in 0.06305432319641113 seconds.\n",
            "Processed  15 models on 14 predictors in 0.05935049057006836 seconds.\n",
            "Processed  14 models on 13 predictors in 0.05679917335510254 seconds.\n",
            "Processed  13 models on 12 predictors in 0.045427560806274414 seconds.\n",
            "Processed  12 models on 11 predictors in 0.045969247817993164 seconds.\n",
            "Processed  11 models on 10 predictors in 0.04284238815307617 seconds.\n",
            "Processed  10 models on 9 predictors in 0.03571176528930664 seconds.\n",
            "Processed  9 models on 8 predictors in 0.03696584701538086 seconds.\n",
            "Processed  8 models on 7 predictors in 0.025892019271850586 seconds.\n",
            "Processed  7 models on 6 predictors in 0.022932052612304688 seconds.\n",
            "Processed  6 models on 5 predictors in 0.01979851722717285 seconds.\n",
            "Processed  5 models on 4 predictors in 0.01960134506225586 seconds.\n",
            "Processed  4 models on 3 predictors in 0.012361526489257812 seconds.\n",
            "Processed  3 models on 2 predictors in 0.019814014434814453 seconds.\n",
            "Processed  2 models on 1 predictors in 0.005913734436035156 seconds.\n",
            "Total elapsed time 0.7740142345428467 seconds.\n"
          ]
        }
      ],
      "source": [
        "models_bwd = pd.DataFrame(columns=[\"RSS\", \"model\"], index = range(1,len(X.columns)))\n",
        "\n",
        "tic = time.time()\n",
        "predictors = X.columns\n",
        "\n",
        "while(len(predictors) > 1):\n",
        "    models_bwd.loc[len(predictors)-1] = backward(predictors)\n",
        "    predictors = models_bwd.loc[len(predictors)-1][\"model\"].model.exog_names\n",
        "\n",
        "toc = time.time()\n",
        "print(\"Total elapsed time\", (toc-tic), \"seconds.\")"
      ]
    },
    {
      "cell_type": "code",
      "execution_count": null,
      "metadata": {
        "colab": {
          "base_uri": "https://localhost:8080/"
        },
        "id": "Oz7GbzhL6oOO",
        "outputId": "469d3aed-23f6-4fca-d053-5a891c6b3673"
      },
      "outputs": [
        {
          "output_type": "stream",
          "name": "stdout",
          "text": [
            "------------\n",
            "Best Subset:\n",
            "------------\n",
            "Hits            1.680029\n",
            "Walks           3.399961\n",
            "CAtBat         -0.328835\n",
            "CHits           1.347017\n",
            "CHmRun          1.349373\n",
            "PutOuts         0.248166\n",
            "Division_W   -111.943760\n",
            "dtype: float64\n"
          ]
        }
      ],
      "source": [
        "print(\"------------\")\n",
        "print(\"Best Subset:\")\n",
        "print(\"------------\")\n",
        "print(models_best.loc[7, \"model\"].params)"
      ]
    },
    {
      "cell_type": "code",
      "execution_count": null,
      "metadata": {
        "colab": {
          "base_uri": "https://localhost:8080/"
        },
        "id": "xhPzeEIm6oOO",
        "outputId": "37ed6c15-0c49-4492-82df-f4263317fdf2"
      },
      "outputs": [
        {
          "output_type": "stream",
          "name": "stdout",
          "text": [
            "-----------------\n",
            "Foward Selection:\n",
            "-----------------\n",
            "Hits            7.277149\n",
            "CRBI            0.652415\n",
            "Division_W   -110.656338\n",
            "PutOuts         0.259787\n",
            "AtBat          -1.644651\n",
            "Walks           3.684324\n",
            "League_N       49.978410\n",
            "dtype: float64\n"
          ]
        }
      ],
      "source": [
        "print(\"-----------------\")\n",
        "print(\"Foward Selection:\")\n",
        "print(\"-----------------\")\n",
        "print(models_fwd.loc[7, \"model\"].params)"
      ]
    },
    {
      "cell_type": "code",
      "execution_count": null,
      "metadata": {
        "colab": {
          "base_uri": "https://localhost:8080/"
        },
        "id": "JQqQfC_T6oOP",
        "outputId": "0dca83c3-bc8c-4e02-ffa9-ec4df99eae8e"
      },
      "outputs": [
        {
          "output_type": "stream",
          "name": "stdout",
          "text": [
            "-------------------\n",
            "Backward Selection:\n",
            "-------------------\n",
            "AtBat         -1.601655\n",
            "Hits           6.148449\n",
            "Walks          5.866033\n",
            "CRuns          1.097453\n",
            "CWalks        -0.650614\n",
            "PutOuts        0.310125\n",
            "Division_W   -95.027171\n",
            "dtype: float64\n"
          ]
        }
      ],
      "source": [
        "print(\"-------------------\")\n",
        "print(\"Backward Selection:\")\n",
        "print(\"-------------------\")\n",
        "print(models_bwd.loc[7, \"model\"].params)"
      ]
    },
    {
      "cell_type": "markdown",
      "metadata": {
        "id": "XLEg4R4w6oOP"
      },
      "source": [
        "# Choosing Optimal Model 选择最佳模型\n",
        "## Adjusting Training Statistics or Using Cross Validation 调整训练统计数据或使用交叉验证\n",
        "As learned in Chapter 5, cross validation is an extremely good tool at giving us insight to how well the model will be used on unseen data (test data).\n",
        "\n",
        "But alternatively to cross validation, we can punish the training error statistics so in theory they can give us insight on what the test error will be. There have been several statistics developed to give us insight as to what the model will do for unseen errors.\n",
        "\n",
        "The 4 most popular are AIC, BIC, Mallows Cp and Adjusted R^2. AIC, BIC and Cp all have similar formulas that inflate the error for more predictors and a higher estimated variance. Adjusted R squared lowers the R^2 by each additional predictor in the model. All 4 of these statistics are 'classical' model selectors and were commonly used.\n",
        "\n",
        "Cross validation can be computationally intense but with modern computation we can build lots of models and evaluate them easily.\n",
        "\n",
        "正如第 5 章所述，交叉验证是一个非常好的工具，可以让我们深入了解模型在未见过的数据（测试数据）上的使用情况。\n",
        "\n",
        "但除了交叉验证之外，我们还可以惩罚训练误差统计数据，这样理论上它们可以让我们了解测试误差是什么。已经开发了一些统计数据，让我们深入了解该模型将如何处理看不见的错误。\n",
        "\n",
        "最流行的 4 个是 AIC、BIC、Mallows Cp 和调整后的 R^2。 AIC、BIC 和 Cp 都有类似的公式，这些公式会夸大更多预测变量和更高估计方差的误差。调整后的 R 平方会降低模型中每个附加预测变量的 R^2。所有这 4 个统计数据都是“经典”模型选择器并且被广泛使用。\n",
        "\n",
        "交叉验证的计算量可能很大，但通过现代计算，我们可以构建大量模型并轻松评估它们。"
      ]
    },
    {
      "cell_type": "markdown",
      "metadata": {
        "id": "M8W3n4z16oOP"
      },
      "source": [
        "#### Example: Model selection using the Validation Set Approach\n",
        "使用验证集方法进行模型选择"
      ]
    },
    {
      "cell_type": "code",
      "execution_count": null,
      "metadata": {
        "id": "htCMo6Rq6oOP"
      },
      "outputs": [],
      "source": [
        "%matplotlib inline\n",
        "import pandas as pd\n",
        "import numpy as np\n",
        "import itertools\n",
        "import statsmodels.api as sm\n",
        "import matplotlib.pyplot as plt\n"
      ]
    },
    {
      "cell_type": "code",
      "execution_count": null,
      "metadata": {
        "id": "9xpKNsrJ6oOP"
      },
      "outputs": [],
      "source": [
        "df = pd.read_csv('data/hitters.csv')\n",
        "\n",
        "# Drop any rows the contain missing values, along with the player names\n",
        "# 删除包含缺失值的任何行以及玩家姓名\n",
        "df = df.dropna().drop('Unnamed: 0', axis=1)\n",
        "\n",
        "# Get dummy variables 获取虚拟变量\n",
        "dummies = pd.get_dummies(df[['League', 'Division', 'NewLeague']])\n",
        "\n",
        "# Extract independent variable 提取独立变量\n",
        "y = pd.DataFrame(df.Salary)\n",
        "\n",
        "# Drop the column with the independent variable (Salary), and columns for which we created dummy variables\n",
        "# 删除包含独立变量（工资）的列，以及我们为其创建虚拟变量的列\n",
        "X_ = df.drop(['Salary', 'League', 'Division', 'NewLeague'], axis=1).astype('float64')\n",
        "\n",
        "# Define the feature set X. 定义特征集X。\n",
        "X = pd.concat([X_, dummies[['League_N', 'Division_W', 'NewLeague_N']]], axis=1)"
      ]
    },
    {
      "cell_type": "code",
      "execution_count": null,
      "metadata": {
        "colab": {
          "base_uri": "https://localhost:8080/",
          "height": 206
        },
        "id": "wSf5xOTx6oOP",
        "outputId": "60616226-605e-4f10-c5a5-1e94a1dd9520"
      },
      "outputs": [
        {
          "output_type": "execute_result",
          "data": {
            "text/plain": [
              "   AtBat  Hits  HmRun  Runs  RBI  Walks  Years  CAtBat  CHits  CHmRun  CRuns  \\\n",
              "1    315    81      7    24   38     39     14    3449    835      69    321   \n",
              "2    479   130     18    66   72     76      3    1624    457      63    224   \n",
              "3    496   141     20    65   78     37     11    5628   1575     225    828   \n",
              "4    321    87     10    39   42     30      2     396    101      12     48   \n",
              "5    594   169      4    74   51     35     11    4408   1133      19    501   \n",
              "\n",
              "   CRBI  CWalks League Division  PutOuts  Assists  Errors  Salary NewLeague  \n",
              "1   414     375      N        W      632       43      10   475.0         N  \n",
              "2   266     263      A        W      880       82      14   480.0         A  \n",
              "3   838     354      N        E      200       11       3   500.0         N  \n",
              "4    46      33      N        E      805       40       4    91.5         N  \n",
              "5   336     194      A        W      282      421      25   750.0         A  "
            ],
            "text/html": [
              "\n",
              "  <div id=\"df-2432e993-4e2b-4ac5-adbf-367f77d439bc\" class=\"colab-df-container\">\n",
              "    <div>\n",
              "<style scoped>\n",
              "    .dataframe tbody tr th:only-of-type {\n",
              "        vertical-align: middle;\n",
              "    }\n",
              "\n",
              "    .dataframe tbody tr th {\n",
              "        vertical-align: top;\n",
              "    }\n",
              "\n",
              "    .dataframe thead th {\n",
              "        text-align: right;\n",
              "    }\n",
              "</style>\n",
              "<table border=\"1\" class=\"dataframe\">\n",
              "  <thead>\n",
              "    <tr style=\"text-align: right;\">\n",
              "      <th></th>\n",
              "      <th>AtBat</th>\n",
              "      <th>Hits</th>\n",
              "      <th>HmRun</th>\n",
              "      <th>Runs</th>\n",
              "      <th>RBI</th>\n",
              "      <th>Walks</th>\n",
              "      <th>Years</th>\n",
              "      <th>CAtBat</th>\n",
              "      <th>CHits</th>\n",
              "      <th>CHmRun</th>\n",
              "      <th>CRuns</th>\n",
              "      <th>CRBI</th>\n",
              "      <th>CWalks</th>\n",
              "      <th>League</th>\n",
              "      <th>Division</th>\n",
              "      <th>PutOuts</th>\n",
              "      <th>Assists</th>\n",
              "      <th>Errors</th>\n",
              "      <th>Salary</th>\n",
              "      <th>NewLeague</th>\n",
              "    </tr>\n",
              "  </thead>\n",
              "  <tbody>\n",
              "    <tr>\n",
              "      <th>1</th>\n",
              "      <td>315</td>\n",
              "      <td>81</td>\n",
              "      <td>7</td>\n",
              "      <td>24</td>\n",
              "      <td>38</td>\n",
              "      <td>39</td>\n",
              "      <td>14</td>\n",
              "      <td>3449</td>\n",
              "      <td>835</td>\n",
              "      <td>69</td>\n",
              "      <td>321</td>\n",
              "      <td>414</td>\n",
              "      <td>375</td>\n",
              "      <td>N</td>\n",
              "      <td>W</td>\n",
              "      <td>632</td>\n",
              "      <td>43</td>\n",
              "      <td>10</td>\n",
              "      <td>475.0</td>\n",
              "      <td>N</td>\n",
              "    </tr>\n",
              "    <tr>\n",
              "      <th>2</th>\n",
              "      <td>479</td>\n",
              "      <td>130</td>\n",
              "      <td>18</td>\n",
              "      <td>66</td>\n",
              "      <td>72</td>\n",
              "      <td>76</td>\n",
              "      <td>3</td>\n",
              "      <td>1624</td>\n",
              "      <td>457</td>\n",
              "      <td>63</td>\n",
              "      <td>224</td>\n",
              "      <td>266</td>\n",
              "      <td>263</td>\n",
              "      <td>A</td>\n",
              "      <td>W</td>\n",
              "      <td>880</td>\n",
              "      <td>82</td>\n",
              "      <td>14</td>\n",
              "      <td>480.0</td>\n",
              "      <td>A</td>\n",
              "    </tr>\n",
              "    <tr>\n",
              "      <th>3</th>\n",
              "      <td>496</td>\n",
              "      <td>141</td>\n",
              "      <td>20</td>\n",
              "      <td>65</td>\n",
              "      <td>78</td>\n",
              "      <td>37</td>\n",
              "      <td>11</td>\n",
              "      <td>5628</td>\n",
              "      <td>1575</td>\n",
              "      <td>225</td>\n",
              "      <td>828</td>\n",
              "      <td>838</td>\n",
              "      <td>354</td>\n",
              "      <td>N</td>\n",
              "      <td>E</td>\n",
              "      <td>200</td>\n",
              "      <td>11</td>\n",
              "      <td>3</td>\n",
              "      <td>500.0</td>\n",
              "      <td>N</td>\n",
              "    </tr>\n",
              "    <tr>\n",
              "      <th>4</th>\n",
              "      <td>321</td>\n",
              "      <td>87</td>\n",
              "      <td>10</td>\n",
              "      <td>39</td>\n",
              "      <td>42</td>\n",
              "      <td>30</td>\n",
              "      <td>2</td>\n",
              "      <td>396</td>\n",
              "      <td>101</td>\n",
              "      <td>12</td>\n",
              "      <td>48</td>\n",
              "      <td>46</td>\n",
              "      <td>33</td>\n",
              "      <td>N</td>\n",
              "      <td>E</td>\n",
              "      <td>805</td>\n",
              "      <td>40</td>\n",
              "      <td>4</td>\n",
              "      <td>91.5</td>\n",
              "      <td>N</td>\n",
              "    </tr>\n",
              "    <tr>\n",
              "      <th>5</th>\n",
              "      <td>594</td>\n",
              "      <td>169</td>\n",
              "      <td>4</td>\n",
              "      <td>74</td>\n",
              "      <td>51</td>\n",
              "      <td>35</td>\n",
              "      <td>11</td>\n",
              "      <td>4408</td>\n",
              "      <td>1133</td>\n",
              "      <td>19</td>\n",
              "      <td>501</td>\n",
              "      <td>336</td>\n",
              "      <td>194</td>\n",
              "      <td>A</td>\n",
              "      <td>W</td>\n",
              "      <td>282</td>\n",
              "      <td>421</td>\n",
              "      <td>25</td>\n",
              "      <td>750.0</td>\n",
              "      <td>A</td>\n",
              "    </tr>\n",
              "  </tbody>\n",
              "</table>\n",
              "</div>\n",
              "    <div class=\"colab-df-buttons\">\n",
              "\n",
              "  <div class=\"colab-df-container\">\n",
              "    <button class=\"colab-df-convert\" onclick=\"convertToInteractive('df-2432e993-4e2b-4ac5-adbf-367f77d439bc')\"\n",
              "            title=\"Convert this dataframe to an interactive table.\"\n",
              "            style=\"display:none;\">\n",
              "\n",
              "  <svg xmlns=\"http://www.w3.org/2000/svg\" height=\"24px\" viewBox=\"0 -960 960 960\">\n",
              "    <path d=\"M120-120v-720h720v720H120Zm60-500h600v-160H180v160Zm220 220h160v-160H400v160Zm0 220h160v-160H400v160ZM180-400h160v-160H180v160Zm440 0h160v-160H620v160ZM180-180h160v-160H180v160Zm440 0h160v-160H620v160Z\"/>\n",
              "  </svg>\n",
              "    </button>\n",
              "\n",
              "  <style>\n",
              "    .colab-df-container {\n",
              "      display:flex;\n",
              "      gap: 12px;\n",
              "    }\n",
              "\n",
              "    .colab-df-convert {\n",
              "      background-color: #E8F0FE;\n",
              "      border: none;\n",
              "      border-radius: 50%;\n",
              "      cursor: pointer;\n",
              "      display: none;\n",
              "      fill: #1967D2;\n",
              "      height: 32px;\n",
              "      padding: 0 0 0 0;\n",
              "      width: 32px;\n",
              "    }\n",
              "\n",
              "    .colab-df-convert:hover {\n",
              "      background-color: #E2EBFA;\n",
              "      box-shadow: 0px 1px 2px rgba(60, 64, 67, 0.3), 0px 1px 3px 1px rgba(60, 64, 67, 0.15);\n",
              "      fill: #174EA6;\n",
              "    }\n",
              "\n",
              "    .colab-df-buttons div {\n",
              "      margin-bottom: 4px;\n",
              "    }\n",
              "\n",
              "    [theme=dark] .colab-df-convert {\n",
              "      background-color: #3B4455;\n",
              "      fill: #D2E3FC;\n",
              "    }\n",
              "\n",
              "    [theme=dark] .colab-df-convert:hover {\n",
              "      background-color: #434B5C;\n",
              "      box-shadow: 0px 1px 3px 1px rgba(0, 0, 0, 0.15);\n",
              "      filter: drop-shadow(0px 1px 2px rgba(0, 0, 0, 0.3));\n",
              "      fill: #FFFFFF;\n",
              "    }\n",
              "  </style>\n",
              "\n",
              "    <script>\n",
              "      const buttonEl =\n",
              "        document.querySelector('#df-2432e993-4e2b-4ac5-adbf-367f77d439bc button.colab-df-convert');\n",
              "      buttonEl.style.display =\n",
              "        google.colab.kernel.accessAllowed ? 'block' : 'none';\n",
              "\n",
              "      async function convertToInteractive(key) {\n",
              "        const element = document.querySelector('#df-2432e993-4e2b-4ac5-adbf-367f77d439bc');\n",
              "        const dataTable =\n",
              "          await google.colab.kernel.invokeFunction('convertToInteractive',\n",
              "                                                    [key], {});\n",
              "        if (!dataTable) return;\n",
              "\n",
              "        const docLinkHtml = 'Like what you see? Visit the ' +\n",
              "          '<a target=\"_blank\" href=https://colab.research.google.com/notebooks/data_table.ipynb>data table notebook</a>'\n",
              "          + ' to learn more about interactive tables.';\n",
              "        element.innerHTML = '';\n",
              "        dataTable['output_type'] = 'display_data';\n",
              "        await google.colab.output.renderOutput(dataTable, element);\n",
              "        const docLink = document.createElement('div');\n",
              "        docLink.innerHTML = docLinkHtml;\n",
              "        element.appendChild(docLink);\n",
              "      }\n",
              "    </script>\n",
              "  </div>\n",
              "\n",
              "\n",
              "<div id=\"df-bb16fb28-f5c8-4209-ad29-292b93e172ec\">\n",
              "  <button class=\"colab-df-quickchart\" onclick=\"quickchart('df-bb16fb28-f5c8-4209-ad29-292b93e172ec')\"\n",
              "            title=\"Suggest charts\"\n",
              "            style=\"display:none;\">\n",
              "\n",
              "<svg xmlns=\"http://www.w3.org/2000/svg\" height=\"24px\"viewBox=\"0 0 24 24\"\n",
              "     width=\"24px\">\n",
              "    <g>\n",
              "        <path d=\"M19 3H5c-1.1 0-2 .9-2 2v14c0 1.1.9 2 2 2h14c1.1 0 2-.9 2-2V5c0-1.1-.9-2-2-2zM9 17H7v-7h2v7zm4 0h-2V7h2v10zm4 0h-2v-4h2v4z\"/>\n",
              "    </g>\n",
              "</svg>\n",
              "  </button>\n",
              "\n",
              "<style>\n",
              "  .colab-df-quickchart {\n",
              "      --bg-color: #E8F0FE;\n",
              "      --fill-color: #1967D2;\n",
              "      --hover-bg-color: #E2EBFA;\n",
              "      --hover-fill-color: #174EA6;\n",
              "      --disabled-fill-color: #AAA;\n",
              "      --disabled-bg-color: #DDD;\n",
              "  }\n",
              "\n",
              "  [theme=dark] .colab-df-quickchart {\n",
              "      --bg-color: #3B4455;\n",
              "      --fill-color: #D2E3FC;\n",
              "      --hover-bg-color: #434B5C;\n",
              "      --hover-fill-color: #FFFFFF;\n",
              "      --disabled-bg-color: #3B4455;\n",
              "      --disabled-fill-color: #666;\n",
              "  }\n",
              "\n",
              "  .colab-df-quickchart {\n",
              "    background-color: var(--bg-color);\n",
              "    border: none;\n",
              "    border-radius: 50%;\n",
              "    cursor: pointer;\n",
              "    display: none;\n",
              "    fill: var(--fill-color);\n",
              "    height: 32px;\n",
              "    padding: 0;\n",
              "    width: 32px;\n",
              "  }\n",
              "\n",
              "  .colab-df-quickchart:hover {\n",
              "    background-color: var(--hover-bg-color);\n",
              "    box-shadow: 0 1px 2px rgba(60, 64, 67, 0.3), 0 1px 3px 1px rgba(60, 64, 67, 0.15);\n",
              "    fill: var(--button-hover-fill-color);\n",
              "  }\n",
              "\n",
              "  .colab-df-quickchart-complete:disabled,\n",
              "  .colab-df-quickchart-complete:disabled:hover {\n",
              "    background-color: var(--disabled-bg-color);\n",
              "    fill: var(--disabled-fill-color);\n",
              "    box-shadow: none;\n",
              "  }\n",
              "\n",
              "  .colab-df-spinner {\n",
              "    border: 2px solid var(--fill-color);\n",
              "    border-color: transparent;\n",
              "    border-bottom-color: var(--fill-color);\n",
              "    animation:\n",
              "      spin 1s steps(1) infinite;\n",
              "  }\n",
              "\n",
              "  @keyframes spin {\n",
              "    0% {\n",
              "      border-color: transparent;\n",
              "      border-bottom-color: var(--fill-color);\n",
              "      border-left-color: var(--fill-color);\n",
              "    }\n",
              "    20% {\n",
              "      border-color: transparent;\n",
              "      border-left-color: var(--fill-color);\n",
              "      border-top-color: var(--fill-color);\n",
              "    }\n",
              "    30% {\n",
              "      border-color: transparent;\n",
              "      border-left-color: var(--fill-color);\n",
              "      border-top-color: var(--fill-color);\n",
              "      border-right-color: var(--fill-color);\n",
              "    }\n",
              "    40% {\n",
              "      border-color: transparent;\n",
              "      border-right-color: var(--fill-color);\n",
              "      border-top-color: var(--fill-color);\n",
              "    }\n",
              "    60% {\n",
              "      border-color: transparent;\n",
              "      border-right-color: var(--fill-color);\n",
              "    }\n",
              "    80% {\n",
              "      border-color: transparent;\n",
              "      border-right-color: var(--fill-color);\n",
              "      border-bottom-color: var(--fill-color);\n",
              "    }\n",
              "    90% {\n",
              "      border-color: transparent;\n",
              "      border-bottom-color: var(--fill-color);\n",
              "    }\n",
              "  }\n",
              "</style>\n",
              "\n",
              "  <script>\n",
              "    async function quickchart(key) {\n",
              "      const quickchartButtonEl =\n",
              "        document.querySelector('#' + key + ' button');\n",
              "      quickchartButtonEl.disabled = true;  // To prevent multiple clicks.\n",
              "      quickchartButtonEl.classList.add('colab-df-spinner');\n",
              "      try {\n",
              "        const charts = await google.colab.kernel.invokeFunction(\n",
              "            'suggestCharts', [key], {});\n",
              "      } catch (error) {\n",
              "        console.error('Error during call to suggestCharts:', error);\n",
              "      }\n",
              "      quickchartButtonEl.classList.remove('colab-df-spinner');\n",
              "      quickchartButtonEl.classList.add('colab-df-quickchart-complete');\n",
              "    }\n",
              "    (() => {\n",
              "      let quickchartButtonEl =\n",
              "        document.querySelector('#df-bb16fb28-f5c8-4209-ad29-292b93e172ec button');\n",
              "      quickchartButtonEl.style.display =\n",
              "        google.colab.kernel.accessAllowed ? 'block' : 'none';\n",
              "    })();\n",
              "  </script>\n",
              "</div>\n",
              "\n",
              "    </div>\n",
              "  </div>\n"
            ],
            "application/vnd.google.colaboratory.intrinsic+json": {
              "type": "dataframe",
              "variable_name": "df",
              "summary": "{\n  \"name\": \"df\",\n  \"rows\": 263,\n  \"fields\": [\n    {\n      \"column\": \"AtBat\",\n      \"properties\": {\n        \"dtype\": \"number\",\n        \"std\": 147,\n        \"min\": 19,\n        \"max\": 687,\n        \"num_unique_values\": 209,\n        \"samples\": [\n          268,\n          523,\n          327\n        ],\n        \"semantic_type\": \"\",\n        \"description\": \"\"\n      }\n    },\n    {\n      \"column\": \"Hits\",\n      \"properties\": {\n        \"dtype\": \"number\",\n        \"std\": 45,\n        \"min\": 1,\n        \"max\": 238,\n        \"num_unique_values\": 130,\n        \"samples\": [\n          115,\n          131,\n          163\n        ],\n        \"semantic_type\": \"\",\n        \"description\": \"\"\n      }\n    },\n    {\n      \"column\": \"HmRun\",\n      \"properties\": {\n        \"dtype\": \"number\",\n        \"std\": 8,\n        \"min\": 0,\n        \"max\": 40,\n        \"num_unique_values\": 35,\n        \"samples\": [\n          27,\n          16,\n          29\n        ],\n        \"semantic_type\": \"\",\n        \"description\": \"\"\n      }\n    },\n    {\n      \"column\": \"Runs\",\n      \"properties\": {\n        \"dtype\": \"number\",\n        \"std\": 25,\n        \"min\": 0,\n        \"max\": 130,\n        \"num_unique_values\": 92,\n        \"samples\": [\n          78,\n          90,\n          33\n        ],\n        \"semantic_type\": \"\",\n        \"description\": \"\"\n      }\n    },\n    {\n      \"column\": \"RBI\",\n      \"properties\": {\n        \"dtype\": \"number\",\n        \"std\": 25,\n        \"min\": 0,\n        \"max\": 121,\n        \"num_unique_values\": 94,\n        \"samples\": [\n          94,\n          95,\n          58\n        ],\n        \"semantic_type\": \"\",\n        \"description\": \"\"\n      }\n    },\n    {\n      \"column\": \"Walks\",\n      \"properties\": {\n        \"dtype\": \"number\",\n        \"std\": 21,\n        \"min\": 0,\n        \"max\": 105,\n        \"num_unique_values\": 87,\n        \"samples\": [\n          44,\n          39,\n          84\n        ],\n        \"semantic_type\": \"\",\n        \"description\": \"\"\n      }\n    },\n    {\n      \"column\": \"Years\",\n      \"properties\": {\n        \"dtype\": \"number\",\n        \"std\": 4,\n        \"min\": 1,\n        \"max\": 24,\n        \"num_unique_values\": 21,\n        \"samples\": [\n          14,\n          16,\n          17\n        ],\n        \"semantic_type\": \"\",\n        \"description\": \"\"\n      }\n    },\n    {\n      \"column\": \"CAtBat\",\n      \"properties\": {\n        \"dtype\": \"number\",\n        \"std\": 2286,\n        \"min\": 19,\n        \"max\": 14053,\n        \"num_unique_values\": 257,\n        \"samples\": [\n          209,\n          1966,\n          6063\n        ],\n        \"semantic_type\": \"\",\n        \"description\": \"\"\n      }\n    },\n    {\n      \"column\": \"CHits\",\n      \"properties\": {\n        \"dtype\": \"number\",\n        \"std\": 648,\n        \"min\": 4,\n        \"max\": 4256,\n        \"num_unique_values\": 241,\n        \"samples\": [\n          633,\n          108,\n          1145\n        ],\n        \"semantic_type\": \"\",\n        \"description\": \"\"\n      }\n    },\n    {\n      \"column\": \"CHmRun\",\n      \"properties\": {\n        \"dtype\": \"number\",\n        \"std\": 82,\n        \"min\": 0,\n        \"max\": 548,\n        \"num_unique_values\": 129,\n        \"samples\": [\n          181,\n          9,\n          67\n        ],\n        \"semantic_type\": \"\",\n        \"description\": \"\"\n      }\n    },\n    {\n      \"column\": \"CRuns\",\n      \"properties\": {\n        \"dtype\": \"number\",\n        \"std\": 331,\n        \"min\": 2,\n        \"max\": 2165,\n        \"num_unique_values\": 226,\n        \"samples\": [\n          702,\n          128,\n          310\n        ],\n        \"semantic_type\": \"\",\n        \"description\": \"\"\n      }\n    },\n    {\n      \"column\": \"CRBI\",\n      \"properties\": {\n        \"dtype\": \"number\",\n        \"std\": 323,\n        \"min\": 3,\n        \"max\": 1659,\n        \"num_unique_values\": 226,\n        \"samples\": [\n          504,\n          273,\n          579\n        ],\n        \"semantic_type\": \"\",\n        \"description\": \"\"\n      }\n    },\n    {\n      \"column\": \"CWalks\",\n      \"properties\": {\n        \"dtype\": \"number\",\n        \"std\": 264,\n        \"min\": 1,\n        \"max\": 1566,\n        \"num_unique_values\": 207,\n        \"samples\": [\n          403,\n          39,\n          709\n        ],\n        \"semantic_type\": \"\",\n        \"description\": \"\"\n      }\n    },\n    {\n      \"column\": \"League\",\n      \"properties\": {\n        \"dtype\": \"category\",\n        \"num_unique_values\": 2,\n        \"samples\": [\n          \"A\",\n          \"N\"\n        ],\n        \"semantic_type\": \"\",\n        \"description\": \"\"\n      }\n    },\n    {\n      \"column\": \"Division\",\n      \"properties\": {\n        \"dtype\": \"category\",\n        \"num_unique_values\": 2,\n        \"samples\": [\n          \"E\",\n          \"W\"\n        ],\n        \"semantic_type\": \"\",\n        \"description\": \"\"\n      }\n    },\n    {\n      \"column\": \"PutOuts\",\n      \"properties\": {\n        \"dtype\": \"number\",\n        \"std\": 279,\n        \"min\": 0,\n        \"max\": 1377,\n        \"num_unique_values\": 199,\n        \"samples\": [\n          207,\n          202\n        ],\n        \"semantic_type\": \"\",\n        \"description\": \"\"\n      }\n    },\n    {\n      \"column\": \"Assists\",\n      \"properties\": {\n        \"dtype\": \"number\",\n        \"std\": 145,\n        \"min\": 0,\n        \"max\": 492,\n        \"num_unique_values\": 145,\n        \"samples\": [\n          15,\n          72\n        ],\n        \"semantic_type\": \"\",\n        \"description\": \"\"\n      }\n    },\n    {\n      \"column\": \"Errors\",\n      \"properties\": {\n        \"dtype\": \"number\",\n        \"std\": 6,\n        \"min\": 0,\n        \"max\": 32,\n        \"num_unique_values\": 29,\n        \"samples\": [\n          17,\n          13\n        ],\n        \"semantic_type\": \"\",\n        \"description\": \"\"\n      }\n    },\n    {\n      \"column\": \"Salary\",\n      \"properties\": {\n        \"dtype\": \"number\",\n        \"std\": 451.11868070253865,\n        \"min\": 67.5,\n        \"max\": 2460.0,\n        \"num_unique_values\": 150,\n        \"samples\": [\n          400.0,\n          600.0\n        ],\n        \"semantic_type\": \"\",\n        \"description\": \"\"\n      }\n    },\n    {\n      \"column\": \"NewLeague\",\n      \"properties\": {\n        \"dtype\": \"category\",\n        \"num_unique_values\": 2,\n        \"samples\": [\n          \"A\",\n          \"N\"\n        ],\n        \"semantic_type\": \"\",\n        \"description\": \"\"\n      }\n    }\n  ]\n}"
            }
          },
          "metadata": {},
          "execution_count": 32
        }
      ],
      "source": [
        "df.head()"
      ]
    },
    {
      "cell_type": "markdown",
      "metadata": {
        "id": "sWUDMvKP6oOP"
      },
      "source": [
        "+ In order for the validation set approach to yield accurate estimates of the test error, we must use only the training observations to perform all aspects of model-fitting — including variable selection.\n",
        "+ Therefore, the determination of which model of a given size is best must be made using only the training observations.\n",
        "+ This point is subtle but important. If the full data set is used to perform the best subset selection step, the validation set errors and cross-validation errors that we obtain will not be accurate estimates of the test error.\n",
        "\n",
        "+ In order to use the validation set approach, we begin by splitting the observations into a training set and a test set.\n",
        "+ We do this by creating a random vector, train, of elements equal to TRUE if the corresponding observation is in the training set, and FALSE otherwise.\n",
        "+ The vector test is TRUE if the observation is in the test set, and a FALSE otherwise.\n",
        "+ Note the np.invert() in the command to create test causes TRUEs to be switched to FALSEs and vice versa.\n",
        "+ We also set a random seed so that the user will obtain the same training set/test set split.\n",
        "\n",
        "+ 为了使验证集方法能够准确估计测试误差，我们必须仅使用训练观测值来执行模型拟合的所有方面 - 包括变量选择。\n",
        "+ 因此，必须仅使用训练观测值来确定给定大小的哪个模型是最佳的。\n",
        "+ 这一点很微妙但很重要。如果使用完整数据集来执行最佳子集选择步骤，则我们获得的验证集误差和交叉验证误差将不是测试误差的准确估计。\n",
        "\n",
        "+ 为了使用验证集方法，我们首先将观测值分成训练集和测试集。\n",
        "+ 我们通过创建一个随机向量 train 来实现这一点，如果相应的观测值在训练集中，则元素等于 TRUE，否则为 FALSE。\n",
        "+ 如果观测值在测试集中，则向量测试为 TRUE，否则为 FALSE。\n",
        "+ 请注意，创建测试的命令中的 np.invert() 会导致 TRUE 切换为 FALSE，反之亦然。\n",
        "+ 我们还设置了一个随机种子，以便用户获得相同的训练集/测试集分割。"
      ]
    },
    {
      "cell_type": "code",
      "execution_count": null,
      "metadata": {
        "id": "0rVKKKOP6oOP"
      },
      "outputs": [],
      "source": [
        "np.random.seed(seed=12)\n",
        "train = np.random.choice([True, False], size = len(y), replace = True)\n",
        "test = np.invert(train)"
      ]
    },
    {
      "cell_type": "code",
      "execution_count": null,
      "metadata": {
        "colab": {
          "base_uri": "https://localhost:8080/"
        },
        "id": "OeXW0zFd6oOQ",
        "outputId": "3a1a0989-6a7a-4ce1-c52d-5ee68d734249"
      },
      "outputs": [
        {
          "output_type": "execute_result",
          "data": {
            "text/plain": [
              "(263,)"
            ]
          },
          "metadata": {},
          "execution_count": 34
        }
      ],
      "source": [
        "test.shape"
      ]
    },
    {
      "cell_type": "markdown",
      "metadata": {
        "id": "dbOT9JlK6oOQ"
      },
      "source": [
        "+ We'll define our helper function to outputs the best set of variables for each model size like we did previously.\n",
        "+ Note that we'll need to modify this to take in both test and training sets, because we want the returned error to be the test error:\n",
        "\n",
        "+ 我们将定义辅助函数来输出每个模型大小的最佳变量集，就像我们之前所做的那样。\n",
        "+ 请注意，我们需要修改它以同时包含测试集和训练集，因为我们希望返回的错误是测试错误："
      ]
    },
    {
      "cell_type": "code",
      "execution_count": null,
      "metadata": {
        "id": "3MXDBolm6oOQ"
      },
      "outputs": [],
      "source": [
        "def processSubset(feature_set, X_train, y_train, X_test, y_test):\n",
        "    # Fit model on feature_set and calculate RSS 在feature_set上拟合模型并计算RSS\n",
        "    model = sm.OLS(y_train,X_train[list(feature_set)].astype(float))\n",
        "    regr = model.fit()\n",
        "    RSS = ((regr.predict(X_test[list(feature_set)]) - y_test) ** 2).sum()\n",
        "    return {\"model\":regr, \"RSS\":RSS}"
      ]
    },
    {
      "cell_type": "markdown",
      "metadata": {
        "id": "t0DLa2-c6oOQ"
      },
      "source": [
        "And our function to perform forward selection:"
      ]
    },
    {
      "cell_type": "code",
      "execution_count": null,
      "metadata": {
        "id": "qFYnZjF16oOQ"
      },
      "outputs": [],
      "source": [
        "def forward(predictors, X_train, y_train, X_test, y_test):\n",
        "\n",
        "    results = []\n",
        "\n",
        "    # Pull out predictors we still need to process 找出我们仍需处理的预测因子\n",
        "    remaining_predictors = [p for p in X_train.columns if p not in predictors]\n",
        "\n",
        "    for p in remaining_predictors:\n",
        "        results.append(processSubset(predictors+[p], X_train, y_train, X_test, y_test))\n",
        "\n",
        "    # Wrap everything up in a nice dataframe 将所有内容包装在一个漂亮的数据框中\n",
        "    models = pd.DataFrame(results)\n",
        "\n",
        "    # Choose the model with the highest RSS 选择 RSS 最高的模型\n",
        "    best_model = models.loc[models['RSS'].argmin()]\n",
        "\n",
        "    # Return the best model, along with some other useful information about the model\n",
        "    # 返回最佳模型以及有关模型的一些其他有用信息\n",
        "    return best_model"
      ]
    },
    {
      "cell_type": "markdown",
      "metadata": {
        "id": "xOi0C4Sj6oOQ"
      },
      "source": [
        "Now, we'll call our `forward()` function on the training set in order to perform forward selection for all model sizes:\n",
        "\n",
        "现在，我们将在训练集上调用“forward（）”函数，以便对所有模型大小执行前向选择："
      ]
    },
    {
      "cell_type": "code",
      "execution_count": null,
      "metadata": {
        "scrolled": true,
        "id": "1Hz3vm8j6oOQ"
      },
      "outputs": [],
      "source": [
        "models_train = pd.DataFrame(columns=[\"RSS\", \"model\"])\n",
        "\n",
        "predictors = []\n",
        "\n",
        "for i in range(1,len(X.columns)+1):\n",
        "    models_train.loc[i] = forward(predictors, X[train], y[train][\"Salary\"], X[test], y[test][\"Salary\"])\n",
        "    predictors = models_train.loc[i][\"model\"].model.exog_names"
      ]
    },
    {
      "cell_type": "markdown",
      "metadata": {
        "id": "8TE0J4ZG6oOQ"
      },
      "source": [
        "Now let's plot the errors, and find the model that minimizes it:\n",
        "\n",
        "现在让我们绘制错误图，并找到最小化错误的模型："
      ]
    },
    {
      "cell_type": "code",
      "execution_count": null,
      "metadata": {
        "scrolled": false,
        "colab": {
          "base_uri": "https://localhost:8080/",
          "height": 510
        },
        "id": "aF4RQW_i6oOQ",
        "outputId": "a6a9e37b-415e-473b-b892-8770a911feea"
      },
      "outputs": [
        {
          "output_type": "execute_result",
          "data": {
            "text/plain": [
              "[<matplotlib.lines.Line2D at 0x7e18a1b0fd90>]"
            ]
          },
          "metadata": {},
          "execution_count": 41
        },
        {
          "output_type": "display_data",
          "data": {
            "text/plain": [
              "<Figure size 640x480 with 1 Axes>"
            ],
            "image/png": "[encoded data removed]"
          },
          "metadata": {}
        }
      ],
      "source": [
        "plt.plot(models_train[\"RSS\"])\n",
        "plt.xlabel('# Predictors')\n",
        "plt.ylabel('RSS')\n",
        "plt.plot(pd.to_numeric(models_train[\"RSS\"]).argmin()+1, models_train[\"RSS\"].min(), \"or\")"
      ]
    },
    {
      "cell_type": "markdown",
      "metadata": {
        "id": "cvYXfPEF6oOR"
      },
      "source": [
        "+ We find that the best model (according to the validation set approach) is the one that contains 10 predictors.\n",
        "\n",
        "+ Now that we know what we're looking for, let's perform best subset selection on the full dataset and select the best 10-predictor model.\n",
        "+ It is important that we make use of the *full data set* in order to obtain more accurate coefficient estimates.\n",
        "+ We perform this selection on the *full data set* and select the best 10-predictor model, rather than simply using the predictors that we obtained from the training set, because the best 10-predictor model on the full data set may differ from the corresponding model on the training set.\n",
        "+ 我们发现最佳模型（根据验证集方法）是包含 10 个预测因子的模型。\n",
        "\n",
        "+ 现在我们知道了我们在寻找什么，让我们对完整数据集执行最佳子集选择，并选择最佳的 10 个预测因子模型。\n",
        "+ 重要的是，我们要利用 *完整数据集* 来获得更准确的系数估计值。\n",
        "+ 我们对 *完整数据集* 执行此选择，并选择最佳的 10 个预测因子模型，而不是简单地使用从训练集中获得的预测因子，因为完整数据集上的最佳 10 个预测因子模型可能与训练集上的相应模型不同。"
      ]
    },
    {
      "cell_type": "code",
      "execution_count": null,
      "metadata": {
        "id": "tsJUyaYx6oOR"
      },
      "outputs": [],
      "source": [
        "models_test = pd.DataFrame(columns=[\"RSS\", \"model\"])\n",
        "\n",
        "predictors = []\n",
        "\n",
        "for i in range(1,11):\n",
        "    models_test.loc[i] = forward(predictors, X[test], y[test][\"Salary\"], X[test], y[test][\"Salary\"])\n",
        "    predictors = models_test.loc[i][\"model\"].model.exog_names"
      ]
    },
    {
      "cell_type": "code",
      "execution_count": null,
      "metadata": {
        "id": "nrcfnr2C6oOR"
      },
      "outputs": [],
      "source": [
        "models_trainonly = pd.DataFrame(columns=[\"RSS\", \"model\"])\n",
        "\n",
        "predictors = []\n",
        "\n",
        "for i in range(1,11):\n",
        "    models_trainonly.loc[i] = forward(predictors, X[train], y[train][\"Salary\"], X[train], y[train][\"Salary\"])\n",
        "    predictors = models_train.loc[i][\"model\"].model.exog_names"
      ]
    },
    {
      "cell_type": "markdown",
      "metadata": {
        "id": "VG7Pwkes6oOR"
      },
      "source": [
        "In fact, we see that the best ten-variable model on the full data set has a different set of predictors than the best ten-variable model on the training set:\n",
        "\n",
        "事实上，我们看到，完整数据集上的最佳十变量模型与训练集上的最佳十变量模型具有不同的预测因子集："
      ]
    },
    {
      "cell_type": "code",
      "execution_count": null,
      "metadata": {
        "colab": {
          "base_uri": "https://localhost:8080/"
        },
        "id": "h9TtVCgq6oOR",
        "outputId": "727dbd1f-a60b-4538-9067-d9afb46f9c10"
      },
      "outputs": [
        {
          "output_type": "stream",
          "name": "stdout",
          "text": [
            "['Walks', 'CRBI', 'Hits', 'Division_W', 'CWalks', 'CRuns', 'AtBat', 'League_N', 'CHits', 'Runs']\n",
            "['Walks', 'CRBI', 'Assists', 'Division_W', 'CWalks', 'CRuns', 'PutOuts', 'Errors', 'League_N', 'CHmRun']\n",
            "['Walks', 'CRBI', 'Hits', 'Division_W', 'CWalks', 'CRuns', 'AtBat', 'League_N', 'CHits', 'CAtBat']\n"
          ]
        }
      ],
      "source": [
        "print(models_train.loc[10, \"model\"].model.exog_names)\n",
        "print(models_test.loc[10, \"model\"].model.exog_names)\n",
        "print(models_trainonly.loc[10, \"model\"].model.exog_names)"
      ]
    },
    {
      "cell_type": "markdown",
      "metadata": {
        "id": "cMNdSySt6oOR"
      },
      "source": [
        "#### Example: Model selection using Cross-Validation 使用交叉验证进行模型选择\n",
        "+ Now let's try to choose among the models of different sizes using cross-validation.\n",
        "+ This approach is somewhat involved, as we must perform forward selection within each of the $k$ training sets.\n",
        "+ Despite this, we see that with its clever subsetting syntax, `python` makes this job quite easy.\n",
        "+ First, we create a vector that assigns each observation to one of $k = 10$ folds, and we create a DataFrame in which we will store the results:\n",
        "+ 现在让我们尝试使用交叉验证在不同大小的模型中进行选择。\n",
        "+ 这种方法有些复杂，因为我们必须在每个 $k$ 个训练集中执行前向选择。\n",
        "+ 尽管如此，我们看到，凭借其巧妙的子集语法，`python` 使这项工作变得非常容易。\n",
        "+ 首先，我们创建一个向量，将每个观察结果分配给 $k = 10$ 个折叠之一，然后创建一个 DataFrame 来存储结果："
      ]
    },
    {
      "cell_type": "code",
      "execution_count": null,
      "metadata": {
        "id": "tLQhel256oOR"
      },
      "outputs": [],
      "source": [
        "k = 10        # number of folds 折叠次数\n",
        "np.random.seed(seed=1)\n",
        "folds = np.random.choice(k, size = len(y), replace = True)\n",
        "\n",
        "# Create a DataFrame to store the results of our upcoming calculations\n",
        "# 创建一个 DataFrame 来存储我们即将进行的计算的结果\n",
        "cv_errors = pd.DataFrame(columns=range(1,k+1), index=range(1,20))\n",
        "cv_errors = cv_errors.fillna(0)"
      ]
    },
    {
      "cell_type": "markdown",
      "metadata": {
        "id": "837KZ3Lz6oOR"
      },
      "source": [
        "+ Now let's write a for loop that performs cross-validation.\n",
        "+ In the $j^{th}$ fold, the elements of folds that equal $j$ are in the test set, and the remainder are in the training set.\n",
        "+ We make our predictions for each model size, compute the test errors on the appropriate subset, and store them in the appropriate slot in the matrix `cv.errors`.\n",
        "+ 现在让我们编写一个执行交叉验证的 for 循环。\n",
        "+ 在第 $j^{th}$ 个折叠中，等于 $j$ 的折叠元素在测试集中，其余元素在训练集中。\n",
        "+ 我们对每个模型大小进行预测，计算适当子集上的测试误差，并将它们存储在矩阵“cv.errors”中的适当位置。"
      ]
    },
    {
      "cell_type": "code",
      "execution_count": null,
      "metadata": {
        "colab": {
          "base_uri": "https://localhost:8080/"
        },
        "id": "PqqRG_JL6oOR",
        "outputId": "0296d327-ebfe-4e08-cef6-2a3dd076d305"
      },
      "outputs": [
        {
          "output_type": "stream",
          "name": "stderr",
          "text": [
            "<ipython-input-46-f48e40583eec>:16: SettingWithCopyWarning: \n",
            "A value is trying to be set on a copy of a slice from a DataFrame\n",
            "\n",
            "See the caveats in the documentation: https://pandas.pydata.org/pandas-docs/stable/user_guide/indexing.html#returning-a-view-versus-a-copy\n",
            "  cv_errors[j][i] = models_cv.loc[i][\"RSS\"]\n",
            "<ipython-input-46-f48e40583eec>:16: SettingWithCopyWarning: \n",
            "A value is trying to be set on a copy of a slice from a DataFrame\n",
            "\n",
            "See the caveats in the documentation: https://pandas.pydata.org/pandas-docs/stable/user_guide/indexing.html#returning-a-view-versus-a-copy\n",
            "  cv_errors[j][i] = models_cv.loc[i][\"RSS\"]\n",
            "<ipython-input-46-f48e40583eec>:16: SettingWithCopyWarning: \n",
            "A value is trying to be set on a copy of a slice from a DataFrame\n",
            "\n",
            "See the caveats in the documentation: https://pandas.pydata.org/pandas-docs/stable/user_guide/indexing.html#returning-a-view-versus-a-copy\n",
            "  cv_errors[j][i] = models_cv.loc[i][\"RSS\"]\n",
            "<ipython-input-46-f48e40583eec>:16: SettingWithCopyWarning: \n",
            "A value is trying to be set on a copy of a slice from a DataFrame\n",
            "\n",
            "See the caveats in the documentation: https://pandas.pydata.org/pandas-docs/stable/user_guide/indexing.html#returning-a-view-versus-a-copy\n",
            "  cv_errors[j][i] = models_cv.loc[i][\"RSS\"]\n",
            "<ipython-input-46-f48e40583eec>:16: SettingWithCopyWarning: \n",
            "A value is trying to be set on a copy of a slice from a DataFrame\n",
            "\n",
            "See the caveats in the documentation: https://pandas.pydata.org/pandas-docs/stable/user_guide/indexing.html#returning-a-view-versus-a-copy\n",
            "  cv_errors[j][i] = models_cv.loc[i][\"RSS\"]\n",
            "<ipython-input-46-f48e40583eec>:16: SettingWithCopyWarning: \n",
            "A value is trying to be set on a copy of a slice from a DataFrame\n",
            "\n",
            "See the caveats in the documentation: https://pandas.pydata.org/pandas-docs/stable/user_guide/indexing.html#returning-a-view-versus-a-copy\n",
            "  cv_errors[j][i] = models_cv.loc[i][\"RSS\"]\n",
            "<ipython-input-46-f48e40583eec>:16: SettingWithCopyWarning: \n",
            "A value is trying to be set on a copy of a slice from a DataFrame\n",
            "\n",
            "See the caveats in the documentation: https://pandas.pydata.org/pandas-docs/stable/user_guide/indexing.html#returning-a-view-versus-a-copy\n",
            "  cv_errors[j][i] = models_cv.loc[i][\"RSS\"]\n",
            "<ipython-input-46-f48e40583eec>:16: SettingWithCopyWarning: \n",
            "A value is trying to be set on a copy of a slice from a DataFrame\n",
            "\n",
            "See the caveats in the documentation: https://pandas.pydata.org/pandas-docs/stable/user_guide/indexing.html#returning-a-view-versus-a-copy\n",
            "  cv_errors[j][i] = models_cv.loc[i][\"RSS\"]\n",
            "<ipython-input-46-f48e40583eec>:16: SettingWithCopyWarning: \n",
            "A value is trying to be set on a copy of a slice from a DataFrame\n",
            "\n",
            "See the caveats in the documentation: https://pandas.pydata.org/pandas-docs/stable/user_guide/indexing.html#returning-a-view-versus-a-copy\n",
            "  cv_errors[j][i] = models_cv.loc[i][\"RSS\"]\n"
          ]
        }
      ],
      "source": [
        "models_cv = pd.DataFrame(columns=[\"RSS\", \"model\"])\n",
        "\n",
        "# Outer loop iterates over all folds 外循环遍历所有折叠\n",
        "for j in range(1,k+1):\n",
        "\n",
        "    # Reset predictors 重置预测器\n",
        "    predictors = []\n",
        "\n",
        "    # Inner loop iterates over each size i  内循环迭代每个尺寸 i\n",
        "    for i in range(1,len(X.columns)+1):\n",
        "\n",
        "        # The perform forward selection on the full dataset minus the jth fold, test on jth fold\n",
        "        # 对整个数据集减去第 j 个折叠执行前向选择，对第 j 个折叠进行测试\n",
        "        models_cv.loc[i] = forward(predictors, X[folds != (j-1)], y[folds != (j-1)][\"Salary\"], X[folds == (j-1)], y[folds == (j-1)][\"Salary\"])\n",
        "\n",
        "        # Save the cross-validated error for this fold 保存此折叠的交叉验证错误\n",
        "        cv_errors[j][i] = models_cv.loc[i][\"RSS\"]\n",
        "\n",
        "        # Extract the predictors 提取预测因子\n",
        "        predictors = models_cv.loc[i][\"model\"].model.exog_names\n"
      ]
    },
    {
      "cell_type": "code",
      "execution_count": null,
      "metadata": {
        "colab": {
          "base_uri": "https://localhost:8080/",
          "height": 645
        },
        "id": "z2lHBcbd6oOR",
        "outputId": "6a3eb7c6-f338-456f-b337-2fdca2c2dee4"
      },
      "outputs": [
        {
          "output_type": "execute_result",
          "data": {
            "text/plain": [
              "              1             2             3             4             5   \\\n",
              "1   3.107901e+06  3.212305e+06  4.840104e+06  2.475454e+06  3.750303e+06   \n",
              "2   2.354036e+06  2.247881e+06  3.414444e+06  1.642456e+06  3.160951e+06   \n",
              "3   2.148733e+06  2.012864e+06  3.009436e+06  1.566582e+06  2.775618e+06   \n",
              "4   1.946031e+06  1.870511e+06  2.630784e+06  1.521526e+06  2.618751e+06   \n",
              "5   1.850398e+06  1.605149e+06  2.537691e+06  1.502728e+06  2.608466e+06   \n",
              "6   1.778324e+06  1.574266e+06  2.498621e+06  1.482576e+06  2.632055e+06   \n",
              "7   1.761112e+06  1.524414e+06  2.452303e+06  1.480345e+06  2.661105e+06   \n",
              "8   1.733231e+06  1.529626e+06  2.418944e+06  1.477510e+06  2.660654e+06   \n",
              "9   1.773705e+06  1.607920e+06  2.381843e+06  1.504520e+06  2.677002e+06   \n",
              "10  1.865910e+06  1.682294e+06  2.378624e+06  1.528102e+06  2.597882e+06   \n",
              "11  2.001187e+06  1.972310e+06  2.377337e+06  1.540347e+06  2.659206e+06   \n",
              "12  2.183875e+06  2.120447e+06  2.376437e+06  1.583554e+06  2.727453e+06   \n",
              "13  2.337672e+06  2.333119e+06  2.398382e+06  1.729661e+06  2.772832e+06   \n",
              "14  2.398777e+06  2.556735e+06  2.426685e+06  1.788102e+06  2.804067e+06   \n",
              "15  1.971721e+06  2.519255e+06  2.421748e+06  1.750523e+06  3.054991e+06   \n",
              "16  1.948824e+06  2.774369e+06  2.454269e+06  1.820562e+06  3.226326e+06   \n",
              "17  2.030732e+06  2.884962e+06  2.644841e+06  1.906939e+06  3.342739e+06   \n",
              "18  2.199929e+06  3.027921e+06  2.787491e+06  2.016598e+06  4.336091e+06   \n",
              "19  2.601548e+06  3.389498e+06  3.137983e+06  2.412423e+06  4.918740e+06   \n",
              "\n",
              "              6             7             8             9             10  \n",
              "1   1.551977e+06  1.827367e+06  9.115194e+06  1.370720e+06  2.204863e+06  \n",
              "2   1.250565e+06  1.567470e+06  8.520751e+06  1.081053e+06  1.856305e+06  \n",
              "3   9.073041e+05  1.260460e+06  8.456577e+06  9.697846e+05  1.674333e+06  \n",
              "4   8.051359e+05  1.143883e+06  8.331747e+06  8.575537e+05  1.618265e+06  \n",
              "5   7.761712e+05  1.124175e+06  8.221957e+06  7.939196e+05  1.574253e+06  \n",
              "6   7.761634e+05  1.115742e+06  8.196970e+06  7.812360e+05  1.534220e+06  \n",
              "7   7.797162e+05  1.104388e+06  8.171960e+06  7.764572e+05  1.503831e+06  \n",
              "8   8.038592e+05  1.100754e+06  7.449396e+06  7.745898e+05  1.536790e+06  \n",
              "9   8.216293e+05  1.096926e+06  7.136283e+06  7.746164e+05  1.542746e+06  \n",
              "10  8.549975e+05  1.136163e+06  7.059485e+06  7.759932e+05  1.597315e+06  \n",
              "11  8.663998e+05  1.150317e+06  7.047911e+06  7.050320e+05  1.751416e+06  \n",
              "12  9.803505e+05  1.114814e+06  7.056951e+06  6.876406e+05  1.945972e+06  \n",
              "13  1.039254e+06  1.104975e+06  7.117616e+06  6.990827e+05  1.857369e+06  \n",
              "14  9.930138e+05  1.142143e+06  7.469678e+06  7.430807e+05  1.884753e+06  \n",
              "15  1.033770e+06  1.204091e+06  7.439539e+06  7.637365e+05  1.980209e+06  \n",
              "16  1.080504e+06  1.326685e+06  7.616006e+06  8.244651e+05  1.949936e+06  \n",
              "17  1.105981e+06  1.324450e+06  7.637694e+06  8.797445e+05  2.045321e+06  \n",
              "18  1.181122e+06  1.421666e+06  7.770972e+06  9.097567e+05  2.062252e+06  \n",
              "19  1.706786e+06  1.582120e+06  7.933249e+06  1.202841e+06  2.066104e+06  "
            ],
            "text/html": [
              "\n",
              "  <div id=\"df-70e9a101-6ab9-4ec1-b7f3-d81323d6053d\" class=\"colab-df-container\">\n",
              "    <div>\n",
              "<style scoped>\n",
              "    .dataframe tbody tr th:only-of-type {\n",
              "        vertical-align: middle;\n",
              "    }\n",
              "\n",
              "    .dataframe tbody tr th {\n",
              "        vertical-align: top;\n",
              "    }\n",
              "\n",
              "    .dataframe thead th {\n",
              "        text-align: right;\n",
              "    }\n",
              "</style>\n",
              "<table border=\"1\" class=\"dataframe\">\n",
              "  <thead>\n",
              "    <tr style=\"text-align: right;\">\n",
              "      <th></th>\n",
              "      <th>1</th>\n",
              "      <th>2</th>\n",
              "      <th>3</th>\n",
              "      <th>4</th>\n",
              "      <th>5</th>\n",
              "      <th>6</th>\n",
              "      <th>7</th>\n",
              "      <th>8</th>\n",
              "      <th>9</th>\n",
              "      <th>10</th>\n",
              "    </tr>\n",
              "  </thead>\n",
              "  <tbody>\n",
              "    <tr>\n",
              "      <th>1</th>\n",
              "      <td>3.107901e+06</td>\n",
              "      <td>3.212305e+06</td>\n",
              "      <td>4.840104e+06</td>\n",
              "      <td>2.475454e+06</td>\n",
              "      <td>3.750303e+06</td>\n",
              "      <td>1.551977e+06</td>\n",
              "      <td>1.827367e+06</td>\n",
              "      <td>9.115194e+06</td>\n",
              "      <td>1.370720e+06</td>\n",
              "      <td>2.204863e+06</td>\n",
              "    </tr>\n",
              "    <tr>\n",
              "      <th>2</th>\n",
              "      <td>2.354036e+06</td>\n",
              "      <td>2.247881e+06</td>\n",
              "      <td>3.414444e+06</td>\n",
              "      <td>1.642456e+06</td>\n",
              "      <td>3.160951e+06</td>\n",
              "      <td>1.250565e+06</td>\n",
              "      <td>1.567470e+06</td>\n",
              "      <td>8.520751e+06</td>\n",
              "      <td>1.081053e+06</td>\n",
              "      <td>1.856305e+06</td>\n",
              "    </tr>\n",
              "    <tr>\n",
              "      <th>3</th>\n",
              "      <td>2.148733e+06</td>\n",
              "      <td>2.012864e+06</td>\n",
              "      <td>3.009436e+06</td>\n",
              "      <td>1.566582e+06</td>\n",
              "      <td>2.775618e+06</td>\n",
              "      <td>9.073041e+05</td>\n",
              "      <td>1.260460e+06</td>\n",
              "      <td>8.456577e+06</td>\n",
              "      <td>9.697846e+05</td>\n",
              "      <td>1.674333e+06</td>\n",
              "    </tr>\n",
              "    <tr>\n",
              "      <th>4</th>\n",
              "      <td>1.946031e+06</td>\n",
              "      <td>1.870511e+06</td>\n",
              "      <td>2.630784e+06</td>\n",
              "      <td>1.521526e+06</td>\n",
              "      <td>2.618751e+06</td>\n",
              "      <td>8.051359e+05</td>\n",
              "      <td>1.143883e+06</td>\n",
              "      <td>8.331747e+06</td>\n",
              "      <td>8.575537e+05</td>\n",
              "      <td>1.618265e+06</td>\n",
              "    </tr>\n",
              "    <tr>\n",
              "      <th>5</th>\n",
              "      <td>1.850398e+06</td>\n",
              "      <td>1.605149e+06</td>\n",
              "      <td>2.537691e+06</td>\n",
              "      <td>1.502728e+06</td>\n",
              "      <td>2.608466e+06</td>\n",
              "      <td>7.761712e+05</td>\n",
              "      <td>1.124175e+06</td>\n",
              "      <td>8.221957e+06</td>\n",
              "      <td>7.939196e+05</td>\n",
              "      <td>1.574253e+06</td>\n",
              "    </tr>\n",
              "    <tr>\n",
              "      <th>6</th>\n",
              "      <td>1.778324e+06</td>\n",
              "      <td>1.574266e+06</td>\n",
              "      <td>2.498621e+06</td>\n",
              "      <td>1.482576e+06</td>\n",
              "      <td>2.632055e+06</td>\n",
              "      <td>7.761634e+05</td>\n",
              "      <td>1.115742e+06</td>\n",
              "      <td>8.196970e+06</td>\n",
              "      <td>7.812360e+05</td>\n",
              "      <td>1.534220e+06</td>\n",
              "    </tr>\n",
              "    <tr>\n",
              "      <th>7</th>\n",
              "      <td>1.761112e+06</td>\n",
              "      <td>1.524414e+06</td>\n",
              "      <td>2.452303e+06</td>\n",
              "      <td>1.480345e+06</td>\n",
              "      <td>2.661105e+06</td>\n",
              "      <td>7.797162e+05</td>\n",
              "      <td>1.104388e+06</td>\n",
              "      <td>8.171960e+06</td>\n",
              "      <td>7.764572e+05</td>\n",
              "      <td>1.503831e+06</td>\n",
              "    </tr>\n",
              "    <tr>\n",
              "      <th>8</th>\n",
              "      <td>1.733231e+06</td>\n",
              "      <td>1.529626e+06</td>\n",
              "      <td>2.418944e+06</td>\n",
              "      <td>1.477510e+06</td>\n",
              "      <td>2.660654e+06</td>\n",
              "      <td>8.038592e+05</td>\n",
              "      <td>1.100754e+06</td>\n",
              "      <td>7.449396e+06</td>\n",
              "      <td>7.745898e+05</td>\n",
              "      <td>1.536790e+06</td>\n",
              "    </tr>\n",
              "    <tr>\n",
              "      <th>9</th>\n",
              "      <td>1.773705e+06</td>\n",
              "      <td>1.607920e+06</td>\n",
              "      <td>2.381843e+06</td>\n",
              "      <td>1.504520e+06</td>\n",
              "      <td>2.677002e+06</td>\n",
              "      <td>8.216293e+05</td>\n",
              "      <td>1.096926e+06</td>\n",
              "      <td>7.136283e+06</td>\n",
              "      <td>7.746164e+05</td>\n",
              "      <td>1.542746e+06</td>\n",
              "    </tr>\n",
              "    <tr>\n",
              "      <th>10</th>\n",
              "      <td>1.865910e+06</td>\n",
              "      <td>1.682294e+06</td>\n",
              "      <td>2.378624e+06</td>\n",
              "      <td>1.528102e+06</td>\n",
              "      <td>2.597882e+06</td>\n",
              "      <td>8.549975e+05</td>\n",
              "      <td>1.136163e+06</td>\n",
              "      <td>7.059485e+06</td>\n",
              "      <td>7.759932e+05</td>\n",
              "      <td>1.597315e+06</td>\n",
              "    </tr>\n",
              "    <tr>\n",
              "      <th>11</th>\n",
              "      <td>2.001187e+06</td>\n",
              "      <td>1.972310e+06</td>\n",
              "      <td>2.377337e+06</td>\n",
              "      <td>1.540347e+06</td>\n",
              "      <td>2.659206e+06</td>\n",
              "      <td>8.663998e+05</td>\n",
              "      <td>1.150317e+06</td>\n",
              "      <td>7.047911e+06</td>\n",
              "      <td>7.050320e+05</td>\n",
              "      <td>1.751416e+06</td>\n",
              "    </tr>\n",
              "    <tr>\n",
              "      <th>12</th>\n",
              "      <td>2.183875e+06</td>\n",
              "      <td>2.120447e+06</td>\n",
              "      <td>2.376437e+06</td>\n",
              "      <td>1.583554e+06</td>\n",
              "      <td>2.727453e+06</td>\n",
              "      <td>9.803505e+05</td>\n",
              "      <td>1.114814e+06</td>\n",
              "      <td>7.056951e+06</td>\n",
              "      <td>6.876406e+05</td>\n",
              "      <td>1.945972e+06</td>\n",
              "    </tr>\n",
              "    <tr>\n",
              "      <th>13</th>\n",
              "      <td>2.337672e+06</td>\n",
              "      <td>2.333119e+06</td>\n",
              "      <td>2.398382e+06</td>\n",
              "      <td>1.729661e+06</td>\n",
              "      <td>2.772832e+06</td>\n",
              "      <td>1.039254e+06</td>\n",
              "      <td>1.104975e+06</td>\n",
              "      <td>7.117616e+06</td>\n",
              "      <td>6.990827e+05</td>\n",
              "      <td>1.857369e+06</td>\n",
              "    </tr>\n",
              "    <tr>\n",
              "      <th>14</th>\n",
              "      <td>2.398777e+06</td>\n",
              "      <td>2.556735e+06</td>\n",
              "      <td>2.426685e+06</td>\n",
              "      <td>1.788102e+06</td>\n",
              "      <td>2.804067e+06</td>\n",
              "      <td>9.930138e+05</td>\n",
              "      <td>1.142143e+06</td>\n",
              "      <td>7.469678e+06</td>\n",
              "      <td>7.430807e+05</td>\n",
              "      <td>1.884753e+06</td>\n",
              "    </tr>\n",
              "    <tr>\n",
              "      <th>15</th>\n",
              "      <td>1.971721e+06</td>\n",
              "      <td>2.519255e+06</td>\n",
              "      <td>2.421748e+06</td>\n",
              "      <td>1.750523e+06</td>\n",
              "      <td>3.054991e+06</td>\n",
              "      <td>1.033770e+06</td>\n",
              "      <td>1.204091e+06</td>\n",
              "      <td>7.439539e+06</td>\n",
              "      <td>7.637365e+05</td>\n",
              "      <td>1.980209e+06</td>\n",
              "    </tr>\n",
              "    <tr>\n",
              "      <th>16</th>\n",
              "      <td>1.948824e+06</td>\n",
              "      <td>2.774369e+06</td>\n",
              "      <td>2.454269e+06</td>\n",
              "      <td>1.820562e+06</td>\n",
              "      <td>3.226326e+06</td>\n",
              "      <td>1.080504e+06</td>\n",
              "      <td>1.326685e+06</td>\n",
              "      <td>7.616006e+06</td>\n",
              "      <td>8.244651e+05</td>\n",
              "      <td>1.949936e+06</td>\n",
              "    </tr>\n",
              "    <tr>\n",
              "      <th>17</th>\n",
              "      <td>2.030732e+06</td>\n",
              "      <td>2.884962e+06</td>\n",
              "      <td>2.644841e+06</td>\n",
              "      <td>1.906939e+06</td>\n",
              "      <td>3.342739e+06</td>\n",
              "      <td>1.105981e+06</td>\n",
              "      <td>1.324450e+06</td>\n",
              "      <td>7.637694e+06</td>\n",
              "      <td>8.797445e+05</td>\n",
              "      <td>2.045321e+06</td>\n",
              "    </tr>\n",
              "    <tr>\n",
              "      <th>18</th>\n",
              "      <td>2.199929e+06</td>\n",
              "      <td>3.027921e+06</td>\n",
              "      <td>2.787491e+06</td>\n",
              "      <td>2.016598e+06</td>\n",
              "      <td>4.336091e+06</td>\n",
              "      <td>1.181122e+06</td>\n",
              "      <td>1.421666e+06</td>\n",
              "      <td>7.770972e+06</td>\n",
              "      <td>9.097567e+05</td>\n",
              "      <td>2.062252e+06</td>\n",
              "    </tr>\n",
              "    <tr>\n",
              "      <th>19</th>\n",
              "      <td>2.601548e+06</td>\n",
              "      <td>3.389498e+06</td>\n",
              "      <td>3.137983e+06</td>\n",
              "      <td>2.412423e+06</td>\n",
              "      <td>4.918740e+06</td>\n",
              "      <td>1.706786e+06</td>\n",
              "      <td>1.582120e+06</td>\n",
              "      <td>7.933249e+06</td>\n",
              "      <td>1.202841e+06</td>\n",
              "      <td>2.066104e+06</td>\n",
              "    </tr>\n",
              "  </tbody>\n",
              "</table>\n",
              "</div>\n",
              "    <div class=\"colab-df-buttons\">\n",
              "\n",
              "  <div class=\"colab-df-container\">\n",
              "    <button class=\"colab-df-convert\" onclick=\"convertToInteractive('df-70e9a101-6ab9-4ec1-b7f3-d81323d6053d')\"\n",
              "            title=\"Convert this dataframe to an interactive table.\"\n",
              "            style=\"display:none;\">\n",
              "\n",
              "  <svg xmlns=\"http://www.w3.org/2000/svg\" height=\"24px\" viewBox=\"0 -960 960 960\">\n",
              "    <path d=\"M120-120v-720h720v720H120Zm60-500h600v-160H180v160Zm220 220h160v-160H400v160Zm0 220h160v-160H400v160ZM180-400h160v-160H180v160Zm440 0h160v-160H620v160ZM180-180h160v-160H180v160Zm440 0h160v-160H620v160Z\"/>\n",
              "  </svg>\n",
              "    </button>\n",
              "\n",
              "  <style>\n",
              "    .colab-df-container {\n",
              "      display:flex;\n",
              "      gap: 12px;\n",
              "    }\n",
              "\n",
              "    .colab-df-convert {\n",
              "      background-color: #E8F0FE;\n",
              "      border: none;\n",
              "      border-radius: 50%;\n",
              "      cursor: pointer;\n",
              "      display: none;\n",
              "      fill: #1967D2;\n",
              "      height: 32px;\n",
              "      padding: 0 0 0 0;\n",
              "      width: 32px;\n",
              "    }\n",
              "\n",
              "    .colab-df-convert:hover {\n",
              "      background-color: #E2EBFA;\n",
              "      box-shadow: 0px 1px 2px rgba(60, 64, 67, 0.3), 0px 1px 3px 1px rgba(60, 64, 67, 0.15);\n",
              "      fill: #174EA6;\n",
              "    }\n",
              "\n",
              "    .colab-df-buttons div {\n",
              "      margin-bottom: 4px;\n",
              "    }\n",
              "\n",
              "    [theme=dark] .colab-df-convert {\n",
              "      background-color: #3B4455;\n",
              "      fill: #D2E3FC;\n",
              "    }\n",
              "\n",
              "    [theme=dark] .colab-df-convert:hover {\n",
              "      background-color: #434B5C;\n",
              "      box-shadow: 0px 1px 3px 1px rgba(0, 0, 0, 0.15);\n",
              "      filter: drop-shadow(0px 1px 2px rgba(0, 0, 0, 0.3));\n",
              "      fill: #FFFFFF;\n",
              "    }\n",
              "  </style>\n",
              "\n",
              "    <script>\n",
              "      const buttonEl =\n",
              "        document.querySelector('#df-70e9a101-6ab9-4ec1-b7f3-d81323d6053d button.colab-df-convert');\n",
              "      buttonEl.style.display =\n",
              "        google.colab.kernel.accessAllowed ? 'block' : 'none';\n",
              "\n",
              "      async function convertToInteractive(key) {\n",
              "        const element = document.querySelector('#df-70e9a101-6ab9-4ec1-b7f3-d81323d6053d');\n",
              "        const dataTable =\n",
              "          await google.colab.kernel.invokeFunction('convertToInteractive',\n",
              "                                                    [key], {});\n",
              "        if (!dataTable) return;\n",
              "\n",
              "        const docLinkHtml = 'Like what you see? Visit the ' +\n",
              "          '<a target=\"_blank\" href=https://colab.research.google.com/notebooks/data_table.ipynb>data table notebook</a>'\n",
              "          + ' to learn more about interactive tables.';\n",
              "        element.innerHTML = '';\n",
              "        dataTable['output_type'] = 'display_data';\n",
              "        await google.colab.output.renderOutput(dataTable, element);\n",
              "        const docLink = document.createElement('div');\n",
              "        docLink.innerHTML = docLinkHtml;\n",
              "        element.appendChild(docLink);\n",
              "      }\n",
              "    </script>\n",
              "  </div>\n",
              "\n",
              "\n",
              "<div id=\"df-a5c3dd97-fe72-4f24-bbf4-1da02027b93c\">\n",
              "  <button class=\"colab-df-quickchart\" onclick=\"quickchart('df-a5c3dd97-fe72-4f24-bbf4-1da02027b93c')\"\n",
              "            title=\"Suggest charts\"\n",
              "            style=\"display:none;\">\n",
              "\n",
              "<svg xmlns=\"http://www.w3.org/2000/svg\" height=\"24px\"viewBox=\"0 0 24 24\"\n",
              "     width=\"24px\">\n",
              "    <g>\n",
              "        <path d=\"M19 3H5c-1.1 0-2 .9-2 2v14c0 1.1.9 2 2 2h14c1.1 0 2-.9 2-2V5c0-1.1-.9-2-2-2zM9 17H7v-7h2v7zm4 0h-2V7h2v10zm4 0h-2v-4h2v4z\"/>\n",
              "    </g>\n",
              "</svg>\n",
              "  </button>\n",
              "\n",
              "<style>\n",
              "  .colab-df-quickchart {\n",
              "      --bg-color: #E8F0FE;\n",
              "      --fill-color: #1967D2;\n",
              "      --hover-bg-color: #E2EBFA;\n",
              "      --hover-fill-color: #174EA6;\n",
              "      --disabled-fill-color: #AAA;\n",
              "      --disabled-bg-color: #DDD;\n",
              "  }\n",
              "\n",
              "  [theme=dark] .colab-df-quickchart {\n",
              "      --bg-color: #3B4455;\n",
              "      --fill-color: #D2E3FC;\n",
              "      --hover-bg-color: #434B5C;\n",
              "      --hover-fill-color: #FFFFFF;\n",
              "      --disabled-bg-color: #3B4455;\n",
              "      --disabled-fill-color: #666;\n",
              "  }\n",
              "\n",
              "  .colab-df-quickchart {\n",
              "    background-color: var(--bg-color);\n",
              "    border: none;\n",
              "    border-radius: 50%;\n",
              "    cursor: pointer;\n",
              "    display: none;\n",
              "    fill: var(--fill-color);\n",
              "    height: 32px;\n",
              "    padding: 0;\n",
              "    width: 32px;\n",
              "  }\n",
              "\n",
              "  .colab-df-quickchart:hover {\n",
              "    background-color: var(--hover-bg-color);\n",
              "    box-shadow: 0 1px 2px rgba(60, 64, 67, 0.3), 0 1px 3px 1px rgba(60, 64, 67, 0.15);\n",
              "    fill: var(--button-hover-fill-color);\n",
              "  }\n",
              "\n",
              "  .colab-df-quickchart-complete:disabled,\n",
              "  .colab-df-quickchart-complete:disabled:hover {\n",
              "    background-color: var(--disabled-bg-color);\n",
              "    fill: var(--disabled-fill-color);\n",
              "    box-shadow: none;\n",
              "  }\n",
              "\n",
              "  .colab-df-spinner {\n",
              "    border: 2px solid var(--fill-color);\n",
              "    border-color: transparent;\n",
              "    border-bottom-color: var(--fill-color);\n",
              "    animation:\n",
              "      spin 1s steps(1) infinite;\n",
              "  }\n",
              "\n",
              "  @keyframes spin {\n",
              "    0% {\n",
              "      border-color: transparent;\n",
              "      border-bottom-color: var(--fill-color);\n",
              "      border-left-color: var(--fill-color);\n",
              "    }\n",
              "    20% {\n",
              "      border-color: transparent;\n",
              "      border-left-color: var(--fill-color);\n",
              "      border-top-color: var(--fill-color);\n",
              "    }\n",
              "    30% {\n",
              "      border-color: transparent;\n",
              "      border-left-color: var(--fill-color);\n",
              "      border-top-color: var(--fill-color);\n",
              "      border-right-color: var(--fill-color);\n",
              "    }\n",
              "    40% {\n",
              "      border-color: transparent;\n",
              "      border-right-color: var(--fill-color);\n",
              "      border-top-color: var(--fill-color);\n",
              "    }\n",
              "    60% {\n",
              "      border-color: transparent;\n",
              "      border-right-color: var(--fill-color);\n",
              "    }\n",
              "    80% {\n",
              "      border-color: transparent;\n",
              "      border-right-color: var(--fill-color);\n",
              "      border-bottom-color: var(--fill-color);\n",
              "    }\n",
              "    90% {\n",
              "      border-color: transparent;\n",
              "      border-bottom-color: var(--fill-color);\n",
              "    }\n",
              "  }\n",
              "</style>\n",
              "\n",
              "  <script>\n",
              "    async function quickchart(key) {\n",
              "      const quickchartButtonEl =\n",
              "        document.querySelector('#' + key + ' button');\n",
              "      quickchartButtonEl.disabled = true;  // To prevent multiple clicks.\n",
              "      quickchartButtonEl.classList.add('colab-df-spinner');\n",
              "      try {\n",
              "        const charts = await google.colab.kernel.invokeFunction(\n",
              "            'suggestCharts', [key], {});\n",
              "      } catch (error) {\n",
              "        console.error('Error during call to suggestCharts:', error);\n",
              "      }\n",
              "      quickchartButtonEl.classList.remove('colab-df-spinner');\n",
              "      quickchartButtonEl.classList.add('colab-df-quickchart-complete');\n",
              "    }\n",
              "    (() => {\n",
              "      let quickchartButtonEl =\n",
              "        document.querySelector('#df-a5c3dd97-fe72-4f24-bbf4-1da02027b93c button');\n",
              "      quickchartButtonEl.style.display =\n",
              "        google.colab.kernel.accessAllowed ? 'block' : 'none';\n",
              "    })();\n",
              "  </script>\n",
              "</div>\n",
              "\n",
              "  <div id=\"id_d5e649d9-79b5-42b7-b7de-c827f7446b37\">\n",
              "    <style>\n",
              "      .colab-df-generate {\n",
              "        background-color: #E8F0FE;\n",
              "        border: none;\n",
              "        border-radius: 50%;\n",
              "        cursor: pointer;\n",
              "        display: none;\n",
              "        fill: #1967D2;\n",
              "        height: 32px;\n",
              "        padding: 0 0 0 0;\n",
              "        width: 32px;\n",
              "      }\n",
              "\n",
              "      .colab-df-generate:hover {\n",
              "        background-color: #E2EBFA;\n",
              "        box-shadow: 0px 1px 2px rgba(60, 64, 67, 0.3), 0px 1px 3px 1px rgba(60, 64, 67, 0.15);\n",
              "        fill: #174EA6;\n",
              "      }\n",
              "\n",
              "      [theme=dark] .colab-df-generate {\n",
              "        background-color: #3B4455;\n",
              "        fill: #D2E3FC;\n",
              "      }\n",
              "\n",
              "      [theme=dark] .colab-df-generate:hover {\n",
              "        background-color: #434B5C;\n",
              "        box-shadow: 0px 1px 3px 1px rgba(0, 0, 0, 0.15);\n",
              "        filter: drop-shadow(0px 1px 2px rgba(0, 0, 0, 0.3));\n",
              "        fill: #FFFFFF;\n",
              "      }\n",
              "    </style>\n",
              "    <button class=\"colab-df-generate\" onclick=\"generateWithVariable('cv_errors')\"\n",
              "            title=\"Generate code using this dataframe.\"\n",
              "            style=\"display:none;\">\n",
              "\n",
              "  <svg xmlns=\"http://www.w3.org/2000/svg\" height=\"24px\"viewBox=\"0 0 24 24\"\n",
              "       width=\"24px\">\n",
              "    <path d=\"M7,19H8.4L18.45,9,17,7.55,7,17.6ZM5,21V16.75L18.45,3.32a2,2,0,0,1,2.83,0l1.4,1.43a1.91,1.91,0,0,1,.58,1.4,1.91,1.91,0,0,1-.58,1.4L9.25,21ZM18.45,9,17,7.55Zm-12,3A5.31,5.31,0,0,0,4.9,8.1,5.31,5.31,0,0,0,1,6.5,5.31,5.31,0,0,0,4.9,4.9,5.31,5.31,0,0,0,6.5,1,5.31,5.31,0,0,0,8.1,4.9,5.31,5.31,0,0,0,12,6.5,5.46,5.46,0,0,0,6.5,12Z\"/>\n",
              "  </svg>\n",
              "    </button>\n",
              "    <script>\n",
              "      (() => {\n",
              "      const buttonEl =\n",
              "        document.querySelector('#id_d5e649d9-79b5-42b7-b7de-c827f7446b37 button.colab-df-generate');\n",
              "      buttonEl.style.display =\n",
              "        google.colab.kernel.accessAllowed ? 'block' : 'none';\n",
              "\n",
              "      buttonEl.onclick = () => {\n",
              "        google.colab.notebook.generateWithVariable('cv_errors');\n",
              "      }\n",
              "      })();\n",
              "    </script>\n",
              "  </div>\n",
              "\n",
              "    </div>\n",
              "  </div>\n"
            ],
            "application/vnd.google.colaboratory.intrinsic+json": {
              "type": "dataframe",
              "variable_name": "cv_errors",
              "summary": "{\n  \"name\": \"cv_errors\",\n  \"rows\": 19,\n  \"fields\": [\n    {\n      \"column\": 1,\n      \"properties\": {\n        \"dtype\": \"number\",\n        \"std\": 345657.5418749178,\n        \"min\": 1733230.917734245,\n        \"max\": 3107900.957163625,\n        \"num_unique_values\": 19,\n        \"samples\": [\n          3107900.957163625,\n          1778324.1340057151,\n          2183874.8112351345\n        ],\n        \"semantic_type\": \"\",\n        \"description\": \"\"\n      }\n    },\n    {\n      \"column\": 2,\n      \"properties\": {\n        \"dtype\": \"number\",\n        \"std\": 606583.2098961629,\n        \"min\": 1524413.845841481,\n        \"max\": 3389497.508453074,\n        \"num_unique_values\": 19,\n        \"samples\": [\n          3212304.762505605,\n          1574266.1964907097,\n          2120447.154844941\n        ],\n        \"semantic_type\": \"\",\n        \"description\": \"\"\n      }\n    },\n    {\n      \"column\": 3,\n      \"properties\": {\n        \"dtype\": \"number\",\n        \"std\": 592228.1447932026,\n        \"min\": 2376437.117442102,\n        \"max\": 4840103.865498303,\n        \"num_unique_values\": 19,\n        \"samples\": [\n          4840103.865498303,\n          2498621.0967620066,\n          2376437.117442102\n        ],\n        \"semantic_type\": \"\",\n        \"description\": \"\"\n      }\n    },\n    {\n      \"column\": 4,\n      \"properties\": {\n        \"dtype\": \"number\",\n        \"std\": 299223.29788572126,\n        \"min\": 1477510.0717838416,\n        \"max\": 2475453.888182012,\n        \"num_unique_values\": 19,\n        \"samples\": [\n          2475453.888182012,\n          1482575.8590766615,\n          1583554.4737849827\n        ],\n        \"semantic_type\": \"\",\n        \"description\": \"\"\n      }\n    },\n    {\n      \"column\": 5,\n      \"properties\": {\n        \"dtype\": \"number\",\n        \"std\": 642781.438497203,\n        \"min\": 2597881.868066517,\n        \"max\": 4918740.450992675,\n        \"num_unique_values\": 19,\n        \"samples\": [\n          3750302.716392168,\n          2632055.327816874,\n          2727452.8220749362\n        ],\n        \"semantic_type\": \"\",\n        \"description\": \"\"\n      }\n    },\n    {\n      \"column\": 6,\n      \"properties\": {\n        \"dtype\": \"number\",\n        \"std\": 260329.24470398322,\n        \"min\": 776163.3772887128,\n        \"max\": 1706786.335404584,\n        \"num_unique_values\": 19,\n        \"samples\": [\n          1551976.8115635873,\n          776163.3772887128,\n          980350.4960545074\n        ],\n        \"semantic_type\": \"\",\n        \"description\": \"\"\n      }\n    },\n    {\n      \"column\": 7,\n      \"properties\": {\n        \"dtype\": \"number\",\n        \"std\": 207217.58814200258,\n        \"min\": 1096925.6052823544,\n        \"max\": 1827366.6251368932,\n        \"num_unique_values\": 19,\n        \"samples\": [\n          1827366.6251368932,\n          1115741.6383622435,\n          1114814.375261123\n        ],\n        \"semantic_type\": \"\",\n        \"description\": \"\"\n      }\n    },\n    {\n      \"column\": 8,\n      \"properties\": {\n        \"dtype\": \"number\",\n        \"std\": 598119.488131345,\n        \"min\": 7047911.139750369,\n        \"max\": 9115194.319320763,\n        \"num_unique_values\": 19,\n        \"samples\": [\n          9115194.319320763,\n          8196969.661605432,\n          7056950.920462821\n        ],\n        \"semantic_type\": \"\",\n        \"description\": \"\"\n      }\n    },\n    {\n      \"column\": 9,\n      \"properties\": {\n        \"dtype\": \"number\",\n        \"std\": 180296.19849770254,\n        \"min\": 687640.6340863564,\n        \"max\": 1370720.1605340762,\n        \"num_unique_values\": 19,\n        \"samples\": [\n          1370720.1605340762,\n          781235.956795462,\n          687640.6340863564\n        ],\n        \"semantic_type\": \"\",\n        \"description\": \"\"\n      }\n    },\n    {\n      \"column\": 10,\n      \"properties\": {\n        \"dtype\": \"number\",\n        \"std\": 222438.39011609647,\n        \"min\": 1503831.037449092,\n        \"max\": 2204862.807397435,\n        \"num_unique_values\": 19,\n        \"samples\": [\n          2204862.807397435,\n          1534220.2238406285,\n          1945971.6882884554\n        ],\n        \"semantic_type\": \"\",\n        \"description\": \"\"\n      }\n    }\n  ]\n}"
            }
          },
          "metadata": {},
          "execution_count": 47
        }
      ],
      "source": [
        "cv_errors"
      ]
    },
    {
      "cell_type": "markdown",
      "metadata": {
        "id": "xF3NcFCx6oOS"
      },
      "source": [
        "+ This has filled up the `cv_errors` DataFrame such that the $(i,j)^{th}$ element corresponds to the test MSE for the $i^{th}$ cross-validation fold for the best $j$-variable model.\n",
        "+ We can then use the `apply()` function to take the `mean` over the columns of this matrix.\n",
        "+ This will give us a vector for which the $j^{th}$ element is the cross-validation error for the $j$-variable model.\n",
        "\n",
        "+ 这已填充 `cv_errors` DataFrame，使得 $(i,j)^{th}$ 个元素对应于最佳 $j$ 个变量模型的第 $i^{th}$ 次交叉验证折叠的测试 MSE。\n",
        "+ 然后我们可以使用 `apply()` 函数对该矩阵的列取 `mean`。\n",
        "+ 这将为我们提供向量，其中 $j^{th}$ 个元素是 $j$ 个变量模型的交叉验证误差。"
      ]
    },
    {
      "cell_type": "code",
      "execution_count": null,
      "metadata": {
        "colab": {
          "base_uri": "https://localhost:8080/",
          "height": 510
        },
        "id": "NpTEEelJ6oOS",
        "outputId": "18765416-9988-4987-d0eb-96cafc9019bb"
      },
      "outputs": [
        {
          "output_type": "execute_result",
          "data": {
            "text/plain": [
              "[<matplotlib.lines.Line2D at 0x7e18992dd1e0>]"
            ]
          },
          "metadata": {},
          "execution_count": 48
        },
        {
          "output_type": "display_data",
          "data": {
            "text/plain": [
              "<Figure size 640x480 with 1 Axes>"
            ],
            "image/png": "[encoded data removed]"
          },
          "metadata": {}
        }
      ],
      "source": [
        "cv_mean = cv_errors.apply(np.mean, axis=1)\n",
        "\n",
        "plt.plot(cv_mean)\n",
        "plt.xlabel('# Predictors')\n",
        "plt.ylabel('CV Error')\n",
        "plt.plot(cv_mean.argmin()+1, cv_mean.min(), \"or\")"
      ]
    },
    {
      "cell_type": "markdown",
      "metadata": {
        "id": "H_EQNjq-6oOS"
      },
      "source": [
        "We see that cross-validation selects a 9-predictor model. Now let's go back to our results on the full data set in order to obtain the 9-predictor model.\n",
        "\n",
        "我们看到交叉验证选择了 9 个预测变量模型。现在让我们回到完整数据集上的结果，以获得 9 个预测变量模型。"
      ]
    },
    {
      "cell_type": "code",
      "execution_count": null,
      "metadata": {
        "colab": {
          "base_uri": "https://localhost:8080/"
        },
        "id": "PsnqID3i6oOS",
        "outputId": "440207ac-892a-480c-821e-db47495c5cd3"
      },
      "outputs": [
        {
          "output_type": "stream",
          "name": "stdout",
          "text": [
            "                                 OLS Regression Results                                \n",
            "=======================================================================================\n",
            "Dep. Variable:                 Salary   R-squared (uncentered):                   0.685\n",
            "Model:                            OLS   Adj. R-squared (uncentered):              0.672\n",
            "Method:                 Least Squares   F-statistic:                              54.56\n",
            "Date:                Tue, 23 Apr 2024   Prob (F-statistic):                    8.32e-52\n",
            "Time:                        04:00:39   Log-Likelihood:                         -1737.9\n",
            "No. Observations:                 235   AIC:                                      3494.\n",
            "Df Residuals:                     226   BIC:                                      3525.\n",
            "Df Model:                           9                                                  \n",
            "Covariance Type:            nonrobust                                                  \n",
            "==============================================================================\n",
            "                 coef    std err          t      P>|t|      [0.025      0.975]\n",
            "------------------------------------------------------------------------------\n",
            "Hits           5.1036      2.325      2.195      0.029       0.522       9.686\n",
            "PutOuts        0.2727      0.101      2.692      0.008       0.073       0.472\n",
            "Division_W   -88.1122     50.742     -1.736      0.084    -188.101      11.876\n",
            "HmRun         -0.8294      6.640     -0.125      0.901     -13.913      12.254\n",
            "AtBat         -0.7780      0.667     -1.166      0.245      -2.093       0.537\n",
            "League_N     103.4130     51.270      2.017      0.045       2.384     204.442\n",
            "RBI            5.3063      3.007      1.764      0.079      -0.620      11.232\n",
            "Assists        0.1477      0.281      0.525      0.600      -0.406       0.702\n",
            "Errors        -9.2617      5.660     -1.636      0.103     -20.415       1.892\n",
            "==============================================================================\n",
            "Omnibus:                       62.044   Durbin-Watson:                   1.995\n",
            "Prob(Omnibus):                  0.000   Jarque-Bera (JB):              182.556\n",
            "Skew:                           1.123   Prob(JB):                     2.28e-40\n",
            "Kurtosis:                       6.687   Cond. No.                     1.19e+03\n",
            "==============================================================================\n",
            "\n",
            "Notes:\n",
            "[1] R² is computed without centering (uncentered) since the model does not contain a constant.\n",
            "[2] Standard Errors assume that the covariance matrix of the errors is correctly specified.\n",
            "[3] The condition number is large, 1.19e+03. This might indicate that there are\n",
            "strong multicollinearity or other numerical problems.\n"
          ]
        }
      ],
      "source": [
        "print(models_cv.loc[9, \"model\"].summary())"
      ]
    },
    {
      "cell_type": "markdown",
      "metadata": {
        "id": "0fp5oEg06oOS"
      },
      "source": [
        "+ For comparison, let's also take a look at the statistics from last lab:\n",
        "\n",
        "+ 为了进行比较，我们还来看看上一个实验室的统计数据："
      ]
    },
    {
      "cell_type": "code",
      "execution_count": null,
      "metadata": {
        "colab": {
          "base_uri": "https://localhost:8080/",
          "height": 710
        },
        "id": "pHtA3neA6oOS",
        "outputId": "bfb036f6-b69a-4161-9de4-eacaf924de75"
      },
      "outputs": [
        {
          "output_type": "execute_result",
          "data": {
            "text/plain": [
              "Text(0, 0.5, 'BIC')"
            ]
          },
          "metadata": {},
          "execution_count": 50
        },
        {
          "output_type": "display_data",
          "data": {
            "text/plain": [
              "<Figure size 2000x1000 with 4 Axes>"
            ],
            "image/png": "[encoded data removed]"
          },
          "metadata": {}
        }
      ],
      "source": [
        "plt.figure(figsize=(20,10))\n",
        "plt.rcParams.update({'font.size': 18, 'lines.markersize': 10})\n",
        "\n",
        "# Set up a 2x2 grid so we can look at 4 plots at once\n",
        "# 设置一个 2x2 网格，以便我们可以同时查看 4 个图\n",
        "plt.subplot(2, 2, 1)\n",
        "\n",
        "# We will now plot a red dot to indicate the model with the largest adjusted R^2 statistic.\n",
        "# The argmax() function can be used to identify the location of the maximum point of a vector\n",
        "# 我们现在将绘制一个红点来表示具有最大调整 R^2 统计量的模型。\n",
        "# argmax() 函数可用于识别向量最大点的位置\n",
        "plt.plot(models_cv[\"RSS\"])\n",
        "plt.xlabel('# Predictors')\n",
        "plt.ylabel('RSS')\n",
        "\n",
        "# We will now plot a red dot to indicate the model with the largest adjusted R^2 statistic.\n",
        "# The argmax() function can be used to identify the location of the maximum point of a vector\n",
        "# 我们现在将绘制一个红点来表示具有最大调整 R^2 统计量的模型。\n",
        "# argmax() 函数可用于识别向量最大点的位置\n",
        "rsquared_adj = models_cv.apply(lambda row: row[1].rsquared_adj, axis=1)\n",
        "\n",
        "plt.subplot(2, 2, 2)\n",
        "plt.plot(rsquared_adj)\n",
        "plt.plot(rsquared_adj.argmax()+1, rsquared_adj.max(), \"or\")\n",
        "plt.xlabel('# Predictors')\n",
        "plt.ylabel('adjusted rsquared')\n",
        "\n",
        "# We'll do the same for AIC and BIC, this time looking for the models with the SMALLEST statistic\n",
        "# 我们将对 AIC 和 BIC 执行相同的操作，这次寻找具有最小统计量的模型\n",
        "aic = models_cv.apply(lambda row: row[1].aic, axis=1)\n",
        "\n",
        "plt.subplot(2, 2, 3)\n",
        "plt.plot(aic)\n",
        "plt.plot(aic.argmin()+1, aic.min(), \"or\")\n",
        "plt.xlabel('# Predictors')\n",
        "plt.ylabel('AIC')\n",
        "\n",
        "bic = models_cv.apply(lambda row: row[1].bic, axis=1)\n",
        "\n",
        "plt.subplot(2, 2, 4)\n",
        "plt.plot(bic)\n",
        "plt.plot(bic.argmin()+1, bic.min(), \"or\")\n",
        "plt.xlabel('# Predictors')\n",
        "plt.ylabel('BIC')"
      ]
    },
    {
      "cell_type": "markdown",
      "metadata": {
        "id": "Wl9IN_5g6oOS"
      },
      "source": [
        "+ Notice how some of the indicators are similar the cross-validated model, and others are very different?\n",
        "\n",
        "+ 注意到一些指标与交叉验证模型相似，而其他指标则有很大不同吗？\n",
        "\n",
        "### YOUR TURN\n",
        "Use any dataset from this link\n",
        "http://archive.ics.uci.edu/ml/datasets.html?format=&task=reg&att=&area=&numAtt=&numIns=&type=&sort=nameUp&view=table"
      ]
    },
    {
      "cell_type": "markdown",
      "metadata": {
        "id": "Da45rIr96oOS"
      },
      "source": [
        "# Shrinkage Methods 收缩方法\n",
        "+ Fit a model containing all $p$ predictors.\n",
        "+ The coefficients estimates are constrains or regularizes, which shrink its towards zero.\n",
        "+ It wil reduce the variance, but does not guarantee it will improve the fit.\n",
        "+ Ridge and Lasso regression are most common.\n",
        "\n",
        "+ 拟合包含所有 $p$ 个预测变量的模型。\n",
        "+ 系数估计是约束或正则化，使其缩小至零。\n",
        "+ 它会减少方差，但不能保证它会改善拟合度。\n",
        "+ Ridge 和 Lasso 回归最为常见。\n",
        "\n",
        "### Ridge Regression 岭回归\n",
        "+ The least squares fitting procedure estimates $\\beta_0, \\beta_1, \\ldots, \\beta_p$ using the values that minimize\n",
        "$$\\textrm{RSS} = \\sum_{i=1}^n{\\left( y_i - \\beta_0 - \\sum_{j=1}^p{\\beta_j x_{ij}} \\right)^2}$$\n",
        "+ Ridge regression minimizes\n",
        "$$\\sum_{i=1}^n{\\left( y_i - \\beta_0 - \\sum_{j=1}^p{\\beta_j x_{ij}} \\right)^2} + \\lambda \\sum_{j=1}^p{\\beta_j^2} = \\textrm{RSS} + \\lambda \\sum_{j=1}^p{\\beta_j^2}$$\n",
        "where $\\lambda \\geq 0$ is a tuning parameter.\n",
        "+ The shrinkage penalty, $\\lambda \\sum_{j=1}^p{\\beta_j^2}$, is small when $\\beta_1, \\ldots, \\beta_p$ are close to zero.\n",
        "+ The tuning parameter $\\lambda$ serves to control the relative impact of these two terms on the regression coefficient estimates.\n",
        "+ When $\\lambda=0$ then ridge equals least squares. When $\\lambda \\rightarrow \\infty$, all predictors head to 0.\n",
        "+ Ridge regression produce  a different set of coefficient estimates, $\\hat{\\beta}_\\lambda^R$, for each value of $\\lambda$.\n",
        "+ Since ridge regression works directly with the size of the parameter coefficients, you must scale all predictors by dividing by their standard deviation.\n",
        "$$\\tilde{x}_{ij}=\\frac{x_{ij}}{\\sqrt{\\frac{1}{n}\\sum_{i=1}^n{\\left( x_{ij} - \\bar{x}_j \\right)^2}}}$$\n",
        "\n",
        "+ 最小二乘拟合程序使用最小化的值估计 $\\beta_0, \\beta_1, \\ldots, \\beta_p$\n",
        "$$\\textrm{RSS} = \\sum_{i=1}^n{\\left( y_i - \\beta_0 - \\sum_{j=1}^p{\\beta_j x_{ij}} \\right)^2}$$\n",
        "+ 岭回归最小化\n",
        "$$\\sum_{i=1}^n{\\left( y_i - \\beta_0 - \\sum_{j=1}^p{\\beta_j x_{ij}} \\right)^2} + \\lambda \\sum_{j=1}^p{\\beta_j^2} = \\textrm{RSS} + \\lambda \\sum_{j=1}^p{\\beta_j^2}$$\n",
        "其中 $\\lambda \\geq 0$ 是一个调整参数。\n",
        "+ 当 $\\beta_1, \\ldots, \\beta_p$ 接近于零时，收缩惩罚 $\\lambda \\sum_{j=1}^p{\\beta_j^2}$ 较小。\n",
        "+ 调整参数 $\\lambda$ 用于控制这两个项对回归系数估计的相对影响。\n",
        "+ 当 $\\lambda=0$ 时，岭回归等于最小二乘。当 $\\lambda \\rightarrow \\infty$ 时，所有预测因子都趋向于 0。\n",
        "+ 对于每个 $\\lambda$ 值，岭回归都会产生一组不同的系数估计值，$\\hat{\\beta}_\\lambda^R$。\n",
        "+ 由于岭回归直接与参数系数的大小相关，因此您必须通过除以其标准差来缩放所有预测因子。\n",
        "$$\\tilde{x}_{ij}=\\frac{x_{ij}}{\\sqrt{\\frac{1}{n}\\sum_{i=1}^n{\\left( x_{ij} - \\bar{x}_j \\right)^2}}}$$\n"
      ]
    },
    {
      "cell_type": "code",
      "execution_count": null,
      "metadata": {
        "scrolled": false,
        "id": "IUlZtO3Y6oOS"
      },
      "outputs": [],
      "source": [
        "from IPython.display import Image\n",
        "Image('images/pw46.png', width =700)"
      ]
    },
    {
      "cell_type": "markdown",
      "metadata": {
        "id": "jSbG6zHH6oOS"
      },
      "source": [
        "$\\ell_2$ norm, $\\left\\Vert \\beta \\right\\Vert_2 = \\sqrt{\\sum_{j=1}^p{\\beta_j^2}}$"
      ]
    },
    {
      "cell_type": "markdown",
      "metadata": {
        "id": "u9Tf2uA-6oOS"
      },
      "source": [
        "#### Example"
      ]
    },
    {
      "cell_type": "code",
      "execution_count": null,
      "metadata": {
        "id": "HshbFJHL6oOT"
      },
      "outputs": [],
      "source": [
        "%matplotlib inline\n",
        "\n",
        "import pandas as pd\n",
        "import numpy as np\n",
        "import matplotlib.pyplot as plt\n",
        "\n",
        "from sklearn.preprocessing import StandardScaler\n",
        "from sklearn.model_selection import train_test_split\n",
        "from sklearn.linear_model import Ridge, RidgeCV, Lasso, LassoCV\n",
        "from sklearn.metrics import mean_squared_error"
      ]
    },
    {
      "cell_type": "markdown",
      "metadata": {
        "id": "_M-TiL6L6oOT"
      },
      "source": [
        "+ We will use the `sklearn` package in order to perform ridge regression and the lasso.\n",
        "+ The main functions in this package that we care about are `Ridge()`, which can be used to fit ridge regression models, and `Lasso()` which will fit lasso models.\n",
        "+ They also have cross-validated counterparts: `RidgeCV()` and `LassoCV()`. We'll use these a bit later.\n",
        "\n",
        "Before we proceed, let's first ensure that the missing values have\n",
        "been removed from the data, as described in the previous lab.\n",
        "\n",
        "+ 我们将使用 `sklearn` 包来执行岭回归和套索。\n",
        "+ 我们关心的这个包中的主要函数是 `Ridge()`，它可用于拟合岭回归模型，以及 `Lasso()`，它将拟合套索模型。\n",
        "+ 它们还有交叉验证的对应函数：`RidgeCV()` 和 `LassoCV()`。我们稍后会用到它们。\n",
        "\n",
        "在继续之前，让我们首先确保缺失值已从数据中删除，如上一个实验中所述。"
      ]
    },
    {
      "cell_type": "code",
      "execution_count": null,
      "metadata": {
        "id": "yTibNZ4I6oOT",
        "colab": {
          "base_uri": "https://localhost:8080/"
        },
        "outputId": "d558ed0f-fa45-47a6-bcf2-3a5a5df0fd0f"
      },
      "outputs": [
        {
          "output_type": "stream",
          "name": "stdout",
          "text": [
            "<class 'pandas.core.frame.DataFrame'>\n",
            "Index: 263 entries, 1 to 321\n",
            "Data columns (total 20 columns):\n",
            " #   Column     Non-Null Count  Dtype  \n",
            "---  ------     --------------  -----  \n",
            " 0   AtBat      263 non-null    int64  \n",
            " 1   Hits       263 non-null    int64  \n",
            " 2   HmRun      263 non-null    int64  \n",
            " 3   Runs       263 non-null    int64  \n",
            " 4   RBI        263 non-null    int64  \n",
            " 5   Walks      263 non-null    int64  \n",
            " 6   Years      263 non-null    int64  \n",
            " 7   CAtBat     263 non-null    int64  \n",
            " 8   CHits      263 non-null    int64  \n",
            " 9   CHmRun     263 non-null    int64  \n",
            " 10  CRuns      263 non-null    int64  \n",
            " 11  CRBI       263 non-null    int64  \n",
            " 12  CWalks     263 non-null    int64  \n",
            " 13  League     263 non-null    object \n",
            " 14  Division   263 non-null    object \n",
            " 15  PutOuts    263 non-null    int64  \n",
            " 16  Assists    263 non-null    int64  \n",
            " 17  Errors     263 non-null    int64  \n",
            " 18  Salary     263 non-null    float64\n",
            " 19  NewLeague  263 non-null    object \n",
            "dtypes: float64(1), int64(16), object(3)\n",
            "memory usage: 43.1+ KB\n"
          ]
        }
      ],
      "source": [
        "df = pd.read_csv('data/hitters.csv').dropna().drop('Unnamed: 0', axis = 1)\n",
        "df.info()\n",
        "dummies = pd.get_dummies(df[['League', 'Division', 'NewLeague']])"
      ]
    },
    {
      "cell_type": "markdown",
      "metadata": {
        "id": "OCRT0xX36oOT"
      },
      "source": [
        "We will now perform ridge regression and the lasso in order to predict `Salary` on\n",
        "the `Hitters` data. Let's set up our data:\n",
        "\n",
        "我们现在将执行岭回归和套索，以便根据“Hitters”数据预测“Salary”。让我们设置我们的数据："
      ]
    },
    {
      "cell_type": "code",
      "execution_count": null,
      "metadata": {
        "id": "aWMimH3Y6oOT",
        "colab": {
          "base_uri": "https://localhost:8080/"
        },
        "outputId": "fc18adab-5896-4934-ff20-954c12e031f9"
      },
      "outputs": [
        {
          "output_type": "stream",
          "name": "stdout",
          "text": [
            "<class 'pandas.core.frame.DataFrame'>\n",
            "Index: 263 entries, 1 to 321\n",
            "Data columns (total 19 columns):\n",
            " #   Column       Non-Null Count  Dtype  \n",
            "---  ------       --------------  -----  \n",
            " 0   AtBat        263 non-null    float64\n",
            " 1   Hits         263 non-null    float64\n",
            " 2   HmRun        263 non-null    float64\n",
            " 3   Runs         263 non-null    float64\n",
            " 4   RBI          263 non-null    float64\n",
            " 5   Walks        263 non-null    float64\n",
            " 6   Years        263 non-null    float64\n",
            " 7   CAtBat       263 non-null    float64\n",
            " 8   CHits        263 non-null    float64\n",
            " 9   CHmRun       263 non-null    float64\n",
            " 10  CRuns        263 non-null    float64\n",
            " 11  CRBI         263 non-null    float64\n",
            " 12  CWalks       263 non-null    float64\n",
            " 13  PutOuts      263 non-null    float64\n",
            " 14  Assists      263 non-null    float64\n",
            " 15  Errors       263 non-null    float64\n",
            " 16  League_N     263 non-null    bool   \n",
            " 17  Division_W   263 non-null    bool   \n",
            " 18  NewLeague_N  263 non-null    bool   \n",
            "dtypes: bool(3), float64(16)\n",
            "memory usage: 35.7 KB\n"
          ]
        }
      ],
      "source": [
        "y = df.Salary\n",
        "\n",
        "# Drop the column with the independent variable (Salary), and columns for which we created dummy variables\n",
        "# 删除包含独立变量（薪水）的列，以及我们为其创建虚拟变量的列\n",
        "X_ = df.drop(['Salary', 'League', 'Division', 'NewLeague'], axis = 1).astype('float64')\n",
        "\n",
        "# Define the feature set X. 定义特征集X。\n",
        "X = pd.concat([X_, dummies[['League_N', 'Division_W', 'NewLeague_N']]], axis = 1)\n",
        "\n",
        "X.info()"
      ]
    },
    {
      "cell_type": "markdown",
      "metadata": {
        "id": "4V_sG9xU6oOT"
      },
      "source": [
        "+ The `Ridge()` function has an alpha argument ($\\lambda$, but with a different name!) that is used to tune the model.\n",
        "+ We'll generate an array of alpha values ranging from very big to very small, essentially covering the full range of scenarios from the null model containing only the intercept, to the least squares fit:\n",
        "\n",
        "+ `Ridge()` 函数有一个 alpha 参数 ($\\lambda$，但名称不同！)，用于调整模型。\n",
        "+ 我们将生成一个从非常大到非常小的 alpha 值数组，基本上涵盖了从仅包含截距的空模型到最小二乘拟合的所有场景："
      ]
    },
    {
      "cell_type": "code",
      "execution_count": null,
      "metadata": {
        "id": "vcxoz2QX6oOT",
        "colab": {
          "base_uri": "https://localhost:8080/"
        },
        "outputId": "2e4677ac-5e19-4f6a-e891-499ac74ca60c"
      },
      "outputs": [
        {
          "output_type": "execute_result",
          "data": {
            "text/plain": [
              "array([5.00000000e+09, 3.78231664e+09, 2.86118383e+09, 2.16438064e+09,\n",
              "       1.63727458e+09, 1.23853818e+09, 9.36908711e+08, 7.08737081e+08,\n",
              "       5.36133611e+08, 4.05565415e+08, 3.06795364e+08, 2.32079442e+08,\n",
              "       1.75559587e+08, 1.32804389e+08, 1.00461650e+08, 7.59955541e+07,\n",
              "       5.74878498e+07, 4.34874501e+07, 3.28966612e+07, 2.48851178e+07,\n",
              "       1.88246790e+07, 1.42401793e+07, 1.07721735e+07, 8.14875417e+06,\n",
              "       6.16423370e+06, 4.66301673e+06, 3.52740116e+06, 2.66834962e+06,\n",
              "       2.01850863e+06, 1.52692775e+06, 1.15506485e+06, 8.73764200e+05,\n",
              "       6.60970574e+05, 5.00000000e+05, 3.78231664e+05, 2.86118383e+05,\n",
              "       2.16438064e+05, 1.63727458e+05, 1.23853818e+05, 9.36908711e+04,\n",
              "       7.08737081e+04, 5.36133611e+04, 4.05565415e+04, 3.06795364e+04,\n",
              "       2.32079442e+04, 1.75559587e+04, 1.32804389e+04, 1.00461650e+04,\n",
              "       7.59955541e+03, 5.74878498e+03, 4.34874501e+03, 3.28966612e+03,\n",
              "       2.48851178e+03, 1.88246790e+03, 1.42401793e+03, 1.07721735e+03,\n",
              "       8.14875417e+02, 6.16423370e+02, 4.66301673e+02, 3.52740116e+02,\n",
              "       2.66834962e+02, 2.01850863e+02, 1.52692775e+02, 1.15506485e+02,\n",
              "       8.73764200e+01, 6.60970574e+01, 5.00000000e+01, 3.78231664e+01,\n",
              "       2.86118383e+01, 2.16438064e+01, 1.63727458e+01, 1.23853818e+01,\n",
              "       9.36908711e+00, 7.08737081e+00, 5.36133611e+00, 4.05565415e+00,\n",
              "       3.06795364e+00, 2.32079442e+00, 1.75559587e+00, 1.32804389e+00,\n",
              "       1.00461650e+00, 7.59955541e-01, 5.74878498e-01, 4.34874501e-01,\n",
              "       3.28966612e-01, 2.48851178e-01, 1.88246790e-01, 1.42401793e-01,\n",
              "       1.07721735e-01, 8.14875417e-02, 6.16423370e-02, 4.66301673e-02,\n",
              "       3.52740116e-02, 2.66834962e-02, 2.01850863e-02, 1.52692775e-02,\n",
              "       1.15506485e-02, 8.73764200e-03, 6.60970574e-03, 5.00000000e-03])"
            ]
          },
          "metadata": {},
          "execution_count": 4
        }
      ],
      "source": [
        "alphas = 10**np.linspace(10,-2,100)*0.5\n",
        "alphas\n"
      ]
    },
    {
      "cell_type": "markdown",
      "metadata": {
        "id": "erN6YADR6oOT"
      },
      "source": [
        "+ Associated with each alpha value is a vector of ridge regression coefficients, which we'll store in a matrix `coefs`.\n",
        "+ In this case, it is a $19 \\times 100$ matrix, with 19 rows (one for each predictor) and 100 columns (one for each value of alpha).\n",
        "+ Remember that we'll want to standardize the variables so that they are on the same scale. To do this, we can use the `StandardScaler()` function:\n",
        "\n",
        "+ 与每个 alpha 值相关联的是岭回归系数向量，我们将其存储在矩阵“coefs”中。\n",
        "+ 在本例中，它是一个 $19 \\times 100$ 矩阵，有 19 行（每个预测变量一行）和 100 列（每个 alpha 值一列）。\n",
        "+ 请记住，我们需要标准化变量，使它们处于同一尺度。为此，我们可以使用 `StandardScaler()` 函数："
      ]
    },
    {
      "cell_type": "code",
      "execution_count": null,
      "metadata": {
        "id": "uUoXjPyJ6oOT",
        "colab": {
          "base_uri": "https://localhost:8080/"
        },
        "outputId": "2121a8d3-7d7e-46d7-b51e-4a4953e77114"
      },
      "outputs": [
        {
          "output_type": "execute_result",
          "data": {
            "text/plain": [
              "(100, 19)"
            ]
          },
          "metadata": {},
          "execution_count": 5
        }
      ],
      "source": [
        "ridge = Ridge()\n",
        "coefs = []\n",
        "\n",
        "scaler = StandardScaler()\n",
        "X_scaled = scaler.fit_transform(X)\n",
        "\n",
        "for a in alphas:\n",
        "    ridge.set_params(alpha = a)\n",
        "    ridge.fit(X_scaled, y)\n",
        "    coefs.append(ridge.coef_)\n",
        "\n",
        "np.shape(coefs)"
      ]
    },
    {
      "cell_type": "markdown",
      "metadata": {
        "id": "y9hlGFWd6oOT"
      },
      "source": [
        "We expect the coefficient estimates to be much smaller, in terms of $l_2$ norm,\n",
        "when a large value of alpha is used, as compared to when a small value of alpha is\n",
        "used.\n",
        "\n",
        "Let's plot and find out:\n",
        "\n",
        "我们预计，当使用较大的 alpha 值时，与使用较小的 alpha 值相比，系数估计值会小得多（就 $l_2$ 范数而言）。\n",
        "\n",
        "让我们绘制图表并找出答案："
      ]
    },
    {
      "cell_type": "code",
      "execution_count": null,
      "metadata": {
        "id": "_fBp-nBN6oOT",
        "colab": {
          "base_uri": "https://localhost:8080/",
          "height": 471
        },
        "outputId": "6b190e95-b596-49dd-ac26-f5e5d1ce109d"
      },
      "outputs": [
        {
          "output_type": "execute_result",
          "data": {
            "text/plain": [
              "Text(0, 0.5, 'weights')"
            ]
          },
          "metadata": {},
          "execution_count": 6
        },
        {
          "output_type": "display_data",
          "data": {
            "text/plain": [
              "<Figure size 640x480 with 1 Axes>"
            ],
            "image/png": "[encoded data removed]"
          },
          "metadata": {}
        }
      ],
      "source": [
        "ax = plt.gca()\n",
        "ax.plot(alphas, coefs)\n",
        "ax.set_xscale('log')\n",
        "plt.axis('tight')\n",
        "plt.xlabel('alpha')\n",
        "plt.ylabel('weights')"
      ]
    },
    {
      "cell_type": "markdown",
      "metadata": {
        "id": "FrAG6wq_6oOU"
      },
      "source": [
        "We now split the samples into a training set and a test set in order\n",
        "to estimate the test error of ridge regression\n",
        "\n",
        "现在我们将样本分成训练集和测试集，以便估计岭回归的测试误差"
      ]
    },
    {
      "cell_type": "code",
      "execution_count": null,
      "metadata": {
        "id": "ABUnV6h96oOU"
      },
      "outputs": [],
      "source": [
        "# Split data into training and test sets 将数据拆分为训练集和测试集\n",
        "X_train, X_test , y_train, y_test = train_test_split(X_scaled, y, test_size=0.5, random_state=1)"
      ]
    },
    {
      "cell_type": "markdown",
      "metadata": {
        "id": "7jvsMqSO6oOU"
      },
      "source": [
        "Fit a ridge regression model on the training set, and evaluate its MSE on the test set, using  $\\lambda=4$ :\n",
        "\n",
        "在训练集上拟合岭回归模型，并使用 $\\lambda=4$ 评估其在测试集上的 MSE："
      ]
    },
    {
      "cell_type": "code",
      "execution_count": null,
      "metadata": {
        "id": "aylOsDQE6oOU",
        "colab": {
          "base_uri": "https://localhost:8080/"
        },
        "outputId": "3a0755be-efd4-40a8-d0bc-3eaf15993b02"
      },
      "outputs": [
        {
          "output_type": "stream",
          "name": "stdout",
          "text": [
            "AtBat         -213.176543\n",
            "Hits           191.133532\n",
            "HmRun          -54.236259\n",
            "Runs             0.497409\n",
            "RBI             77.755957\n",
            "Walks           89.751563\n",
            "Years          -27.347561\n",
            "CAtBat        -120.436464\n",
            "CHits           89.341261\n",
            "CHmRun          83.888337\n",
            "CRuns           98.317502\n",
            "CRBI           116.286711\n",
            "CWalks         -40.517948\n",
            "PutOuts        117.412662\n",
            "Assists         26.509603\n",
            "Errors         -19.132449\n",
            "League_N        36.016247\n",
            "Division_W     -60.417909\n",
            "NewLeague_N    -18.714889\n",
            "dtype: float64\n",
            "102375.7076961398\n"
          ]
        }
      ],
      "source": [
        "ridge2 = Ridge(alpha = 4)\n",
        "ridge2.fit(X_train, y_train)             # Fit a ridge regression on the training data 对训练数据进行岭回归拟合\n",
        "pred2 = ridge2.predict(X_test)           # Use this model to predict the test data 使用此模型预测测试数据\n",
        "print(pd.Series(ridge2.coef_, index = X.columns)) # Print coefficients 打印系数\n",
        "print(mean_squared_error(y_test, pred2))          # Calculate the test MSE 计算测试 MSE"
      ]
    },
    {
      "cell_type": "code",
      "execution_count": null,
      "metadata": {
        "scrolled": false,
        "id": "fB_SLocJ6oOU",
        "colab": {
          "base_uri": "https://localhost:8080/"
        },
        "outputId": "4f9986a0-b936-4937-9161-823925d8ea8f"
      },
      "outputs": [
        {
          "output_type": "stream",
          "name": "stdout",
          "text": [
            "AtBat          2.514813e-06\n",
            "Hits           2.912660e-06\n",
            "HmRun          1.986276e-06\n",
            "Runs           2.685289e-06\n",
            "RBI            3.189361e-06\n",
            "Walks          3.118248e-06\n",
            "Years          2.473459e-06\n",
            "CAtBat         3.257461e-06\n",
            "CHits          3.480687e-06\n",
            "CHmRun         3.711503e-06\n",
            "CRuns          3.474689e-06\n",
            "CRBI           3.938490e-06\n",
            "CWalks         3.029160e-06\n",
            "PutOuts        3.055508e-06\n",
            "Assists       -4.753637e-08\n",
            "Errors         1.674891e-07\n",
            "League_N      -1.638619e-07\n",
            "Division_W    -1.015342e-06\n",
            "NewLeague_N   -1.328587e-07\n",
            "dtype: float64\n",
            "172862.22014055075\n"
          ]
        }
      ],
      "source": [
        "## Let alpha=10^10\n",
        "ridge3 = Ridge(alpha = 10**10)\n",
        "ridge3.fit(X_train, y_train)             # Fit a ridge regression on the training data 对训练数据进行岭回归拟合\n",
        "pred3 = ridge3.predict(X_test)           # Use this model to predict the test data 使用此模型预测测试数据\n",
        "print(pd.Series(ridge3.coef_, index = X.columns)) # Print coefficients 打印系数\n",
        "print(mean_squared_error(y_test, pred3))          # Calculate the test MSE 计算测试 MSE"
      ]
    },
    {
      "cell_type": "markdown",
      "metadata": {
        "id": "__c447B46oOU"
      },
      "source": [
        "+ This big penalty shrinks the coefficients to a very large degree, essentially reducing to a model containing just the intercept.\n",
        "+ This over-shrinking makes the model more biased, resulting in a higher MSE.\n",
        "+ now check whether there is any benefit to performing ridge regression with alpha = 4 instead of just performing least squares regression.\n",
        "+ Recall that least squares is simply ridge regression with alpha = 0.\n",
        "\n",
        "+ 这个大惩罚会将系数缩小到非常大的程度，本质上会缩小到仅包含截距的模型。\n",
        "+ 这种过度缩小使模型更加有偏差，导致更高的 MSE。\n",
        "+ 现在检查执行 alpha = 4 的岭回归是否有任何好处，而不仅仅是执行最小二乘回归。\n",
        "+ 回想一下，最小二乘只是 alpha = 0 的岭回归。"
      ]
    },
    {
      "cell_type": "code",
      "execution_count": null,
      "metadata": {
        "id": "a49EPrYY6oOU",
        "colab": {
          "base_uri": "https://localhost:8080/"
        },
        "outputId": "3a8d88d1-adf5-40dd-a61f-c9195f1efe32"
      },
      "outputs": [
        {
          "output_type": "stream",
          "name": "stdout",
          "text": [
            "AtBat          -267.752871\n",
            "Hits            191.830073\n",
            "HmRun           -41.721641\n",
            "Runs             -0.988044\n",
            "RBI             102.935440\n",
            "Walks            75.220967\n",
            "Years            45.444252\n",
            "CAtBat        -1381.044044\n",
            "CHits          1407.138021\n",
            "CHmRun          244.425704\n",
            "CRuns            88.048881\n",
            "CRBI           -193.153012\n",
            "CWalks           45.168467\n",
            "PutOuts         117.645848\n",
            "Assists          67.244233\n",
            "Errors          -39.726067\n",
            "League_N         66.762729\n",
            "Division_W      -56.861659\n",
            "NewLeague_N     -40.856844\n",
            "dtype: float64\n",
            "116690.46856663836\n"
          ]
        }
      ],
      "source": [
        "### The least squares, alpha = 0\n",
        "ridge2 = Ridge(alpha = 0)\n",
        "ridge2.fit(X_train, y_train)             # Fit a ridge regression on the training data\n",
        "pred = ridge2.predict(X_test)            # Use this model to predict the test data\n",
        "print(pd.Series(ridge2.coef_, index = X.columns)) # Print coefficients\n",
        "print(mean_squared_error(y_test, pred))           # Calculate the test MSE"
      ]
    },
    {
      "cell_type": "markdown",
      "metadata": {
        "id": "53h8RFDm6oOU"
      },
      "source": [
        "+ It looks like we are indeed improving over regular least-squares!\n",
        "\n",
        "+ Instead of arbitrarily choosing alpha $ = 4$, it would be better to use cross-validation to choose the tuning parameter alpha.\n",
        "+ We can do this using the cross-validated ridge regression function, `RidgeCV()`.\n",
        "+ By default, the function performs generalized cross-validation (an efficient form of LOOCV), though this can be changed using the argument `cv`.\n",
        "\n",
        "+ 看起来我们确实比常规最小二乘法有所改进！\n",
        "\n",
        "+ 与其任意选择 alpha $ = 4$，不如使用交叉验证来选择调整参数 alpha。\n",
        "+ 我们可以使用交叉验证岭回归函数 `RidgeCV()` 来做到这一点。\n",
        "+ 默认情况下，该函数执行广义交叉验证（LOOCV 的有效形式），但可以使用参数 `cv` 进行更改。"
      ]
    },
    {
      "cell_type": "code",
      "execution_count": null,
      "metadata": {
        "id": "iLoTJeNn6oOU",
        "colab": {
          "base_uri": "https://localhost:8080/"
        },
        "outputId": "68a6acde-e6e0-44b9-d9ff-dbc53daff432"
      },
      "outputs": [
        {
          "output_type": "execute_result",
          "data": {
            "text/plain": [
              "87.37642000038414"
            ]
          },
          "metadata": {},
          "execution_count": 11
        }
      ],
      "source": [
        "###  use cross-validation to choose the tuning parameter alpha. 使用交叉验证来选择调整参数alpha。\n",
        "ridgecv = RidgeCV(alphas = alphas, scoring = 'neg_mean_squared_error')\n",
        "ridgecv.fit(X_train, y_train)\n",
        "ridgecv.alpha_"
      ]
    },
    {
      "cell_type": "markdown",
      "metadata": {
        "id": "goNbq13S6oOU"
      },
      "source": [
        "Therefore, we see that the value of alpha that results in the smallest cross-validation\n",
        "error is 87.37.\n",
        "\n",
        "What is the test MSE associated with this value of\n",
        "alpha?\n",
        "\n",
        "因此，我们看到导致最小交叉验证误差的 alpha 值为 87.37。\n",
        "\n",
        "与此 alpha 值相关的测试 MSE 是多少？"
      ]
    },
    {
      "cell_type": "code",
      "execution_count": null,
      "metadata": {
        "id": "k9HtIn2H6oOU",
        "colab": {
          "base_uri": "https://localhost:8080/"
        },
        "outputId": "e1907d58-a36e-4008-f29b-ada41c95a1d2"
      },
      "outputs": [
        {
          "output_type": "execute_result",
          "data": {
            "text/plain": [
              "100041.0014465957"
            ]
          },
          "metadata": {},
          "execution_count": 12
        }
      ],
      "source": [
        "###Fit to the test data 适合测试数据\n",
        "ridge4 = Ridge(alpha = ridgecv.alpha_)\n",
        "ridge4.fit(X_train, y_train)\n",
        "mean_squared_error(y_test, ridge4.predict(X_test))"
      ]
    },
    {
      "cell_type": "markdown",
      "metadata": {
        "id": "EOdFw9Zm6oOU"
      },
      "source": [
        "This represents a further improvement over the test MSE that we got using\n",
        "alpha $ = 4$.\n",
        "\n",
        "Finally, we refit our ridge regression model on the full data set,\n",
        "using the value of alpha chosen by cross-validation, and examine the coefficient\n",
        "estimates.\n",
        "\n",
        "这比我们使用\n",
        "alpha $ = 4$ 获得的测试 MSE 有了进一步的改进。\n",
        "\n",
        "最后，我们使用通过交叉验证选择的 alpha 值，在完整数据集上重新拟合我们的岭回归模型，并检查系数估计值。"
      ]
    },
    {
      "cell_type": "code",
      "execution_count": null,
      "metadata": {
        "scrolled": true,
        "id": "NduODl1O6oOV",
        "colab": {
          "base_uri": "https://localhost:8080/"
        },
        "outputId": "a9a9c146-464f-4fd5-cb49-ef35e3d8a11c"
      },
      "outputs": [
        {
          "output_type": "stream",
          "name": "stdout",
          "text": [
            "AtBat          -3.523031\n",
            "Hits           52.317273\n",
            "HmRun          -2.229998\n",
            "Runs           29.166801\n",
            "RBI            22.313457\n",
            "Walks          42.608761\n",
            "Years          -5.214714\n",
            "CAtBat         24.399636\n",
            "CHits          46.574450\n",
            "CHmRun         40.154375\n",
            "CRuns          47.179284\n",
            "CRBI           49.378118\n",
            "CWalks          0.430680\n",
            "PutOuts        58.565659\n",
            "Assists         8.184012\n",
            "Errors        -14.476788\n",
            "League_N       15.731040\n",
            "Division_W    -50.182047\n",
            "NewLeague_N     2.213752\n",
            "dtype: float64\n"
          ]
        }
      ],
      "source": [
        "###Fit to the whole data 适合整个数据\n",
        "ridge4.fit(X_scaled, y)\n",
        "\n",
        "print(pd.Series(ridge4.coef_, index = X.columns))"
      ]
    },
    {
      "cell_type": "markdown",
      "metadata": {
        "id": "RR6N4i5p6oOV"
      },
      "source": [
        "### The Lasso 套索\n",
        "+ Least absolute shrinkage and selection operator\n",
        "+ Ridge regression will include all $p$ predictors in the final model since it will only shrink the coefficients towards zero, not exactly zero. Therefore, if $p$ is large, then the model is hard to be interpreted.\n",
        "+ Lasso can overcome this problem.\n",
        "$$\\sum_{i=1}^n{\\left( y_i - \\beta_0 - \\sum_{j=1}^p{\\beta_j x_{ij}} \\right)^2} + \\lambda \\sum_{j=1}^p{\\left|\\beta_j\\right|} = \\textrm{RSS} + \\lambda \\sum_{j=1}^p{\\left|\\beta_j\\right|}$$\n",
        "\n",
        "+ Lasso uses $\\ell_1$ penalty instead of $\\ell_2$ (absolute value of predictors vs squared value).\n",
        "+ $\\ell_1$ norm, $\\left\\Vert \\beta \\right\\Vert_1 = \\sum{\\left| \\beta_j \\right|}$.\n",
        "+ The lasso performs variable selection by setting some predictors to exactly 0 (and thus automatic variable selection), unlike ridge which will never completely do eliminate variables.\n",
        "+ The lasso yields sparse models — models that involve only a subset of the variables.\n",
        "\n",
        "\n",
        "+ 最小绝对收缩和选择运算符\n",
        "+ 岭回归将在最终模型中包含所有 $p$ 个预测变量，因为它只会将系数收缩至零，而不是完全为零。因此，如果 $p$ 很大，则模型很难解释。\n",
        "+ Lasso 可以克服这个问题。\n",
        "$$\\sum_{i=1}^n{\\left( y_i - \\beta_0 - \\sum_{j=1}^p{\\beta_j x_{ij}} \\right)^2} + \\lambda \\sum_{j=1}^p{\\left|\\beta_j\\right|} = \\textrm{RSS} + \\lambda \\sum_{j=1}^p{\\left|\\beta_j\\right|}$$\n",
        "\n",
        "+ Lasso 使用 $\\ell_1$ 惩罚而不是 $\\ell_2$（预测变量的绝对值与平方值）。\n",
        "+ $\\ell_1$ 范数，$\\left\\Vert \\beta \\right\\Vert_1 = \\sum{\\left| \\beta_j \\right|}$。\n",
        "+ 套索通过将一些预测变量设置为精确 0（从而自动进行变量选择）来执行变量选择，而不像岭回归那样永远不会完全消除变量。\n",
        "+ 套索产生稀疏模型 - 仅涉及变量子集的模型。\n"
      ]
    },
    {
      "cell_type": "code",
      "execution_count": null,
      "metadata": {
        "id": "5Dxg-cb76oOV"
      },
      "outputs": [],
      "source": [
        "from IPython.display import Image\n",
        "Image('images/pw47.png', width =700)"
      ]
    },
    {
      "cell_type": "markdown",
      "metadata": {
        "id": "RADjSPlW6oOV"
      },
      "source": [
        "#### Example:\n",
        "+ we saw that ridge regression with a wise choice of alpha can outperform least squares as well as the null model on the Hitters data set.\n",
        "+ We now ask whether the lasso can yield either a more accurate or a more interpretable model than ridge regression.\n",
        "+ In order to fit a lasso model, we'll use the `Lasso()` function; however, this time we'll need to include the argument `max_iter = 10000`.\n",
        "+ Other than that change, we proceed just as we did in fitting a ridge model:\n",
        "\n",
        "\n",
        "+ 我们看到，明智选择 alpha 的岭回归在 Hitters 数据集上的表现可以优于最小二乘法和零模型。\n",
        "+ 我们现在要问的是，套索是否可以产生比岭回归更准确或更易于解释的模型。\n",
        "+ 为了拟合套索模型，我们将使用 `Lasso()` 函数；但是，这次我们需要包含参数 `max_iter = 10000`。\n",
        "+ 除了这一变化之外，我们继续按照拟合岭模型的方式进行："
      ]
    },
    {
      "cell_type": "code",
      "execution_count": null,
      "metadata": {
        "id": "wlOYI7QQ6oOV",
        "colab": {
          "base_uri": "https://localhost:8080/",
          "height": 1000
        },
        "outputId": "74386dd3-cc10-4931-c992-28ed059b457e"
      },
      "outputs": [
        {
          "output_type": "stream",
          "name": "stderr",
          "text": [
            "/usr/local/lib/python3.10/dist-packages/sklearn/base.py:439: UserWarning: X does not have valid feature names, but StandardScaler was fitted with feature names\n",
            "  warnings.warn(\n",
            "/usr/local/lib/python3.10/dist-packages/sklearn/base.py:439: UserWarning: X does not have valid feature names, but StandardScaler was fitted with feature names\n",
            "  warnings.warn(\n",
            "/usr/local/lib/python3.10/dist-packages/sklearn/base.py:439: UserWarning: X does not have valid feature names, but StandardScaler was fitted with feature names\n",
            "  warnings.warn(\n",
            "/usr/local/lib/python3.10/dist-packages/sklearn/base.py:439: UserWarning: X does not have valid feature names, but StandardScaler was fitted with feature names\n",
            "  warnings.warn(\n",
            "/usr/local/lib/python3.10/dist-packages/sklearn/base.py:439: UserWarning: X does not have valid feature names, but StandardScaler was fitted with feature names\n",
            "  warnings.warn(\n",
            "/usr/local/lib/python3.10/dist-packages/sklearn/base.py:439: UserWarning: X does not have valid feature names, but StandardScaler was fitted with feature names\n",
            "  warnings.warn(\n",
            "/usr/local/lib/python3.10/dist-packages/sklearn/base.py:439: UserWarning: X does not have valid feature names, but StandardScaler was fitted with feature names\n",
            "  warnings.warn(\n",
            "/usr/local/lib/python3.10/dist-packages/sklearn/base.py:439: UserWarning: X does not have valid feature names, but StandardScaler was fitted with feature names\n",
            "  warnings.warn(\n",
            "/usr/local/lib/python3.10/dist-packages/sklearn/base.py:439: UserWarning: X does not have valid feature names, but StandardScaler was fitted with feature names\n",
            "  warnings.warn(\n",
            "/usr/local/lib/python3.10/dist-packages/sklearn/base.py:439: UserWarning: X does not have valid feature names, but StandardScaler was fitted with feature names\n",
            "  warnings.warn(\n",
            "/usr/local/lib/python3.10/dist-packages/sklearn/base.py:439: UserWarning: X does not have valid feature names, but StandardScaler was fitted with feature names\n",
            "  warnings.warn(\n",
            "/usr/local/lib/python3.10/dist-packages/sklearn/base.py:439: UserWarning: X does not have valid feature names, but StandardScaler was fitted with feature names\n",
            "  warnings.warn(\n",
            "/usr/local/lib/python3.10/dist-packages/sklearn/base.py:439: UserWarning: X does not have valid feature names, but StandardScaler was fitted with feature names\n",
            "  warnings.warn(\n",
            "/usr/local/lib/python3.10/dist-packages/sklearn/base.py:439: UserWarning: X does not have valid feature names, but StandardScaler was fitted with feature names\n",
            "  warnings.warn(\n",
            "/usr/local/lib/python3.10/dist-packages/sklearn/base.py:439: UserWarning: X does not have valid feature names, but StandardScaler was fitted with feature names\n",
            "  warnings.warn(\n",
            "/usr/local/lib/python3.10/dist-packages/sklearn/base.py:439: UserWarning: X does not have valid feature names, but StandardScaler was fitted with feature names\n",
            "  warnings.warn(\n",
            "/usr/local/lib/python3.10/dist-packages/sklearn/base.py:439: UserWarning: X does not have valid feature names, but StandardScaler was fitted with feature names\n",
            "  warnings.warn(\n",
            "/usr/local/lib/python3.10/dist-packages/sklearn/base.py:439: UserWarning: X does not have valid feature names, but StandardScaler was fitted with feature names\n",
            "  warnings.warn(\n",
            "/usr/local/lib/python3.10/dist-packages/sklearn/base.py:439: UserWarning: X does not have valid feature names, but StandardScaler was fitted with feature names\n",
            "  warnings.warn(\n",
            "/usr/local/lib/python3.10/dist-packages/sklearn/base.py:439: UserWarning: X does not have valid feature names, but StandardScaler was fitted with feature names\n",
            "  warnings.warn(\n",
            "/usr/local/lib/python3.10/dist-packages/sklearn/base.py:439: UserWarning: X does not have valid feature names, but StandardScaler was fitted with feature names\n",
            "  warnings.warn(\n",
            "/usr/local/lib/python3.10/dist-packages/sklearn/base.py:439: UserWarning: X does not have valid feature names, but StandardScaler was fitted with feature names\n",
            "  warnings.warn(\n",
            "/usr/local/lib/python3.10/dist-packages/sklearn/base.py:439: UserWarning: X does not have valid feature names, but StandardScaler was fitted with feature names\n",
            "  warnings.warn(\n",
            "/usr/local/lib/python3.10/dist-packages/sklearn/base.py:439: UserWarning: X does not have valid feature names, but StandardScaler was fitted with feature names\n",
            "  warnings.warn(\n",
            "/usr/local/lib/python3.10/dist-packages/sklearn/base.py:439: UserWarning: X does not have valid feature names, but StandardScaler was fitted with feature names\n",
            "  warnings.warn(\n",
            "/usr/local/lib/python3.10/dist-packages/sklearn/base.py:439: UserWarning: X does not have valid feature names, but StandardScaler was fitted with feature names\n",
            "  warnings.warn(\n",
            "/usr/local/lib/python3.10/dist-packages/sklearn/base.py:439: UserWarning: X does not have valid feature names, but StandardScaler was fitted with feature names\n",
            "  warnings.warn(\n",
            "/usr/local/lib/python3.10/dist-packages/sklearn/base.py:439: UserWarning: X does not have valid feature names, but StandardScaler was fitted with feature names\n",
            "  warnings.warn(\n",
            "/usr/local/lib/python3.10/dist-packages/sklearn/base.py:439: UserWarning: X does not have valid feature names, but StandardScaler was fitted with feature names\n",
            "  warnings.warn(\n",
            "/usr/local/lib/python3.10/dist-packages/sklearn/base.py:439: UserWarning: X does not have valid feature names, but StandardScaler was fitted with feature names\n",
            "  warnings.warn(\n",
            "/usr/local/lib/python3.10/dist-packages/sklearn/base.py:439: UserWarning: X does not have valid feature names, but StandardScaler was fitted with feature names\n",
            "  warnings.warn(\n",
            "/usr/local/lib/python3.10/dist-packages/sklearn/base.py:439: UserWarning: X does not have valid feature names, but StandardScaler was fitted with feature names\n",
            "  warnings.warn(\n",
            "/usr/local/lib/python3.10/dist-packages/sklearn/base.py:439: UserWarning: X does not have valid feature names, but StandardScaler was fitted with feature names\n",
            "  warnings.warn(\n",
            "/usr/local/lib/python3.10/dist-packages/sklearn/base.py:439: UserWarning: X does not have valid feature names, but StandardScaler was fitted with feature names\n",
            "  warnings.warn(\n",
            "/usr/local/lib/python3.10/dist-packages/sklearn/base.py:439: UserWarning: X does not have valid feature names, but StandardScaler was fitted with feature names\n",
            "  warnings.warn(\n",
            "/usr/local/lib/python3.10/dist-packages/sklearn/base.py:439: UserWarning: X does not have valid feature names, but StandardScaler was fitted with feature names\n",
            "  warnings.warn(\n",
            "/usr/local/lib/python3.10/dist-packages/sklearn/base.py:439: UserWarning: X does not have valid feature names, but StandardScaler was fitted with feature names\n",
            "  warnings.warn(\n",
            "/usr/local/lib/python3.10/dist-packages/sklearn/base.py:439: UserWarning: X does not have valid feature names, but StandardScaler was fitted with feature names\n",
            "  warnings.warn(\n",
            "/usr/local/lib/python3.10/dist-packages/sklearn/base.py:439: UserWarning: X does not have valid feature names, but StandardScaler was fitted with feature names\n",
            "  warnings.warn(\n",
            "/usr/local/lib/python3.10/dist-packages/sklearn/base.py:439: UserWarning: X does not have valid feature names, but StandardScaler was fitted with feature names\n",
            "  warnings.warn(\n",
            "/usr/local/lib/python3.10/dist-packages/sklearn/base.py:439: UserWarning: X does not have valid feature names, but StandardScaler was fitted with feature names\n",
            "  warnings.warn(\n",
            "/usr/local/lib/python3.10/dist-packages/sklearn/base.py:439: UserWarning: X does not have valid feature names, but StandardScaler was fitted with feature names\n",
            "  warnings.warn(\n",
            "/usr/local/lib/python3.10/dist-packages/sklearn/base.py:439: UserWarning: X does not have valid feature names, but StandardScaler was fitted with feature names\n",
            "  warnings.warn(\n",
            "/usr/local/lib/python3.10/dist-packages/sklearn/base.py:439: UserWarning: X does not have valid feature names, but StandardScaler was fitted with feature names\n",
            "  warnings.warn(\n",
            "/usr/local/lib/python3.10/dist-packages/sklearn/base.py:439: UserWarning: X does not have valid feature names, but StandardScaler was fitted with feature names\n",
            "  warnings.warn(\n",
            "/usr/local/lib/python3.10/dist-packages/sklearn/base.py:439: UserWarning: X does not have valid feature names, but StandardScaler was fitted with feature names\n",
            "  warnings.warn(\n",
            "/usr/local/lib/python3.10/dist-packages/sklearn/base.py:439: UserWarning: X does not have valid feature names, but StandardScaler was fitted with feature names\n",
            "  warnings.warn(\n",
            "/usr/local/lib/python3.10/dist-packages/sklearn/base.py:439: UserWarning: X does not have valid feature names, but StandardScaler was fitted with feature names\n",
            "  warnings.warn(\n",
            "/usr/local/lib/python3.10/dist-packages/sklearn/base.py:439: UserWarning: X does not have valid feature names, but StandardScaler was fitted with feature names\n",
            "  warnings.warn(\n",
            "/usr/local/lib/python3.10/dist-packages/sklearn/base.py:439: UserWarning: X does not have valid feature names, but StandardScaler was fitted with feature names\n",
            "  warnings.warn(\n",
            "/usr/local/lib/python3.10/dist-packages/sklearn/base.py:439: UserWarning: X does not have valid feature names, but StandardScaler was fitted with feature names\n",
            "  warnings.warn(\n",
            "/usr/local/lib/python3.10/dist-packages/sklearn/base.py:439: UserWarning: X does not have valid feature names, but StandardScaler was fitted with feature names\n",
            "  warnings.warn(\n",
            "/usr/local/lib/python3.10/dist-packages/sklearn/base.py:439: UserWarning: X does not have valid feature names, but StandardScaler was fitted with feature names\n",
            "  warnings.warn(\n",
            "/usr/local/lib/python3.10/dist-packages/sklearn/base.py:439: UserWarning: X does not have valid feature names, but StandardScaler was fitted with feature names\n",
            "  warnings.warn(\n",
            "/usr/local/lib/python3.10/dist-packages/sklearn/base.py:439: UserWarning: X does not have valid feature names, but StandardScaler was fitted with feature names\n",
            "  warnings.warn(\n",
            "/usr/local/lib/python3.10/dist-packages/sklearn/base.py:439: UserWarning: X does not have valid feature names, but StandardScaler was fitted with feature names\n",
            "  warnings.warn(\n",
            "/usr/local/lib/python3.10/dist-packages/sklearn/base.py:439: UserWarning: X does not have valid feature names, but StandardScaler was fitted with feature names\n",
            "  warnings.warn(\n",
            "/usr/local/lib/python3.10/dist-packages/sklearn/base.py:439: UserWarning: X does not have valid feature names, but StandardScaler was fitted with feature names\n",
            "  warnings.warn(\n",
            "/usr/local/lib/python3.10/dist-packages/sklearn/base.py:439: UserWarning: X does not have valid feature names, but StandardScaler was fitted with feature names\n",
            "  warnings.warn(\n",
            "/usr/local/lib/python3.10/dist-packages/sklearn/base.py:439: UserWarning: X does not have valid feature names, but StandardScaler was fitted with feature names\n",
            "  warnings.warn(\n",
            "/usr/local/lib/python3.10/dist-packages/sklearn/base.py:439: UserWarning: X does not have valid feature names, but StandardScaler was fitted with feature names\n",
            "  warnings.warn(\n",
            "/usr/local/lib/python3.10/dist-packages/sklearn/base.py:439: UserWarning: X does not have valid feature names, but StandardScaler was fitted with feature names\n",
            "  warnings.warn(\n",
            "/usr/local/lib/python3.10/dist-packages/sklearn/base.py:439: UserWarning: X does not have valid feature names, but StandardScaler was fitted with feature names\n",
            "  warnings.warn(\n",
            "/usr/local/lib/python3.10/dist-packages/sklearn/base.py:439: UserWarning: X does not have valid feature names, but StandardScaler was fitted with feature names\n",
            "  warnings.warn(\n",
            "/usr/local/lib/python3.10/dist-packages/sklearn/base.py:439: UserWarning: X does not have valid feature names, but StandardScaler was fitted with feature names\n",
            "  warnings.warn(\n",
            "/usr/local/lib/python3.10/dist-packages/sklearn/base.py:439: UserWarning: X does not have valid feature names, but StandardScaler was fitted with feature names\n",
            "  warnings.warn(\n",
            "/usr/local/lib/python3.10/dist-packages/sklearn/base.py:439: UserWarning: X does not have valid feature names, but StandardScaler was fitted with feature names\n",
            "  warnings.warn(\n",
            "/usr/local/lib/python3.10/dist-packages/sklearn/base.py:439: UserWarning: X does not have valid feature names, but StandardScaler was fitted with feature names\n",
            "  warnings.warn(\n",
            "/usr/local/lib/python3.10/dist-packages/sklearn/base.py:439: UserWarning: X does not have valid feature names, but StandardScaler was fitted with feature names\n",
            "  warnings.warn(\n",
            "/usr/local/lib/python3.10/dist-packages/sklearn/base.py:439: UserWarning: X does not have valid feature names, but StandardScaler was fitted with feature names\n",
            "  warnings.warn(\n",
            "/usr/local/lib/python3.10/dist-packages/sklearn/base.py:439: UserWarning: X does not have valid feature names, but StandardScaler was fitted with feature names\n",
            "  warnings.warn(\n",
            "/usr/local/lib/python3.10/dist-packages/sklearn/base.py:439: UserWarning: X does not have valid feature names, but StandardScaler was fitted with feature names\n",
            "  warnings.warn(\n",
            "/usr/local/lib/python3.10/dist-packages/sklearn/base.py:439: UserWarning: X does not have valid feature names, but StandardScaler was fitted with feature names\n",
            "  warnings.warn(\n",
            "/usr/local/lib/python3.10/dist-packages/sklearn/base.py:439: UserWarning: X does not have valid feature names, but StandardScaler was fitted with feature names\n",
            "  warnings.warn(\n",
            "/usr/local/lib/python3.10/dist-packages/sklearn/base.py:439: UserWarning: X does not have valid feature names, but StandardScaler was fitted with feature names\n",
            "  warnings.warn(\n",
            "/usr/local/lib/python3.10/dist-packages/sklearn/base.py:439: UserWarning: X does not have valid feature names, but StandardScaler was fitted with feature names\n",
            "  warnings.warn(\n",
            "/usr/local/lib/python3.10/dist-packages/sklearn/base.py:439: UserWarning: X does not have valid feature names, but StandardScaler was fitted with feature names\n",
            "  warnings.warn(\n",
            "/usr/local/lib/python3.10/dist-packages/sklearn/base.py:439: UserWarning: X does not have valid feature names, but StandardScaler was fitted with feature names\n",
            "  warnings.warn(\n",
            "/usr/local/lib/python3.10/dist-packages/sklearn/base.py:439: UserWarning: X does not have valid feature names, but StandardScaler was fitted with feature names\n",
            "  warnings.warn(\n",
            "/usr/local/lib/python3.10/dist-packages/sklearn/base.py:439: UserWarning: X does not have valid feature names, but StandardScaler was fitted with feature names\n",
            "  warnings.warn(\n",
            "/usr/local/lib/python3.10/dist-packages/sklearn/base.py:439: UserWarning: X does not have valid feature names, but StandardScaler was fitted with feature names\n",
            "  warnings.warn(\n",
            "/usr/local/lib/python3.10/dist-packages/sklearn/base.py:439: UserWarning: X does not have valid feature names, but StandardScaler was fitted with feature names\n",
            "  warnings.warn(\n",
            "/usr/local/lib/python3.10/dist-packages/sklearn/base.py:439: UserWarning: X does not have valid feature names, but StandardScaler was fitted with feature names\n",
            "  warnings.warn(\n",
            "/usr/local/lib/python3.10/dist-packages/sklearn/base.py:439: UserWarning: X does not have valid feature names, but StandardScaler was fitted with feature names\n",
            "  warnings.warn(\n",
            "/usr/local/lib/python3.10/dist-packages/sklearn/base.py:439: UserWarning: X does not have valid feature names, but StandardScaler was fitted with feature names\n",
            "  warnings.warn(\n",
            "/usr/local/lib/python3.10/dist-packages/sklearn/base.py:439: UserWarning: X does not have valid feature names, but StandardScaler was fitted with feature names\n",
            "  warnings.warn(\n",
            "/usr/local/lib/python3.10/dist-packages/sklearn/base.py:439: UserWarning: X does not have valid feature names, but StandardScaler was fitted with feature names\n",
            "  warnings.warn(\n",
            "/usr/local/lib/python3.10/dist-packages/sklearn/base.py:439: UserWarning: X does not have valid feature names, but StandardScaler was fitted with feature names\n",
            "  warnings.warn(\n",
            "/usr/local/lib/python3.10/dist-packages/sklearn/base.py:439: UserWarning: X does not have valid feature names, but StandardScaler was fitted with feature names\n",
            "  warnings.warn(\n",
            "/usr/local/lib/python3.10/dist-packages/sklearn/base.py:439: UserWarning: X does not have valid feature names, but StandardScaler was fitted with feature names\n",
            "  warnings.warn(\n",
            "/usr/local/lib/python3.10/dist-packages/sklearn/base.py:439: UserWarning: X does not have valid feature names, but StandardScaler was fitted with feature names\n",
            "  warnings.warn(\n",
            "/usr/local/lib/python3.10/dist-packages/sklearn/base.py:439: UserWarning: X does not have valid feature names, but StandardScaler was fitted with feature names\n",
            "  warnings.warn(\n",
            "/usr/local/lib/python3.10/dist-packages/sklearn/base.py:439: UserWarning: X does not have valid feature names, but StandardScaler was fitted with feature names\n",
            "  warnings.warn(\n",
            "/usr/local/lib/python3.10/dist-packages/sklearn/base.py:439: UserWarning: X does not have valid feature names, but StandardScaler was fitted with feature names\n",
            "  warnings.warn(\n",
            "/usr/local/lib/python3.10/dist-packages/sklearn/base.py:439: UserWarning: X does not have valid feature names, but StandardScaler was fitted with feature names\n",
            "  warnings.warn(\n",
            "/usr/local/lib/python3.10/dist-packages/sklearn/base.py:439: UserWarning: X does not have valid feature names, but StandardScaler was fitted with feature names\n",
            "  warnings.warn(\n",
            "/usr/local/lib/python3.10/dist-packages/sklearn/base.py:439: UserWarning: X does not have valid feature names, but StandardScaler was fitted with feature names\n",
            "  warnings.warn(\n",
            "/usr/local/lib/python3.10/dist-packages/sklearn/base.py:439: UserWarning: X does not have valid feature names, but StandardScaler was fitted with feature names\n",
            "  warnings.warn(\n",
            "/usr/local/lib/python3.10/dist-packages/sklearn/base.py:439: UserWarning: X does not have valid feature names, but StandardScaler was fitted with feature names\n",
            "  warnings.warn(\n",
            "/usr/local/lib/python3.10/dist-packages/sklearn/base.py:439: UserWarning: X does not have valid feature names, but StandardScaler was fitted with feature names\n",
            "  warnings.warn(\n"
          ]
        },
        {
          "output_type": "execute_result",
          "data": {
            "text/plain": [
              "Text(0, 0.5, 'weights')"
            ]
          },
          "metadata": {},
          "execution_count": 23
        },
        {
          "output_type": "display_data",
          "data": {
            "text/plain": [
              "<Figure size 640x480 with 1 Axes>"
            ],
            "image/png": "[encoded data removed]"
          },
          "metadata": {}
        }
      ],
      "source": [
        "\n",
        "lasso = Lasso(max_iter = 10000)\n",
        "coefs = []\n",
        "\n",
        "for a in alphas:\n",
        "    lasso.set_params(alpha=a)\n",
        "    lasso.fit(scaler.transform(X_train), y_train)\n",
        "    coefs.append(lasso.coef_)\n",
        "\n",
        "ax = plt.gca()\n",
        "ax.plot(alphas*2, coefs)\n",
        "ax.set_xscale('log')\n",
        "plt.axis('tight')\n",
        "plt.xlabel('alpha')\n",
        "plt.ylabel('weights')"
      ]
    },
    {
      "cell_type": "markdown",
      "metadata": {
        "id": "rCGH8DYF6oOV"
      },
      "source": [
        "+ Notice that in the coefficient plot that depending on the choice of tuning parameter, some of the coefficients are exactly equal to zero.\n",
        "+ We now perform 10-fold cross-validation to choose the best alpha, refit the model, and compute the associated test error:\n",
        "\n",
        "+ 请注意，在系数图中，根据调整参数的选择，一些系数恰好等于零。\n",
        "+ 我们现在执行 10 倍交叉验证来选择最佳 alpha，重新拟合模型，并计算相关的测试误差："
      ]
    },
    {
      "cell_type": "code",
      "execution_count": null,
      "metadata": {
        "id": "kTkMSSHb6oOV",
        "colab": {
          "base_uri": "https://localhost:8080/"
        },
        "outputId": "03de895c-ee16-46c4-cb64-9b7ef19ff9e2"
      },
      "outputs": [
        {
          "output_type": "execute_result",
          "data": {
            "text/plain": [
              "105121.06327904538"
            ]
          },
          "metadata": {},
          "execution_count": 21
        }
      ],
      "source": [
        "## Perform 10-fold cross-validation to choose the best alpha. 执行 10 倍交叉验证以选择最佳 alpha。\n",
        "\n",
        "lassocv = LassoCV(alphas = None, cv = 10, max_iter = 100000)\n",
        "lassocv.fit(X_train, y_train)\n",
        "\n",
        "lasso.set_params(alpha=lassocv.alpha_)\n",
        "lasso.fit(X_train, y_train)\n",
        "mean_squared_error(y_test, lasso.predict(X_test))"
      ]
    },
    {
      "cell_type": "code",
      "source": [
        "lassocv.alpha_"
      ],
      "metadata": {
        "colab": {
          "base_uri": "https://localhost:8080/"
        },
        "id": "p_RhAOBT05HD",
        "outputId": "b0dc0ceb-cc64-46e5-a67b-c652c2fa2187"
      },
      "execution_count": null,
      "outputs": [
        {
          "output_type": "execute_result",
          "data": {
            "text/plain": [
              "28.038544563299862"
            ]
          },
          "metadata": {},
          "execution_count": 25
        }
      ]
    },
    {
      "cell_type": "code",
      "source": [
        "mean_squared_error(y_train, lasso.predict(X_train))"
      ],
      "metadata": {
        "colab": {
          "base_uri": "https://localhost:8080/"
        },
        "id": "Jn3z-6if1E6u",
        "outputId": "ba34b385-7860-4dd3-8939-c7647eccc28f"
      },
      "execution_count": null,
      "outputs": [
        {
          "output_type": "execute_result",
          "data": {
            "text/plain": [
              "4910846584.237021"
            ]
          },
          "metadata": {},
          "execution_count": 26
        }
      ]
    },
    {
      "cell_type": "markdown",
      "metadata": {
        "id": "XLRRdTk-6oOV"
      },
      "source": [
        "This is substantially lower than the test set MSE of the null model and of least squares, and only a little worse than the test MSE of ridge regression with alpha chosen by cross-validation.\n",
        "\n",
        "However, lasso has a substantial advantage over ridge regression in\n",
        "that the resulting coefficient estimates are sparse. Here we see that 13 of\n",
        "the 19 coefficient estimates are exactly zero:\n",
        "\n",
        "这比空模型和最小二乘的测试集 MSE 低得多，仅比通过交叉验证选择 alpha 的岭回归的测试 MSE 差一点。\n",
        "\n",
        "然而，套索比岭回归有一个显著的优势，因为得到的系数估计是稀疏的。在这里我们看到 19 个系数估计中有 13 个恰好为零："
      ]
    },
    {
      "cell_type": "code",
      "execution_count": null,
      "metadata": {
        "id": "xVxVt0sw6oOV",
        "colab": {
          "base_uri": "https://localhost:8080/"
        },
        "outputId": "8373014c-19d0-4102-9570-a799530e9802"
      },
      "outputs": [
        {
          "output_type": "execute_result",
          "data": {
            "text/plain": [
              "AtBat            0.000000\n",
              "Hits            47.417582\n",
              "HmRun            0.000000\n",
              "Runs             0.000000\n",
              "RBI              0.000000\n",
              "Walks           64.015661\n",
              "Years            0.000000\n",
              "CAtBat           0.000000\n",
              "CHits            0.000000\n",
              "CHmRun          16.243847\n",
              "CRuns            0.000000\n",
              "CRBI           168.983385\n",
              "CWalks           0.000000\n",
              "PutOuts        104.196395\n",
              "Assists         -0.000000\n",
              "Errors          -0.000000\n",
              "League_N         0.000000\n",
              "Division_W     -43.965512\n",
              "NewLeague_N      0.000000\n",
              "dtype: float64"
            ]
          },
          "metadata": {},
          "execution_count": 22
        }
      ],
      "source": [
        "# Some of the coefficients are now reduced to exactly zero. 一些系数现在已减少到恰好为零。\n",
        "pd.Series(lasso.coef_, index=X.columns)"
      ]
    },
    {
      "cell_type": "markdown",
      "metadata": {
        "id": "wdChVSp66oOV"
      },
      "source": [
        "### Alternative logic of lasso and ridge regression 套索和岭回归的替代逻辑\n",
        "+ Instead of thinking of penalizing the error by either the $\\ell_1$ or $\\ell_2$ norm, we can think of setting up lasso/ridge regression as minimizing the squared errors subject to keeping the parameters less than a certain value.\n",
        "+ Think of this value as a 'budget', $s$, of allowable spending to occur. You can allow yourself to spend your parameters in any way you chose as long as you don't go over the total budget.\n",
        "+ For Lasso\n",
        "$$\\displaystyle \\min_{\\beta}\\left\\{ \\sum_{i=1}^n{\\left( y_i - \\beta_0 - \\sum_{j=1}^p{\\beta_j x_{ij}} \\right)^2} \\right\\} \\quad \\textrm{subject to} \\quad \\sum_{j=1}^p{\\left|\\beta_j\\right|} \\leq s$$\n",
        "and for ridge regression\n",
        "$$\\displaystyle \\min_{\\beta}\\left\\{ \\sum_{i=1}^n{\\left( y_i - \\beta_0 - \\sum_{j=1}^p{\\beta_j x_{ij}} \\right)^2} \\right\\} \\quad \\textrm{subject to} \\quad \\sum_{j=1}^p{\\beta^2_j} \\leq s$$\n",
        "\n",
        "+ Lasso yields predictors equivalent to 0 because of sharp corners\n",
        "\n",
        "\n",
        "\n",
        "我们可以将套索/岭回归设置为最小化平方误差，同时保持参数小于某个值，而不是考虑用 $\\ell_1$ 或 $\\ell_2$ 范数来惩罚误差。\n",
        "+ 将此值视为允许支出的“预算”$s$。只要不超过总预算，您就可以以任何方式花费参数。\n",
        "+ 对于 Lasso\n",
        "$$\\displaystyle \\min_{\\beta}\\left\\{ \\sum_{i=1}^n{\\left( y_i - \\beta_0 - \\sum_{j=1}^p{\\beta_j x_{ij}} \\right)^2} \\right\\} \\quad \\textrm{subject to} \\quad \\sum_{j=1}^p{\\left|\\beta_j\\right|} \\leq s$$\n",
        "对于岭回归\n",
        "$$\\displaystyle \\min_{\\beta}\\left\\{ \\sum_{i=1}^n{\\left( y_i - \\beta_0 - \\sum_{j=1}^p{\\beta_j x_{ij}} \\right)^2} \\right\\} \\quad \\textrm{subject to} \\quad \\sum_{j=1}^p{\\beta^2_j} \\leq s$$\n",
        "\n",
        "+ Lasso 因尖角而产生等同于 0 的预测因子"
      ]
    },
    {
      "cell_type": "markdown",
      "metadata": {
        "id": "LDsWAM5n6oOV"
      },
      "source": [
        "![ridge and lasso](images/ridge.png)"
      ]
    },
    {
      "cell_type": "markdown",
      "metadata": {
        "id": "l36L0UH-6oOV"
      },
      "source": [
        "### Which is better Lasso or Ridge Lasso 和 Ridge 哪个更好\n",
        "+ In general, when there are many important predictor variables that related to the response, ridge will perform better.\n",
        "+ When there are only a few variables that relate to the response, lasso will do better.\n",
        "+ However, cross validation can be used to determine this.\n",
        "\n",
        "+ 一般而言，当有许多重要的预测变量与响应相关时，ridge 会表现更好。\n",
        "+ 当只有少数变量与响应相关时，lasso 会表现更好。\n",
        "+ 但是，可以使用交叉验证来确定这一点。\n",
        "\n",
        "### Choosing $\\lambda$\n",
        "Choose $\\lambda$ through cross validation. Search an array of $\\lambda$'s through cross validation and choose the $\\lambda$ which minimizes MSE. Then build your model with that $\\lambda$ on all the data.\n",
        "\n",
        "通过交叉验证选择 $\\lambda$。通过交叉验证搜索 $\\lambda$ 数组并选择最小化 MSE 的 $\\lambda$。然后使用该 $\\lambda$ 在所有数据上构建模型。"
      ]
    },
    {
      "cell_type": "markdown",
      "metadata": {
        "id": "vBgYZPk36oOW"
      },
      "source": [
        "# Your turn!\n",
        "\n",
        "1. Now it's time to test out these approaches (ridge regression and the lasso) and evaluation methods (validation set, cross validation) on other datasets.\n",
        "2. You may want to work with a team on this portion of the lab.\n",
        "3. You may use any of the datasets from the UCI machine learning repository (http://archive.ics.uci.edu/ml/datasets.html).\n",
        "4. Download a dataset, and try to determine the optimal set of parameters to use to model it! You are free to use the same dataset you have used previously.\n",
        "\n",
        "\n",
        "1. 现在是时候在其他数据集上测试这些方法（岭回归和套索）和评估方法（验证集、交叉验证）。\n",
        "2. 您可能希望与团队合作完成实验室的这一部分。\n",
        "3. 您可以使用 UCI 机器学习存储库中的任何数据集（http://archive.ics.uci.edu/ml/datasets.html）。\n",
        "4. 下载数据集，并尝试确定用于建模的最佳参数集！您可以自由使用以前使用过的相同数据集。"
      ]
    },
    {
      "cell_type": "code",
      "execution_count": null,
      "metadata": {
        "id": "2ZQ233wW6oOW"
      },
      "outputs": [],
      "source": []
    },
    {
      "cell_type": "code",
      "execution_count": null,
      "metadata": {
        "id": "VaBfsvKV6oOW"
      },
      "outputs": [],
      "source": []
    }
  ],
  "metadata": {
    "anaconda-cloud": {},
    "kernelspec": {
      "display_name": "Python 3 (ipykernel)",
      "language": "python",
      "name": "python3"
    },
    "language_info": {
      "codemirror_mode": {
        "name": "ipython",
        "version": 3
      },
      "file_extension": ".py",
      "mimetype": "text/x-python",
      "name": "python",
      "nbconvert_exporter": "python",
      "pygments_lexer": "ipython3",
      "version": "3.10.9"
    },
    "colab": {
      "provenance": []
    }
  },
  "nbformat": 4,
  "nbformat_minor": 0
}