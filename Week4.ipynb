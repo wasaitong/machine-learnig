{
  "cells": [
    {
      "cell_type": "code",
      "execution_count": null,
      "metadata": {
        "id": "IAqoXV4okRHS"
      },
      "outputs": [],
      "source": [
        "!ls data"
      ]
    },
    {
      "cell_type": "markdown",
      "metadata": {
        "id": "WeiEy_BokRHT"
      },
      "source": [
        "# Chapter 5 Resampling Methods 重采样方法\n",
        "+ **Resampling** - repeatedly drawing samples from a training set and refitting a modelon each sample - to obtain additional info.\n",
        "\n",
        "+ Common resampling methods: bootstraping and cross validation.\n",
        "+ Cross validation can be used to estimate the test error to evaluate model perfomance (**model assessment**) or to select appropriate level of flexibility (**model selection**).\n",
        "+ Boostraping provide a measure of accuracy of a parameter estimates or statistical learning method.\n",
        "\n",
        "+ **重新采样** - 反复从训练集中抽取样本并在每个样本上重新拟合模型 - 以获取更多信息。\n",
        "\n",
        "+ 常见的重新采样方法：引导和交叉验证。\n",
        "+ 交叉验证可用于估计测试误差以评估模型性能（**模型评估**）或选择适当的灵活性水平（**模型选择**）。\n",
        "+ 引导提供参数估计或统计学习方法的准确性度量。\n",
        "\n",
        "## Cross Validation 交叉验证\n",
        "### Validation Set Approach 验证集方法\n",
        "+ Usually a test set is not available so a simple strategy to create one is to split the available data into training and testing (**validation or hold-out set**).\n",
        "+ Divide the data into half where the observation in each sets are randomly selected.\n",
        "+ To assess the model perfomance - quantitative responses usually use MSE, for categorical can use error rate, area under the curve, F1 score, weighting of confusion matrix, etc...\n",
        "+ Drawbacks of this technique:\n",
        "    + the validation estimation of the test error rate can be highly variable.\n",
        "    + the validation set error rate may tend to overestimate the test error rate.\n",
        "\n",
        "+ 通常测试集不可用，因此创建测试集的一个简单策略是将可用数据分为训练和测试（验证集或保留集）。\n",
        "\n",
        "+ 将数据分为两半，每组中的观察结果都是随机选择的。\n",
        "\n",
        "+ 为了评估模型性能 - 定量响应通常使用 MSE，对于分类可以使用错误率、曲线下面积、F1 分数、混淆矩阵权重等...\n",
        "\n",
        "+ 该技术的缺点：\n",
        "    + 测试错误率的验证估计可能变化很大。\n",
        "    + 验证集错误率可能会高估测试错误率。\n",
        "\n"
      ]
    },
    {
      "cell_type": "code",
      "execution_count": null,
      "metadata": {
        "id": "5dVse53TkRHU",
        "outputId": "bc245073-3106-4d6a-bad3-22d4b3c18b7d"
      },
      "outputs": [
        {
          "data": {
            "image/png": "[encoded data removed]",
            "text/plain": [
              "<IPython.core.display.Image object>"
            ]
          },
          "execution_count": 43,
          "metadata": {
            "image/png": {
              "width": 500
            }
          },
          "output_type": "execute_result"
        }
      ],
      "source": [
        "from IPython.display import Image\n",
        "Image('images/pw41.png', width =500)"
      ]
    },
    {
      "cell_type": "markdown",
      "metadata": {
        "id": "z5g9gf50kRHV"
      },
      "source": [
        "#### Example\n"
      ]
    },
    {
      "cell_type": "code",
      "execution_count": null,
      "metadata": {
        "id": "QQuriYXmkRHV"
      },
      "outputs": [],
      "source": [
        "import pandas as pd\n",
        "import numpy as np\n",
        "import sklearn.linear_model as skl_lm\n",
        "import matplotlib.pyplot as plt\n",
        "%matplotlib inline\n"
      ]
    },
    {
      "cell_type": "markdown",
      "metadata": {
        "id": "uz8I2OdckRHV"
      },
      "source": [
        "In this section, we'll explore the use of the validation set approach in order to estimate the\n",
        "test error rates that result from fitting various linear models on the ${\\tt Auto}$ data set.\n",
        "\n",
        "在本节中，我们将探讨验证集方法的使用，以估计在自动数据集上拟合各种线性模型所产生的测试错误率。"
      ]
    },
    {
      "cell_type": "code",
      "execution_count": null,
      "metadata": {
        "scrolled": false,
        "colab": {
          "base_uri": "https://localhost:8080/"
        },
        "id": "UgrAzY7RkRHV",
        "outputId": "63d0fa88-c538-451a-9f2f-3e2dbab7a878"
      },
      "outputs": [
        {
          "output_type": "stream",
          "name": "stdout",
          "text": [
            "<class 'pandas.core.frame.DataFrame'>\n",
            "RangeIndex: 392 entries, 0 to 391\n",
            "Data columns (total 9 columns):\n",
            " #   Column        Non-Null Count  Dtype  \n",
            "---  ------        --------------  -----  \n",
            " 0   mpg           392 non-null    float64\n",
            " 1   cylinders     392 non-null    int64  \n",
            " 2   displacement  392 non-null    float64\n",
            " 3   horsepower    392 non-null    int64  \n",
            " 4   weight        392 non-null    int64  \n",
            " 5   acceleration  392 non-null    float64\n",
            " 6   year          392 non-null    int64  \n",
            " 7   origin        392 non-null    int64  \n",
            " 8   name          392 non-null    object \n",
            "dtypes: float64(3), int64(5), object(1)\n",
            "memory usage: 27.7+ KB\n"
          ]
        }
      ],
      "source": [
        "df1 = pd.read_csv('/content/auto.csv', na_values='?').dropna()\n",
        "#将问号 '?' 视为缺失值进行处理，并且使用 dropna() 方法删除包含缺失值的行\n",
        "df1.info()"
      ]
    },
    {
      "cell_type": "markdown",
      "metadata": {
        "id": "l_MAZQPCkRHV"
      },
      "source": [
        "We begin by using the ${\\tt sample()}$ function to split the set of observations\n",
        "into two halves, by selecting a random subset of 196 observations out of\n",
        "the original 392 observations. We refer to these observations as the training\n",
        "set.\n",
        "\n",
        "We'll use the ${\\tt random\\_state}$ parameter in order to set a seed for\n",
        "${\\tt python}$’s random number generator, so that you'll obtain precisely the same results each time. It is generally a good idea to set a random seed when performing an analysis such as cross-validation\n",
        "that contains an element of randomness, so that the results obtained can be reproduced precisely at a later time.\n",
        "\n",
        "我们首先使用sample()函数将观测值集分成两半，从原始392个观测值中选择196个观测值的随机子集。我们将这些观察结果称为训练集。\n",
        "\n",
        "我们将使用 random_state 参数来为 python 的随机数生成器设置种子，以便您每次都会获得完全相同的结果。在执行包含随机性元素的交叉验证等分析时，设置随机种子通常是一个好主意，以便稍后可以精确地重现获得的结果。"
      ]
    },
    {
      "cell_type": "code",
      "execution_count": null,
      "metadata": {
        "id": "tNfro3p_kRHV"
      },
      "outputs": [],
      "source": [
        "train_df = df1.sample(196, random_state = 1)\n",
        "test_df = df1[~df1.isin(train_df)].dropna(how = 'all')\n",
        "\n",
        "X_train = train_df['horsepower'].values.reshape(-1,1)\n",
        "y_train = train_df['mpg']\n",
        "X_test = test_df['horsepower'].values.reshape(-1,1)\n",
        "y_test = test_df['mpg']"
      ]
    },
    {
      "cell_type": "markdown",
      "metadata": {
        "id": "R3O0j1u9kRHW"
      },
      "source": [
        "We then use ${\\tt LinearRegression()}$ to fit a linear regression to predict ${\\tt mpg}$ from ${\\tt horsepower}$ using only\n",
        "the observations corresponding to the training set.\n",
        "\n",
        "然后，我们使用 LinearRegression() 拟合线性回归，仅使用与训练集相对应的观察结果来预测马力的英里数。"
      ]
    },
    {
      "cell_type": "code",
      "execution_count": null,
      "metadata": {
        "id": "Ohg85Bn5kRHW"
      },
      "outputs": [],
      "source": [
        "#skl_lm.LinearRegression() 来创建一个线性回归模型对象 lm\n",
        "lm = skl_lm.LinearRegression()\n",
        "#fit() 方法将训练集的特征 (X_train) 和标签 (y_train) 拟合到模型中，以训练模型\n",
        "model = lm.fit(X_train, y_train)"
      ]
    },
    {
      "cell_type": "markdown",
      "metadata": {
        "id": "OmG-iH_IkRHW"
      },
      "source": [
        "We now use the ${\\tt predict()}$ function to estimate the response for the test\n",
        "observations, and we use ${\\tt sklearn}$ to caclulate the MSE.\n",
        "\n",
        "我们现在使用 Predict() 函数来估计测试观察的响应，并使用 sklearn 来计算 MSE。"
      ]
    },
    {
      "cell_type": "code",
      "execution_count": null,
      "metadata": {
        "colab": {
          "base_uri": "https://localhost:8080/"
        },
        "id": "r0k3HgorkRHW",
        "outputId": "c5ff975d-5fa3-48ed-be93-46e6574dce3d"
      },
      "outputs": [
        {
          "output_type": "stream",
          "name": "stdout",
          "text": [
            "23.361902892587224\n"
          ]
        }
      ],
      "source": [
        "#model 对测试集的特征 X_test 进行预测，得到预测值 pred\n",
        "pred = model.predict(X_test)\n",
        "#用于计算均方误差（Mean Squared Error，MSE）\n",
        "from sklearn.metrics import mean_squared_error\n",
        "#mean_squared_error 函数计算了预测值 pred 和测试集标签 y_test 之间的均方误差\n",
        "MSE = mean_squared_error(y_test, pred)\n",
        "print(MSE)"
      ]
    },
    {
      "cell_type": "markdown",
      "metadata": {
        "id": "vJV73Fj6kRHW"
      },
      "source": [
        "Therefore, the estimated test MSE for the linear regression fit is 23.36. We\n",
        "can use the ${\\tt PolynomialFeatures()}$ function to estimate the test error for the polynomial\n",
        "and cubic regressions.\n",
        "\n",
        "因此，线性回归拟合的估计测试 MSE 为 23.36。我们可以使用 PolynomialFeatures() 函数来估计多项式和三次回归的测试误差。"
      ]
    },
    {
      "cell_type": "code",
      "execution_count": null,
      "metadata": {
        "colab": {
          "base_uri": "https://localhost:8080/"
        },
        "id": "NY_ourM_kRHW",
        "outputId": "1c38783d-5d71-41b4-903b-549571240513"
      },
      "outputs": [
        {
          "output_type": "stream",
          "name": "stdout",
          "text": [
            "20.252690858345748\n",
            "20.325609365972525\n"
          ]
        }
      ],
      "source": [
        "from sklearn.preprocessing import PolynomialFeatures\n",
        "#对训练集的特征 X_train 和测试集的特征 X_test 进行了多项式扩展，分别生成了二次多项式特征 X_train2 和 X_test2，以及三次多项式特征 X_train3 和 X_test3\n",
        "#分别使用二次多项式特征和三次多项式特征训练了线性回归模型，并计算了它们在测试集上的均方误差\n",
        "#打印输出了二次多项式回归模型和三次多项式回归模型在测试集上的均方误差\n",
        "\n",
        "# Quadratic\n",
        "poly = PolynomialFeatures(degree=2)\n",
        "X_train2 = poly.fit_transform(X_train)\n",
        "X_test2 = poly.fit_transform(X_test)\n",
        "\n",
        "model = lm.fit(X_train2, y_train)\n",
        "print(mean_squared_error(y_test, model.predict(X_test2)))\n",
        "\n",
        "# Cubic\n",
        "poly = PolynomialFeatures(degree=3)\n",
        "X_train3 = poly.fit_transform(X_train)\n",
        "X_test3 = poly.fit_transform(X_test)\n",
        "\n",
        "model = lm.fit(X_train3, y_train)\n",
        "print(mean_squared_error(y_test, model.predict(X_test3)))"
      ]
    },
    {
      "cell_type": "markdown",
      "metadata": {
        "id": "zJ4gSeMnkRHW"
      },
      "source": [
        "These error rates are 20.25 and 20.33, respectively. If we choose a different\n",
        "training set instead, then we will obtain somewhat different errors on the\n",
        "validation set. We can test this out by setting a different random seed:\n",
        "\n",
        "这些错误率分别为 20.25 和 20.33。如果我们选择不同的训练集，那么我们将在验证集上获得一些不同的错误。我们可以通过设置不同的随机种子来测试这一点"
      ]
    },
    {
      "cell_type": "code",
      "execution_count": null,
      "metadata": {
        "colab": {
          "base_uri": "https://localhost:8080/"
        },
        "id": "y7tHU5zikRHW",
        "outputId": "4d9f4223-e73f-4e34-86af-f88bd2e7d398"
      },
      "outputs": [
        {
          "output_type": "stream",
          "name": "stdout",
          "text": [
            "25.10853905288967\n",
            "19.722533470492422\n",
            "19.92136786007267\n"
          ]
        }
      ],
      "source": [
        "##Choose a different training set\n",
        "#这段代码与前面的代码类似，但是使用了不同的随机种子生成了另一个训练集，并对其进行了相同的操作\n",
        "\n",
        "train_df = df1.sample(196, random_state = 2)\n",
        "test_df = df1[~df1.isin(train_df)].dropna(how = 'all')\n",
        "\n",
        "X_train = train_df['horsepower'].values.reshape(-1,1)\n",
        "y_train = train_df['mpg']\n",
        "X_test = test_df['horsepower'].values.reshape(-1,1)\n",
        "y_test = test_df['mpg']\n",
        "\n",
        "# Linear 线性\n",
        "model = lm.fit(X_train, y_train)\n",
        "print(mean_squared_error(y_test, model.predict(X_test)))\n",
        "\n",
        "# Quadratic 二次函数\n",
        "poly = PolynomialFeatures(degree=2)\n",
        "X_train2 = poly.fit_transform(X_train)\n",
        "X_test2 = poly.fit_transform(X_test)\n",
        "\n",
        "model = lm.fit(X_train2, y_train)\n",
        "print(mean_squared_error(y_test, model.predict(X_test2)))\n",
        "\n",
        "# Cubic 立方体\n",
        "poly = PolynomialFeatures(degree=3)\n",
        "X_train3 = poly.fit_transform(X_train)\n",
        "X_test3 = poly.fit_transform(X_test)\n",
        "\n",
        "model = lm.fit(X_train3, y_train)\n",
        "print(mean_squared_error(y_test, model.predict(X_test3)))"
      ]
    },
    {
      "cell_type": "markdown",
      "metadata": {
        "id": "cGhupbKBkRHW"
      },
      "source": [
        "These results are consistent with our previous findings: a model that\n",
        "predicts ${\\tt mpg}$ using a quadratic function of ${\\tt horsepower}$ performs better than\n",
        "a model that involves only a linear function of ${\\tt horsepower}$, and there is\n",
        "little evidence in favor of a model that uses a cubic function of ${\\tt horsepower}$.\n",
        "\n",
        "这些结果与我们之前的发现一致：使用 ${\\tt horsepower}$ 的二次函数预测 ${\\tt mpg}$ 的模型比仅涉及 ${\\tt horsepower}$ 的线性函数的模型表现更好，并且几乎没有证据支持使用 ${\\tt horsepower}$ 的三次函数的模型。"
      ]
    },
    {
      "cell_type": "markdown",
      "metadata": {
        "id": "OQTzZ455kRHW"
      },
      "source": [
        "### Leave One Out Cross Validation 留一交叉验证\n",
        "+ LOOCV has only one observation in the test set and uses all other n-1 observations to build a model.\n",
        "+ n different models are built leaving out each observation once and error is averaged over these n trials.\n",
        "\n",
        "+ LOOCV 测试集中只有一个观测值，并使用所有其他 n-1 个观测值来构建模型。\n",
        "\n",
        "+ 建立了 n 个不同的模型，将每个观察值忽略一次，并对这 n 个试验的误差进行平均。\n",
        "\n",
        "$$\\textrm{CV}_{(n)} = \\frac{1}{n}\\sum_{i=1}^n{\\textrm{MSE}_i}$$\n",
        "+ LOOCV is better than validation set approach. It has far less bias and tends to not overestimate the test error rate.\n",
        "+ Model is built on nearly all the data and there is no randomness in the splits since each observation will be left out once.\n",
        "+ It is computationally expensive especially with large n and a complex model.\n",
        "\n",
        "+ LOOCV 比验证集方法更好。它的偏差要小得多，并且往往不会高估测试错误率。\n",
        "\n",
        "+ 模型几乎是基于所有数据构建的，并且分割不存在随机性，因为每个观察都会被忽略一次。\n",
        "\n",
        "+ 它的计算成本很高，尤其是对于较大的 n 和复杂的模型。\n"
      ]
    },
    {
      "cell_type": "code",
      "execution_count": null,
      "metadata": {
        "scrolled": true,
        "id": "CtitSNSCkRHX",
        "outputId": "96b4512a-8761-4296-c728-3a943d1c0954"
      },
      "outputs": [
        {
          "data": {
            "image/png": "[encoded data removed]",
            "text/plain": [
              "<IPython.core.display.Image object>"
            ]
          },
          "execution_count": 44,
          "metadata": {
            "image/png": {
              "width": 500
            }
          },
          "output_type": "execute_result"
        }
      ],
      "source": [
        "Image('images/pw42.png', width =500)"
      ]
    },
    {
      "cell_type": "markdown",
      "metadata": {
        "id": "1PLGSw0ukRHX"
      },
      "source": [
        "#### Example"
      ]
    },
    {
      "cell_type": "code",
      "execution_count": null,
      "metadata": {
        "scrolled": true,
        "colab": {
          "base_uri": "https://localhost:8080/"
        },
        "id": "LWIKjw8EkRHX",
        "outputId": "59483ab8-067c-4375-a64d-f907d1fe694c"
      },
      "outputs": [
        {
          "output_type": "stream",
          "name": "stdout",
          "text": [
            "Folds: 392, MSE: 24.231513517929226, STD: 36.79731503640535\n"
          ]
        }
      ],
      "source": [
        "model = lm.fit(X_train, y_train)\n",
        "\n",
        "from sklearn.model_selection import cross_val_score, LeaveOneOut\n",
        "loo = LeaveOneOut()\n",
        "X = df1['horsepower'].values.reshape(-1,1)\n",
        "y = df1['mpg'].values.reshape(-1,1)\n",
        "loo.get_n_splits(X)\n",
        "\n",
        "from sklearn.model_selection import KFold\n",
        "\n",
        "crossvalidation = KFold(n_splits=392, random_state=None, shuffle=False)\n",
        "\n",
        "scores = cross_val_score(model, X, y, scoring=\"neg_mean_squared_error\", cv=crossvalidation,\n",
        " n_jobs=1)\n",
        "\n",
        "print(\"Folds: \" + str(len(scores)) + \", MSE: \" + str(np.mean(np.abs(scores))) + \", STD: \" + str(np.std(scores)))\n"
      ]
    },
    {
      "cell_type": "markdown",
      "metadata": {
        "id": "510DcWpRkRHX"
      },
      "source": [
        "We can repeat this procedure for increasingly complex polynomial fits.\n",
        "\n",
        "To automate the process, we use the for() function to initiate a for loop which iteratively fits polynomial regressions for polynomials of order i = 1 to i = 5 and computes the associated cross-validation error.\n",
        "\n",
        "我们可以对日益复杂的多项式拟合重复此过程。\n",
        "\n",
        "为了使该过程自动化，我们使用 for() 函数启动一个 for 循环，该循环迭代地拟合阶数 i = 1 到 i = 5 的多项式的多项式回归，并计算相关的交叉验证误差。"
      ]
    },
    {
      "cell_type": "code",
      "execution_count": null,
      "metadata": {
        "colab": {
          "base_uri": "https://localhost:8080/"
        },
        "id": "bnD9UyHwkRHX",
        "outputId": "be25b5f0-d3a1-4f1c-810a-aaa99ddb6a87"
      },
      "outputs": [
        {
          "output_type": "stream",
          "name": "stdout",
          "text": [
            "Degree-1 polynomial MSE: 24.231513517929226, STD: 36.797315036405344\n",
            "Degree-2 polynomial MSE: 19.248213124489737, STD: 34.99844615178235\n",
            "Degree-3 polynomial MSE: 19.334984064092605, STD: 35.76513567783445\n",
            "Degree-4 polynomial MSE: 19.424430307079565, STD: 35.683352752283625\n",
            "Degree-5 polynomial MSE: 19.033202845369832, STD: 35.31730256892403\n"
          ]
        }
      ],
      "source": [
        "#这段代码使用了循环来训练不同阶数的多项式回归模型，并使用交叉验证计算了每个模型的均方误差（MSE）以及标准差\n",
        "#循环遍历阶数从 1 到 5，对于每个阶数，使用 PolynomialFeatures 类来生成相应阶数的多项式特征，并将特征矩阵 X_current 赋值为这些多项式特征\n",
        "#使用 LinearRegression 类来训练线性回归模型 model，并在训练集上进行交叉验证计算均方误差，打印输出每个阶数的多项式回归模型的均方误差以及标准差\n",
        "for i in range(1,6):\n",
        "    poly = PolynomialFeatures(degree=i)\n",
        "    X_current = poly.fit_transform(X)\n",
        "    model = lm.fit(X_current, y)\n",
        "    scores = cross_val_score(model, X_current, y, scoring=\"neg_mean_squared_error\", cv=crossvalidation,\n",
        " n_jobs=1)\n",
        "\n",
        "    print(\"Degree-\"+str(i)+\" polynomial MSE: \" + str(np.mean(np.abs(scores))) + \", STD: \" + str(np.std(scores)))\n"
      ]
    },
    {
      "cell_type": "markdown",
      "metadata": {
        "id": "LgMy11sqkRHX"
      },
      "source": [
        "\n",
        "### k-fold cross validation k折交叉验证\n",
        "+ Similar to LOOCV but this time you leave some number greater than 1 out.\n",
        "+ Here, $k$ is the number of partitions of your sample, so if you have $n=1000$ observations and k = 10, the each fold will be 100.\n",
        "+ 900 observations would be the training set and 100 observations would act as your test set.\n",
        "+ Get an MSE for each fold of these 100 observations and take the average.\n",
        "$$\\textrm{CV}_{(k)} = \\frac{1}{k}\\sum_{i=1}^k{\\textrm{MSE}_i}$$\n",
        "+ LOOCV is a special case of k-fold CV whenever $k=n$.\n",
        "+ Computationally inexpensive compare to LOOCV.\n",
        "+ Some variability compare to LOOCV.\n",
        "\n",
        "+ 与 LOOCV 类似，但这次你省略了一些大于 1 的数字。\n",
        "+ 此处，$k$ 是样本的分区数，因此如果你有 $n=1000$ 个观测值，并且 k = 10，则每个折叠将为 100。\n",
        "+ 900 个观测值将是训练集，100 个观测值将作为你的测试集。\n",
        "+ 为这 100 个观测值的每个折叠获取 MSE 并取平均值。\n",
        "$$\\textrm{CV}_{(k)} = \\frac{1}{k}\\sum_{i=1}^k{\\textrm{MSE}_i}$$\n",
        "+ 当 $k=n$ 时，LOOCV 是 k 折叠 CV 的一个特例。\n",
        "+ 与 LOOCV 相比，计算成本低廉。\n",
        "+ 与 LOOCV 相比，存在一些可变性。\n",
        "\n"
      ]
    },
    {
      "cell_type": "code",
      "execution_count": null,
      "metadata": {
        "scrolled": false,
        "id": "AkTz4gUIkRHX",
        "outputId": "02722c97-4366-4c7e-8dbf-b4d3886a3828"
      },
      "outputs": [
        {
          "data": {
            "image/png": "[encoded data removed]",
            "text/plain": [
              "<IPython.core.display.Image object>"
            ]
          },
          "execution_count": 45,
          "metadata": {
            "image/png": {
              "width": 500
            }
          },
          "output_type": "execute_result"
        }
      ],
      "source": [
        "Image('images/pw43.png', width =500)"
      ]
    },
    {
      "cell_type": "markdown",
      "metadata": {
        "id": "m4YPYFVLkRHX"
      },
      "source": [
        "#### Example"
      ]
    },
    {
      "cell_type": "code",
      "execution_count": null,
      "metadata": {
        "scrolled": true,
        "colab": {
          "base_uri": "https://localhost:8080/"
        },
        "id": "aPFixE3ekRHX",
        "outputId": "593515bc-008d-4d09-a5b3-657852abdf63"
      },
      "outputs": [
        {
          "output_type": "stream",
          "name": "stdout",
          "text": [
            "Degree-1 polynomial MSE: 24.097675731883065, STD: 4.818054666704996\n",
            "Degree-2 polynomial MSE: 19.178889864889662, STD: 5.12639344651731\n",
            "Degree-3 polynomial MSE: 19.21385952372538, STD: 5.143687485486234\n",
            "Degree-4 polynomial MSE: 19.212807019336708, STD: 4.926661027590547\n",
            "Degree-5 polynomial MSE: 18.75798060871547, STD: 4.703233523050325\n",
            "Degree-6 polynomial MSE: 18.639821824201313, STD: 4.508891213845055\n",
            "Degree-7 polynomial MSE: 18.82077911828793, STD: 4.565331800165851\n",
            "Degree-8 polynomial MSE: 18.975737051377088, STD: 4.7117232747972935\n",
            "Degree-9 polynomial MSE: 18.937506971678495, STD: 4.8696787024468895\n",
            "Degree-10 polynomial MSE: 18.79087319112218, STD: 4.841422782703906\n"
          ]
        }
      ],
      "source": [
        "#这段代码进行了与前一个类似的操作，但使用了更多的交叉验证折数（n_splits=10），这意味着数据集会被分成更多的子集用于交叉验证。每个子集都会轮流作为测试集，从而更好地评估模型的性能\n",
        "#导入了 KFold 类用于交叉验证\n",
        "crossvalidation = KFold(n_splits=10, random_state=1, shuffle=True)#循环遍历阶数从 1 到 10\n",
        "#对于每个阶数，使用 PolynomialFeatures 类来生成相应阶数的多项式特征，并将特征矩阵 X_current 赋值为这些多项式特征\n",
        "#使用交叉验证（10折）计算模型在训练集上的均方误差，其中 scoring=\"neg_mean_squared_error\" 表示使用负均方误差作为评价指标\n",
        "#打印输出每个阶数的多项式回归模型的均方误差以及标准差\n",
        "for i in range(1,11):\n",
        "    poly = PolynomialFeatures(degree=i)\n",
        "    X_current = poly.fit_transform(X)\n",
        "    model = lm.fit(X_current, y)\n",
        "    scores = cross_val_score(model, X_current, y, scoring=\"neg_mean_squared_error\", cv=crossvalidation,\n",
        " n_jobs=1)\n",
        "\n",
        "    print(\"Degree-\"+str(i)+\" polynomial MSE: \" + str(np.mean(np.abs(scores))) + \", STD: \" + str(np.std(scores)))\n",
        "#结果显示了不同阶数的多项式回归模型的均方误差和标准差\n",
        "#阶数为1时，模型的均方误差为24.10，随着阶数的增加，模型的均方误差逐渐减小，直到阶数为6时达到最小值（18.64）\n",
        "#随后，随着阶数的进一步增加，模型的均方误差开始略微上升，但整体变化不大\n",
        "#在这个案例中，阶数为6的多项式回归模型具有最小的均方误差，可能是最合适的模型选择"
      ]
    },
    {
      "cell_type": "markdown",
      "metadata": {
        "id": "O2mQGwXfkRHX"
      },
      "source": [
        "### bias-variance tradeoff between LOOCV and k-folds\n",
        "### LOOCV 和 k 倍之间的偏差-方差权衡\n",
        "+ Since LOOCV trains on nearly all the data, the test error rate will generally be lower than k-fold and therefore less biased.\n",
        "+ LOOCV will have higher variance since all $n$ models will be very highly correlated to one another.\n",
        "+ Since the models won't differ much, the test error rate (which what CV is measuring) will vary more than k-fold which has fewer models that are less correlated with one another.\n",
        "+ A value of $k$ between 5 and 10 is a good rule of thumb that balances the trade-off between bias and variance\n",
        "\n",
        "+ 由于 LOOCV 几乎在所有数据上进行训练，因此测试错误率通常会低于 k 倍，因此偏差较小。\n",
        "\n",
        "+ LOOCV 将具有更高的方差，因为所有 n 个模型都将彼此高度相关。\n",
        "\n",
        "+ 由于模型不会有太大差异，因此测试错误率（CV 所测量的）将变化超过 k 倍，其中模型较少，彼此之间的相关性较低。\n",
        "\n",
        "+ k 值在 5 到 10 之间是一个很好的经验法则，可以平衡偏差和方差之间的权衡"
      ]
    },
    {
      "cell_type": "markdown",
      "metadata": {
        "id": "_tMLvy2UkRHY"
      },
      "source": [
        "#### Example: Default Data"
      ]
    },
    {
      "cell_type": "code",
      "execution_count": null,
      "metadata": {
        "scrolled": true,
        "colab": {
          "base_uri": "https://localhost:8080/",
          "height": 300
        },
        "id": "pLH34qc7kRHY",
        "outputId": "d4b39760-c8ca-4abb-ffdc-8baa3a3e6fa7"
      },
      "outputs": [
        {
          "output_type": "execute_result",
          "data": {
            "text/plain": [
              "            balance        income\n",
              "count  10000.000000  10000.000000\n",
              "mean     835.374886  33516.981876\n",
              "std      483.714985  13336.639563\n",
              "min        0.000000    771.967729\n",
              "25%      481.731105  21340.462903\n",
              "50%      823.636973  34552.644802\n",
              "75%     1166.308386  43807.729272\n",
              "max     2654.322576  73554.233495"
            ],
            "text/html": [
              "\n",
              "  <div id=\"df-eaa56e31-cb79-4fbc-a4f2-2307b3607737\" class=\"colab-df-container\">\n",
              "    <div>\n",
              "<style scoped>\n",
              "    .dataframe tbody tr th:only-of-type {\n",
              "        vertical-align: middle;\n",
              "    }\n",
              "\n",
              "    .dataframe tbody tr th {\n",
              "        vertical-align: top;\n",
              "    }\n",
              "\n",
              "    .dataframe thead th {\n",
              "        text-align: right;\n",
              "    }\n",
              "</style>\n",
              "<table border=\"1\" class=\"dataframe\">\n",
              "  <thead>\n",
              "    <tr style=\"text-align: right;\">\n",
              "      <th></th>\n",
              "      <th>balance</th>\n",
              "      <th>income</th>\n",
              "    </tr>\n",
              "  </thead>\n",
              "  <tbody>\n",
              "    <tr>\n",
              "      <th>count</th>\n",
              "      <td>10000.000000</td>\n",
              "      <td>10000.000000</td>\n",
              "    </tr>\n",
              "    <tr>\n",
              "      <th>mean</th>\n",
              "      <td>835.374886</td>\n",
              "      <td>33516.981876</td>\n",
              "    </tr>\n",
              "    <tr>\n",
              "      <th>std</th>\n",
              "      <td>483.714985</td>\n",
              "      <td>13336.639563</td>\n",
              "    </tr>\n",
              "    <tr>\n",
              "      <th>min</th>\n",
              "      <td>0.000000</td>\n",
              "      <td>771.967729</td>\n",
              "    </tr>\n",
              "    <tr>\n",
              "      <th>25%</th>\n",
              "      <td>481.731105</td>\n",
              "      <td>21340.462903</td>\n",
              "    </tr>\n",
              "    <tr>\n",
              "      <th>50%</th>\n",
              "      <td>823.636973</td>\n",
              "      <td>34552.644802</td>\n",
              "    </tr>\n",
              "    <tr>\n",
              "      <th>75%</th>\n",
              "      <td>1166.308386</td>\n",
              "      <td>43807.729272</td>\n",
              "    </tr>\n",
              "    <tr>\n",
              "      <th>max</th>\n",
              "      <td>2654.322576</td>\n",
              "      <td>73554.233495</td>\n",
              "    </tr>\n",
              "  </tbody>\n",
              "</table>\n",
              "</div>\n",
              "    <div class=\"colab-df-buttons\">\n",
              "\n",
              "  <div class=\"colab-df-container\">\n",
              "    <button class=\"colab-df-convert\" onclick=\"convertToInteractive('df-eaa56e31-cb79-4fbc-a4f2-2307b3607737')\"\n",
              "            title=\"Convert this dataframe to an interactive table.\"\n",
              "            style=\"display:none;\">\n",
              "\n",
              "  <svg xmlns=\"http://www.w3.org/2000/svg\" height=\"24px\" viewBox=\"0 -960 960 960\">\n",
              "    <path d=\"M120-120v-720h720v720H120Zm60-500h600v-160H180v160Zm220 220h160v-160H400v160Zm0 220h160v-160H400v160ZM180-400h160v-160H180v160Zm440 0h160v-160H620v160ZM180-180h160v-160H180v160Zm440 0h160v-160H620v160Z\"/>\n",
              "  </svg>\n",
              "    </button>\n",
              "\n",
              "  <style>\n",
              "    .colab-df-container {\n",
              "      display:flex;\n",
              "      gap: 12px;\n",
              "    }\n",
              "\n",
              "    .colab-df-convert {\n",
              "      background-color: #E8F0FE;\n",
              "      border: none;\n",
              "      border-radius: 50%;\n",
              "      cursor: pointer;\n",
              "      display: none;\n",
              "      fill: #1967D2;\n",
              "      height: 32px;\n",
              "      padding: 0 0 0 0;\n",
              "      width: 32px;\n",
              "    }\n",
              "\n",
              "    .colab-df-convert:hover {\n",
              "      background-color: #E2EBFA;\n",
              "      box-shadow: 0px 1px 2px rgba(60, 64, 67, 0.3), 0px 1px 3px 1px rgba(60, 64, 67, 0.15);\n",
              "      fill: #174EA6;\n",
              "    }\n",
              "\n",
              "    .colab-df-buttons div {\n",
              "      margin-bottom: 4px;\n",
              "    }\n",
              "\n",
              "    [theme=dark] .colab-df-convert {\n",
              "      background-color: #3B4455;\n",
              "      fill: #D2E3FC;\n",
              "    }\n",
              "\n",
              "    [theme=dark] .colab-df-convert:hover {\n",
              "      background-color: #434B5C;\n",
              "      box-shadow: 0px 1px 3px 1px rgba(0, 0, 0, 0.15);\n",
              "      filter: drop-shadow(0px 1px 2px rgba(0, 0, 0, 0.3));\n",
              "      fill: #FFFFFF;\n",
              "    }\n",
              "  </style>\n",
              "\n",
              "    <script>\n",
              "      const buttonEl =\n",
              "        document.querySelector('#df-eaa56e31-cb79-4fbc-a4f2-2307b3607737 button.colab-df-convert');\n",
              "      buttonEl.style.display =\n",
              "        google.colab.kernel.accessAllowed ? 'block' : 'none';\n",
              "\n",
              "      async function convertToInteractive(key) {\n",
              "        const element = document.querySelector('#df-eaa56e31-cb79-4fbc-a4f2-2307b3607737');\n",
              "        const dataTable =\n",
              "          await google.colab.kernel.invokeFunction('convertToInteractive',\n",
              "                                                    [key], {});\n",
              "        if (!dataTable) return;\n",
              "\n",
              "        const docLinkHtml = 'Like what you see? Visit the ' +\n",
              "          '<a target=\"_blank\" href=https://colab.research.google.com/notebooks/data_table.ipynb>data table notebook</a>'\n",
              "          + ' to learn more about interactive tables.';\n",
              "        element.innerHTML = '';\n",
              "        dataTable['output_type'] = 'display_data';\n",
              "        await google.colab.output.renderOutput(dataTable, element);\n",
              "        const docLink = document.createElement('div');\n",
              "        docLink.innerHTML = docLinkHtml;\n",
              "        element.appendChild(docLink);\n",
              "      }\n",
              "    </script>\n",
              "  </div>\n",
              "\n",
              "\n",
              "<div id=\"df-fb05ac4c-7e4c-480f-adc9-4cbc2eea9f64\">\n",
              "  <button class=\"colab-df-quickchart\" onclick=\"quickchart('df-fb05ac4c-7e4c-480f-adc9-4cbc2eea9f64')\"\n",
              "            title=\"Suggest charts\"\n",
              "            style=\"display:none;\">\n",
              "\n",
              "<svg xmlns=\"http://www.w3.org/2000/svg\" height=\"24px\"viewBox=\"0 0 24 24\"\n",
              "     width=\"24px\">\n",
              "    <g>\n",
              "        <path d=\"M19 3H5c-1.1 0-2 .9-2 2v14c0 1.1.9 2 2 2h14c1.1 0 2-.9 2-2V5c0-1.1-.9-2-2-2zM9 17H7v-7h2v7zm4 0h-2V7h2v10zm4 0h-2v-4h2v4z\"/>\n",
              "    </g>\n",
              "</svg>\n",
              "  </button>\n",
              "\n",
              "<style>\n",
              "  .colab-df-quickchart {\n",
              "      --bg-color: #E8F0FE;\n",
              "      --fill-color: #1967D2;\n",
              "      --hover-bg-color: #E2EBFA;\n",
              "      --hover-fill-color: #174EA6;\n",
              "      --disabled-fill-color: #AAA;\n",
              "      --disabled-bg-color: #DDD;\n",
              "  }\n",
              "\n",
              "  [theme=dark] .colab-df-quickchart {\n",
              "      --bg-color: #3B4455;\n",
              "      --fill-color: #D2E3FC;\n",
              "      --hover-bg-color: #434B5C;\n",
              "      --hover-fill-color: #FFFFFF;\n",
              "      --disabled-bg-color: #3B4455;\n",
              "      --disabled-fill-color: #666;\n",
              "  }\n",
              "\n",
              "  .colab-df-quickchart {\n",
              "    background-color: var(--bg-color);\n",
              "    border: none;\n",
              "    border-radius: 50%;\n",
              "    cursor: pointer;\n",
              "    display: none;\n",
              "    fill: var(--fill-color);\n",
              "    height: 32px;\n",
              "    padding: 0;\n",
              "    width: 32px;\n",
              "  }\n",
              "\n",
              "  .colab-df-quickchart:hover {\n",
              "    background-color: var(--hover-bg-color);\n",
              "    box-shadow: 0 1px 2px rgba(60, 64, 67, 0.3), 0 1px 3px 1px rgba(60, 64, 67, 0.15);\n",
              "    fill: var(--button-hover-fill-color);\n",
              "  }\n",
              "\n",
              "  .colab-df-quickchart-complete:disabled,\n",
              "  .colab-df-quickchart-complete:disabled:hover {\n",
              "    background-color: var(--disabled-bg-color);\n",
              "    fill: var(--disabled-fill-color);\n",
              "    box-shadow: none;\n",
              "  }\n",
              "\n",
              "  .colab-df-spinner {\n",
              "    border: 2px solid var(--fill-color);\n",
              "    border-color: transparent;\n",
              "    border-bottom-color: var(--fill-color);\n",
              "    animation:\n",
              "      spin 1s steps(1) infinite;\n",
              "  }\n",
              "\n",
              "  @keyframes spin {\n",
              "    0% {\n",
              "      border-color: transparent;\n",
              "      border-bottom-color: var(--fill-color);\n",
              "      border-left-color: var(--fill-color);\n",
              "    }\n",
              "    20% {\n",
              "      border-color: transparent;\n",
              "      border-left-color: var(--fill-color);\n",
              "      border-top-color: var(--fill-color);\n",
              "    }\n",
              "    30% {\n",
              "      border-color: transparent;\n",
              "      border-left-color: var(--fill-color);\n",
              "      border-top-color: var(--fill-color);\n",
              "      border-right-color: var(--fill-color);\n",
              "    }\n",
              "    40% {\n",
              "      border-color: transparent;\n",
              "      border-right-color: var(--fill-color);\n",
              "      border-top-color: var(--fill-color);\n",
              "    }\n",
              "    60% {\n",
              "      border-color: transparent;\n",
              "      border-right-color: var(--fill-color);\n",
              "    }\n",
              "    80% {\n",
              "      border-color: transparent;\n",
              "      border-right-color: var(--fill-color);\n",
              "      border-bottom-color: var(--fill-color);\n",
              "    }\n",
              "    90% {\n",
              "      border-color: transparent;\n",
              "      border-bottom-color: var(--fill-color);\n",
              "    }\n",
              "  }\n",
              "</style>\n",
              "\n",
              "  <script>\n",
              "    async function quickchart(key) {\n",
              "      const quickchartButtonEl =\n",
              "        document.querySelector('#' + key + ' button');\n",
              "      quickchartButtonEl.disabled = true;  // To prevent multiple clicks.\n",
              "      quickchartButtonEl.classList.add('colab-df-spinner');\n",
              "      try {\n",
              "        const charts = await google.colab.kernel.invokeFunction(\n",
              "            'suggestCharts', [key], {});\n",
              "      } catch (error) {\n",
              "        console.error('Error during call to suggestCharts:', error);\n",
              "      }\n",
              "      quickchartButtonEl.classList.remove('colab-df-spinner');\n",
              "      quickchartButtonEl.classList.add('colab-df-quickchart-complete');\n",
              "    }\n",
              "    (() => {\n",
              "      let quickchartButtonEl =\n",
              "        document.querySelector('#df-fb05ac4c-7e4c-480f-adc9-4cbc2eea9f64 button');\n",
              "      quickchartButtonEl.style.display =\n",
              "        google.colab.kernel.accessAllowed ? 'block' : 'none';\n",
              "    })();\n",
              "  </script>\n",
              "</div>\n",
              "\n",
              "    </div>\n",
              "  </div>\n"
            ],
            "application/vnd.google.colaboratory.intrinsic+json": {
              "type": "dataframe",
              "summary": "{\n  \"name\": \"df2\",\n  \"rows\": 8,\n  \"fields\": [\n    {\n      \"column\": \"balance\",\n      \"properties\": {\n        \"dtype\": \"number\",\n        \"std\": 3304.6041266183447,\n        \"min\": 0.0,\n        \"max\": 10000.0,\n        \"num_unique_values\": 8,\n        \"samples\": [\n          835.3748856125571,\n          823.6369726129035,\n          10000.0\n        ],\n        \"semantic_type\": \"\",\n        \"description\": \"\"\n      }\n    },\n    {\n      \"column\": \"income\",\n      \"properties\": {\n        \"dtype\": \"number\",\n        \"std\": 23044.23732535217,\n        \"min\": 771.967729386357,\n        \"max\": 73554.2334951972,\n        \"num_unique_values\": 8,\n        \"samples\": [\n          33516.981875960504,\n          34552.644802009854,\n          10000.0\n        ],\n        \"semantic_type\": \"\",\n        \"description\": \"\"\n      }\n    }\n  ]\n}"
            }
          },
          "metadata": {},
          "execution_count": 16
        }
      ],
      "source": [
        "df2 = pd.read_csv('/content/default.csv', na_values='?').dropna()\n",
        "df2.describe()"
      ]
    },
    {
      "cell_type": "code",
      "execution_count": null,
      "metadata": {
        "colab": {
          "base_uri": "https://localhost:8080/",
          "height": 206
        },
        "id": "gH1A23fbkRHY",
        "outputId": "30f317ba-e2b2-4e73-a5df-9c8a0a4b3fcd"
      },
      "outputs": [
        {
          "output_type": "execute_result",
          "data": {
            "text/plain": [
              "  default student      balance        income\n",
              "0      No      No   729.526495  44361.625074\n",
              "1      No     Yes   817.180407  12106.134700\n",
              "2      No      No  1073.549164  31767.138947\n",
              "3      No      No   529.250605  35704.493935\n",
              "4      No      No   785.655883  38463.495879"
            ],
            "text/html": [
              "\n",
              "  <div id=\"df-6085d945-de3c-49d8-91d1-b5648967bf5a\" class=\"colab-df-container\">\n",
              "    <div>\n",
              "<style scoped>\n",
              "    .dataframe tbody tr th:only-of-type {\n",
              "        vertical-align: middle;\n",
              "    }\n",
              "\n",
              "    .dataframe tbody tr th {\n",
              "        vertical-align: top;\n",
              "    }\n",
              "\n",
              "    .dataframe thead th {\n",
              "        text-align: right;\n",
              "    }\n",
              "</style>\n",
              "<table border=\"1\" class=\"dataframe\">\n",
              "  <thead>\n",
              "    <tr style=\"text-align: right;\">\n",
              "      <th></th>\n",
              "      <th>default</th>\n",
              "      <th>student</th>\n",
              "      <th>balance</th>\n",
              "      <th>income</th>\n",
              "    </tr>\n",
              "  </thead>\n",
              "  <tbody>\n",
              "    <tr>\n",
              "      <th>0</th>\n",
              "      <td>No</td>\n",
              "      <td>No</td>\n",
              "      <td>729.526495</td>\n",
              "      <td>44361.625074</td>\n",
              "    </tr>\n",
              "    <tr>\n",
              "      <th>1</th>\n",
              "      <td>No</td>\n",
              "      <td>Yes</td>\n",
              "      <td>817.180407</td>\n",
              "      <td>12106.134700</td>\n",
              "    </tr>\n",
              "    <tr>\n",
              "      <th>2</th>\n",
              "      <td>No</td>\n",
              "      <td>No</td>\n",
              "      <td>1073.549164</td>\n",
              "      <td>31767.138947</td>\n",
              "    </tr>\n",
              "    <tr>\n",
              "      <th>3</th>\n",
              "      <td>No</td>\n",
              "      <td>No</td>\n",
              "      <td>529.250605</td>\n",
              "      <td>35704.493935</td>\n",
              "    </tr>\n",
              "    <tr>\n",
              "      <th>4</th>\n",
              "      <td>No</td>\n",
              "      <td>No</td>\n",
              "      <td>785.655883</td>\n",
              "      <td>38463.495879</td>\n",
              "    </tr>\n",
              "  </tbody>\n",
              "</table>\n",
              "</div>\n",
              "    <div class=\"colab-df-buttons\">\n",
              "\n",
              "  <div class=\"colab-df-container\">\n",
              "    <button class=\"colab-df-convert\" onclick=\"convertToInteractive('df-6085d945-de3c-49d8-91d1-b5648967bf5a')\"\n",
              "            title=\"Convert this dataframe to an interactive table.\"\n",
              "            style=\"display:none;\">\n",
              "\n",
              "  <svg xmlns=\"http://www.w3.org/2000/svg\" height=\"24px\" viewBox=\"0 -960 960 960\">\n",
              "    <path d=\"M120-120v-720h720v720H120Zm60-500h600v-160H180v160Zm220 220h160v-160H400v160Zm0 220h160v-160H400v160ZM180-400h160v-160H180v160Zm440 0h160v-160H620v160ZM180-180h160v-160H180v160Zm440 0h160v-160H620v160Z\"/>\n",
              "  </svg>\n",
              "    </button>\n",
              "\n",
              "  <style>\n",
              "    .colab-df-container {\n",
              "      display:flex;\n",
              "      gap: 12px;\n",
              "    }\n",
              "\n",
              "    .colab-df-convert {\n",
              "      background-color: #E8F0FE;\n",
              "      border: none;\n",
              "      border-radius: 50%;\n",
              "      cursor: pointer;\n",
              "      display: none;\n",
              "      fill: #1967D2;\n",
              "      height: 32px;\n",
              "      padding: 0 0 0 0;\n",
              "      width: 32px;\n",
              "    }\n",
              "\n",
              "    .colab-df-convert:hover {\n",
              "      background-color: #E2EBFA;\n",
              "      box-shadow: 0px 1px 2px rgba(60, 64, 67, 0.3), 0px 1px 3px 1px rgba(60, 64, 67, 0.15);\n",
              "      fill: #174EA6;\n",
              "    }\n",
              "\n",
              "    .colab-df-buttons div {\n",
              "      margin-bottom: 4px;\n",
              "    }\n",
              "\n",
              "    [theme=dark] .colab-df-convert {\n",
              "      background-color: #3B4455;\n",
              "      fill: #D2E3FC;\n",
              "    }\n",
              "\n",
              "    [theme=dark] .colab-df-convert:hover {\n",
              "      background-color: #434B5C;\n",
              "      box-shadow: 0px 1px 3px 1px rgba(0, 0, 0, 0.15);\n",
              "      filter: drop-shadow(0px 1px 2px rgba(0, 0, 0, 0.3));\n",
              "      fill: #FFFFFF;\n",
              "    }\n",
              "  </style>\n",
              "\n",
              "    <script>\n",
              "      const buttonEl =\n",
              "        document.querySelector('#df-6085d945-de3c-49d8-91d1-b5648967bf5a button.colab-df-convert');\n",
              "      buttonEl.style.display =\n",
              "        google.colab.kernel.accessAllowed ? 'block' : 'none';\n",
              "\n",
              "      async function convertToInteractive(key) {\n",
              "        const element = document.querySelector('#df-6085d945-de3c-49d8-91d1-b5648967bf5a');\n",
              "        const dataTable =\n",
              "          await google.colab.kernel.invokeFunction('convertToInteractive',\n",
              "                                                    [key], {});\n",
              "        if (!dataTable) return;\n",
              "\n",
              "        const docLinkHtml = 'Like what you see? Visit the ' +\n",
              "          '<a target=\"_blank\" href=https://colab.research.google.com/notebooks/data_table.ipynb>data table notebook</a>'\n",
              "          + ' to learn more about interactive tables.';\n",
              "        element.innerHTML = '';\n",
              "        dataTable['output_type'] = 'display_data';\n",
              "        await google.colab.output.renderOutput(dataTable, element);\n",
              "        const docLink = document.createElement('div');\n",
              "        docLink.innerHTML = docLinkHtml;\n",
              "        element.appendChild(docLink);\n",
              "      }\n",
              "    </script>\n",
              "  </div>\n",
              "\n",
              "\n",
              "<div id=\"df-ffe21cab-a1fc-4b36-abc3-b2211717b2ee\">\n",
              "  <button class=\"colab-df-quickchart\" onclick=\"quickchart('df-ffe21cab-a1fc-4b36-abc3-b2211717b2ee')\"\n",
              "            title=\"Suggest charts\"\n",
              "            style=\"display:none;\">\n",
              "\n",
              "<svg xmlns=\"http://www.w3.org/2000/svg\" height=\"24px\"viewBox=\"0 0 24 24\"\n",
              "     width=\"24px\">\n",
              "    <g>\n",
              "        <path d=\"M19 3H5c-1.1 0-2 .9-2 2v14c0 1.1.9 2 2 2h14c1.1 0 2-.9 2-2V5c0-1.1-.9-2-2-2zM9 17H7v-7h2v7zm4 0h-2V7h2v10zm4 0h-2v-4h2v4z\"/>\n",
              "    </g>\n",
              "</svg>\n",
              "  </button>\n",
              "\n",
              "<style>\n",
              "  .colab-df-quickchart {\n",
              "      --bg-color: #E8F0FE;\n",
              "      --fill-color: #1967D2;\n",
              "      --hover-bg-color: #E2EBFA;\n",
              "      --hover-fill-color: #174EA6;\n",
              "      --disabled-fill-color: #AAA;\n",
              "      --disabled-bg-color: #DDD;\n",
              "  }\n",
              "\n",
              "  [theme=dark] .colab-df-quickchart {\n",
              "      --bg-color: #3B4455;\n",
              "      --fill-color: #D2E3FC;\n",
              "      --hover-bg-color: #434B5C;\n",
              "      --hover-fill-color: #FFFFFF;\n",
              "      --disabled-bg-color: #3B4455;\n",
              "      --disabled-fill-color: #666;\n",
              "  }\n",
              "\n",
              "  .colab-df-quickchart {\n",
              "    background-color: var(--bg-color);\n",
              "    border: none;\n",
              "    border-radius: 50%;\n",
              "    cursor: pointer;\n",
              "    display: none;\n",
              "    fill: var(--fill-color);\n",
              "    height: 32px;\n",
              "    padding: 0;\n",
              "    width: 32px;\n",
              "  }\n",
              "\n",
              "  .colab-df-quickchart:hover {\n",
              "    background-color: var(--hover-bg-color);\n",
              "    box-shadow: 0 1px 2px rgba(60, 64, 67, 0.3), 0 1px 3px 1px rgba(60, 64, 67, 0.15);\n",
              "    fill: var(--button-hover-fill-color);\n",
              "  }\n",
              "\n",
              "  .colab-df-quickchart-complete:disabled,\n",
              "  .colab-df-quickchart-complete:disabled:hover {\n",
              "    background-color: var(--disabled-bg-color);\n",
              "    fill: var(--disabled-fill-color);\n",
              "    box-shadow: none;\n",
              "  }\n",
              "\n",
              "  .colab-df-spinner {\n",
              "    border: 2px solid var(--fill-color);\n",
              "    border-color: transparent;\n",
              "    border-bottom-color: var(--fill-color);\n",
              "    animation:\n",
              "      spin 1s steps(1) infinite;\n",
              "  }\n",
              "\n",
              "  @keyframes spin {\n",
              "    0% {\n",
              "      border-color: transparent;\n",
              "      border-bottom-color: var(--fill-color);\n",
              "      border-left-color: var(--fill-color);\n",
              "    }\n",
              "    20% {\n",
              "      border-color: transparent;\n",
              "      border-left-color: var(--fill-color);\n",
              "      border-top-color: var(--fill-color);\n",
              "    }\n",
              "    30% {\n",
              "      border-color: transparent;\n",
              "      border-left-color: var(--fill-color);\n",
              "      border-top-color: var(--fill-color);\n",
              "      border-right-color: var(--fill-color);\n",
              "    }\n",
              "    40% {\n",
              "      border-color: transparent;\n",
              "      border-right-color: var(--fill-color);\n",
              "      border-top-color: var(--fill-color);\n",
              "    }\n",
              "    60% {\n",
              "      border-color: transparent;\n",
              "      border-right-color: var(--fill-color);\n",
              "    }\n",
              "    80% {\n",
              "      border-color: transparent;\n",
              "      border-right-color: var(--fill-color);\n",
              "      border-bottom-color: var(--fill-color);\n",
              "    }\n",
              "    90% {\n",
              "      border-color: transparent;\n",
              "      border-bottom-color: var(--fill-color);\n",
              "    }\n",
              "  }\n",
              "</style>\n",
              "\n",
              "  <script>\n",
              "    async function quickchart(key) {\n",
              "      const quickchartButtonEl =\n",
              "        document.querySelector('#' + key + ' button');\n",
              "      quickchartButtonEl.disabled = true;  // To prevent multiple clicks.\n",
              "      quickchartButtonEl.classList.add('colab-df-spinner');\n",
              "      try {\n",
              "        const charts = await google.colab.kernel.invokeFunction(\n",
              "            'suggestCharts', [key], {});\n",
              "      } catch (error) {\n",
              "        console.error('Error during call to suggestCharts:', error);\n",
              "      }\n",
              "      quickchartButtonEl.classList.remove('colab-df-spinner');\n",
              "      quickchartButtonEl.classList.add('colab-df-quickchart-complete');\n",
              "    }\n",
              "    (() => {\n",
              "      let quickchartButtonEl =\n",
              "        document.querySelector('#df-ffe21cab-a1fc-4b36-abc3-b2211717b2ee button');\n",
              "      quickchartButtonEl.style.display =\n",
              "        google.colab.kernel.accessAllowed ? 'block' : 'none';\n",
              "    })();\n",
              "  </script>\n",
              "</div>\n",
              "\n",
              "    </div>\n",
              "  </div>\n"
            ],
            "application/vnd.google.colaboratory.intrinsic+json": {
              "type": "dataframe",
              "variable_name": "df2",
              "summary": "{\n  \"name\": \"df2\",\n  \"rows\": 10000,\n  \"fields\": [\n    {\n      \"column\": \"default\",\n      \"properties\": {\n        \"dtype\": \"category\",\n        \"num_unique_values\": 2,\n        \"samples\": [\n          \"Yes\",\n          \"No\"\n        ],\n        \"semantic_type\": \"\",\n        \"description\": \"\"\n      }\n    },\n    {\n      \"column\": \"student\",\n      \"properties\": {\n        \"dtype\": \"category\",\n        \"num_unique_values\": 2,\n        \"samples\": [\n          \"Yes\",\n          \"No\"\n        ],\n        \"semantic_type\": \"\",\n        \"description\": \"\"\n      }\n    },\n    {\n      \"column\": \"balance\",\n      \"properties\": {\n        \"dtype\": \"number\",\n        \"std\": 483.71498520561704,\n        \"min\": 0.0,\n        \"max\": 2654.32257628018,\n        \"num_unique_values\": 9502,\n        \"samples\": [\n          245.346492518079,\n          186.523520052956\n        ],\n        \"semantic_type\": \"\",\n        \"description\": \"\"\n      }\n    },\n    {\n      \"column\": \"income\",\n      \"properties\": {\n        \"dtype\": \"number\",\n        \"std\": 13336.639562689938,\n        \"min\": 771.967729386357,\n        \"max\": 73554.2334951972,\n        \"num_unique_values\": 10000,\n        \"samples\": [\n          31507.0892769087,\n          42139.0702685072\n        ],\n        \"semantic_type\": \"\",\n        \"description\": \"\"\n      }\n    }\n  ]\n}"
            }
          },
          "metadata": {},
          "execution_count": 17
        }
      ],
      "source": [
        "df2.head()"
      ]
    },
    {
      "cell_type": "markdown",
      "metadata": {
        "id": "uDg-PRI1kRHY"
      },
      "source": [
        "First we'll try just holding out a random 20% of the data:\n",
        "\n",
        "首先，我们将尝试仅保留随机 20% 的数据："
      ]
    },
    {
      "cell_type": "code",
      "execution_count": null,
      "metadata": {
        "colab": {
          "base_uri": "https://localhost:8080/"
        },
        "id": "QD48ueG3kRHY",
        "outputId": "54badc21-82a9-44ca-f517-59fca435e857"
      },
      "outputs": [
        {
          "output_type": "stream",
          "name": "stdout",
          "text": [
            "----------------\n",
            "Random Seed = 1\n",
            "----------------\n",
            "[[1921    6]\n",
            " [  50   23]]\n",
            "              precision    recall  f1-score   support\n",
            "\n",
            "          No      0.975     0.997     0.986      1927\n",
            "         Yes      0.793     0.315     0.451        73\n",
            "\n",
            "    accuracy                          0.972      2000\n",
            "   macro avg      0.884     0.656     0.718      2000\n",
            "weighted avg      0.968     0.972     0.966      2000\n",
            "\n",
            "\n",
            "----------------\n",
            "Random Seed = 2\n",
            "----------------\n",
            "[[1919   13]\n",
            " [  47   21]]\n",
            "              precision    recall  f1-score   support\n",
            "\n",
            "          No      0.976     0.993     0.985      1932\n",
            "         Yes      0.618     0.309     0.412        68\n",
            "\n",
            "    accuracy                          0.970      2000\n",
            "   macro avg      0.797     0.651     0.698      2000\n",
            "weighted avg      0.964     0.970     0.965      2000\n",
            "\n",
            "\n",
            "----------------\n",
            "Random Seed = 3\n",
            "----------------\n",
            "[[1918   14]\n",
            " [  49   19]]\n",
            "              precision    recall  f1-score   support\n",
            "\n",
            "          No      0.975     0.993     0.984      1932\n",
            "         Yes      0.576     0.279     0.376        68\n",
            "\n",
            "    accuracy                          0.969      2000\n",
            "   macro avg      0.775     0.636     0.680      2000\n",
            "weighted avg      0.962     0.969     0.963      2000\n",
            "\n",
            "\n",
            "----------------\n",
            "Random Seed = 4\n",
            "----------------\n",
            "[[1932    4]\n",
            " [  46   18]]\n",
            "              precision    recall  f1-score   support\n",
            "\n",
            "          No      0.977     0.998     0.987      1936\n",
            "         Yes      0.818     0.281     0.419        64\n",
            "\n",
            "    accuracy                          0.975      2000\n",
            "   macro avg      0.897     0.640     0.703      2000\n",
            "weighted avg      0.972     0.975     0.969      2000\n",
            "\n",
            "\n",
            "----------------\n",
            "Random Seed = 5\n",
            "----------------\n",
            "[[1917    8]\n",
            " [  52   23]]\n",
            "              precision    recall  f1-score   support\n",
            "\n",
            "          No      0.974     0.996     0.985      1925\n",
            "         Yes      0.742     0.307     0.434        75\n",
            "\n",
            "    accuracy                          0.970      2000\n",
            "   macro avg      0.858     0.651     0.709      2000\n",
            "weighted avg      0.965     0.970     0.964      2000\n",
            "\n",
            "\n",
            "----------------\n",
            "Random Seed = 6\n",
            "----------------\n",
            "[[1938    8]\n",
            " [  38   16]]\n",
            "              precision    recall  f1-score   support\n",
            "\n",
            "          No      0.981     0.996     0.988      1946\n",
            "         Yes      0.667     0.296     0.410        54\n",
            "\n",
            "    accuracy                          0.977      2000\n",
            "   macro avg      0.824     0.646     0.699      2000\n",
            "weighted avg      0.972     0.977     0.973      2000\n",
            "\n",
            "\n",
            "----------------\n",
            "Random Seed = 7\n",
            "----------------\n",
            "[[1919    5]\n",
            " [  59   17]]\n",
            "              precision    recall  f1-score   support\n",
            "\n",
            "          No      0.970     0.997     0.984      1924\n",
            "         Yes      0.773     0.224     0.347        76\n",
            "\n",
            "    accuracy                          0.968      2000\n",
            "   macro avg      0.871     0.611     0.665      2000\n",
            "weighted avg      0.963     0.968     0.959      2000\n",
            "\n",
            "\n",
            "----------------\n",
            "Random Seed = 8\n",
            "----------------\n",
            "[[1921   16]\n",
            " [  46   17]]\n",
            "              precision    recall  f1-score   support\n",
            "\n",
            "          No      0.977     0.992     0.984      1937\n",
            "         Yes      0.515     0.270     0.354        63\n",
            "\n",
            "    accuracy                          0.969      2000\n",
            "   macro avg      0.746     0.631     0.669      2000\n",
            "weighted avg      0.962     0.969     0.964      2000\n",
            "\n",
            "\n",
            "----------------\n",
            "Random Seed = 9\n",
            "----------------\n",
            "[[1917    6]\n",
            " [  60   17]]\n",
            "              precision    recall  f1-score   support\n",
            "\n",
            "          No      0.970     0.997     0.983      1923\n",
            "         Yes      0.739     0.221     0.340        77\n",
            "\n",
            "    accuracy                          0.967      2000\n",
            "   macro avg      0.854     0.609     0.662      2000\n",
            "weighted avg      0.961     0.967     0.958      2000\n",
            "\n",
            "\n",
            "----------------\n",
            "Random Seed = 10\n",
            "----------------\n",
            "[[1926    6]\n",
            " [  49   19]]\n",
            "              precision    recall  f1-score   support\n",
            "\n",
            "          No      0.975     0.997     0.986      1932\n",
            "         Yes      0.760     0.279     0.409        68\n",
            "\n",
            "    accuracy                          0.973      2000\n",
            "   macro avg      0.868     0.638     0.697      2000\n",
            "weighted avg      0.968     0.973     0.966      2000\n",
            "\n",
            "\n"
          ]
        }
      ],
      "source": [
        "import statsmodels.formula.api as smf\n",
        "import statsmodels.api as sm\n",
        "from sklearn.metrics import confusion_matrix, classification_report\n",
        "\n",
        "for i in range(1,11):\n",
        "    train_df2 = df2.sample(8000, random_state = i)\n",
        "    test_df2 = df2[~df2.isin(train_df2)].dropna(how = 'all')\n",
        "\n",
        "    # Fit a logistic regression to predict default using balance\n",
        "    #使用smf.glm()函数拟合一个逻辑回归模型，将default作为因变量，balance作为自变量，并指定family=sm.families.Binomial()来进行二分类逻辑回归\n",
        "    model = smf.glm('default~balance', data=train_df2, family=sm.families.Binomial())\n",
        "    result = model.fit()\n",
        "    predictions_nominal = [ \"Yes\" if x < 0.5 else \"No\" for x in result.predict(test_df2)]#根据模型预测测试集数据，并将概率转换为类别（\"Yes\"或\"No\"）\n",
        "    print(\"----------------\")\n",
        "    print(\"Random Seed = \" + str(i) + \"\")\n",
        "    print(\"----------------\")\n",
        "    print(confusion_matrix(test_df2[\"default\"],\n",
        "                       predictions_nominal))\n",
        "    print(classification_report(test_df2[\"default\"],\n",
        "                            predictions_nominal,\n",
        "                            digits = 3))\n",
        "    print()\n",
        "#这段代码执行了逻辑回归模型的训练和评估，其中包括了使用不同的随机种子（random seed）进行模型训练和评估，并打印了混淆矩阵和分类报告\n",
        "#对于每个随机种子，打印以下内容：\n",
        "#随机种子的值。\n",
        "#对应测试集的混淆矩阵。\n",
        "#对应测试集的分类报告，包括精确度、召回率、F1值和支持度"
      ]
    },
    {
      "cell_type": "markdown",
      "metadata": {
        "id": "mjpkgXc7kRHY"
      },
      "source": [
        "### Precision Score 精度分数\n",
        "The precision is intuitively the ability of the classifier not to label as positive a sample that is negative.\n",
        "TP – True Positives\n",
        "FP – False Positives\n",
        "\n",
        "Precision – Accuracy of positive predictions.\n",
        "Precision = TP/(TP + FP)\n",
        "\n",
        "准确率直观地表示分类器不将负样本标记为正样本的能力。\n",
        "TP – 真阳性\n",
        "FP – 假阳性\n",
        "\n",
        "准确率 – 阳性预测的准确度。\n",
        "准确率 = TP/(TP + FP)\n",
        "\n",
        "### Recall Score 召回率\n",
        "The recall is intuitively the ability of the classifier to find all the positive samples.\n",
        "FN – False Negatives\n",
        "\n",
        "Recall (aka sensitivity or true positive rate): Fraction of positives That were correctly identified.\n",
        "Recall = TP/(TP+FN)\n",
        "\n",
        "召回率直观地表示分类器找到所有正样本的能力。\n",
        "FN – 假阴性\n",
        "\n",
        "召回率（又称敏感度或真阳性率）：正确识别的阳性比例。\n",
        "召回率 = TP/(TP+FN)\n",
        "\n",
        "### F1 Score 精确度和召回率的加权调和平均值\n",
        "F1 Score (aka F-Score or F-Measure) – A helpful metric for comparing two classifiers. F1 Score takes into account precision and the recall. It is created by finding the the harmonic mean of precision and recall.\n",
        "\n",
        "F1 = 2 x (precision x recall)/(precision + recall)\n",
        "\n",
        "The F1 score reaches its best value at 1 and worst score at 0.\n",
        "\n",
        "The F1 score weights recall more than precision by a factor of beta. beta == 1.0 means recall and precision are equally important.\n",
        "\n",
        "F1 分数（又称 F 分数或 F 度量）——用于比较两个分类器的有用指标。F1 分数考虑了精确度和召回率。它是通过找到精确度和召回率的调和平均值来创建的。\n",
        "\n",
        "F1 = 2 x（精确度 x 召回率）/（精确度 + 召回率）\n",
        "\n",
        "F1 分数在 1 时达到最佳值，在 0 时达到最差值。\n",
        "\n",
        "F1 分数将召回率的权重比精确度高出一个倍数 beta。beta == 1.0 表示召回率和精确度同等重要。\n",
        "\n",
        "### Support 支持度：测试集中实际样本的数量\n",
        "The support is the number of occurrences of each class in y_true.\n",
        "\n",
        "支持度是 y_true 中每个类出现的次数。\n",
        "\n"
      ]
    },
    {
      "cell_type": "markdown",
      "metadata": {
        "id": "2GqTub8YkRHY"
      },
      "source": [
        "# Exercise\n",
        "\n",
        "Build a logistic model on the full Default dataset and then run 5-fold cross-validation to get a more accurate estimate of your test error rate:\n",
        "\n",
        "在完整的默认数据集上构建一个逻辑模型，然后运行 ​​5 倍交叉验证以更准确地估计测试错误率："
      ]
    },
    {
      "cell_type": "code",
      "execution_count": null,
      "metadata": {
        "id": "9yxrO_RvkRHY"
      },
      "outputs": [],
      "source": [
        "?np.ones\n"
      ]
    },
    {
      "cell_type": "code",
      "execution_count": null,
      "metadata": {
        "id": "ub1QEY88kRHY"
      },
      "outputs": [],
      "source": [
        "from sklearn.linear_model import LogisticRegression\n",
        "from sklearn.model_selection import cross_validate, cross_val_predict\n",
        "from sklearn import metrics\n",
        "\n",
        "df2 = pd.read_csv('data/default.csv', na_values='?').dropna()\n",
        "\n",
        "df2['Yes'] = (df2['default'] == 'Yes').astype(int)\n",
        "\n",
        "X = np.column_stack((np.ones(len(df2)), df2['balance']))\n",
        "y=df2['Yes'].values\n",
        "\n",
        "lr=LogisticRegression()\n",
        "predicted = cross_val_predict(lr, X, y, cv=5)\n",
        "print(metrics.accuracy_score(y, predicted))\n",
        "print(confusion_matrix(y,predicted))\n",
        "print(metrics.classification_report(y, predicted))"
      ]
    },
    {
      "cell_type": "markdown",
      "metadata": {
        "id": "o-6Ycl6ukRHZ"
      },
      "source": [
        "# Bootstrap 引导\n",
        "+ Can be used to quantify the uncertainty associated with a given estimator or statistical learning method.\n",
        "+ Bootstrap approach allows us to use a computer to emulate the process of obtaining new sample sets, to estimate the variability of estimated parameter without generating additional samples.\n",
        "+ Rather than repeatedly obtaining independent data sets from the population, we instead obtain distinct data sets by repeatedly sampling observations from the original data set.\n",
        "+ We randomly select $n$ observations from the data set in order to produce a bootstrap data set.\n",
        "+ The sampling is performed with replacement, which means that the same observation can occur more than once in the bootstrap data set.\n",
        "\n",
        "\n",
        "+ 可用于量化与给定估计量或统计学习方法相关的不确定性。\n",
        "+ 引导方法允许我们使用计算机模拟获取新样本集的过程，以估计估计参数的变异性，而无需生成额外的样本。\n",
        "+ 我们不是从总体中重复获取独立的数据集，而是通过从原始数据集中重复抽样观察来获取不同的数据集。\n",
        "+ 我们从数据集中随机选择 $n$ 个观察值以生成引导数据集。\n",
        "+ 抽样是替换进行的，这意味着相同的观察值可以在引导数据集中出现多次。\n",
        "\n"
      ]
    },
    {
      "cell_type": "code",
      "execution_count": null,
      "metadata": {
        "scrolled": false,
        "id": "orTxEu5AkRHZ",
        "outputId": "47fad8c1-5687-43f2-e984-a9bc30aa258f"
      },
      "outputs": [
        {
          "data": {
            "image/png": "[encoded data removed]",
            "text/plain": [
              "<IPython.core.display.Image object>"
            ]
          },
          "execution_count": 46,
          "metadata": {
            "image/png": {
              "width": 500
            }
          },
          "output_type": "execute_result"
        }
      ],
      "source": [
        "Image('images/pw44.png', width =500)"
      ]
    },
    {
      "cell_type": "markdown",
      "metadata": {
        "id": "bXa02f_ikRHZ"
      },
      "source": [
        "#### Example:\n",
        "+ Suppose that we wish to invest a fixed sum of money in two financial assets that yield returns of $X$ and $Y$ , respectively, where $X$ and $Y$ are random quantities.\n",
        "+ We will invest a fraction $\\alpha$ of our money in $X$, and the remaining $1 − \\alpha$ in $Y$.\n",
        "+ Since there is variability associated with the returns on these two assets, we wish to choose $\\alpha$ to minimize the total risk, or variance, of our investment.\n",
        "$$\\hat{\\alpha} = \\frac{\\hat{\\sigma}^2_Y - \\hat{\\sigma}_{XY}}{\\hat{\\sigma}^2_X + \\hat{\\sigma}^2_Y - 2\\hat{\\sigma}_{XY}}$$\n",
        "+ 100 pairs of returns for the investments $X$ and $Y$ are simulated, to estimate $\\hat{\\sigma}^2_X, \\hat{\\sigma}^2_Y$ and $\\hat{\\sigma}_{XY}$, to obtain $\\hat{\\alpha}$.\n",
        "+ This process is repeated 1000 times, resulting 1000 estimates for $\\alpha$.\n",
        "+ $0.532 \\leq \\hat{\\alpha} \\leq 0.657$.\n",
        "+ $\\bar{\\alpha} = 0.5996$ and $\\textrm{SE}(\\hat{\\alpha}) = 0.083$.\n",
        "+ However this cannot be applied, because for real data we cannot generate new samples from the original population.\n",
        "+ By using bootstrap technique,we can resample the data repeatedly.\n",
        "+ The bootstrap data set, $Z^{*i}$ can be used to produce the estimate for $\\alpha$, given as $\\hat{\\alpha}^{*i}$.\n",
        "+ The SE of this bootstrap estimates is\n",
        "$$\\textrm{SE}_B(\\hat{\\alpha}) = \\sqrt{\\frac{1}{B-1}\\sum_{r=1}^B{\\left( \\hat{\\alpha}^{*r} - \\frac{1}{B} \\sum_{r^\\prime = 1}^B{\\hat{\\alpha}^{*r^\\prime}}\\right)^2}}$$\n",
        "\n",
        "\n",
        "\n",
        "+ 假设我们希望将固定金额的资金投资于两项金融资产，这两项资产的收益分别为 $X$ 和 $Y$，其中 $X$ 和 $Y$ 是随机量。\n",
        "+ 我们将把资金的一小部分 $\\alpha$ 投资于 $X$，其余的 $1 − \\alpha$ 投资于 $Y$。\n",
        "+ 由于这两项资产的收益存在差异，我们希望选择 $\\alpha$ 来最小化我们投资的总体风险或方差。\n",
        "$$\\hat{\\alpha} = \\frac{\\hat{\\sigma}^2_Y - \\hat{\\sigma}_{XY}}{\\hat{\\sigma}^2_X + \\hat{\\sigma}^2_Y - 2\\hat{\\sigma}_{XY}}$$\n",
        "+ 模拟投资 $X$ 和 $Y$ 的 100 对回报，以估计 $\\hat{\\sigma}^2_X、\\hat{\\sigma}^2_Y$ 和 $\\hat{\\sigma}_{XY}$，从而获得 $\\hat{\\alpha}$。\n",
        "+ 此过程重复 1000 次，得到 1000 个 $\\alpha$ 估计值。\n",
        "+ $0.532 \\leq \\hat{\\alpha} \\leq 0.657$。\n",
        "+ $\\bar{\\alpha} = 0.5996$ 和 $\\textrm{SE}(\\hat{\\alpha}) = 0.083$。\n",
        "+ 但是这不适用，因为对于真实数据，我们无法从原始总体中生成新样本。\n",
        "+ 通过使用引导技术，我们可以反复对数据进行重新采样。\n",
        "+ 引导数据集 $Z^{*i}$ 可用于生成 $\\alpha$ 的估计值，表示为 $\\hat{\\alpha}^{*i}$。\n",
        "+ 此引导估计的 SE 为\n",
        "$$\\textrm{SE}_B(\\hat{\\alpha}) = \\sqrt{\\frac{1}{B-1}\\sum_{r=1}^B{\\left( \\hat{\\alpha}^{*r} - \\frac{1}{B} \\sum_{r^\\prime = 1}^B{\\hat{\\alpha}^{*r^\\prime}}\\right)^2}}$$"
      ]
    },
    {
      "cell_type": "markdown",
      "metadata": {
        "id": "atP1SX2PkRHZ"
      },
      "source": [
        "#### Example"
      ]
    },
    {
      "cell_type": "code",
      "execution_count": null,
      "metadata": {
        "colab": {
          "base_uri": "https://localhost:8080/",
          "height": 206
        },
        "id": "E9a7IhSYkRHZ",
        "outputId": "f4d3400b-7173-48ac-9b54-59f3d5305ebb"
      },
      "outputs": [
        {
          "output_type": "execute_result",
          "data": {
            "text/plain": [
              "   Unnamed: 0         X         Y\n",
              "0           1 -0.895251 -0.234924\n",
              "1           2 -1.562454 -0.885176\n",
              "2           3 -0.417090  0.271888\n",
              "3           4  1.044356 -0.734198\n",
              "4           5 -0.315568  0.841983"
            ],
            "text/html": [
              "\n",
              "  <div id=\"df-79e37480-e85b-4e4d-bf08-37167d55686d\" class=\"colab-df-container\">\n",
              "    <div>\n",
              "<style scoped>\n",
              "    .dataframe tbody tr th:only-of-type {\n",
              "        vertical-align: middle;\n",
              "    }\n",
              "\n",
              "    .dataframe tbody tr th {\n",
              "        vertical-align: top;\n",
              "    }\n",
              "\n",
              "    .dataframe thead th {\n",
              "        text-align: right;\n",
              "    }\n",
              "</style>\n",
              "<table border=\"1\" class=\"dataframe\">\n",
              "  <thead>\n",
              "    <tr style=\"text-align: right;\">\n",
              "      <th></th>\n",
              "      <th>Unnamed: 0</th>\n",
              "      <th>X</th>\n",
              "      <th>Y</th>\n",
              "    </tr>\n",
              "  </thead>\n",
              "  <tbody>\n",
              "    <tr>\n",
              "      <th>0</th>\n",
              "      <td>1</td>\n",
              "      <td>-0.895251</td>\n",
              "      <td>-0.234924</td>\n",
              "    </tr>\n",
              "    <tr>\n",
              "      <th>1</th>\n",
              "      <td>2</td>\n",
              "      <td>-1.562454</td>\n",
              "      <td>-0.885176</td>\n",
              "    </tr>\n",
              "    <tr>\n",
              "      <th>2</th>\n",
              "      <td>3</td>\n",
              "      <td>-0.417090</td>\n",
              "      <td>0.271888</td>\n",
              "    </tr>\n",
              "    <tr>\n",
              "      <th>3</th>\n",
              "      <td>4</td>\n",
              "      <td>1.044356</td>\n",
              "      <td>-0.734198</td>\n",
              "    </tr>\n",
              "    <tr>\n",
              "      <th>4</th>\n",
              "      <td>5</td>\n",
              "      <td>-0.315568</td>\n",
              "      <td>0.841983</td>\n",
              "    </tr>\n",
              "  </tbody>\n",
              "</table>\n",
              "</div>\n",
              "    <div class=\"colab-df-buttons\">\n",
              "\n",
              "  <div class=\"colab-df-container\">\n",
              "    <button class=\"colab-df-convert\" onclick=\"convertToInteractive('df-79e37480-e85b-4e4d-bf08-37167d55686d')\"\n",
              "            title=\"Convert this dataframe to an interactive table.\"\n",
              "            style=\"display:none;\">\n",
              "\n",
              "  <svg xmlns=\"http://www.w3.org/2000/svg\" height=\"24px\" viewBox=\"0 -960 960 960\">\n",
              "    <path d=\"M120-120v-720h720v720H120Zm60-500h600v-160H180v160Zm220 220h160v-160H400v160Zm0 220h160v-160H400v160ZM180-400h160v-160H180v160Zm440 0h160v-160H620v160ZM180-180h160v-160H180v160Zm440 0h160v-160H620v160Z\"/>\n",
              "  </svg>\n",
              "    </button>\n",
              "\n",
              "  <style>\n",
              "    .colab-df-container {\n",
              "      display:flex;\n",
              "      gap: 12px;\n",
              "    }\n",
              "\n",
              "    .colab-df-convert {\n",
              "      background-color: #E8F0FE;\n",
              "      border: none;\n",
              "      border-radius: 50%;\n",
              "      cursor: pointer;\n",
              "      display: none;\n",
              "      fill: #1967D2;\n",
              "      height: 32px;\n",
              "      padding: 0 0 0 0;\n",
              "      width: 32px;\n",
              "    }\n",
              "\n",
              "    .colab-df-convert:hover {\n",
              "      background-color: #E2EBFA;\n",
              "      box-shadow: 0px 1px 2px rgba(60, 64, 67, 0.3), 0px 1px 3px 1px rgba(60, 64, 67, 0.15);\n",
              "      fill: #174EA6;\n",
              "    }\n",
              "\n",
              "    .colab-df-buttons div {\n",
              "      margin-bottom: 4px;\n",
              "    }\n",
              "\n",
              "    [theme=dark] .colab-df-convert {\n",
              "      background-color: #3B4455;\n",
              "      fill: #D2E3FC;\n",
              "    }\n",
              "\n",
              "    [theme=dark] .colab-df-convert:hover {\n",
              "      background-color: #434B5C;\n",
              "      box-shadow: 0px 1px 3px 1px rgba(0, 0, 0, 0.15);\n",
              "      filter: drop-shadow(0px 1px 2px rgba(0, 0, 0, 0.3));\n",
              "      fill: #FFFFFF;\n",
              "    }\n",
              "  </style>\n",
              "\n",
              "    <script>\n",
              "      const buttonEl =\n",
              "        document.querySelector('#df-79e37480-e85b-4e4d-bf08-37167d55686d button.colab-df-convert');\n",
              "      buttonEl.style.display =\n",
              "        google.colab.kernel.accessAllowed ? 'block' : 'none';\n",
              "\n",
              "      async function convertToInteractive(key) {\n",
              "        const element = document.querySelector('#df-79e37480-e85b-4e4d-bf08-37167d55686d');\n",
              "        const dataTable =\n",
              "          await google.colab.kernel.invokeFunction('convertToInteractive',\n",
              "                                                    [key], {});\n",
              "        if (!dataTable) return;\n",
              "\n",
              "        const docLinkHtml = 'Like what you see? Visit the ' +\n",
              "          '<a target=\"_blank\" href=https://colab.research.google.com/notebooks/data_table.ipynb>data table notebook</a>'\n",
              "          + ' to learn more about interactive tables.';\n",
              "        element.innerHTML = '';\n",
              "        dataTable['output_type'] = 'display_data';\n",
              "        await google.colab.output.renderOutput(dataTable, element);\n",
              "        const docLink = document.createElement('div');\n",
              "        docLink.innerHTML = docLinkHtml;\n",
              "        element.appendChild(docLink);\n",
              "      }\n",
              "    </script>\n",
              "  </div>\n",
              "\n",
              "\n",
              "<div id=\"df-23756d26-92fa-4e68-8dad-9cf078d07010\">\n",
              "  <button class=\"colab-df-quickchart\" onclick=\"quickchart('df-23756d26-92fa-4e68-8dad-9cf078d07010')\"\n",
              "            title=\"Suggest charts\"\n",
              "            style=\"display:none;\">\n",
              "\n",
              "<svg xmlns=\"http://www.w3.org/2000/svg\" height=\"24px\"viewBox=\"0 0 24 24\"\n",
              "     width=\"24px\">\n",
              "    <g>\n",
              "        <path d=\"M19 3H5c-1.1 0-2 .9-2 2v14c0 1.1.9 2 2 2h14c1.1 0 2-.9 2-2V5c0-1.1-.9-2-2-2zM9 17H7v-7h2v7zm4 0h-2V7h2v10zm4 0h-2v-4h2v4z\"/>\n",
              "    </g>\n",
              "</svg>\n",
              "  </button>\n",
              "\n",
              "<style>\n",
              "  .colab-df-quickchart {\n",
              "      --bg-color: #E8F0FE;\n",
              "      --fill-color: #1967D2;\n",
              "      --hover-bg-color: #E2EBFA;\n",
              "      --hover-fill-color: #174EA6;\n",
              "      --disabled-fill-color: #AAA;\n",
              "      --disabled-bg-color: #DDD;\n",
              "  }\n",
              "\n",
              "  [theme=dark] .colab-df-quickchart {\n",
              "      --bg-color: #3B4455;\n",
              "      --fill-color: #D2E3FC;\n",
              "      --hover-bg-color: #434B5C;\n",
              "      --hover-fill-color: #FFFFFF;\n",
              "      --disabled-bg-color: #3B4455;\n",
              "      --disabled-fill-color: #666;\n",
              "  }\n",
              "\n",
              "  .colab-df-quickchart {\n",
              "    background-color: var(--bg-color);\n",
              "    border: none;\n",
              "    border-radius: 50%;\n",
              "    cursor: pointer;\n",
              "    display: none;\n",
              "    fill: var(--fill-color);\n",
              "    height: 32px;\n",
              "    padding: 0;\n",
              "    width: 32px;\n",
              "  }\n",
              "\n",
              "  .colab-df-quickchart:hover {\n",
              "    background-color: var(--hover-bg-color);\n",
              "    box-shadow: 0 1px 2px rgba(60, 64, 67, 0.3), 0 1px 3px 1px rgba(60, 64, 67, 0.15);\n",
              "    fill: var(--button-hover-fill-color);\n",
              "  }\n",
              "\n",
              "  .colab-df-quickchart-complete:disabled,\n",
              "  .colab-df-quickchart-complete:disabled:hover {\n",
              "    background-color: var(--disabled-bg-color);\n",
              "    fill: var(--disabled-fill-color);\n",
              "    box-shadow: none;\n",
              "  }\n",
              "\n",
              "  .colab-df-spinner {\n",
              "    border: 2px solid var(--fill-color);\n",
              "    border-color: transparent;\n",
              "    border-bottom-color: var(--fill-color);\n",
              "    animation:\n",
              "      spin 1s steps(1) infinite;\n",
              "  }\n",
              "\n",
              "  @keyframes spin {\n",
              "    0% {\n",
              "      border-color: transparent;\n",
              "      border-bottom-color: var(--fill-color);\n",
              "      border-left-color: var(--fill-color);\n",
              "    }\n",
              "    20% {\n",
              "      border-color: transparent;\n",
              "      border-left-color: var(--fill-color);\n",
              "      border-top-color: var(--fill-color);\n",
              "    }\n",
              "    30% {\n",
              "      border-color: transparent;\n",
              "      border-left-color: var(--fill-color);\n",
              "      border-top-color: var(--fill-color);\n",
              "      border-right-color: var(--fill-color);\n",
              "    }\n",
              "    40% {\n",
              "      border-color: transparent;\n",
              "      border-right-color: var(--fill-color);\n",
              "      border-top-color: var(--fill-color);\n",
              "    }\n",
              "    60% {\n",
              "      border-color: transparent;\n",
              "      border-right-color: var(--fill-color);\n",
              "    }\n",
              "    80% {\n",
              "      border-color: transparent;\n",
              "      border-right-color: var(--fill-color);\n",
              "      border-bottom-color: var(--fill-color);\n",
              "    }\n",
              "    90% {\n",
              "      border-color: transparent;\n",
              "      border-bottom-color: var(--fill-color);\n",
              "    }\n",
              "  }\n",
              "</style>\n",
              "\n",
              "  <script>\n",
              "    async function quickchart(key) {\n",
              "      const quickchartButtonEl =\n",
              "        document.querySelector('#' + key + ' button');\n",
              "      quickchartButtonEl.disabled = true;  // To prevent multiple clicks.\n",
              "      quickchartButtonEl.classList.add('colab-df-spinner');\n",
              "      try {\n",
              "        const charts = await google.colab.kernel.invokeFunction(\n",
              "            'suggestCharts', [key], {});\n",
              "      } catch (error) {\n",
              "        console.error('Error during call to suggestCharts:', error);\n",
              "      }\n",
              "      quickchartButtonEl.classList.remove('colab-df-spinner');\n",
              "      quickchartButtonEl.classList.add('colab-df-quickchart-complete');\n",
              "    }\n",
              "    (() => {\n",
              "      let quickchartButtonEl =\n",
              "        document.querySelector('#df-23756d26-92fa-4e68-8dad-9cf078d07010 button');\n",
              "      quickchartButtonEl.style.display =\n",
              "        google.colab.kernel.accessAllowed ? 'block' : 'none';\n",
              "    })();\n",
              "  </script>\n",
              "</div>\n",
              "\n",
              "    </div>\n",
              "  </div>\n"
            ],
            "application/vnd.google.colaboratory.intrinsic+json": {
              "type": "dataframe",
              "variable_name": "portfolio_df",
              "summary": "{\n  \"name\": \"portfolio_df\",\n  \"rows\": 100,\n  \"fields\": [\n    {\n      \"column\": \"Unnamed: 0\",\n      \"properties\": {\n        \"dtype\": \"number\",\n        \"std\": 29,\n        \"min\": 1,\n        \"max\": 100,\n        \"num_unique_values\": 100,\n        \"samples\": [\n          84,\n          54,\n          71\n        ],\n        \"semantic_type\": \"\",\n        \"description\": \"\"\n      }\n    },\n    {\n      \"column\": \"X\",\n      \"properties\": {\n        \"dtype\": \"number\",\n        \"std\": 1.0623758083271462,\n        \"min\": -2.43276412040427,\n        \"max\": 2.4603359481276,\n        \"num_unique_values\": 100,\n        \"samples\": [\n          -0.60048569030458,\n          -0.285665299455223,\n          -0.984356518466055\n        ],\n        \"semantic_type\": \"\",\n        \"description\": \"\"\n      }\n    },\n    {\n      \"column\": \"Y\",\n      \"properties\": {\n        \"dtype\": \"number\",\n        \"std\": 1.1437820897462927,\n        \"min\": -2.72528149494243,\n        \"max\": 2.56598528732423,\n        \"num_unique_values\": 100,\n        \"samples\": [\n          -0.420940526974254,\n          -1.30878131266949,\n          -1.1391602659206\n        ],\n        \"semantic_type\": \"\",\n        \"description\": \"\"\n      }\n    }\n  ]\n}"
            }
          },
          "metadata": {},
          "execution_count": 16
        }
      ],
      "source": [
        "portfolio_df = pd.read_csv('data/portfolio.csv')\n",
        "portfolio_df.head()"
      ]
    },
    {
      "cell_type": "markdown",
      "metadata": {
        "id": "iA9NRBrFkRHZ"
      },
      "source": [
        "To illustrate the use of the bootstrap on this data, we must first create\n",
        "a function, `alpha()`, which takes as input the data and outputs the estimate for $\\alpha$ (described in more detail on page 187).\n",
        "\n",
        "为了说明引导法在此数据上的应用，我们必须首先创建一个函数 `alpha()`，该函数以数据为输入，输出 $\\alpha$ 的估计值（第 187 页有更详细的描述）。"
      ]
    },
    {
      "cell_type": "code",
      "execution_count": null,
      "metadata": {
        "id": "NvOoOdt5kRHZ"
      },
      "outputs": [],
      "source": [
        "def alpha(X,Y):\n",
        "    return ((np.var(Y)-np.cov(X,Y))/(np.var(X)+np.var(Y)-2*np.cov(X,Y)))"
      ]
    },
    {
      "cell_type": "markdown",
      "metadata": {
        "id": "jRFuhF1ekRHZ"
      },
      "source": [
        "This function returns, or outputs, an estimate for $\\alpha$ based on applying\n",
        "(5.7) to the observations indexed by the argument index. For instance, the\n",
        "following command tells `python` to estimate $\\alpha$ using all 100 observations.\n",
        "\n",
        "此函数根据将(5.7) 应用于参数索引所索引的观测值，返回或输出 $\\alpha$ 的估计值。例如，以下命令告诉 `python` 使用所有 100 个观测值来估计 $\\alpha$。"
      ]
    },
    {
      "cell_type": "code",
      "execution_count": null,
      "metadata": {
        "colab": {
          "base_uri": "https://localhost:8080/"
        },
        "id": "4vhTHt2ckRHZ",
        "outputId": "7cb3b7bb-21fa-4321-f9d2-fa9ec97260dd"
      },
      "outputs": [
        {
          "output_type": "stream",
          "name": "stdout",
          "text": [
            "[[1.07270947 0.57665115]\n",
            " [0.57665115 0.06414064]]\n"
          ]
        }
      ],
      "source": [
        "X = portfolio_df.X[0:100]\n",
        "y = portfolio_df.Y[0:100]\n",
        "print(alpha(X,y))"
      ]
    },
    {
      "cell_type": "markdown",
      "metadata": {
        "id": "Kgass1WDkRHa"
      },
      "source": [
        "The next command uses the `sample()` function to randomly select 100 observations\n",
        "from the range 1 to 100, with replacement. This is equivalent\n",
        "to constructing a new bootstrap data set and recomputing $\\hat{\\alpha}$ based on the\n",
        "new data set.\n",
        "\n",
        "下一个命令使用 `sample()` 函数从 1 到 100 的范围内随机选择 100 个观测值（有放回）。这相当于构建一个新的引导数据集并根据新数据集重新计算 $\\hat{\\alpha}$。"
      ]
    },
    {
      "cell_type": "code",
      "execution_count": null,
      "metadata": {
        "colab": {
          "base_uri": "https://localhost:8080/"
        },
        "id": "1ND5eicxkRHa",
        "outputId": "2d796c30-f43d-4a70-f96f-4736ab272bb1"
      },
      "outputs": [
        {
          "output_type": "stream",
          "name": "stdout",
          "text": [
            "[[ 0.94551351  0.41691444]\n",
            " [ 0.41691444 -0.05685389]]\n"
          ]
        }
      ],
      "source": [
        "dfsample = portfolio_df.sample(frac=1, replace=True)\n",
        "X = dfsample.X[0:100]\n",
        "y = dfsample.Y[0:100]\n",
        "print(alpha(X,y))"
      ]
    },
    {
      "cell_type": "markdown",
      "metadata": {
        "id": "fyagSoylkRHa"
      },
      "source": [
        "**sklearn have deprecated bootstrap function because the ML community does not seen resampling as crucial or useful**\n",
        "\n",
        "We can implement a bootstrap analysis by performing this command many\n",
        "times, recording all of the corresponding estimates for $\\alpha$, and computing the resulting standard deviation. Below we produce $1,000$ bootstrap estimates for $\\alpha$:\n",
        "\n",
        "**sklearn 已弃用 bootstrap 函数，因为 ML 社区并不认为重采样至关重要或有用**\n",
        "\n",
        "我们可以通过多次执行此命令、记录 $\\alpha$ 的所有相应估计值并计算得出的标准差来实现 bootstrap 分析。下面我们为 $\\alpha$ 生成 $1,000$ 个 bootstrap 估计值："
      ]
    },
    {
      "cell_type": "code",
      "execution_count": null,
      "metadata": {
        "scrolled": true,
        "colab": {
          "base_uri": "https://localhost:8080/"
        },
        "id": "3S9_j0JkkRHa",
        "outputId": "0a30374d-8f7f-4464-f1b6-b872a511def4"
      },
      "outputs": [
        {
          "output_type": "stream",
          "name": "stdout",
          "text": [
            "[[0.84505851 0.57924325]\n",
            " [0.57924325 0.07150978]]\n"
          ]
        }
      ],
      "source": [
        "def bstrap(df):\n",
        "    tresult = 0\n",
        "    for i in range(0,1000):\n",
        "        dfsample = df.sample(frac=1, replace=True)\n",
        "        X = dfsample.X[0:100]\n",
        "        y = dfsample.Y[0:100]\n",
        "        result = alpha(X,y)\n",
        "        tresult += result\n",
        "    fresult = tresult / 1000\n",
        "    print(fresult)\n",
        "\n",
        "bstrap(portfolio_df)"
      ]
    },
    {
      "cell_type": "markdown",
      "metadata": {
        "id": "k-KvgALnkRHa"
      },
      "source": [
        "The final output shows that using the original data, $\\hat{\\alpha} = 0.58$\n",
        "\n",
        "最终输出显示，使用原始数据，$\\hat{\\alpha} = 0.58$"
      ]
    },
    {
      "cell_type": "code",
      "execution_count": null,
      "metadata": {
        "scrolled": false,
        "id": "wkIM_KnYkRHa",
        "outputId": "eea02af2-455d-46b4-c391-932936c33dc7"
      },
      "outputs": [
        {
          "data": {
            "image/png": "[encoded data removed]",
            "text/plain": [
              "<IPython.core.display.Image object>"
            ]
          },
          "execution_count": 47,
          "metadata": {
            "image/png": {
              "width": 800
            }
          },
          "output_type": "execute_result"
        }
      ],
      "source": [
        "Image('images/pw45.png', width =800)"
      ]
    },
    {
      "cell_type": "markdown",
      "metadata": {
        "id": "GTyAEe9vkRHa"
      },
      "source": [
        "Left: A Histogram of the estimates of $\\alpha$ obtained by generating 1,000 simulated data sets from the true population.\n",
        "\n",
        "Center: A histogram of the estimates of $\\alpha$ obtained from 1,000 bootstrap samples from a single data set.\n",
        "\n",
        "Right: The estimates of $\\alpha$ displayed in the left and center panels are shown as boxplots.\n",
        "\n",
        "In each panel, the pink line indicates the true value of α.\n",
        "\n",
        "左图：通过从真实总体生成 1,000 个模拟数据集获得的 $\\alpha$ 估计值的直方图。\n",
        "\n",
        "中图：通过从单个数据集的 1,000 个引导样本获得的 $\\alpha$ 估计值的直方图。\n",
        "\n",
        "右图：左侧和中间面板中显示的 $\\alpha$ 估计值以箱线图显示。\n",
        "\n",
        "在每个面板中，粉红线表示 α 的真实值。"
      ]
    },
    {
      "cell_type": "markdown",
      "metadata": {
        "id": "kGzey5hDkRHa"
      },
      "source": [
        "#### Example\n",
        "The bootstrap approach can be used to assess the variability of the coefficient\n",
        "estimates and predictions from a statistical learning method.\n",
        "\n",
        "Here we use the bootstrap approach in order to assess the variability of the\n",
        "estimates for $\\beta_0$ and $\\beta_1$, the intercept and slope terms for the linear regression\n",
        "model that uses horsepower to predict mpg in the Auto data set.\n",
        "\n",
        "We will compare the estimates obtained using the bootstrap to those obtained\n",
        "using the formulas for $SE(\\hat{\\beta}_0)$ and $SE(\\hat{\\beta}_1)$ described in Section 3.1.2.\n",
        "\n",
        "\n",
        "引导方法可用于评估统计学习方法的系数估计和预测的变异性。\n",
        "\n",
        "在这里，我们使用引导方法来评估 $\\beta_0$ 和 $\\beta_1$ 估计值的变异性，即使用马力预测 Auto 数据集中的 mpg 的线性回归模型的截距和斜率项。\n",
        "\n",
        "我们将使用引导获得的估计值与使用第 3.1.2 节中描述的 $SE(\\hat{\\beta}_0)$ 和 $SE(\\hat{\\beta}_1)$ 公式获得的估计值进行比较。\n"
      ]
    },
    {
      "cell_type": "code",
      "execution_count": null,
      "metadata": {
        "colab": {
          "base_uri": "https://localhost:8080/",
          "height": 300
        },
        "id": "m6C_iijlkRHa",
        "outputId": "e2fda0a4-6410-49d7-9d6d-d0b259d5ab91"
      },
      "outputs": [
        {
          "output_type": "execute_result",
          "data": {
            "text/plain": [
              "              mpg   cylinders  displacement  horsepower       weight  \\\n",
              "count  392.000000  392.000000    392.000000  392.000000   392.000000   \n",
              "mean    23.445918    5.471939    194.411990  104.469388  2977.584184   \n",
              "std      7.805007    1.705783    104.644004   38.491160   849.402560   \n",
              "min      9.000000    3.000000     68.000000   46.000000  1613.000000   \n",
              "25%     17.000000    4.000000    105.000000   75.000000  2225.250000   \n",
              "50%     22.750000    4.000000    151.000000   93.500000  2803.500000   \n",
              "75%     29.000000    8.000000    275.750000  126.000000  3614.750000   \n",
              "max     46.600000    8.000000    455.000000  230.000000  5140.000000   \n",
              "\n",
              "       acceleration        year      origin  \n",
              "count    392.000000  392.000000  392.000000  \n",
              "mean      15.541327   75.979592    1.576531  \n",
              "std        2.758864    3.683737    0.805518  \n",
              "min        8.000000   70.000000    1.000000  \n",
              "25%       13.775000   73.000000    1.000000  \n",
              "50%       15.500000   76.000000    1.000000  \n",
              "75%       17.025000   79.000000    2.000000  \n",
              "max       24.800000   82.000000    3.000000  "
            ],
            "text/html": [
              "\n",
              "  <div id=\"df-46e879e5-ce55-48c7-8c0e-a3b27f275ee2\" class=\"colab-df-container\">\n",
              "    <div>\n",
              "<style scoped>\n",
              "    .dataframe tbody tr th:only-of-type {\n",
              "        vertical-align: middle;\n",
              "    }\n",
              "\n",
              "    .dataframe tbody tr th {\n",
              "        vertical-align: top;\n",
              "    }\n",
              "\n",
              "    .dataframe thead th {\n",
              "        text-align: right;\n",
              "    }\n",
              "</style>\n",
              "<table border=\"1\" class=\"dataframe\">\n",
              "  <thead>\n",
              "    <tr style=\"text-align: right;\">\n",
              "      <th></th>\n",
              "      <th>mpg</th>\n",
              "      <th>cylinders</th>\n",
              "      <th>displacement</th>\n",
              "      <th>horsepower</th>\n",
              "      <th>weight</th>\n",
              "      <th>acceleration</th>\n",
              "      <th>year</th>\n",
              "      <th>origin</th>\n",
              "    </tr>\n",
              "  </thead>\n",
              "  <tbody>\n",
              "    <tr>\n",
              "      <th>count</th>\n",
              "      <td>392.000000</td>\n",
              "      <td>392.000000</td>\n",
              "      <td>392.000000</td>\n",
              "      <td>392.000000</td>\n",
              "      <td>392.000000</td>\n",
              "      <td>392.000000</td>\n",
              "      <td>392.000000</td>\n",
              "      <td>392.000000</td>\n",
              "    </tr>\n",
              "    <tr>\n",
              "      <th>mean</th>\n",
              "      <td>23.445918</td>\n",
              "      <td>5.471939</td>\n",
              "      <td>194.411990</td>\n",
              "      <td>104.469388</td>\n",
              "      <td>2977.584184</td>\n",
              "      <td>15.541327</td>\n",
              "      <td>75.979592</td>\n",
              "      <td>1.576531</td>\n",
              "    </tr>\n",
              "    <tr>\n",
              "      <th>std</th>\n",
              "      <td>7.805007</td>\n",
              "      <td>1.705783</td>\n",
              "      <td>104.644004</td>\n",
              "      <td>38.491160</td>\n",
              "      <td>849.402560</td>\n",
              "      <td>2.758864</td>\n",
              "      <td>3.683737</td>\n",
              "      <td>0.805518</td>\n",
              "    </tr>\n",
              "    <tr>\n",
              "      <th>min</th>\n",
              "      <td>9.000000</td>\n",
              "      <td>3.000000</td>\n",
              "      <td>68.000000</td>\n",
              "      <td>46.000000</td>\n",
              "      <td>1613.000000</td>\n",
              "      <td>8.000000</td>\n",
              "      <td>70.000000</td>\n",
              "      <td>1.000000</td>\n",
              "    </tr>\n",
              "    <tr>\n",
              "      <th>25%</th>\n",
              "      <td>17.000000</td>\n",
              "      <td>4.000000</td>\n",
              "      <td>105.000000</td>\n",
              "      <td>75.000000</td>\n",
              "      <td>2225.250000</td>\n",
              "      <td>13.775000</td>\n",
              "      <td>73.000000</td>\n",
              "      <td>1.000000</td>\n",
              "    </tr>\n",
              "    <tr>\n",
              "      <th>50%</th>\n",
              "      <td>22.750000</td>\n",
              "      <td>4.000000</td>\n",
              "      <td>151.000000</td>\n",
              "      <td>93.500000</td>\n",
              "      <td>2803.500000</td>\n",
              "      <td>15.500000</td>\n",
              "      <td>76.000000</td>\n",
              "      <td>1.000000</td>\n",
              "    </tr>\n",
              "    <tr>\n",
              "      <th>75%</th>\n",
              "      <td>29.000000</td>\n",
              "      <td>8.000000</td>\n",
              "      <td>275.750000</td>\n",
              "      <td>126.000000</td>\n",
              "      <td>3614.750000</td>\n",
              "      <td>17.025000</td>\n",
              "      <td>79.000000</td>\n",
              "      <td>2.000000</td>\n",
              "    </tr>\n",
              "    <tr>\n",
              "      <th>max</th>\n",
              "      <td>46.600000</td>\n",
              "      <td>8.000000</td>\n",
              "      <td>455.000000</td>\n",
              "      <td>230.000000</td>\n",
              "      <td>5140.000000</td>\n",
              "      <td>24.800000</td>\n",
              "      <td>82.000000</td>\n",
              "      <td>3.000000</td>\n",
              "    </tr>\n",
              "  </tbody>\n",
              "</table>\n",
              "</div>\n",
              "    <div class=\"colab-df-buttons\">\n",
              "\n",
              "  <div class=\"colab-df-container\">\n",
              "    <button class=\"colab-df-convert\" onclick=\"convertToInteractive('df-46e879e5-ce55-48c7-8c0e-a3b27f275ee2')\"\n",
              "            title=\"Convert this dataframe to an interactive table.\"\n",
              "            style=\"display:none;\">\n",
              "\n",
              "  <svg xmlns=\"http://www.w3.org/2000/svg\" height=\"24px\" viewBox=\"0 -960 960 960\">\n",
              "    <path d=\"M120-120v-720h720v720H120Zm60-500h600v-160H180v160Zm220 220h160v-160H400v160Zm0 220h160v-160H400v160ZM180-400h160v-160H180v160Zm440 0h160v-160H620v160ZM180-180h160v-160H180v160Zm440 0h160v-160H620v160Z\"/>\n",
              "  </svg>\n",
              "    </button>\n",
              "\n",
              "  <style>\n",
              "    .colab-df-container {\n",
              "      display:flex;\n",
              "      gap: 12px;\n",
              "    }\n",
              "\n",
              "    .colab-df-convert {\n",
              "      background-color: #E8F0FE;\n",
              "      border: none;\n",
              "      border-radius: 50%;\n",
              "      cursor: pointer;\n",
              "      display: none;\n",
              "      fill: #1967D2;\n",
              "      height: 32px;\n",
              "      padding: 0 0 0 0;\n",
              "      width: 32px;\n",
              "    }\n",
              "\n",
              "    .colab-df-convert:hover {\n",
              "      background-color: #E2EBFA;\n",
              "      box-shadow: 0px 1px 2px rgba(60, 64, 67, 0.3), 0px 1px 3px 1px rgba(60, 64, 67, 0.15);\n",
              "      fill: #174EA6;\n",
              "    }\n",
              "\n",
              "    .colab-df-buttons div {\n",
              "      margin-bottom: 4px;\n",
              "    }\n",
              "\n",
              "    [theme=dark] .colab-df-convert {\n",
              "      background-color: #3B4455;\n",
              "      fill: #D2E3FC;\n",
              "    }\n",
              "\n",
              "    [theme=dark] .colab-df-convert:hover {\n",
              "      background-color: #434B5C;\n",
              "      box-shadow: 0px 1px 3px 1px rgba(0, 0, 0, 0.15);\n",
              "      filter: drop-shadow(0px 1px 2px rgba(0, 0, 0, 0.3));\n",
              "      fill: #FFFFFF;\n",
              "    }\n",
              "  </style>\n",
              "\n",
              "    <script>\n",
              "      const buttonEl =\n",
              "        document.querySelector('#df-46e879e5-ce55-48c7-8c0e-a3b27f275ee2 button.colab-df-convert');\n",
              "      buttonEl.style.display =\n",
              "        google.colab.kernel.accessAllowed ? 'block' : 'none';\n",
              "\n",
              "      async function convertToInteractive(key) {\n",
              "        const element = document.querySelector('#df-46e879e5-ce55-48c7-8c0e-a3b27f275ee2');\n",
              "        const dataTable =\n",
              "          await google.colab.kernel.invokeFunction('convertToInteractive',\n",
              "                                                    [key], {});\n",
              "        if (!dataTable) return;\n",
              "\n",
              "        const docLinkHtml = 'Like what you see? Visit the ' +\n",
              "          '<a target=\"_blank\" href=https://colab.research.google.com/notebooks/data_table.ipynb>data table notebook</a>'\n",
              "          + ' to learn more about interactive tables.';\n",
              "        element.innerHTML = '';\n",
              "        dataTable['output_type'] = 'display_data';\n",
              "        await google.colab.output.renderOutput(dataTable, element);\n",
              "        const docLink = document.createElement('div');\n",
              "        docLink.innerHTML = docLinkHtml;\n",
              "        element.appendChild(docLink);\n",
              "      }\n",
              "    </script>\n",
              "  </div>\n",
              "\n",
              "\n",
              "<div id=\"df-7a319b2b-e18c-4ef9-b6d0-56972b6d12e9\">\n",
              "  <button class=\"colab-df-quickchart\" onclick=\"quickchart('df-7a319b2b-e18c-4ef9-b6d0-56972b6d12e9')\"\n",
              "            title=\"Suggest charts\"\n",
              "            style=\"display:none;\">\n",
              "\n",
              "<svg xmlns=\"http://www.w3.org/2000/svg\" height=\"24px\"viewBox=\"0 0 24 24\"\n",
              "     width=\"24px\">\n",
              "    <g>\n",
              "        <path d=\"M19 3H5c-1.1 0-2 .9-2 2v14c0 1.1.9 2 2 2h14c1.1 0 2-.9 2-2V5c0-1.1-.9-2-2-2zM9 17H7v-7h2v7zm4 0h-2V7h2v10zm4 0h-2v-4h2v4z\"/>\n",
              "    </g>\n",
              "</svg>\n",
              "  </button>\n",
              "\n",
              "<style>\n",
              "  .colab-df-quickchart {\n",
              "      --bg-color: #E8F0FE;\n",
              "      --fill-color: #1967D2;\n",
              "      --hover-bg-color: #E2EBFA;\n",
              "      --hover-fill-color: #174EA6;\n",
              "      --disabled-fill-color: #AAA;\n",
              "      --disabled-bg-color: #DDD;\n",
              "  }\n",
              "\n",
              "  [theme=dark] .colab-df-quickchart {\n",
              "      --bg-color: #3B4455;\n",
              "      --fill-color: #D2E3FC;\n",
              "      --hover-bg-color: #434B5C;\n",
              "      --hover-fill-color: #FFFFFF;\n",
              "      --disabled-bg-color: #3B4455;\n",
              "      --disabled-fill-color: #666;\n",
              "  }\n",
              "\n",
              "  .colab-df-quickchart {\n",
              "    background-color: var(--bg-color);\n",
              "    border: none;\n",
              "    border-radius: 50%;\n",
              "    cursor: pointer;\n",
              "    display: none;\n",
              "    fill: var(--fill-color);\n",
              "    height: 32px;\n",
              "    padding: 0;\n",
              "    width: 32px;\n",
              "  }\n",
              "\n",
              "  .colab-df-quickchart:hover {\n",
              "    background-color: var(--hover-bg-color);\n",
              "    box-shadow: 0 1px 2px rgba(60, 64, 67, 0.3), 0 1px 3px 1px rgba(60, 64, 67, 0.15);\n",
              "    fill: var(--button-hover-fill-color);\n",
              "  }\n",
              "\n",
              "  .colab-df-quickchart-complete:disabled,\n",
              "  .colab-df-quickchart-complete:disabled:hover {\n",
              "    background-color: var(--disabled-bg-color);\n",
              "    fill: var(--disabled-fill-color);\n",
              "    box-shadow: none;\n",
              "  }\n",
              "\n",
              "  .colab-df-spinner {\n",
              "    border: 2px solid var(--fill-color);\n",
              "    border-color: transparent;\n",
              "    border-bottom-color: var(--fill-color);\n",
              "    animation:\n",
              "      spin 1s steps(1) infinite;\n",
              "  }\n",
              "\n",
              "  @keyframes spin {\n",
              "    0% {\n",
              "      border-color: transparent;\n",
              "      border-bottom-color: var(--fill-color);\n",
              "      border-left-color: var(--fill-color);\n",
              "    }\n",
              "    20% {\n",
              "      border-color: transparent;\n",
              "      border-left-color: var(--fill-color);\n",
              "      border-top-color: var(--fill-color);\n",
              "    }\n",
              "    30% {\n",
              "      border-color: transparent;\n",
              "      border-left-color: var(--fill-color);\n",
              "      border-top-color: var(--fill-color);\n",
              "      border-right-color: var(--fill-color);\n",
              "    }\n",
              "    40% {\n",
              "      border-color: transparent;\n",
              "      border-right-color: var(--fill-color);\n",
              "      border-top-color: var(--fill-color);\n",
              "    }\n",
              "    60% {\n",
              "      border-color: transparent;\n",
              "      border-right-color: var(--fill-color);\n",
              "    }\n",
              "    80% {\n",
              "      border-color: transparent;\n",
              "      border-right-color: var(--fill-color);\n",
              "      border-bottom-color: var(--fill-color);\n",
              "    }\n",
              "    90% {\n",
              "      border-color: transparent;\n",
              "      border-bottom-color: var(--fill-color);\n",
              "    }\n",
              "  }\n",
              "</style>\n",
              "\n",
              "  <script>\n",
              "    async function quickchart(key) {\n",
              "      const quickchartButtonEl =\n",
              "        document.querySelector('#' + key + ' button');\n",
              "      quickchartButtonEl.disabled = true;  // To prevent multiple clicks.\n",
              "      quickchartButtonEl.classList.add('colab-df-spinner');\n",
              "      try {\n",
              "        const charts = await google.colab.kernel.invokeFunction(\n",
              "            'suggestCharts', [key], {});\n",
              "      } catch (error) {\n",
              "        console.error('Error during call to suggestCharts:', error);\n",
              "      }\n",
              "      quickchartButtonEl.classList.remove('colab-df-spinner');\n",
              "      quickchartButtonEl.classList.add('colab-df-quickchart-complete');\n",
              "    }\n",
              "    (() => {\n",
              "      let quickchartButtonEl =\n",
              "        document.querySelector('#df-7a319b2b-e18c-4ef9-b6d0-56972b6d12e9 button');\n",
              "      quickchartButtonEl.style.display =\n",
              "        google.colab.kernel.accessAllowed ? 'block' : 'none';\n",
              "    })();\n",
              "  </script>\n",
              "</div>\n",
              "\n",
              "    </div>\n",
              "  </div>\n"
            ],
            "application/vnd.google.colaboratory.intrinsic+json": {
              "type": "dataframe",
              "summary": "{\n  \"name\": \"auto_df\",\n  \"rows\": 8,\n  \"fields\": [\n    {\n      \"column\": \"mpg\",\n      \"properties\": {\n        \"dtype\": \"number\",\n        \"std\": 131.3073847234828,\n        \"min\": 7.8050074865717995,\n        \"max\": 392.0,\n        \"num_unique_values\": 8,\n        \"samples\": [\n          23.445918367346938,\n          22.75,\n          392.0\n        ],\n        \"semantic_type\": \"\",\n        \"description\": \"\"\n      }\n    },\n    {\n      \"column\": \"cylinders\",\n      \"properties\": {\n        \"dtype\": \"number\",\n        \"std\": 136.884946718489,\n        \"min\": 1.7057832474527845,\n        \"max\": 392.0,\n        \"num_unique_values\": 6,\n        \"samples\": [\n          392.0,\n          5.471938775510204,\n          8.0\n        ],\n        \"semantic_type\": \"\",\n        \"description\": \"\"\n      }\n    },\n    {\n      \"column\": \"displacement\",\n      \"properties\": {\n        \"dtype\": \"number\",\n        \"std\": 142.90038032216435,\n        \"min\": 68.0,\n        \"max\": 455.0,\n        \"num_unique_values\": 8,\n        \"samples\": [\n          194.41198979591837,\n          151.0,\n          392.0\n        ],\n        \"semantic_type\": \"\",\n        \"description\": \"\"\n      }\n    },\n    {\n      \"column\": \"horsepower\",\n      \"properties\": {\n        \"dtype\": \"number\",\n        \"std\": 118.66115898346135,\n        \"min\": 38.49115993282849,\n        \"max\": 392.0,\n        \"num_unique_values\": 8,\n        \"samples\": [\n          104.46938775510205,\n          93.5,\n          392.0\n        ],\n        \"semantic_type\": \"\",\n        \"description\": \"\"\n      }\n    },\n    {\n      \"column\": \"weight\",\n      \"properties\": {\n        \"dtype\": \"number\",\n        \"std\": 1537.3621950208649,\n        \"min\": 392.0,\n        \"max\": 5140.0,\n        \"num_unique_values\": 8,\n        \"samples\": [\n          2977.5841836734694,\n          2803.5,\n          392.0\n        ],\n        \"semantic_type\": \"\",\n        \"description\": \"\"\n      }\n    },\n    {\n      \"column\": \"acceleration\",\n      \"properties\": {\n        \"dtype\": \"number\",\n        \"std\": 133.82983176169847,\n        \"min\": 2.758864119188082,\n        \"max\": 392.0,\n        \"num_unique_values\": 8,\n        \"samples\": [\n          15.541326530612244,\n          15.5,\n          392.0\n        ],\n        \"semantic_type\": \"\",\n        \"description\": \"\"\n      }\n    },\n    {\n      \"column\": \"year\",\n      \"properties\": {\n        \"dtype\": \"number\",\n        \"std\": 118.17309651349842,\n        \"min\": 3.6837365435778295,\n        \"max\": 392.0,\n        \"num_unique_values\": 8,\n        \"samples\": [\n          75.9795918367347,\n          76.0,\n          392.0\n        ],\n        \"semantic_type\": \"\",\n        \"description\": \"\"\n      }\n    },\n    {\n      \"column\": \"origin\",\n      \"properties\": {\n        \"dtype\": \"number\",\n        \"std\": 138.07048932607407,\n        \"min\": 0.8055181834183056,\n        \"max\": 392.0,\n        \"num_unique_values\": 6,\n        \"samples\": [\n          392.0,\n          1.5765306122448979,\n          3.0\n        ],\n        \"semantic_type\": \"\",\n        \"description\": \"\"\n      }\n    }\n  ]\n}"
            }
          },
          "metadata": {},
          "execution_count": 21
        }
      ],
      "source": [
        "from sklearn.utils import resample\n",
        "\n",
        "auto_df = pd.read_csv('data/auto.csv')\n",
        "\n",
        "auto_df.describe()\n"
      ]
    },
    {
      "cell_type": "code",
      "execution_count": null,
      "metadata": {
        "colab": {
          "base_uri": "https://localhost:8080/"
        },
        "id": "TnDo0-GKkRHb",
        "outputId": "c5cebf91-9bfa-4257-f758-54dfa58da546"
      },
      "outputs": [
        {
          "output_type": "stream",
          "name": "stdout",
          "text": [
            "[-0.15784473] 39.93586102117047\n"
          ]
        }
      ],
      "source": [
        "lm = skl_lm.LinearRegression()\n",
        "X = auto_df['horsepower'].values.reshape(-1,1)\n",
        "y = auto_df['mpg']\n",
        "clf = lm.fit(X,y)\n",
        "print(clf.coef_, clf.intercept_)"
      ]
    },
    {
      "cell_type": "code",
      "execution_count": null,
      "metadata": {
        "colab": {
          "base_uri": "https://localhost:8080/"
        },
        "id": "wdmRWAOfkRHb",
        "outputId": "a1d60d42-ebc6-4a9f-c70b-ec91ca448674"
      },
      "outputs": [
        {
          "output_type": "stream",
          "name": "stdout",
          "text": [
            "Intercept: 39.64146304207546 Coef: [-0.15575979]\n"
          ]
        }
      ],
      "source": [
        "from sklearn.metrics import mean_squared_error\n",
        "\n",
        "Xsamp, ysamp = resample(X, y, n_samples=1000)\n",
        "clf = lm.fit(Xsamp,ysamp)\n",
        "print('Intercept: ' + str(clf.intercept_) + \" Coef: \" + str(clf.coef_))"
      ]
    },
    {
      "cell_type": "markdown",
      "metadata": {
        "id": "SMNj4JMSkRHb"
      },
      "source": [
        "# Exercise 5"
      ]
    },
    {
      "cell_type": "code",
      "execution_count": null,
      "metadata": {
        "id": "XN_ery-9kRHb"
      },
      "outputs": [],
      "source": [
        "from sklearn.linear_model import LogisticRegression\n",
        "from sklearn.model_selection import train_test_split\n",
        "import pandas as pd"
      ]
    },
    {
      "cell_type": "code",
      "execution_count": null,
      "metadata": {
        "id": "6CkM2WqYkRHb"
      },
      "outputs": [],
      "source": [
        "default = pd.read_csv('data/default.csv')\n",
        "default['student_yes'] = (default['student'] == 'Yes').astype('int')\n",
        "default['default_yes'] = (default['default'] == 'Yes').astype('int')"
      ]
    },
    {
      "cell_type": "code",
      "execution_count": null,
      "metadata": {
        "id": "OiaPd0sTkRHb"
      },
      "outputs": [],
      "source": [
        "default.head()"
      ]
    },
    {
      "cell_type": "code",
      "execution_count": null,
      "metadata": {
        "id": "PldSST5hkRHb"
      },
      "outputs": [],
      "source": [
        "X = default[['balance', 'income']]\n",
        "y = default['default_yes']"
      ]
    },
    {
      "cell_type": "markdown",
      "metadata": {
        "id": "XBcryhlFkRHb"
      },
      "source": [
        "# No Validation set"
      ]
    },
    {
      "cell_type": "markdown",
      "metadata": {
        "id": "4ccye3jRkRHb"
      },
      "source": [
        "### Sklearn"
      ]
    },
    {
      "cell_type": "code",
      "execution_count": null,
      "metadata": {
        "id": "6c1Fl_8NkRHb"
      },
      "outputs": [],
      "source": [
        "# Notice how tol must be changed to less than default value or convergence won't happen\n",
        "# Use a high value of C to remove regularization\n",
        "# 注意必须将 tol 更改为小于默认值，否则不会发生收敛\n",
        "# 使用较高的 C 值来消除正则化\n",
        "model = LogisticRegression(C=100000, tol=.0000001)\n",
        "model.fit(X, y)\n",
        "model.intercept_, model.coef_"
      ]
    },
    {
      "cell_type": "markdown",
      "metadata": {
        "id": "8LzkTw_lkRHb"
      },
      "source": [
        "### Statsmodels 统计模型\n",
        "Coefficients are similar 系数相似"
      ]
    },
    {
      "cell_type": "code",
      "execution_count": null,
      "metadata": {
        "id": "Ydkk8cEVkRHc"
      },
      "outputs": [],
      "source": [
        "import statsmodels.formula.api as smf"
      ]
    },
    {
      "cell_type": "code",
      "execution_count": null,
      "metadata": {
        "id": "wCd6kBYckRHc"
      },
      "outputs": [],
      "source": [
        "result = smf.logit(formula='default_yes ~ balance + income', data=default).fit()"
      ]
    },
    {
      "cell_type": "code",
      "execution_count": null,
      "metadata": {
        "id": "fFseR3_-kRHc"
      },
      "outputs": [],
      "source": [
        "result.summary()"
      ]
    },
    {
      "cell_type": "markdown",
      "metadata": {
        "id": "OW0Mx3A8kRHc"
      },
      "source": [
        "### Error without validation set 没有验证集的错误\n",
        "This is an in-sample prediction. Training error in both sklearn and statsmodels. Both are equivalent\n",
        "\n",
        "这是样本内预测。sklearn 和 statsmodels 中的训练误差。两者等效"
      ]
    },
    {
      "cell_type": "code",
      "execution_count": null,
      "metadata": {
        "id": "gyHegotDkRHc"
      },
      "outputs": [],
      "source": [
        "(model.predict(X) == y).mean()"
      ]
    },
    {
      "cell_type": "code",
      "execution_count": null,
      "metadata": {
        "id": "3Cwwu5a8kRHc"
      },
      "outputs": [],
      "source": [
        "((result.predict(X) > .5) * 1 == y).mean()"
      ]
    },
    {
      "cell_type": "markdown",
      "metadata": {
        "id": "X5yroFFlkRHc"
      },
      "source": [
        "## With validation set 使用验证集"
      ]
    },
    {
      "cell_type": "code",
      "execution_count": null,
      "metadata": {
        "id": "rHuKU6wDkRHc"
      },
      "outputs": [],
      "source": [
        "X_train, X_test, y_train, y_test = train_test_split(X, y)"
      ]
    },
    {
      "cell_type": "code",
      "execution_count": null,
      "metadata": {
        "id": "jLREYX7YkRHc"
      },
      "outputs": [],
      "source": [
        "model = LogisticRegression(C=100000, tol=.0000001)\n",
        "model.fit(X_train, y_train)\n",
        "model.intercept_, model.coef_"
      ]
    },
    {
      "cell_type": "code",
      "execution_count": null,
      "metadata": {
        "id": "Vt1ycOCUkRHc"
      },
      "outputs": [],
      "source": [
        "X_train_sm = X_train.join(y_train)"
      ]
    },
    {
      "cell_type": "code",
      "execution_count": null,
      "metadata": {
        "id": "psxlX0B8kRHc"
      },
      "outputs": [],
      "source": [
        "result = smf.logit(formula='default_yes ~ balance + income', data=X_train_sm).fit()\n",
        "result.summary()"
      ]
    },
    {
      "cell_type": "code",
      "execution_count": null,
      "metadata": {
        "id": "vmpecim7kRHd"
      },
      "outputs": [],
      "source": [
        "# Nearly the same as training set. So not too much over fitting has happened\n",
        "# 与训练集几乎相同。因此没有发生太多过度拟合\n",
        "(model.predict(X_test) == y_test).mean(), ((result.predict(X_test) > .5) * 1 == y_test).mean()"
      ]
    },
    {
      "cell_type": "markdown",
      "metadata": {
        "id": "SyiiPkUHkRHd"
      },
      "source": [
        "Validation error of only .0272"
      ]
    },
    {
      "cell_type": "code",
      "execution_count": null,
      "metadata": {
        "id": "W22-ZjRgkRHd"
      },
      "outputs": [],
      "source": [
        "# c) repeat for 3 different validation sets 对 3 个不同的验证集重复上述步骤\n",
        "model = LogisticRegression(C=100000, tol=.0000001)\n",
        "\n",
        "for i in range(3):\n",
        "    X_train, X_test, y_train, y_test = train_test_split(X, y)\n",
        "    model.fit(X_train, y_train)\n",
        "\n",
        "    X_train_sm = X_train.join(y_train)\n",
        "    result = smf.logit(formula='default_yes ~ balance + income', data=X_train_sm).fit()\n",
        "    print((model.predict(X_test) == y_test).mean(), ((result.predict(X_test) > .5) * 1 == y_test).mean())"
      ]
    },
    {
      "cell_type": "code",
      "execution_count": null,
      "metadata": {
        "id": "uCd5mRW8kRHd"
      },
      "outputs": [],
      "source": [
        "# d) include student in model 将学生纳入模型\n",
        "X = default[['balance', 'income', 'student_yes']]\n",
        "y = default['default_yes']\n",
        "\n",
        "model = LogisticRegression(C=100000, tol=.0000001)\n",
        "\n",
        "for i in range(3):\n",
        "    X_train, X_test, y_train, y_test = train_test_split(X, y)\n",
        "    model.fit(X_train, y_train)\n",
        "\n",
        "    X_train_sm = X_train.join(y_train)\n",
        "    result = smf.logit(formula='default_yes ~ balance + income + student_yes', data=X_train_sm).fit()\n",
        "    print((model.predict(X_test) == y_test).mean(), ((result.predict(X_test) > .5) * 1 == y_test).mean())"
      ]
    },
    {
      "cell_type": "markdown",
      "metadata": {
        "id": "xPGynK9akRHd"
      },
      "source": [
        "Looks like error rate is very similar  看起来错误率非常相似"
      ]
    },
    {
      "cell_type": "markdown",
      "metadata": {
        "id": "5lD3k8n0kRHd"
      },
      "source": [
        "## Exercise 6\n",
        "Computing stand errors of coefficents of logistic regression using bootstrap\n",
        "\n",
        "使用引导法计算逻辑回归系数的标准误差"
      ]
    },
    {
      "cell_type": "code",
      "execution_count": null,
      "metadata": {
        "id": "wKWqvHurkRHd"
      },
      "outputs": [],
      "source": [
        "result = smf.logit(formula='default_yes ~ balance + income', data=default).fit()\n",
        "result.summary()"
      ]
    },
    {
      "cell_type": "code",
      "execution_count": null,
      "metadata": {
        "id": "KNqmbSyFkRHd"
      },
      "outputs": [],
      "source": [
        "df_params = pd.DataFrame(columns=['Intercept', 'balance', 'income'])\n",
        "for i in range(100):\n",
        "    default_sample = default.sample(len(default), replace=True)\n",
        "    result_sample = smf.logit(formula='default_yes ~ balance + income', data=default_sample).fit(disp=0)\n",
        "    df_params = df_params.append(result_sample.params, ignore_index=True)"
      ]
    },
    {
      "cell_type": "code",
      "execution_count": null,
      "metadata": {
        "id": "xOufXY3wkRHd"
      },
      "outputs": [],
      "source": [
        "# bootstrap parameters and standard error 引导参数和标准误差\n",
        "df_params.mean(), df_params.std()"
      ]
    },
    {
      "cell_type": "code",
      "execution_count": null,
      "metadata": {
        "id": "gpNVSrCWkRHd"
      },
      "outputs": [],
      "source": [
        "# model parameters and standard error 模型参数和标准误差\n",
        "result.params, result.bse"
      ]
    },
    {
      "cell_type": "markdown",
      "metadata": {
        "id": "bAruxm1EkRHd"
      },
      "source": [
        "Standard errors are a wee bit higher in bootstrap\n",
        "\n",
        "在 bootstrap 中，标准错误率稍微高一点"
      ]
    },
    {
      "cell_type": "markdown",
      "metadata": {
        "id": "hQz-VaQjkRHe"
      },
      "source": [
        "# 7\n",
        "a) Fit Logistic Regression with Lag1, Lag2 使用 Lag1、Lag2 拟合逻辑回归"
      ]
    },
    {
      "cell_type": "code",
      "execution_count": null,
      "metadata": {
        "id": "q-_P4k-qkRHe"
      },
      "outputs": [],
      "source": [
        "weekly = pd.read_csv('data/weekly.csv')"
      ]
    },
    {
      "cell_type": "code",
      "execution_count": null,
      "metadata": {
        "id": "NRrbDBEMkRHe"
      },
      "outputs": [],
      "source": [
        "weekly['Direction_Up'] = (weekly['Direction'] == 'Up').astype(int)"
      ]
    },
    {
      "cell_type": "code",
      "execution_count": null,
      "metadata": {
        "id": "sBmdYpsNkRHe"
      },
      "outputs": [],
      "source": [
        "weekly.head()"
      ]
    },
    {
      "cell_type": "code",
      "execution_count": null,
      "metadata": {
        "id": "RanhikH4kRHe"
      },
      "outputs": [],
      "source": [
        "X = weekly[['Lag1', 'Lag2']]\n",
        "y = weekly['Direction_Up']"
      ]
    },
    {
      "cell_type": "code",
      "execution_count": null,
      "metadata": {
        "id": "WbntiJKqkRHe"
      },
      "outputs": [],
      "source": [
        "model = LogisticRegression(C=100000, tol=.0000001)\n",
        "model.fit(X, y)"
      ]
    },
    {
      "cell_type": "code",
      "execution_count": null,
      "metadata": {
        "id": "tSclYjmDkRHe"
      },
      "outputs": [],
      "source": [
        "model.intercept_, model.coef_"
      ]
    },
    {
      "cell_type": "code",
      "execution_count": null,
      "metadata": {
        "id": "J47F8x15kRHe"
      },
      "outputs": [],
      "source": [
        "# accuracy\n",
        "(model.predict(X) == y).mean()"
      ]
    },
    {
      "cell_type": "markdown",
      "metadata": {
        "id": "ayMm2x-1kRHe"
      },
      "source": [
        "### b) Fit without first observation 无需先进行观察即可进行拟合"
      ]
    },
    {
      "cell_type": "code",
      "execution_count": null,
      "metadata": {
        "id": "e6lRHsAZkRHe"
      },
      "outputs": [],
      "source": [
        "# model is different but nearly identical 模型不同但几乎相同\n",
        "model.fit(X.iloc[1:], y.iloc[1:])\n",
        "model.intercept_, model.coef_, (model.predict(X) == y).mean()"
      ]
    },
    {
      "cell_type": "code",
      "execution_count": null,
      "metadata": {
        "id": "ot7o-DWtkRHe"
      },
      "outputs": [],
      "source": [
        "# c\n",
        "# wrong prediction 错误预测\n",
        "model.predict([X.iloc[0]]), y[0]"
      ]
    },
    {
      "cell_type": "code",
      "execution_count": null,
      "metadata": {
        "id": "G_sOMGnFkRHe"
      },
      "outputs": [],
      "source": [
        "# d\n",
        "errors = np.zeros(len(X))\n",
        "for i in range(len(X)):\n",
        "    leave_out  = ~X.index.isin([i])\n",
        "    model.fit(X[leave_out], y[leave_out])\n",
        "    if model.predict([X.iloc[i]]) != y[i]:\n",
        "        errors[i] = 1"
      ]
    },
    {
      "cell_type": "code",
      "execution_count": null,
      "metadata": {
        "id": "tjSTrC3tkRHf"
      },
      "outputs": [],
      "source": [
        "# e\n",
        "errors.mean()"
      ]
    },
    {
      "cell_type": "markdown",
      "metadata": {
        "id": "Bl0Fjnl3kRHf"
      },
      "source": [
        "# 8"
      ]
    },
    {
      "cell_type": "code",
      "execution_count": null,
      "metadata": {
        "id": "fEXCDgN_kRHf"
      },
      "outputs": [],
      "source": [
        "np.random.seed(1)\n",
        "x = np.random.randn(100)\n",
        "e = np.random.randn(100)\n",
        "y = x - 2*x**2 + e"
      ]
    },
    {
      "cell_type": "code",
      "execution_count": null,
      "metadata": {
        "id": "WnMWDWsLkRHf"
      },
      "outputs": [],
      "source": [
        "y.shape"
      ]
    },
    {
      "cell_type": "code",
      "execution_count": null,
      "metadata": {
        "id": "bUx7qG3EkRHf"
      },
      "outputs": [],
      "source": [
        "plt.scatter(x, y);"
      ]
    },
    {
      "cell_type": "code",
      "execution_count": null,
      "metadata": {
        "id": "KwjBSCEKkRHf"
      },
      "outputs": [],
      "source": [
        "df = pd.DataFrame(np.array([np.ones(len(x)), x, x ** 2, x ** 3, x ** 4, y]).T, columns=['b0', 'x', 'x2', 'x3', 'x4', 'y'])\n",
        "df.head()"
      ]
    },
    {
      "cell_type": "code",
      "execution_count": null,
      "metadata": {
        "id": "O5R8OvFUkRHf"
      },
      "outputs": [],
      "source": [
        "from sklearn.linear_model import LinearRegression"
      ]
    },
    {
      "cell_type": "code",
      "execution_count": null,
      "metadata": {
        "id": "I8anpoWPkRHf"
      },
      "outputs": [],
      "source": [
        "X = df.iloc[:, :5]\n",
        "y = df['y']\n",
        "model = LinearRegression()\n",
        "errors = np.zeros((len(X), 4))\n",
        "for i in range(len(X)):\n",
        "    leave_out  = ~X.index.isin([i])\n",
        "    for j in range(4):\n",
        "        model.fit(X.iloc[leave_out, :j+2], y[leave_out])\n",
        "        errors[i, j] = (model.predict([X.iloc[i, :j+2]]) - y[i]) ** 2"
      ]
    },
    {
      "cell_type": "code",
      "execution_count": null,
      "metadata": {
        "id": "SlaUNvHbkRHf"
      },
      "outputs": [],
      "source": [
        "# each error here is average error for linear, quadratic, cubic and quartic model.\n",
        "# Looks like it stabilizes at quadratic.\n",
        "# 这里的每个误差都是线性、二次、三次和四次模型的平均误差。\n",
        "# 看起来它在二次方上稳定下来。\n",
        "errors.mean(axis=0)"
      ]
    },
    {
      "cell_type": "code",
      "execution_count": null,
      "metadata": {
        "id": "HZZFgSUYkRHf"
      },
      "outputs": [],
      "source": [
        "# again with different seed. 再次使用不同的种子。\n",
        "np.random.seed(2)\n",
        "x = np.random.randn(100)\n",
        "e = np.random.randn(100)\n",
        "y = x - 2*x**2 + e\n",
        "df = pd.DataFrame(np.array([np.ones(len(x)), x, x ** 2, x ** 3, x ** 4, y]).T, columns=['b0', 'x', 'x2', 'x3', 'x4', 'y'])\n",
        "\n",
        "\n",
        "X = df.iloc[:, :5]\n",
        "y = df['y']\n",
        "model = LinearRegression()\n",
        "errors = np.zeros((len(X), 4))\n",
        "for i in range(len(X)):\n",
        "    leave_out  = ~X.index.isin([i])\n",
        "    for j in range(4):\n",
        "        model.fit(X.iloc[leave_out, :j+2], y[leave_out])\n",
        "        errors[i, j] = (model.predict([X.iloc[i, :j+2]]) - y[i]) ** 2\n",
        "\n",
        "# quite a different average error. But again stabilizes at quadratic which makes sense\n",
        "# 平均误差完全不同。但再次稳定在二次方，这是有道理的\n",
        "errors.mean(axis=0)"
      ]
    },
    {
      "cell_type": "markdown",
      "metadata": {
        "id": "YpLxl_ACkRHg"
      },
      "source": [
        "### f\n",
        "since the error doesn't improve after quadratic it's likely the\n",
        "standard errors for x3 and x4 would not be significant\n",
        "\n",
        "由于误差在二次之后没有改善，因此 x3 和 x4 的标准误差可能不显著"
      ]
    },
    {
      "cell_type": "markdown",
      "metadata": {
        "id": "yEHjVYDCkRHg"
      },
      "source": [
        "# 9"
      ]
    },
    {
      "cell_type": "code",
      "execution_count": null,
      "metadata": {
        "id": "T0axTfdDkRHg"
      },
      "outputs": [],
      "source": [
        "boston = pd.read_csv('data/boston.csv')\n",
        "boston.head()"
      ]
    },
    {
      "cell_type": "code",
      "execution_count": null,
      "metadata": {
        "id": "-NqPh7HokRHg"
      },
      "outputs": [],
      "source": [
        "#a\n",
        "boston['medv'].mean()"
      ]
    },
    {
      "cell_type": "code",
      "execution_count": null,
      "metadata": {
        "id": "OkLjE6EvkRHg"
      },
      "outputs": [],
      "source": [
        "#b\n",
        "# standard deviation of mean 平均值的标准差\n",
        "boston['medv'].std() / np.sqrt(len(boston))"
      ]
    },
    {
      "cell_type": "code",
      "execution_count": null,
      "metadata": {
        "id": "qn7DhF_xkRHg"
      },
      "outputs": [],
      "source": [
        "#c\n",
        "#bootstrap standard deviation of mean 均值的自举标准差\n",
        "means = [boston['medv'].sample(n = len(boston), replace=True).mean() for i in range(1000)]\n",
        "np.std(means)"
      ]
    },
    {
      "cell_type": "code",
      "execution_count": null,
      "metadata": {
        "id": "VTDToDWskRHg"
      },
      "outputs": [],
      "source": [
        "#d\n",
        "se = np.std(means)\n",
        "boston['medv'].mean() - 2 * se, boston['medv'].mean() + 2 * se"
      ]
    },
    {
      "cell_type": "markdown",
      "metadata": {
        "id": "aCSoFER_kRHg"
      },
      "source": [
        "http://stackoverflow.com/questions/15033511/compute-a-confidence-interval-from-sample-data"
      ]
    },
    {
      "cell_type": "code",
      "execution_count": null,
      "metadata": {
        "id": "5mvYML6CkRHg"
      },
      "outputs": [],
      "source": [
        "import scipy.stats as st"
      ]
    },
    {
      "cell_type": "code",
      "execution_count": null,
      "metadata": {
        "id": "0CaFBxXmkRHg"
      },
      "outputs": [],
      "source": [
        "st.t.interval(0.95, len(boston['medv'])-1, loc=np.mean(boston['medv']), scale=st.sem(boston['medv']))"
      ]
    },
    {
      "cell_type": "code",
      "execution_count": null,
      "metadata": {
        "id": "rb5vpRTOkRHg"
      },
      "outputs": [],
      "source": [
        "#e\n",
        "boston['medv'].median()"
      ]
    },
    {
      "cell_type": "code",
      "execution_count": null,
      "metadata": {
        "id": "ljGbjOGPkRHg"
      },
      "outputs": [],
      "source": [
        "#f\n",
        "medians = [boston['medv'].sample(n = len(boston), replace=True).median() for i in range(1000)]\n",
        "np.std(medians)"
      ]
    },
    {
      "cell_type": "code",
      "execution_count": null,
      "metadata": {
        "id": "P-mMOTdNkRHh"
      },
      "outputs": [],
      "source": [
        "#g\n",
        "boston['medv'].quantile(.1)"
      ]
    },
    {
      "cell_type": "code",
      "execution_count": null,
      "metadata": {
        "id": "FneF9prLkRHh"
      },
      "outputs": [],
      "source": [
        "#h\n",
        "quantile_10 = [boston['medv'].sample(n = len(boston), replace=True).quantile(.1) for i in range(1000)]\n",
        "np.std(quantile_10)"
      ]
    }
  ],
  "metadata": {
    "anaconda-cloud": {},
    "kernelspec": {
      "display_name": "Python 3",
      "language": "python",
      "name": "python3"
    },
    "language_info": {
      "codemirror_mode": {
        "name": "ipython",
        "version": 3
      },
      "file_extension": ".py",
      "mimetype": "text/x-python",
      "name": "python",
      "nbconvert_exporter": "python",
      "pygments_lexer": "ipython3",
      "version": "3.7.3"
    },
    "colab": {
      "provenance": []
    }
  },
  "nbformat": 4,
  "nbformat_minor": 0
}